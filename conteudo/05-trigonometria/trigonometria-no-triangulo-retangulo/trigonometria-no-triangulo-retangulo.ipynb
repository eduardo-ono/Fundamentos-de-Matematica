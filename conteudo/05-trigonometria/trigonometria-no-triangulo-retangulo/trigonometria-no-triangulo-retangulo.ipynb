{
 "cells": [
  {
   "cell_type": "markdown",
   "metadata": {},
   "source": [
    "<h4>\n",
    "\n",
    "$$\n",
    "\\text{---\\{ Trigonometria \\}---}\n",
    "\\\\[24pt]\n",
    "$$\n",
    "\n",
    "</h4>\n",
    "\n",
    "<h3>\n",
    "\n",
    "$$\n",
    "\\text{Trigonometria no Retângulo e suas} \\\\\n",
    "\\text{Principais Razões Trigonométricas}\n",
    "$$\n",
    "\n",
    "</h3>\n",
    "\n",
    "$$\n",
    "\\text{Prof. Eduardo Ono}\n",
    "\\\\[24pt]\n",
    "$$"
   ]
  },
  {
   "cell_type": "markdown",
   "metadata": {},
   "source": [
    "__Sumário__<a id='toc0_'></a>    \n",
    "- 1. [Principais Relações Trigonométricas no Triângulo Retângulo](#toc1_)    \n",
    "  - 1.1. [Seno](#toc1_1_)    \n",
    "  - 1.2. [Cosseno](#toc1_2_)    \n",
    "  - 1.3. [Tangente](#toc1_3_)    \n",
    "- 2. [Relação Trigonométrica Fundamental](#toc2_)    \n",
    "\n",
    "<!-- vscode-jupyter-toc-config\n",
    "\tnumbering=true\n",
    "\tanchor=true\n",
    "\tflat=false\n",
    "\tminLevel=1\n",
    "\tmaxLevel=5\n",
    "\t/vscode-jupyter-toc-config -->\n",
    "<!-- THIS CELL WILL BE REPLACED ON TOC UPDATE. DO NOT WRITE YOUR TEXT IN THIS CELL -->"
   ]
  },
  {
   "cell_type": "markdown",
   "metadata": {},
   "source": [
    "# 1. <a id='toc1_'></a>[Principais Relações Trigonométricas no Triângulo Retângulo](#toc0_)"
   ]
  },
  {
   "attachments": {
    "triangulo-retangulo.png": {
     "image/png": "[encoded data removed]"
    }
   },
   "cell_type": "markdown",
   "metadata": {},
   "source": [
    "Dado um triângulo retângulo $ABC$ e um ângulo agudo fixo $\\beta$, conforme a figura, temos as seguintes relações: \n",
    "\n",
    "| |\n",
    "| :-: |\n",
    "| ![triangulo-retangulo.png](attachment:triangulo-retangulo.png) |\n",
    "| Fonte: Iezzi |\n"
   ]
  },
  {
   "cell_type": "markdown",
   "metadata": {},
   "source": [
    "## 1.1. <a id='toc1_1_'></a>[Seno](#toc0_)\n",
    "\n",
    "O __Seno__ de um ângulo agudo é a razão entre o cateto oposto ao ângulo e a hipotenusa:\n",
    "\n",
    "$$\n",
    "\\boxed{\\ \\text{sen }\\beta = \\cfrac{b}{a}\\ }\n",
    "$$"
   ]
  },
  {
   "cell_type": "markdown",
   "metadata": {},
   "source": [
    "## 1.2. <a id='toc1_2_'></a>[Cosseno](#toc0_)\n",
    "\n",
    "O __Cosseno__ de um ângulo agudo é a razão entre o cateto adjacente ao ângulo e a hipotenusa:\n",
    "\n",
    "$$\n",
    "\\boxed{\\ \\cos\\beta = \\cfrac{c}{a}\\ }\n",
    "$$"
   ]
  },
  {
   "cell_type": "markdown",
   "metadata": {},
   "source": [
    "## 1.3. <a id='toc1_3_'></a>[Tangente](#toc0_)\n",
    "\n",
    "A __Tangente__ de um ângulo agudo é a razão entre o cateto oposto ao ângulo e o cateto adjacente:\n",
    "\n",
    "$$\n",
    "\\boxed{\\ \\text{tg }\\beta = \\cfrac{\\ b\\ }{\\ c\\ } = \\cfrac{\\text{sen }\\beta}{\\cos \\beta}\\ }\n",
    "$$"
   ]
  },
  {
   "cell_type": "markdown",
   "metadata": {},
   "source": [
    "# 2. <a id='toc2_'></a>[Relação Trigonométrica Fundamental](#toc0_)"
   ]
  },
  {
   "cell_type": "markdown",
   "metadata": {},
   "source": [
    "Dado um triângulo retângulo $ABC$ no qual $a$ é a hipotenusa e $b$ e $c$ são os catetos, temos:\n",
    "\n",
    "$$\n",
    "b^2 + c^2 = a^2\n",
    "$$\n",
    "\n",
    "Dividindo ambos os lados da igualdade por $a^2$, obtemos:\n",
    "\n",
    "$$\n",
    "\\cfrac{\\ b^2}{a^2} + \\cfrac{\\ c^2}{a^2} = \\cfrac{\\ a^2}{a^2} \\\\\n",
    "\\ \\\\\n",
    "\\cfrac{\\ b^2}{a^2} + \\cfrac{\\ c^2}{a^2} = 1\n",
    "$$\n",
    "\n",
    "Portanto:\n",
    "\n",
    "$$\n",
    "\\boxed{\\ \\text{sen}^2\\,\\theta + \\cos^2\\theta = 1 \\ }\n",
    "$$"
   ]
  },
  {
   "cell_type": "markdown",
   "metadata": {},
   "source": [
    "### Vídeos de Apoio\n",
    "\n",
    "| Thumb | Descrição |\n",
    "| :-: | --- |\n",
    "| ![img](https://img.youtube.com/vi/7891VXMxQvk/default.jpg) | <sup>[Instituto de Matemática Pura e Aplicada]</sup><br>[__PAPMEM - Janeiro de 2004 - Trigonometria__](https://www.youtube.com/watch?v=7891VXMxQvk)<br><sub>(1:11:24, YouTube, 03/Mai/2018)</sub> |"
   ]
  }
 ],
 "metadata": {
  "kernelspec": {
   "display_name": "base",
   "language": "python",
   "name": "python3"
  },
  "language_info": {
   "name": "python",
   "version": "3.12.1"
  }
 },
 "nbformat": 4,
 "nbformat_minor": 2
}
