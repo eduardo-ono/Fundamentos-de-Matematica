{
 "cells": [
  {
   "cell_type": "markdown",
   "metadata": {},
   "source": [
    "<sup>Fundamentos de Matemática</sup>\n",
    "<img alt=\"\" width=\"100%\" height=\"2px\" align=\"right\">\n",
    "\n",
    "&nbsp;\n",
    "\n",
    "<h1 align=\"center\">Matemática Computacional :: Iteração</h1>\n",
    "<h4 align=\"center\">Prof. Eduardo Ono</h4>\n",
    "<h6 align=\"center\">Atualizado em: 13/01/2025</h6>"
   ]
  },
  {
   "cell_type": "markdown",
   "metadata": {},
   "source": [
    "| Matemática usual | Linguagem Matemática | Linguagem de Programação C |\n",
    "| :-: | :-: | --- |\n",
    "| $s = 2 + 2 + 2 + 2 + 2$ | $s = \\sum\\limits_{i=1}^{5}{2}$ | $s = 0; \\\\ \\text{for}\\ (i = 0; i < 5; i++)\\ \\{ \\\\ \\quad s = s + 2; \\\\ \\}$ |"
   ]
  },
  {
   "cell_type": "markdown",
   "metadata": {},
   "source": [
    "# Métodos Iterativos"
   ]
  },
  {
   "cell_type": "markdown",
   "metadata": {},
   "source": [
    "## Método da Bissecção"
   ]
  },
  {
   "cell_type": "markdown",
   "metadata": {},
   "source": [
    "<h3>Vídeos de Apoio</h3>\n",
    "\n",
    "| Thumb | Descrição |\n",
    "| :-: | --- |\n",
    "| ![img](https://img.youtube.com/vi/6Bt716SL9SA/default.jpg) | <sup>[Juninho.Exatas]</sup><br>[__MÉTODO DA BISSECÇÃO PELO EXCEL__](https://www.youtube.com/watch?v=6Bt716SL9SA)<br><sub>(21:54, YouTube, 25/Mar/2017)</sub> |\n"
   ]
  }
 ],
 "metadata": {
  "kernelspec": {
   "display_name": "base",
   "language": "python",
   "name": "python3"
  },
  "language_info": {
   "name": "python",
   "version": "3.12.1"
  }
 },
 "nbformat": 4,
 "nbformat_minor": 2
}
