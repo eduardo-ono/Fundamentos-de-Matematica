{
 "cells": [
  {
   "cell_type": "markdown",
   "metadata": {},
   "source": [
    "<sup>Fundamentos de Matemática</sup>\n",
    "<img alt=\"\" width=\"100%\" height=\"2px\" align=\"right\">\n",
    "\n",
    "&nbsp;\n",
    "\n",
    "<h1 align=\"center\">Resumão de Matemática Básica</h1>\n",
    "<h4 align=\"center\">Prof. Eduardo Ono</h4>\n",
    "<h6 align=\"center\">Atualizado em: 25/02/2025</h6>"
   ]
  },
  {
   "cell_type": "markdown",
   "metadata": {},
   "source": [
    "__Sumário__<a id='toc0_'></a>    \n",
    "- 1. [Aritmética](#toc1_)    \n",
    "- 2. [Álgebra](#toc2_)    \n",
    "  - 2.1. [Identidades Algébricas](#toc2_1_)    \n",
    "    - 2.1.1. [Produtos Notáveis](#toc2_1_1_)    \n",
    "- 3. [Equações](#toc3_)    \n",
    "\n",
    "<!-- vscode-jupyter-toc-config\n",
    "\tnumbering=true\n",
    "\tanchor=true\n",
    "\tflat=false\n",
    "\tminLevel=1\n",
    "\tmaxLevel=5\n",
    "\t/vscode-jupyter-toc-config -->\n",
    "<!-- THIS CELL WILL BE REPLACED ON TOC UPDATE. DO NOT WRITE YOUR TEXT IN THIS CELL -->"
   ]
  },
  {
   "cell_type": "markdown",
   "metadata": {},
   "source": []
  },
  {
   "cell_type": "markdown",
   "metadata": {},
   "source": [
    "# 1. <a id='toc1_'></a>[Aritmética](#toc0_)"
   ]
  },
  {
   "cell_type": "markdown",
   "metadata": {},
   "source": [
    "<h3>Vídeos de Apoio</h3>\n",
    "\n",
    "| Thumb | Descrição |\n",
    "| :-: | --- |\n",
    "| ![img](https://img.youtube.com/vi/rUcPGMOxN8Y/default.jpg) | <sup>[Verificado]</sup><br>[__CUIDADO NA HORA DE RESOLVER ESSAS EXPRESSÕES ALGÉBRICAS! EXPLICAÇÃO PARA APRENDER MATEMÁTICA AGORA!__](https://www.youtube.com/watch?v=rUcPGMOxN8Y)<br><sub>(13:59, YouTube, 23/Fev/2025)</sub> |"
   ]
  },
  {
   "cell_type": "markdown",
   "metadata": {},
   "source": [
    "# 2. <a id='toc2_'></a>[Álgebra](#toc0_)"
   ]
  },
  {
   "cell_type": "markdown",
   "metadata": {},
   "source": [
    "## 2.1. <a id='toc2_1_'></a>[Identidades Algébricas](#toc0_)"
   ]
  },
  {
   "cell_type": "markdown",
   "metadata": {},
   "source": [
    "### 2.1.1. <a id='toc2_1_1_'></a>[Produtos Notáveis](#toc0_)"
   ]
  },
  {
   "cell_type": "markdown",
   "metadata": {},
   "source": [
    "$$\n",
    "\\begin{align*}\n",
    "(a + b)^0 &= 1 \\\\\n",
    "(a + b)^1 &= a + b \\\\\n",
    "(a + b)^2 &= a^2 + 2ab + b^2 \\\\\n",
    "(a + b)^3 &= a^3 + 3a^2b + 3ab^2 + b^3 \\\\\n",
    "(a + b)^4 &= a^4 + 4a^3b + 6a^2b^2 + 4ab^3 + b^4 \\\\\n",
    "(a + b)^5 &= a^5 + 5a^4b + 10a^3b^2 + 10a^2b^3 + 5ab^4 + b^5 \\\\\n",
    "\\cdots\n",
    "\\end{align*}\n",
    "$$\n",
    "\n",
    "Triângulo de Pascal\n",
    "\n",
    "$$\n",
    "\\begin{align*}\n",
    "&1 \\\\\n",
    "&1 \\ \\ 1 \\\\\n",
    "&1 \\ \\ 2 \\ \\ 1 \\\\\n",
    "&1 \\ \\ 3 \\ \\ 3 \\ \\ 1 \\\\\n",
    "&1 \\ \\ 4 \\ \\ 6 \\ \\ 4 \\ \\ 1 \\\\\n",
    "&1 \\ \\ 5 \\ \\ 10 \\ \\ 10 \\ \\ 5 \\ \\ 1 \\\\\n",
    "&\\cdots\n",
    "\\end{align*}\n",
    "$$\n"
   ]
  },
  {
   "cell_type": "markdown",
   "metadata": {},
   "source": [
    "# 3. <a id='toc3_'></a>[Equações](#toc0_)"
   ]
  },
  {
   "cell_type": "markdown",
   "metadata": {},
   "source": [
    "<h3>Vídeos de Apoio</h3>\n",
    "\n",
    "| Thumb | Descrição |\n",
    "| :-: | --- |\n",
    "| ![img](https://img.youtube.com/vi/wcqi_q4P4Ac/default.jpg) | <sup>[Principia Matemática]</sup><br>[__Como Resolver Qualquer Equação (ou quase todas)__](https://www.youtube.com/watch?v=wcqi_q4P4Ac)<br><sub>(13:16, YouTube, 09/Jan/2025)</sub> |\n"
   ]
  },
  {
   "cell_type": "markdown",
   "metadata": {},
   "source": [
    "## Equação Polinomial do 2º Grau"
   ]
  },
  {
   "cell_type": "markdown",
   "metadata": {},
   "source": [
    "&emsp; Dados $\\,a, b, e \\in \\mathbb{R}\\,$, com $\\,a \\neq 0\\,$, uma equação polinomial do 2º Grau é uma equação do tipo\n",
    "\n",
    "$$\n",
    "ax^2 + bx +c = 0\n",
    "$$\n",
    "\n",
    "&emsp; As raízes de uma equação polinomial do 2º grau são dadas por:\n",
    "\n",
    "$$\n",
    "x = \\cfrac{-b \\pm \\sqrt{b^2 - 4ac}}{2a}\n",
    "$$"
   ]
  }
 ],
 "metadata": {
  "kernelspec": {
   "display_name": "base",
   "language": "python",
   "name": "python3"
  },
  "language_info": {
   "name": "python",
   "version": "3.12.1"
  }
 },
 "nbformat": 4,
 "nbformat_minor": 2
}
