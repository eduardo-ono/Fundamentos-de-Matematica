{
 "cells": [
  {
   "cell_type": "markdown",
   "metadata": {},
   "source": [
    "<sup>Fundamentos de Matemática</sup>\n",
    "<img alt=\"\" width=\"100%\" height=\"2px\" align=\"right\">\n",
    "\n",
    "&nbsp;\n",
    "\n",
    "<h1 align=\"center\">Resumão de Matemática Básica</h1>\n",
    "<h4 align=\"center\">Prof. Eduardo Ono</h4>\n",
    "<h6 align=\"center\">Atualizado em: 01/04/2025</h6>"
   ]
  },
  {
   "cell_type": "markdown",
   "metadata": {},
   "source": [
    "__Sumário__<a id='toc0_'></a>    \n",
    "- 1. [Aritmética](#toc1_)    \n",
    "  - 1.1. [Algoritmo da Divisão](#toc1_1_)    \n",
    "    - 1.1.1. [Vídeos de Apoio](#toc1_1_1_)    \n",
    "  - 1.2. [Números Primos](#toc1_2_)    \n",
    "  - 1.3. [Teorema Fundamental da Aritmética](#toc1_3_)    \n",
    "  - 1.4. [Mínimo Múltiplo Comum (MMC)](#toc1_4_)    \n",
    "  - 1.5. [Máximo Divisor Comum (MDC)](#toc1_5_)    \n",
    "  - 1.6. [Frações: Soma e Subtração](#toc1_6_)    \n",
    "- 2. [Álgebra](#toc2_)    \n",
    "  - 2.1. [Identidades Algébricas](#toc2_1_)    \n",
    "    - 2.1.1. [Produtos Notáveis](#toc2_1_1_)    \n",
    "      - 2.1.1.1. [Triângulo de Pascal](#toc2_1_1_1_)    \n",
    "- 3. [Equações](#toc3_)    \n",
    "  - 3.1. [Equação Polinomial do 2º Grau](#toc3_1_)    \n",
    "\n",
    "<!-- vscode-jupyter-toc-config\n",
    "\tnumbering=true\n",
    "\tanchor=true\n",
    "\tflat=false\n",
    "\tminLevel=1\n",
    "\tmaxLevel=5\n",
    "\t/vscode-jupyter-toc-config -->\n",
    "<!-- THIS CELL WILL BE REPLACED ON TOC UPDATE. DO NOT WRITE YOUR TEXT IN THIS CELL -->"
   ]
  },
  {
   "cell_type": "markdown",
   "metadata": {},
   "source": []
  },
  {
   "cell_type": "markdown",
   "metadata": {},
   "source": [
    "---\n",
    "# 1. <a id='toc1_'></a>[Aritmética](#toc0_)"
   ]
  },
  {
   "cell_type": "markdown",
   "metadata": {},
   "source": [
    "## 1.1. <a id='toc1_1_'></a>[Algoritmo da Divisão](#toc0_)"
   ]
  },
  {
   "cell_type": "markdown",
   "metadata": {},
   "source": [
    "&emsp; $\\cfrac{2025}{8}$ pelo método atual:\n",
    "\n",
    "$$\n",
    "\\begin{array}{ll}\n",
    "\\phantom{-}2025 & \\mid 8 \\\\\n",
    "-16 & \\,\\overline{\\ \\, 253 \\quad \\vphantom{\\displaystyle\\sum}} \\\\\n",
    "\\phantom{-}\\overline{\\phantom{0} 4 \\vphantom{\\displaystyle\\sum}} 2 & \\\\\n",
    "\\ \\ -40 & \\\\\n",
    "\\ \\phantom{00}\\overline{\\phantom{0} 2 \\vphantom{\\displaystyle\\sum}} 5 & \\\\\n",
    "\\ \\ \\ \\ -24 & \\\\\n",
    "\\ \\phantom{000}\\overline{\\phantom{0} 1 \\vphantom{\\displaystyle\\sum}} &\n",
    "\\end{array}\n",
    "$$\n",
    "\n",
    "&emsp; Portanto, \n",
    "\n",
    "$$\n",
    "2025 = 8 \\times 253 + 1.\n",
    "$$\n",
    "\n",
    "&nbsp;\n",
    "\n",
    "&emsp; $\\cfrac{2025}{8}$ pelo método \"antigo\":\n",
    "\n",
    "$$\n",
    "\\begin{array}{ll}\n",
    "\\phantom{-}2025 & \\mid \\boxed{8} \\\\\n",
    "-1600 & \\,\\overline{\\ \\, 0 \\times \\boxed{8} \\cdot 1000 \\quad \\vphantom{\\displaystyle\\sum}} \\\\\n",
    "\\phantom{-}\\overline{\\phantom{0} 425 \\vphantom{\\displaystyle\\sum}} & \\ \\ 2 \\times \\boxed{8} \\cdot 100\\\\\n",
    "\\ \\ -400 & \\phantom{0} 5 \\times \\boxed{8} \\cdot 10 \\vphantom{\\displaystyle\\sum} \\\\\n",
    "\\ \\phantom{00}\\overline{\\phantom{0} 25 \\vphantom{\\displaystyle\\sum}} & \\ \\ 3 \\times \\boxed{8} \\cdot 1\\\\\n",
    "\\ \\ \\ \\ -24 & \\\\\n",
    "\\ \\phantom{000}\\overline{\\phantom{0} 1 \\vphantom{\\displaystyle\\sum}} &\n",
    "\\end{array}\n",
    "$$\n",
    "\n",
    "&emsp; Portanto,\n",
    "\n",
    "$$\n",
    "\\begin{align*}\n",
    "2025 & = 2 \\cdot 8 \\cdot 100 + 5 \\cdot 8 \\cdot 10 + 3 \\cdot 8 \\cdot 1 + 1 = \\\\\n",
    "& = 8 \\cdot (2 \\cdot 100 + 5 \\cdot 10 + 3 \\cdot 1) + 1 = \\\\\n",
    "& = 8 \\cdot 253 + 1\n",
    "\\end{align*}\n",
    "$$\n",
    "\n",
    "&nbsp;\n",
    "\n",
    "&emsp; $\\cfrac{2025}{16}$ pelo método antigo:\n",
    "\n",
    "$$\n",
    "\\begin{array}{ll}\n",
    "\\phantom{-}2025 & \\mid \\boxed{16} \\\\\n",
    "-1600 & \\,\\overline{\\ \\, 0 \\times \\boxed{16} \\cdot 1000 \\quad \\vphantom{\\displaystyle\\sum}} \\\\\n",
    "\\phantom{-}\\overline{\\phantom{0} 425 \\vphantom{\\displaystyle\\sum}} & \\ \\ 1 \\times \\boxed{16} \\cdot 100\\\\\n",
    "\\ \\ -320 & \\phantom{0} 2 \\times \\boxed{16} \\cdot 10 \\vphantom{\\displaystyle\\sum} \\\\\n",
    "\\ \\phantom{0}\\overline{\\phantom{0} 105 \\vphantom{\\displaystyle\\sum}} & \\ \\ 6 \\times \\boxed{16} \\cdot 1\\\\\n",
    "\\ \\ \\ \\ -96 & \\\\\n",
    "\\ \\phantom{000}\\overline{\\phantom{0} 9 \\vphantom{\\displaystyle\\sum}} &\n",
    "\\end{array}\n",
    "$$\n",
    "\n",
    "&emsp; Portanto,\n",
    "\n",
    "$$\n",
    "\\begin{align*}\n",
    "2025 & = 1 \\cdot 16 \\cdot 100 + 2 \\cdot 16 \\cdot 10 + 6 \\cdot 16 \\cdot 1 + 9 = \\\\\n",
    "& = 16 \\cdot (1 \\cdot 100 + 2 \\cdot 10 + 6 \\cdot 1) + 9 = \\\\\n",
    "& = 16 \\cdot 126 + 9\n",
    "\\end{align*}\n",
    "$$"
   ]
  },
  {
   "cell_type": "markdown",
   "metadata": {},
   "source": [
    "### 1.1.1. <a id='toc1_1_1_'></a>[Vídeos de Apoio](#toc0_)\n",
    "\n",
    "| Thumb | Descrição |\n",
    "| :-: | --- |\n",
    "| ![img](https://img.youtube.com/vi/HjtocOb9wTs/default.jpg) | <sup>[Toda a Matemática]</sup><br>[__MAT BÁSICA - 10 - Como a divisão deveria ser ensinada__](https://www.youtube.com/watch?v=HjtocOb9wTs)<br><sub>(6:11, YouTube, 04/Dez/2024)</sub> |\n",
    "| ![img](https://img.youtube.com/vi/vOPcjSOBZM0/default.jpg) | <sup>[Toda a Matemática]</sup><br>[__MAT BÁSICA - O que não vimos na escola sobre divisão.__](https://www.youtube.com/watch?v=vOPcjSOBZM0)<br><sub>(7:35, YouTube, 11/Jun/2023)</sub> |"
   ]
  },
  {
   "cell_type": "markdown",
   "metadata": {},
   "source": [
    "&nbsp;\n",
    "## 1.2. <a id='toc1_2_'></a>[Números Primos](#toc0_)\n",
    "\n",
    "__DEFINIÇÃO__. &nbsp; Um número natural maior que 1 é chamado de __*número primo*__ se ele é divisível apenas por 1 e por ele mesmo.\n",
    "\n",
    "$$\n",
    "P = \\set{2, 3, 5, 7, 11, 13, 17, 19, 23, \\ldots}\n",
    "$$"
   ]
  },
  {
   "cell_type": "markdown",
   "metadata": {},
   "source": [
    "&nbsp;\n",
    "## 1.3. <a id='toc1_3_'></a>[Teorema Fundamental da Aritmética](#toc0_)"
   ]
  },
  {
   "cell_type": "markdown",
   "metadata": {},
   "source": [
    "__DEFINIÇÃO__. &nbsp; O __*Teorema Fundamental da Aritmética*__ é um teorema fundamental da teoria dos números e estabelece que qualquer número natural maior que 1 pode ser decomposto de forma única em um produto de números primos.\n",
    "\n",
    "&emsp; O teorema foi demonstrado por Euclides e é considerado um dos teoremas mais importantes do campo da matemática.\n",
    "\n",
    "Exemplos:\n",
    "\n",
    "$$\n",
    "\\begin{align*}\n",
    "6 & = 2 \\cdot 3 \\\\[10pt]\n",
    "12 & = 2 \\cdot 2 \\cdot 3 = 2^2 \\cdot 3 \\\\[10pt]\n",
    "25 & = 5 \\cdot 5 = 5^2 \\\\[10pt]\n",
    "60 & = 2 \\cdot 3 \\cdot 5\n",
    "\\end{align*}\n",
    "$$"
   ]
  },
  {
   "cell_type": "markdown",
   "metadata": {},
   "source": [
    "&nbsp;\n",
    "## 1.4. <a id='toc1_4_'></a>[Mínimo Múltiplo Comum (MMC)](#toc0_)"
   ]
  },
  {
   "cell_type": "markdown",
   "metadata": {},
   "source": [
    "$\\text{MMC}(6, 15)$\n",
    "\n",
    "&emsp; __Método 1__:\n",
    "\n",
    "<p align=\"center\">Descrever o conjunto dos múltiplos de cada número:</p>\n",
    "\n",
    "$$\n",
    "\\begin{align*}\n",
    "M(6) & = \\set{0, 6, 12, 18, 24, 30, 36, 42, \\ldots} \\\\[10pt]\n",
    "M(15) & = \\set{0, 15, 30, 45, 60, \\ldots}\n",
    "\\end{align*}\n",
    "$$\n",
    "\n",
    "<p align=\"center\">Identificar o mínimo (menor) comum aos dois conjuntos:</p>\n",
    "\n",
    "$$\n",
    "\\begin{align*}\n",
    "M(6) & = \\set{0, 6, 12, 18, 24, \\boxed{30}, 36, 42, \\ldots} \\\\[10pt]\n",
    "M(15) & = \\set{0, 15, \\boxed{30}, 45, 60, \\ldots}\n",
    "\\end{align*}\n",
    "$$\n",
    "\n",
    "$\\quad \\therefore \\quad \\text{MMC}(6, 15) = 30$\n",
    "\n",
    "&emsp; __Método 2__:\n",
    "\n",
    "<p align=\"center\">Decompor os dois números em fatores primos e multiplicar os fatores encontrados:</p>\n",
    "\n",
    "$$\n",
    "\\begin{array}{rr|l}\n",
    "6, & 15 & \\ 2 \\\\\n",
    "3, & 15 & \\ 3 \\\\\n",
    "1, & 5 & \\ 5 \\\\\n",
    "1, & 1 & \\overline{2 \\cdot 3 \\cdot 5 = 30 \\vphantom{\\displaystyle\\sum}} \\\\\n",
    "\\end{array}\n",
    "$$\n",
    "\n",
    "$\\quad \\therefore \\quad \\text{MMC}(6, 15) = 30$"
   ]
  },
  {
   "cell_type": "markdown",
   "metadata": {},
   "source": [
    "<h3>Vídeos de Apoio</h3>\n",
    "\n",
    "| Thumb | Descrição |\n",
    "| :-: | --- |\n",
    "| ![img](https://img.youtube.com/vi/_aQTwnoC2KE/default.jpg) | <sup>[Professora Angela Matemática]</sup><br>[__MMC - MÍNIMO MÚLTIPLO COMUM - Professora Angela Matemática__](https://www.youtube.com/watch?v=_aQTwnoC2KE)<br><sub>(17:35, YouTube, 30/Mar/2023)</sub> |"
   ]
  },
  {
   "cell_type": "markdown",
   "metadata": {},
   "source": [
    "&nbsp;\n",
    "## 1.5. <a id='toc1_5_'></a>[Máximo Divisor Comum (MDC)](#toc0_)"
   ]
  },
  {
   "cell_type": "markdown",
   "metadata": {},
   "source": [
    "Cálculo do $\\text{MDC}(12, 18)$:\n",
    "\n",
    "&emsp; Método 1:\n",
    "\n",
    "$$\n",
    "D(12) = \\set{1, 2, 3, 4, 6, 12} \\\\[10pt]\n",
    "D(18) = \\set{1, 2, 3, 6, 9, 18} \\\\[20pt]\n",
    "D(12) = \\set{1, 2, 3, 4, \\boxed 6, 12} \\\\[10pt]\n",
    "D(18) = \\set{1, 2, 3, \\boxed 6, 9, 18}\n",
    "$$\n",
    "\n",
    "$\\quad \\therefore \\quad \\text{MDC}(12, 18) = 6$\n",
    "\n",
    "&emsp; Método 2:\n",
    "\n",
    "$$\n",
    "\\begin{array}{rr|l}\n",
    "12, & 18 & \\boxed{2} \\\\\n",
    "6, & 9 & \\ 2 \\\\\n",
    "3, & 9 & \\boxed{3} \\\\\n",
    "1, & 3 & \\ 3 \\\\\n",
    "1, & 1 & \\overline{\\ 2 \\cdot 3 = 6 \\vphantom{\\displaystyle\\sum}}\n",
    "\\end{array}\n",
    "$$\n",
    "\n",
    "$\\quad \\therefore \\quad \\text{MDC}(12, 18) = 6$\n"
   ]
  },
  {
   "cell_type": "markdown",
   "metadata": {},
   "source": [
    "| Thumb | Descrição |\n",
    "| :-: | --- |\n",
    "| ![img](https://img.youtube.com/vi/jmk-0_kD-lA/default.jpg) | <sup>[Professora Angela Matemática]</sup><br>[__MDC - MÁXIMO DIVISOR COMUM - Professora Angela Matemática__](https://www.youtube.com/watch?v=jmk-0_kD-lA)<br><sub>(12:45, YouTube, 04/Abr/2023)</sub> |"
   ]
  },
  {
   "cell_type": "markdown",
   "metadata": {},
   "source": [
    "&nbsp;\n",
    "## 1.6. <a id='toc1_6_'></a>[Frações: Soma e Subtração](#toc0_)"
   ]
  },
  {
   "cell_type": "markdown",
   "metadata": {},
   "source": [
    "| Thumb | Descrição |\n",
    "| :-: | --- |\n",
    "| ![img](https://img.youtube.com/vi/Smf9yhSFG5w/default.jpg) | <sup>[Professora Angela Matemátic]</sup><br>[__FRAÇÃO : ADIÇÃO E SUBTRAÇÃO COM DENOMINADORES DIFERENTES - Professora Angela__](https://www.youtube.com/watch?v=Smf9yhSFG5w)<br><sub>(16:59, YouTube, 12/Abr/2023)</sub> |"
   ]
  },
  {
   "cell_type": "markdown",
   "metadata": {},
   "source": [
    "---\n",
    "# 2. <a id='toc2_'></a>[Álgebra](#toc0_)"
   ]
  },
  {
   "cell_type": "markdown",
   "metadata": {},
   "source": [
    "<h3>Vídeos de Apoio</h3>\n",
    "\n",
    "| Thumb | Descrição |\n",
    "| :-: | --- |\n",
    "| ![img](https://img.youtube.com/vi/rUcPGMOxN8Y/default.jpg) | <sup>[Verificado]</sup><br>[__CUIDADO NA HORA DE RESOLVER ESSAS EXPRESSÕES ALGÉBRICAS! EXPLICAÇÃO PARA APRENDER MATEMÁTICA AGORA!__](https://www.youtube.com/watch?v=rUcPGMOxN8Y)<br><sub>(13:59, YouTube, 23/Fev/2025)</sub> |"
   ]
  },
  {
   "cell_type": "markdown",
   "metadata": {},
   "source": [
    "&nbsp;\n",
    "## 2.1. <a id='toc2_1_'></a>[Identidades Algébricas](#toc0_)"
   ]
  },
  {
   "cell_type": "markdown",
   "metadata": {},
   "source": [
    "### 2.1.1. <a id='toc2_1_1_'></a>[Produtos Notáveis](#toc0_)"
   ]
  },
  {
   "cell_type": "markdown",
   "metadata": {},
   "source": [
    "$$\n",
    "\\begin{align*}\n",
    "(a + b)^0 &= 1 \\\\\n",
    "(a + b)^1 &= a + b \\\\\n",
    "(a + b)^2 &= a^2 + 2ab + b^2 \\\\\n",
    "(a + b)^3 &= a^3 + 3a^2b + 3ab^2 + b^3 \\\\\n",
    "(a + b)^4 &= a^4 + 4a^3b + 6a^2b^2 + 4ab^3 + b^4 \\\\\n",
    "(a + b)^5 &= a^5 + 5a^4b + 10a^3b^2 + 10a^2b^3 + 5ab^4 + b^5 \\\\\n",
    "\\vdots \\quad & = \\quad \\vdots\n",
    "\\end{align*}\n",
    "$$\n",
    "\n",
    "$$\n",
    "\\begin{align*}\n",
    "(a - b)^0 &= 1 \\\\\n",
    "(a - b)^1 &= a - b \\\\\n",
    "(a - b)^2 &= a^2 - 2ab + b^2 \\\\\n",
    "(a - b)^3 &= a^3 - 3a^2b + 3ab^2 - b^3 \\\\\n",
    "(a - b)^4 &= a^4 - 4a^3b + 6a^2b^2 - 4ab^3 + b^4 \\\\\n",
    "(a - b)^5 &= a^5 - 5a^4b + 10a^3b^2 - 10a^2b^3 + 5ab^4 - b^5 \\\\\n",
    "\\vdots \\quad & = \\quad \\vdots\n",
    "\\end{align*}\n",
    "$$\n",
    "\n",
    "#### 2.1.1.1. <a id='toc2_1_1_1_'></a>[Triângulo de Pascal](#toc0_)\n",
    "\n",
    "$$\n",
    "\\begin{array}{cccccc} \n",
    "1 \\\\\n",
    "1 & 1 \\\\\n",
    "1 & 2 & 1 \\\\\n",
    "1 & 3 & 3 & 1 \\\\\n",
    "1 & 4 & 6 & 4 & 1 \\\\\n",
    "1 & 5 & 10 & 10 & 5 & 1 \\\\\n",
    "\\vdots & \\vdots & \\vdots & \\vdots & \\vdots & \\vdots &\\vdots\n",
    "\\end{array}\n",
    "$$\n"
   ]
  },
  {
   "cell_type": "markdown",
   "metadata": {},
   "source": [
    "---\n",
    "# 3. <a id='toc3_'></a>[Equações](#toc0_)"
   ]
  },
  {
   "cell_type": "markdown",
   "metadata": {},
   "source": [
    "<h3>Vídeos de Apoio</h3>\n",
    "\n",
    "| Thumb | Descrição |\n",
    "| :-: | --- |\n",
    "| ![img](https://img.youtube.com/vi/wcqi_q4P4Ac/default.jpg) | <sup>[Principia Matemática]</sup><br>[__Como Resolver Qualquer Equação (ou quase todas)__](https://www.youtube.com/watch?v=wcqi_q4P4Ac)<br><sub>(13:16, YouTube, 09/Jan/2025)</sub> |\n"
   ]
  },
  {
   "cell_type": "markdown",
   "metadata": {},
   "source": [
    "&nbsp;\n",
    "## 3.1. <a id='toc3_1_'></a>[Equação Polinomial do 2º Grau](#toc0_)"
   ]
  },
  {
   "cell_type": "markdown",
   "metadata": {},
   "source": [
    "&emsp; Dados $\\,a, b, c \\in \\mathbb{R}\\,$, com $\\,a \\neq 0\\,$, uma equação polinomial do 2º grau é uma equação do tipo\n",
    "\n",
    "$$\n",
    "ax^2 + bx +c = 0\n",
    "$$\n",
    "\n",
    "&emsp; As raízes de uma equação polinomial do 2º grau são dadas por:\n",
    "\n",
    "$$\n",
    "x = \\cfrac{-b \\pm \\sqrt{b^2 - 4ac}}{2a}\n",
    "$$"
   ]
  }
 ],
 "metadata": {
  "kernelspec": {
   "display_name": "base",
   "language": "python",
   "name": "python3"
  },
  "language_info": {
   "name": "python",
   "version": "3.12.1"
  }
 },
 "nbformat": 4,
 "nbformat_minor": 2
}
