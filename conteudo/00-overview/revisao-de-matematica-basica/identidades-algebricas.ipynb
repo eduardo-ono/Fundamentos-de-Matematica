{
 "cells": [
  {
   "cell_type": "markdown",
   "metadata": {},
   "source": [
    "$$\n",
    "\\begin{align*}\n",
    "(a + b)^0 &= 1 \\\\\n",
    "(a + b)^1 &= a + b \\\\\n",
    "(a + b)^2 &= a^2 + 2ab + b^2 \\\\\n",
    "(a + b)^3 &= a^3 + 3a^2b + 3ab^2 + b^3 \\\\\n",
    "(a + b)^4 &= a^4 + 4a^3b + 6a^2b^2 + 4ab^3 + b^4 \\\\\n",
    "(a + b)^5 &= a^5 + 5a^4b + 10a^3b^2 + 10a^2b^3 + 5ab^4 + b^5 \\\\\n",
    "\\cdots\n",
    "\\end{align*}\n",
    "$$\n",
    "\n",
    "Triângulo de Pascal\n",
    "\n",
    "$$\n",
    "\\begin{align*}\n",
    "&1 \\\\\n",
    "&1 \\ \\ 1 \\\\\n",
    "&1 \\ \\ 2 \\ \\ 1 \\\\\n",
    "&1 \\ \\ 3 \\ \\ 3 \\ \\ 1 \\\\\n",
    "&1 \\ \\ 4 \\ \\ 6 \\ \\ 4 \\ \\ 1 \\\\\n",
    "&1 \\ \\ 5 \\ \\ 10 \\ \\ 10 \\ \\ 5 \\ \\ 1 \\\\\n",
    "&\\cdots\n",
    "\\end{align*}\n",
    "$$\n"
   ]
  }
 ],
 "metadata": {
  "language_info": {
   "name": "python"
  }
 },
 "nbformat": 4,
 "nbformat_minor": 2
}
