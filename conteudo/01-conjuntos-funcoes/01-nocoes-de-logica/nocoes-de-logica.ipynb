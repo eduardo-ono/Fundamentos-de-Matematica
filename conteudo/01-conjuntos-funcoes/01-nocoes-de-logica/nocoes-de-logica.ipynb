{
 "cells": [
  {
   "cell_type": "markdown",
   "metadata": {},
   "source": [
    "&nbsp;\n",
    "\n",
    "---\n",
    "\n",
    "$$ \n",
    "\\ \\\\[18pt]\n",
    "\\text{\\Large Capítulo 1}\n",
    "$$\n",
    "\n",
    "$$\n",
    "\\text{\\LARGE Noções de Lógica}\n",
    "\\ \\\\[18pt]\n",
    "$$\n",
    "\n",
    "---"
   ]
  },
  {
   "cell_type": "markdown",
   "metadata": {},
   "source": [
    "&nbsp;\n",
    "\n",
    "---\n",
    "\n",
    "# Introdução\n",
    "\n",
    "\n",
    "\n",
    "\n"
   ]
  },
  {
   "cell_type": "markdown",
   "metadata": {},
   "source": [
    "&nbsp;\n",
    "\n",
    "---\n",
    "\n",
    "# Proposições"
   ]
  },
  {
   "cell_type": "markdown",
   "metadata": {},
   "source": [
    "§§"
   ]
  }
 ],
 "metadata": {
  "authors": [
   {
    "name": "Prof. Eduardo Ono"
   }
  ],
  "kernelspec": {
   "display_name": "base",
   "language": "python",
   "name": "python3"
  },
  "language_info": {
   "codemirror_mode": {
    "name": "ipython",
    "version": 3
   },
   "file_extension": ".py",
   "mimetype": "text/x-python",
   "name": "python",
   "nbconvert_exporter": "python",
   "pygments_lexer": "ipython3",
   "version": "3.12.1"
  },
  "title": "--- {Módulo 1} ---\fConjuntos e Funções\f---"
 },
 "nbformat": 4,
 "nbformat_minor": 2
}
