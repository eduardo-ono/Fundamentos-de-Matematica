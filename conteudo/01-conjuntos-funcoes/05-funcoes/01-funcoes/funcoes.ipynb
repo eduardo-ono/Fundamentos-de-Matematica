{
 "cells": [
  {
   "cell_type": "markdown",
   "metadata": {},
   "source": [
    "# Conceito de Função\n",
    "\n",
    "&emsp; &emsp; Uma função é uma lei que associa um elemento de um conjunto $A$ um único elemento do conjunto $B$.\n",
    "\n"
   ]
  },
  {
   "cell_type": "markdown",
   "metadata": {},
   "source": [
    "# DEFINIÇÃO. (Função)\n",
    "\n",
    "&emsp; &emsp; Uma função $\\, f:A \\to B \\,$ é uma relação onde cada elemento de $A$ está associado a um único elemento de um conjunto $B$.\n",
    "\n"
   ]
  }
 ],
 "metadata": {
  "kernelspec": {
   "display_name": "base",
   "language": "python",
   "name": "python3"
  },
  "language_info": {
   "name": "python",
   "version": "3.12.1"
  }
 },
 "nbformat": 4,
 "nbformat_minor": 2
}
