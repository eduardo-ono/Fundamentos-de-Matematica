{
 "cells": [
  {
   "cell_type": "markdown",
   "metadata": {},
   "source": [
    "$$\n",
    "\\begin{align*}\n",
    "(x + a)^0 &= 1 \\\\\n",
    "(x + a)^1 &= x + a \\\\\n",
    "(x + a)^2 &= (x + a)(x + a)^1 = x^2 + 2xa + a^2 \\\\\n",
    "(x + a)^3 &= (x + a)(x + a)^2 = (x + a)(x^2 + 2xa + a^2) = x^3 + 3x^2a + 3xa^2 + a^3 \\\\\n",
    "(x + a)^4 &= (x + a)(x + a)^3 = (x + a)(x^3 + 3x^2a + 3xa^2 + a^3) = x^4 + 3x^2a + 3xa^2 + a^3 \\\\\n",
    "\\end{align*}\n",
    "$$"
   ]
  },
  {
   "cell_type": "markdown",
   "metadata": {},
   "source": [
    "## Triângulo de Pascal\n",
    "\n",
    "$$\n",
    "1 \\\\\n",
    "1 \\quad 1 \\\\\n",
    "1 \\quad 2 \\quad 1 \\\\\n",
    "1 \\quad 3 \\quad 3 \\quad 1 \\\\\n",
    "1 \\quad 4 \\quad 6 \\quad 4 \\quad 1 \\\\\n",
    "1 \\quad 5 \\quad 10 \\quad 10 \\quad 5 \\quad 1 \\\\\n",
    "\\ldots\n",
    "$$"
   ]
  },
  {
   "cell_type": "markdown",
   "metadata": {},
   "source": [
    "$$\n",
    "\\begin{align*}\n",
    "n = 0 \\qquad &1 \\\\\n",
    "n = 1 \\qquad &1 \\quad 1 \\\\\n",
    "n = 2 \\qquad &1 \\quad 2 \\quad 1 \\\\\n",
    "n = 3 \\qquad &1 \\quad 3 \\quad 3 \\quad 1 \\\\\n",
    "n = 4 \\qquad &1 \\quad 4 \\quad 6 \\quad 4 \\quad 1 \\\\\n",
    "n = 5 \\qquad &1 \\quad 5 \\quad 10 \\quad 10 \\quad 5 \\quad 1 \\\\\n",
    "\\ldots\n",
    "\\end{align*}\n",
    "$$"
   ]
  },
  {
   "cell_type": "markdown",
   "metadata": {},
   "source": [
    "Para $n = 5$, a expansão de $(x + a)^5$ será dada por:\n",
    "\n",
    "$$\n",
    "(x + a)^5 = x^5 + 5x^4a + 10x^3a^2 + 10x^2a^3 + 5xa^4 + a^5\n",
    "$$\n"
   ]
  },
  {
   "cell_type": "markdown",
   "metadata": {},
   "source": [
    "<hr>\n",
    "TEOREMA (Binomial).\n",
    "<hr>\n",
    "\n",
    "&emsp; &emsp; O desenvolvimento de $\\, (x + a)^n \\,$ para $\\, x, a \\in \\R \\,$ e $\\, n \\in \\N \\,$ é dado por:\n",
    "\n",
    "$$\n",
    "\\\\[10pt]\n",
    "(x + a)^n = \\binom{n}{0} \\, x^n + \\binom{n}{1} \\, x^{n - 1} \\, a + \\binom{n}{n - 2} \\, x^{n - 2} \\, a^2 + \\ldots + \\binom{n}{p} \\, x^{n - p} \\, a^p + \\ldots + \\binom{n}{n} \\, a^n\n",
    "\\\\[12pt]\n",
    "$$\n",
    "\n",
    "&emsp; &emsp; O termo $\\, \\binom{n}{p} \\, x^{n - p} \\, a^p \\,$ é denominado _termo geral_, pois fazendo $\\, p = 0, 1, 2, \\ldots, n \\,$ obtemos todos os termos do desenvolvimento.\n",
    "\n",
    "&emsp; &emsp; Assim sendo, podemos escrever o desenvolvimento através do somatório:\n",
    "\n",
    "$$\n",
    "\\\\[10pt]\n",
    "\\boxed{\\ (x + a)^n = \\sum_{p=0}^{n} {\\binom{n}{p} \\, x^{n - p} \\, a^p} \\ }\n",
    "\\\\[12pt]\n",
    "$$\n"
   ]
  },
  {
   "cell_type": "markdown",
   "metadata": {},
   "source": []
  },
  {
   "cell_type": "markdown",
   "metadata": {},
   "source": [
    "Exemplo.\n",
    "\n"
   ]
  },
  {
   "cell_type": "markdown",
   "metadata": {},
   "source": []
  }
 ],
 "metadata": {
  "kernelspec": {
   "display_name": "base",
   "language": "python",
   "name": "python3"
  },
  "language_info": {
   "name": "python",
   "version": "3.12.1"
  }
 },
 "nbformat": 4,
 "nbformat_minor": 2
}
