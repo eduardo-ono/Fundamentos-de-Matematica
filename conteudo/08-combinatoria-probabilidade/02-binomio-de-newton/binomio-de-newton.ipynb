{
 "cells": [
  {
   "cell_type": "markdown",
   "metadata": {},
   "source": [
    "<sup>Fundamentos de Matemática</sup>\n",
    "<img alt=\"\" width=\"100%\" height=\"2px\" align=\"right\">\n",
    "\n",
    "&nbsp;\n",
    "\n",
    "<h1 align=\"center\">Binômio de Newton</h1>\n",
    "<h4 align=\"center\">Prof. Eduardo Ono</h4>\n",
    "<h6 align=\"center\">Atualizado em: 09/02/2025</h6>"
   ]
  },
  {
   "cell_type": "markdown",
   "metadata": {},
   "source": [
    "$$\n",
    "\\begin{align*}\n",
    "(a + b)^0 &= 1 \\\\\n",
    "(a + b)^1 &= a + b \\\\\n",
    "(a + b)^2 &= (a + b)(a + b)^1 = a^2 + 2ab + b^2 \\\\\n",
    "(a + b)^3 &= (a + b)(a + b)^2 = (a + b)(a^2 + 2ab + b^2) = a^3 + 3a^2b + 3ab^2 + b^3 \\\\\n",
    "(a + b)^4 &= (a + b)(a + b)^3 = (a + b)(a^3 + 3a^2b + 3ab^2 + b^3) = a^4 + 4a^3b + 6a^2b^2 + 4ab^3 + b^4 \\\\\n",
    "\\end{align*}\n",
    "$$"
   ]
  },
  {
   "cell_type": "markdown",
   "metadata": {},
   "source": [
    "## Triângulo de Pascal\n",
    "\n",
    "$$\n",
    "1 \\\\\n",
    "1 \\quad 1 \\\\\n",
    "1 \\quad 2 \\quad 1 \\\\\n",
    "1 \\quad 3 \\quad 3 \\quad 1 \\\\\n",
    "1 \\quad 4 \\quad 6 \\quad 4 \\quad 1 \\\\\n",
    "1 \\quad 5 \\quad 10 \\quad 10 \\quad 5 \\quad 1 \\\\\n",
    "\\ldots\n",
    "$$"
   ]
  },
  {
   "cell_type": "markdown",
   "metadata": {},
   "source": [
    "Relação de Stifel\n",
    "\n",
    "Podemos construir o Triângulo de Pascal facilmente utilizando a relação de Stifel, que é uma forma de calcular os coeficientes binomiais.\n",
    "\n",
    "A __relação de Stifel__ é dada por:\n",
    "\n",
    "$$\n",
    "\\binom{n}{p} = \\binom{n-1}{p-1} + \\binom{n-1}{p}\n",
    "$$\n",
    "\n",
    "$$\n",
    "\\begin{align*}\n",
    "n = 0 \\qquad &1 \\\\\n",
    "n = 1 \\qquad &1 \\quad 1 \\\\\n",
    "n = 2 \\qquad &1 \\quad 2 \\quad \\ 1 \\\\\n",
    "n = 3 \\qquad &1 \\quad 3 \\quad \\ 3 \\quad \\ 1 \\\\\n",
    "n = 4 \\qquad &1 \\quad 4 \\quad \\ 6 \\quad \\ 4 \\quad \\ 1 \\\\\n",
    "n = 5 \\qquad &1 \\quad 5 \\quad 10 \\quad 10 \\quad 5 \\quad 1 \\\\\n",
    "\\ldots\n",
    "\\end{align*}\n",
    "$$"
   ]
  },
  {
   "cell_type": "markdown",
   "metadata": {},
   "source": [
    "Para $n = 5$, a eapansão de $(x + b)^5$ será dada por:\n",
    "\n",
    "$$\n",
    "(a + b)^5 = a^5 + 5a^4b + 10a^3b^2 + 10a^2b^3 + 5ab^4 + b^5\n",
    "$$\n"
   ]
  },
  {
   "cell_type": "markdown",
   "metadata": {},
   "source": [
    "<hr>\n",
    "TEOREMA (Binomial).\n",
    "<hr>\n",
    "\n",
    "&emsp; &emsp; O desenvolvimento de $\\, (a + b)^n \\,$ para $\\, a, b \\in \\R \\,$ e $\\, n \\in \\N \\,$ é dado por:\n",
    "\n",
    "$$\n",
    "\\\\[10pt]\n",
    "(a + b)^n = \\binom{n}{0} \\, a^n + \\binom{n}{1} \\, a^{n - 1} \\, b + \\binom{n}{n - 2} \\, a^{n - 2} \\, b^2 + \\ldots + \\binom{n}{p} \\, a^{n - p} \\, b^p + \\ldots + \\binom{n}{n} \\, b^n\n",
    "\\\\[12pt]\n",
    "$$\n",
    "\n",
    "&emsp; &emsp; O termo $\\, \\binom{n}{p} \\, a^{n - p} \\, b^p \\,$ é denominado _termo geral_, pois fazendo $\\, p = 0, 1, 2, \\ldots, n \\,$ obtemos todos os termos do desenvolvimento.\n",
    "\n",
    "&emsp; &emsp; Assim sendo, podemos escrever o desenvolvimento através do somatório:\n",
    "\n",
    "$$\n",
    "\\\\[10pt]\n",
    "\\boxed{\\ (a + b)^n = \\sum_{p=0}^{n} {\\binom{n}{p} \\, a^{n - p} \\, b^p} \\ }\n",
    "\\\\[12pt]\n",
    "$$\n"
   ]
  },
  {
   "cell_type": "markdown",
   "metadata": {},
   "source": []
  },
  {
   "cell_type": "markdown",
   "metadata": {},
   "source": [
    "Exemplo.\n",
    "\n"
   ]
  },
  {
   "cell_type": "markdown",
   "metadata": {},
   "source": []
  }
 ],
 "metadata": {
  "kernelspec": {
   "display_name": "base",
   "language": "python",
   "name": "python3"
  },
  "language_info": {
   "name": "python",
   "version": "3.12.1"
  }
 },
 "nbformat": 4,
 "nbformat_minor": 2
}
