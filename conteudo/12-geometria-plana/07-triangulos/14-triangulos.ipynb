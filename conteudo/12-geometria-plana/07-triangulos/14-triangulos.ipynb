{
 "cells": [
  {
   "cell_type": "markdown",
   "metadata": {},
   "source": [
    "---\n",
    "\n",
    "$$\n",
    "\\ \\\\[24pt]\n",
    "\\text{\\LARGE Capítulo 7 -- Parte I}\n",
    "\\ \\\\\n",
    "$$\n",
    "\n",
    "$$\n",
    "\\text{\\LARGE Triângulos}\n",
    "\\ \\\\[24pt]\n",
    "$$"
   ]
  },
  {
   "cell_type": "markdown",
   "metadata": {},
   "source": [
    "**Sumário**<a id='toc0_'></a>    \n",
    "- 1. [Introdução](#toc1_)    \n",
    "- 2. [Relações Métricas](#toc2_)    \n",
    "  - 2.1. [Elementos](#toc2_1_)    \n",
    "  - 2.2. [Teorema de Pitágoras](#toc2_2_)    \n",
    "- 3. [Fim](#toc3_)    \n",
    "- 4. [Teste](#toc4_)    \n",
    "\n",
    "<!-- vscode-jupyter-toc-config\n",
    "\tnumbering=true\n",
    "\tanchor=true\n",
    "\tflat=false\n",
    "\tminLevel=1\n",
    "\tmaxLevel=5\n",
    "\t/vscode-jupyter-toc-config -->\n",
    "<!-- THIS CELL WILL BE REPLACED ON TOC UPDATE. DO NOT WRITE YOUR TEXT IN THIS CELL -->"
   ]
  },
  {
   "cell_type": "markdown",
   "metadata": {},
   "source": [
    "%%latex\n",
    "\\newpage"
   ]
  },
  {
   "cell_type": "code",
   "execution_count": 7,
   "metadata": {},
   "outputs": [],
   "source": [
    "import matplotlib.pyplot as plt\n",
    "\n",
    "plt.rcParams['figure.figsize'] = [4, 3]\n",
    "\n",
    "def plotFig(fig, ax, x_coords, y_coords, labels):\n",
    "    x_min = min(x_coords)\n",
    "    x_max = max(x_coords)\n",
    "    y_min = min(y_coords)\n",
    "    y_max = max(y_coords)\n",
    "    x_mean = (x_min + x_max) / 2\n",
    "    y_mean = (y_min + y_max) / 2\n",
    "    x_labels = []\n",
    "    y_labels = []\n",
    "\n",
    "    for i, label in enumerate(labels):\n",
    "        x_delta = 0\n",
    "        y_delta = 0\n",
    "        if x_coords[i] < x_mean:\n",
    "            x_delta -= 0.5\n",
    "        elif x_coords[i] > x_mean:\n",
    "            x_delta += 0.2\n",
    "        if y_coords[i] < y_mean:\n",
    "            y_delta -= 0.1\n",
    "            if (x_coords[i] > x_min) and (x_coords[i] < x_max):\n",
    "                y_delta -= 0.2\n",
    "        elif y_coords[i] > y_mean:\n",
    "            y_delta += 0.2\n",
    "            x_delta = -0.15\n",
    "        x_labels.append(x_coords[i] + x_delta)\n",
    "        y_labels.append(y_coords[i] + y_delta)\n",
    "\n",
    "    plt.plot(x_coords, y_coords)\n",
    "    plt.margins(x=0.2, y=0.2)\n",
    "    ax.set_aspect('equal')\n",
    "    for i, label in enumerate(labels):\n",
    "        ax.annotate(label, (x_labels[i], y_labels[i]))\n",
    "    plt.axis('off')"
   ]
  },
  {
   "cell_type": "markdown",
   "metadata": {},
   "source": [
    "$$\n",
    "\\ \\\\\n",
    "\\text{\\LARGE --- Capítulo 7 ---}\n",
    "\\ \\\\\n",
    "$$\n",
    "\n",
    "$$\n",
    "\\text{\\LARGE Triângulos}\n",
    "\\ \\\\[24pt]\n",
    "$$"
   ]
  },
  {
   "cell_type": "markdown",
   "metadata": {},
   "source": [
    "<!-- Introdução -->\n",
    "\n",
    "&nbsp;\n",
    "\n",
    "---\n",
    "\n",
    "# 1. <a id='toc1_'></a>[Introdução](#toc0_)"
   ]
  },
  {
   "cell_type": "markdown",
   "metadata": {},
   "source": [
    "&nbsp;\n",
    "\n",
    "---\n",
    "\n",
    "# 2. <a id='toc2_'></a>[Relações Métricas](#toc0_)"
   ]
  },
  {
   "cell_type": "markdown",
   "metadata": {},
   "source": [
    "&nbsp;\n",
    "\n",
    "## 2.1. <a id='toc2_1_'></a>[Elementos](#toc0_)\n",
    "\n",
    "&emsp; &emsp; Sejam $\\, \\triangle ABC \\,$ um triângulo retângulo em $A$ e $\\, \\overline{AD} \\,$ um segmento perpendicular a $\\, \\overline{BC} \\,$, com $\\, D \\in \\overline{BC} \\,$, conforme a figura a seguir:"
   ]
  },
  {
   "cell_type": "code",
   "execution_count": 8,
   "metadata": {},
   "outputs": [
    {
     "name": "stdout",
     "output_type": "stream",
     "text": [
      "[-0.1, 2.6, -0.1, -0.1]\n",
      "[2.6, -0.1]\n"
     ]
    },
    {
     "data": {
      "image/png": "[encoded data removed]",
      "text/plain": [
       "<Figure size 400x300 with 1 Axes>"
      ]
     },
     "metadata": {},
     "output_type": "display_data"
    }
   ],
   "source": [
    "# Triângulo retângulo ABC = 5, 3, 4\n",
    "x_coords = [0, 1.8, 5, 0]\n",
    "y_coords = [0, 2.4, 0, 0]\n",
    "labels = ['B', 'A', 'C', '']\n",
    "fig, ax = plt.subplots()\n",
    "plotFig(fig, ax, x_coords, y_coords, labels)\n",
    "\n",
    "# Altura h\n",
    "h_x = [1.8, 1.8]\n",
    "h_y = [2.4, 0]\n",
    "h_labels = ['', 'D']\n",
    "plotFig(fig, ax, h_x, h_y, h_labels)\n",
    "plt.show()"
   ]
  },
  {
   "cell_type": "markdown",
   "metadata": {},
   "source": [
    "&emsp; &emsp; Vamos caracterizar os seguintes elementos:\n",
    "\n",
    "$\\overline{BC} = a\\,$: hipotenusa;<br>\n",
    "\n",
    "$\\overline{AC} = b\\,$: cateto;<br> \n",
    "\n",
    "$\\overline{AB} = c\\,$: cateto;<br>\n",
    "\n",
    "$\\overline{CD} = mc\\,$: projeção do cateto $b$ sobre a hipotenusa;<br>\n",
    "\n",
    "$\\overline{BD} = mc\\,$: projeção do cateto $c$ sobre a hipotenusa;<br>\n",
    "\n",
    "$\\overline{AD} = hc\\,$: altura relativa à hipotenusa.\n",
    "\n",
    "&emsp; &emsp; Para simplificar a notação, podemos dizer que $a$, dependendo do contexto, é a hipotenusa do triãngulo $\\Delta$ ou que $a$ é a medida (comprimento) da hipotenusa. Como caracterizamos que $\\, a = \\overline{BC} \\,$, o correto seria escrevermos $\\, \\text{med}(a) \\,$ para a medida de $a$, ou seja, $\\, \\text{med}(a) = \\text{med}(\\overline{BC}) \\,$.\n",
    "\n"
   ]
  },
  {
   "cell_type": "markdown",
   "metadata": {},
   "source": [
    "&nbsp;\n",
    "\n",
    "## 2.2. <a id='toc2_2_'></a>[Teorema de Pitágoras](#toc0_)\n",
    "\n",
    "&emsp; &emsp; \n",
    "\n",
    "&emsp; &emsp; Seja $\\, \\Delta ABC \\,$ um triângulo retângulo em $A$, onde $a$ é a hipotenusa e $b$ e $c$ os catetos desse triângulo. Então, temos que a hipotenusa ao quadrado é igual à soma dos quadrados dos catetos:\n",
    "\n",
    "$$\n",
    "a^2 = b^2 + c^2\n",
    "$$\n",
    "\n",
    "__Demonstração:__\n",
    "\n",
    "&emsp; &emsp; No triângulo $\\, \\Delta ABC \\,$ considerado anteriormente, temos que a altura $\\, h = \\overline{AD} \\,$ divide o triângulo $\\, \\Delta ABC \\,$ nos triângulos $\\, \\Delta ADB\\,$ e $\\, \\Delta ADC \\,$, ambos retângulos em $D \\,$. Em particular, o ângulo $\\hat{A}$ é dividido nos ângulos $\\alpha$ e $\\beta \\,$, de modo que $\\, \\alpha = B \\hat{A} D \\,$ e $\\, \\beta = C \\hat{A} D\\,$.\n",
    "\n",
    "&emsp; &emsp; Nos triângulos $\\, \\Delta BAC \\,$ e $\\, \\Delta BDA \\,$, o ângulo $\\hat{B}$ é comum a ambos os triângulos e os ângulos $\\hat{A}$ e $B\\hat{D}A$ são retos. Portanto, pelo critério $AA$, esses dois triângulo são semelhantes.\n",
    "\n",
    "Assim sendo, temos que:\n",
    "\n",
    "$$\n",
    "\\frac{\\ \\overline{AB} \\ }{\\ \\overline{BD} \\ } = \\frac{\\ \\overline{BC} \\ }{\\overline{AB}} \\implies\n",
    "\\frac{c}{m}=\\frac{a}{c} \\implies\n",
    "\\boxed{\\ c^2 = a \\cdot m \\ }\n",
    "$$\n",
    "\n",
    "Analogamente, temos que os triângulos $\\, \\Delta BAC \\,$ e $\\, ADC \\,$ são semelhantes.\n",
    "\n",
    "$$\n",
    "\\frac{\\overline{AC}}{\\overline{CD}} = \\frac{\\overline{BC}}{\\overline{AC}} \\implies\n",
    "\\frac{b}{n}=\\frac{a}{b} \\implies\n",
    "\\boxed{\\ b^2 = a \\cdot n \\ }\n",
    "$$\n",
    "\n",
    "&emsp; &emsp; Somando essas duas igualdades, temos que:\n",
    "\n",
    "$$ b^2 + c^2 = a \\cdot m + a \\cdot n $$\n",
    "$$ b^2 + c^2 = a(m + n) $$\n",
    "$$ b^2 + c^2 = a \\cdot a $$\n",
    "$$ \\boxed{\\ a^2 = b^2 + c^2 \\ } $$"
   ]
  },
  {
   "cell_type": "markdown",
   "metadata": {},
   "source": [
    "# 3. <a id='toc3_'></a>[Fim](#toc0_)"
   ]
  },
  {
   "cell_type": "markdown",
   "metadata": {},
   "source": []
  }
 ],
 "metadata": {
  "authors": [
   {
    "name": "Prof. Eduardo Ono"
   }
  ],
  "kernelspec": {
   "display_name": "Python 3 (ipykernel)",
   "language": "python",
   "name": "python3"
  },
  "language_info": {
   "codemirror_mode": {
    "name": "ipython",
    "version": 3
   },
   "file_extension": ".py",
   "mimetype": "text/x-python",
   "name": "python",
   "nbconvert_exporter": "python",
   "pygments_lexer": "ipython3",
   "version": "3.12.1"
  },
  "title": "---{Módulo 9}---\fGeometria Plana\f-----",
  "toc-autonumbering": true,
  "toc-showtags": false
 },
 "nbformat": 4,
 "nbformat_minor": 4
}
