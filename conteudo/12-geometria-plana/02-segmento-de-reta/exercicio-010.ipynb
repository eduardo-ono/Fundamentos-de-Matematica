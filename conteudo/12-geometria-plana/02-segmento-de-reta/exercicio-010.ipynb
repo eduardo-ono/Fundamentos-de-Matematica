{
 "cells": [
  {
   "cell_type": "markdown",
   "metadata": {},
   "source": [
    "Exercício. Sejam $\\,A = \\{1, 2, 3, \\ldots, 50\\}\\,$ e $\\,B = \\{-1, -2, -3, \\ldots, -50\\,\\}$. Se $\\,C = \\{xy : x \\in A \\text{ e } y \\in B\\,\\}$, determine o número de elementos de $C$."
   ]
  },
  {
   "cell_type": "markdown",
   "metadata": {},
   "source": [
    "|     | -1 | -2 | -3 | -4 | $\\ldots$| -50 |\n",
    "| :-: | :-: | :-: | :-: | :-: | :-: | :-: |\n",
    "| 1 | -1 | -2 | -3 | -4 | $\\ldots$ | -50 |\n",
    "| 2 | -2 | -4 | -6 | -6 | $\\ldots$ | -100 |\n",
    "| 3 | -3 | -6 | -9 | -12 | $\\ldots$ | -150 |\n",
    "| $\\vdots$ |\n",
    "| 50 | -50 | -100 | -150 | -200 | $\\ldots$ | -2500 |\n"
   ]
  },
  {
   "cell_type": "markdown",
   "metadata": {},
   "source": [
    "Vídeos de Apoio\n",
    "\n",
    "| Thumb | Descrição |\n",
    "| --- | --- |\n",
    "| ![img](https://img.youtube.com/vi/OqSdFkpOWlE/default.jpg) | <sup>[Estude Matemática]</sup><br>[__ITA 2017 questão 8 (Questão do dia) - 27/8/2021 (#020)__](https://www.youtube.com/watch?v=OqSdFkpOWlE)<br><sub>(17:42, YouTube, 27/Ago/2021)</sub> |\n"
   ]
  }
 ],
 "metadata": {
  "language_info": {
   "name": "python"
  }
 },
 "nbformat": 4,
 "nbformat_minor": 2
}
