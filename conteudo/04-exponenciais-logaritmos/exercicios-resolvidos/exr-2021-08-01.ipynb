{
 "cells": [
  {
   "cell_type": "markdown",
   "metadata": {},
   "source": [
    "__Exercício.__ &nbsp; Seja $\\,n \\in \\Bbb N^*\\,$. Mostre que $\\,\\sqrt{n(n + 1)(n + 2)(n + 3) + 1} \\in \\Bbb N\\,$."
   ]
  },
  {
   "cell_type": "markdown",
   "metadata": {},
   "source": [
    "$$\n",
    "\\begin{align*}\n",
    "\\sqrt{n(n + 1)(n + 2)(n + 3) + 1} &= \\sqrt{n(n + 3)(n + 1)(n + 2) + 1} \\\\\n",
    "&= \\sqrt{(n^2 + 3n)(n^2 + 2n + n + 2) + 1} \\\\\n",
    "&= \\sqrt{(n^2 + 3n)(n^2 + 3n + 2) + 1} \\\\\n",
    "&= \\sqrt{(n^2 + 3n)[(n^2 + 3n) + 2] + 1} \\\\[12pt]\n",
    "\n",
    "\\text{Fazendo } k = n^2 + 3n \\text{, temos:} \\\\[12pt]\n",
    "\n",
    "\\sqrt{n(n + 1)(n + 2)(n + 3) + 1} &= \\sqrt{k(k + 2) + 1} \\\\\n",
    "&= \\sqrt{k^2 + 2k + 1} \\\\\n",
    "&= \\sqrt{(k + 1)^2} \\\\\n",
    "&= k + 1 \\\\\n",
    "&= n^2 + 3n + 1 \\\\\n",
    "&= n^2 + 3n + 1 \\\\\n",
    "\\therefore \\quad \\sqrt{n(n + 1)(n + 2)(n + 3) + 1} &= n^2 + 3n + 1 \\in \\Bbb N\n",
    "\\end{align*}\n",
    "$$\n"
   ]
  },
  {
   "cell_type": "markdown",
   "metadata": {},
   "source": [
    "&nbsp;\n",
    "\n",
    "## Exemplos"
   ]
  },
  {
   "cell_type": "markdown",
   "metadata": {},
   "source": [
    "* $\\sqrt{1 \\cdot 2 \\cdot 3 \\cdot 4 + 1} = \\sqrt{24 + 1} = \\sqrt{25} = 5$\n",
    "\n",
    "Fazendo $n = 1$, temos:\n",
    "\n",
    "$\\quad \\sqrt{1 \\cdot 2 \\cdot 3 \\cdot 4 + 1} = 1^2 + 3 \\cdot 1 + 1 = 1 + 3 + 1 = 5$"
   ]
  },
  {
   "cell_type": "markdown",
   "metadata": {},
   "source": [
    "* $\\sqrt{2 \\cdot 3 \\cdot 4 \\cdot 5 + 1} = \\sqrt{120 + 1} = \\sqrt{121} = 11$\n",
    "\n",
    "Fazendo $n = 2$, temos:\n",
    "\n",
    "$\\sqrt{2 \\cdot 3 \\cdot 4 \\cdot 5 + 1} = 2^2 + 3 \\cdot 3 + 1 = 4 + 6 + 1 = 11$"
   ]
  },
  {
   "cell_type": "markdown",
   "metadata": {},
   "source": [
    "* $\\sqrt{100 \\cdot 101 \\cdot 102 \\cdot 103 + 1} = \\sqrt{106110600 + 1} = \\sqrt{106.110.601} = 10301$\n",
    "\n",
    "Fazendo $n = 100$, temos:\n",
    "\n",
    "$\\quad \\sqrt{100 \\cdot 101 \\cdot 102 \\cdot 103 + 1} = 100^2 + 3 \\cdot 100 + 1 = 10000 + 300 + 1 = 10301$\n"
   ]
  },
  {
   "cell_type": "markdown",
   "metadata": {},
   "source": [
    "&nbsp;\n",
    "\n",
    "## Referências\n",
    "\n",
    "| Thumb | Descrição |\n",
    "| --- | --- |\n",
    "| ![img](https://img.youtube.com/vi/0mNEmjKZcOg/default.jpg) | <sup>[Estude Matemática]</sup><br>[__Raiz quadrada de 40×41×42×43+1 sem calculadora: você consegue?__](https://www.youtube.com/watch?v=0mNEmjKZcOg)<br><sub>(8:05, YouTube, 01/Ago/2021)</sub> |\n"
   ]
  }
 ],
 "metadata": {
  "kernelspec": {
   "display_name": "base",
   "language": "python",
   "name": "python3"
  },
  "language_info": {
   "codemirror_mode": {
    "name": "ipython",
    "version": 3
   },
   "file_extension": ".py",
   "mimetype": "text/x-python",
   "name": "python",
   "nbconvert_exporter": "python",
   "pygments_lexer": "ipython3",
   "version": "3.12.1"
  }
 },
 "nbformat": 4,
 "nbformat_minor": 2
}
