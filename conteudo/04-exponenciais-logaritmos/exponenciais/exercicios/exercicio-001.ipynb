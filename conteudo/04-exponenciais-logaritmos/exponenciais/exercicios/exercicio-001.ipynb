{
 "cells": [
  {
   "cell_type": "markdown",
   "metadata": {},
   "source": [
    "__Exercício.__ &nbsp; Para todo $\\,n \\in \\Bbb N\\,$, mostre que $\\,n^2 - (n - 1)^2 = n + (n - 1)\\,$."
   ]
  }
 ],
 "metadata": {
  "language_info": {
   "name": "python"
  }
 },
 "nbformat": 4,
 "nbformat_minor": 2
}
