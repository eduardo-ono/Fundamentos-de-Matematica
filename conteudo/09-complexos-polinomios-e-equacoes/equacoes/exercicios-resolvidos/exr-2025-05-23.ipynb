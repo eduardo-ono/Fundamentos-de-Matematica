{
 "cells": [
  {
   "cell_type": "markdown",
   "id": "51a01839",
   "metadata": {},
   "source": [
    "Exr-2025-05-23. &nbsp; \n",
    "\n",
    "$$\n",
    "\\cfrac{x - 2020}{1} + \\cfrac{x - 2019}{2} + \\dots + \\cfrac{x - 2000}{21} = \\cfrac{x - 1}{2020} + \\cfrac{x - 2}{2019} + \\dots + \\cfrac{x - 21}{2000}\n",
    "$$"
   ]
  },
  {
   "cell_type": "markdown",
   "id": "8fc5a688",
   "metadata": {},
   "source": [
    "<h3>Referências</h3>\n",
    "\n",
    "| Thumb | Descrição |\n",
    "| :-: | --- |\n",
    "| ![img](https://img.youtube.com/vi/Ms52U4Fufbc/default.jpg) | <sup>[Prof. Loureiro - Olimpo das Exatas   ]</sup><br>[__Prof. Loureiro - Olimpo das Exatas__](https://www.youtube.com/watch?v=Ms52U4Fufbc)<br><sub>(21:14, YouTube, 23/Mai/2025)</sub> |"
   ]
  }
 ],
 "metadata": {
  "kernelspec": {
   "display_name": "base",
   "language": "python",
   "name": "python3"
  },
  "language_info": {
   "name": "python",
   "version": "3.12.1"
  }
 },
 "nbformat": 4,
 "nbformat_minor": 5
}
