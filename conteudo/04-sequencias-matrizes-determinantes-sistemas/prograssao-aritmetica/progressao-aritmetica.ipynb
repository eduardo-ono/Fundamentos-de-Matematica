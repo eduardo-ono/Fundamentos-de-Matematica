{
 "cells": [
  {
   "cell_type": "markdown",
   "metadata": {},
   "source": [
    "<h1 align=\"center\">Progressão Aritmética</h1>\n",
    "\n",
    "<h4 align=\"center\">Prof. Eduardo Ono</h4>\n",
    "\n",
    "&nbsp;"
   ]
  },
  {
   "cell_type": "markdown",
   "metadata": {},
   "source": [
    "### Soma dos Termos de uma P.A."
   ]
  },
  {
   "cell_type": "markdown",
   "metadata": {},
   "source": [
    "$$s = 1 + 2 + 3 + \\ldots + 99 + 100$$\n",
    "$$s = 100 + 99 + 98 + \\ldots + 2 + 1$$\n",
    "\n",
    "Somando ambos os lados da igualdade, temos que:\n",
    "\n",
    "$$ 2 \\, s = (1 + 100) + (2 + 99) + (3 + 98) + \\ldots + (99 + 2) + (100 + 1) $$\n",
    "\n",
    "$$ 2 \\, s = 101 + 101 + 101 + \\ldots + 101 + 101 $$\n",
    "\n",
    "Como são 100 termos do lado direito da igualdade, temos que:\n",
    "\n",
    "$$ 2 \\, s = 101 \\cdot 100 $$\n",
    "\n",
    "Portanto,\n",
    "\n",
    "$$ s = \\frac{101 \\cdot 100}{2} = \\frac{10100}{2} = 5050 \\, .$$\n"
   ]
  },
  {
   "cell_type": "markdown",
   "metadata": {},
   "source": [
    "Generalizando o raciocínio utilizado, temos que a soma $s$ dos $n$ primeiros termos de uma P.A. é dada por:\n",
    "\n",
    "$$s = \\frac{n \\, (a_1 + a_n)}{2}$$"
   ]
  },
  {
   "cell_type": "markdown",
   "metadata": {},
   "source": []
  }
 ],
 "metadata": {
  "kernelspec": {
   "display_name": "base",
   "language": "python",
   "name": "python3"
  },
  "language_info": {
   "name": "python",
   "version": "3.12.1"
  }
 },
 "nbformat": 4,
 "nbformat_minor": 2
}
