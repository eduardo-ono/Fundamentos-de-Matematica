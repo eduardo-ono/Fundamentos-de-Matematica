{
 "cells": [
  {
   "cell_type": "markdown",
   "metadata": {},
   "source": [
    "<h4>\n",
    "\n",
    "$$\n",
    "\\text{---\\{ Sequências Numéricas \\}---}\n",
    "\\\\[24pt]\n",
    "$$\n",
    "\n",
    "</h4>\n",
    "\n",
    "<h3>\n",
    "\n",
    "$$\n",
    "\\text{Progressões Geométricas (P.G.)}\n",
    "$$\n",
    "\n",
    "</h3>\n",
    "\n",
    "$$\n",
    "\\text{Prof. Eduardo Ono}\n",
    "\\\\[24pt]\n",
    "$$"
   ]
  },
  {
   "cell_type": "markdown",
   "metadata": {},
   "source": [
    "---"
   ]
  },
  {
   "cell_type": "markdown",
   "metadata": {},
   "source": [
    "__Sumário__<a id='toc0_'></a>    \n",
    "- 1. [Objetivos](#toc1_)    \n",
    "- 2. [Conceitos e Definições](#toc2_)    \n",
    "  - 2.1. [Definição. <sub><sup>(Progressão Geométrica)</sup></sub>](#toc2_1_)    \n",
    "- 3. [Teorema. <sub><sup>(Termo geral de uma P.G.)</sup></sub>](#toc3_)    \n",
    "  - 3.1. [Exemplos](#toc3_1_)    \n",
    "- 4. [Soma dos Termos de uma P.G.](#toc4_)    \n",
    "  - 4.1. [Vídeos de Apoio](#toc4_1_)    \n",
    "- 5. [Soma dos termos de uma P.G. infinita de razão $\\,|q| < 1\\,$](#toc5_)    \n",
    "\n",
    "<!-- vscode-jupyter-toc-config\n",
    "\tnumbering=true\n",
    "\tanchor=true\n",
    "\tflat=false\n",
    "\tminLevel=1\n",
    "\tmaxLevel=5\n",
    "\t/vscode-jupyter-toc-config -->\n",
    "<!-- THIS CELL WILL BE REPLACED ON TOC UPDATE. DO NOT WRITE YOUR TEXT IN THIS CELL -->"
   ]
  },
  {
   "cell_type": "markdown",
   "metadata": {},
   "source": [
    "---"
   ]
  },
  {
   "cell_type": "markdown",
   "metadata": {},
   "source": [
    "# 1. <a id='toc1_'></a>[Objetivos](#toc0_)\n",
    "\n",
    "- Conceituar a progressão geométrica;\n",
    "\n",
    "- Deduzir as fórmulas para o termo geral de uma P.G. e para a soma dos termos de uma P.G;\n",
    "\n",
    "- Aplicar os conceitos e fórmulas na resolução de problemas."
   ]
  },
  {
   "cell_type": "markdown",
   "metadata": {},
   "source": [
    "# 2. <a id='toc2_'></a>[Conceitos e Definições](#toc0_)"
   ]
  },
  {
   "cell_type": "markdown",
   "metadata": {},
   "source": [
    "## 2.1. <a id='toc2_1_'></a>[Definição. <sub><sup>(Progressão Geométrica)</sup></sub>](#toc0_)\n",
    "\n",
    "&emsp; &emsp; Sejam dados $a, q \\in \\mathbb{R} \\,$. Uma __progressão geométrica (P.G.)__ é uma sequência dada pela seguinte fórmula de recorrência:\n",
    "\n",
    "$$\n",
    "\\begin{cases}\n",
    "\\, a_1 = a \\\\\n",
    "\\, a_n = a_{n - 1} \\cdot q \\, , \\quad \\forall \\, n \\in \\mathbb{N} \\, , \\, n \\geq 2 \n",
    "\\end{cases}\n",
    "$$\n",
    "\n",
    "&emsp; &emsp; Assim sendo, uma P.G. é uma sequência em que cada termo, a partir do segundo, é o produto do anterior por uma constante $q$ dada.\n"
   ]
  },
  {
   "cell_type": "markdown",
   "metadata": {},
   "source": [
    "# 3. <a id='toc3_'></a>[Teorema. <sub><sup>(Termo geral de uma P.G.)</sup></sub>](#toc0_)\n",
    "\n",
    "&emsp; &emsp; Sejam $\\,a_n, q \\in \\mathbb{R} \\,$, onde $\\,q \\neq 0\\,$ é a razão de uma P.G. e o índice $\\, n \\in \\mathbb{N} \\,$. Então, $a_n$ (o _n_-ésimo termo da P.G.) é dado por:\n",
    "\n",
    "$$\n",
    "\\boxed{ \\ a_n =  a_1 \\cdot q^{n - 1} \\ }\n",
    "$$\n"
   ]
  },
  {
   "cell_type": "markdown",
   "metadata": {
    "slideshow": {
     "slide_type": "subslide"
    }
   },
   "source": [
    "&emsp; &emsp; __*Demonstração:*__\n",
    "\n",
    "&emsp; &emsp; Pela definição, temos:\n",
    "\n",
    "$$\n",
    "\\begin{align*}\n",
    "a_1 &= a_1 \\\\\n",
    "a_2 &= a_1 \\cdot q \\\\\n",
    "a_3 &= a_2 \\cdot q \\\\\n",
    "\\ldots &= \\ldots \\\\\n",
    "a_n &= a_{n - 1} \\cdot q\n",
    "\\end{align*}\n",
    "$$\n",
    "\n",
    "&emsp; &emsp; Multiplicando-se todos os termos à esquerda e também os à direita da igualdade, temos:\n",
    "\n",
    "$$\n",
    "\\begin{align*}\n",
    "a_1 \\cdot a_2 \\cdot a_3 \\cdot \\ldots \\cdot a_n &= a_1 \\cdot (a_1q) \\cdot (a_2q) \\cdot (a_3q) \\cdot \\ldots \\cdot (a_{n - 1} \\cdot q) \\\\\n",
    "a_1 \\cdot a_2 \\cdot a_3 \\cdot \\ldots \\cdot a_n &= a_1 \\cdot a_1 \\cdot a_2 \\cdot a_3 \\cdot \\ldots \\cdot a_{n - 1} \\cdot q^{n - 1} \\\\\n",
    "\\not{a_1} \\cdot \\not{a_2} \\cdot \\not{a_3} \\cdot \\ldots \\cdot a_n &= a_1 \\cdot \\not{a_1} \\cdot \\not{a_2} \\cdot \\not{a_3} \\cdot \\ldots \\cdot \\not{a_{n - 1}} \\cdot q^{n - 1} \\\\\n",
    "\\therefore \\quad a_n &= a_1 \\cdot q^{n - 1}\n",
    "\\end{align*}\n",
    "$$\n",
    "\n",
    "&nbsp;"
   ]
  },
  {
   "cell_type": "markdown",
   "metadata": {},
   "source": [
    "## 3.1. <a id='toc3_1_'></a>[Exemplos](#toc0_)"
   ]
  },
  {
   "cell_type": "markdown",
   "metadata": {},
   "source": [
    "Exemplo:\n",
    "\n",
    "&emsp; &emsp; Determine o décimo termo da sequência $\\,(1, 2, 4, 8, 16, 32, \\ldots )\\,$.\n",
    "\n",
    "&emsp; &emsp; A sequência dada é uma P.G. onde $\\,a_1 = 1\\,$ e $\\,q = 2\\,$. Então:\n",
    "\n",
    "$$\n",
    "a_n = a_1 \\cdot q^{n - 1} \\implies a_{10} = 1 \\cdot 2^9 \\implies a_{10} = 512\n",
    "$$"
   ]
  },
  {
   "cell_type": "markdown",
   "metadata": {},
   "source": [
    "# 4. <a id='toc4_'></a>[Soma dos Termos de uma P.G.](#toc0_)"
   ]
  },
  {
   "cell_type": "markdown",
   "metadata": {},
   "source": [
    "&emsp; &emsp; Seja $\\,S_n = a_1 + a_1q + a_1q^2 + a_1q^3 + \\ldots + a_1q^{n - 2} + a_1q^{n - 1}\\,$ a soma dos $n$ primeiros termos de uma P.G.\n",
    "\n",
    "&emsp; &emsp; Então, $S_n$ é dada por:\n",
    "\n",
    "$$\n",
    "\\boxed{\\ S_n = \\cfrac{a_1(q^n - 1)}{q - 1} \\ }\n",
    "$$"
   ]
  },
  {
   "cell_type": "markdown",
   "metadata": {},
   "source": [
    "&emsp; &emsp; __*Demonstração:*__\n",
    "\n",
    "$$\n",
    "\\begin{align*}\n",
    "S_n &= a_1 + a_2 + a_3 + \\ldots + a_{n - 1} + a_n \\\\\n",
    "S_n &= a_1 + a_1q + a_1q^2 + a_1q^3 + \\ldots + a_1q^{n - 2} + a_1q^{n - 1} \\\\\n",
    "q \\cdot S_n &= a_1q + a_1q^2 + a_1q^3 + \\ldots + a_1q^{n - 1} + a_1q^n \\\\\n",
    "q \\cdot S_n &= S_n - a_1 + a_1q^n \\\\\n",
    "q \\cdot S_n - S_n &= a_1q^n - a_1 \\\\\n",
    "S_n(q -1) &= a_1(q^n - 1) \\\\\n",
    "\\therefore \\quad S_n &= \\cfrac{a_1(q^n - 1)}{q - 1} \n",
    "\\end{align*}\n",
    "$$"
   ]
  },
  {
   "cell_type": "markdown",
   "metadata": {},
   "source": [
    "## 4.1. <a id='toc4_1_'></a>[Vídeos de Apoio](#toc0_)\n",
    "\n",
    "| Thumb | Descrição |\n",
    "| :-: | --- |\n",
    "| ![img](https://img.youtube.com/vi/gNJd_xPb5VY/default.jpg) | <sup>[Estude Matemática]</sup><br>[__Demonstração da soma dos n termos de uma P.G. (soma finita da progressão geométrica)__](https://www.youtube.com/watch?v=gNJd_xPb5VY)<br><sub>(13:39, YouTube, 10/Nov/2021)</sub> |\n"
   ]
  },
  {
   "cell_type": "markdown",
   "metadata": {},
   "source": [
    "# 5. <a id='toc5_'></a>[Soma dos termos de uma P.G. infinita de razão $\\,|q| < 1\\,$](#toc0_)"
   ]
  },
  {
   "cell_type": "markdown",
   "metadata": {},
   "source": [
    "&emsp; &emsp; Seja $\\, S = a_1 + a_1q + a_1q^2 + a_1q^3 + \\ldots \\,$ a soma de infinitos termos de uma P.G. onde $\\,|q| < 1\\,$. Então $S_n$ é dada por:\n",
    "\n",
    "$$\n",
    "\\boxed{\\ S = \\cfrac{a_1}{1 - q} \\ }\n",
    "$$"
   ]
  },
  {
   "cell_type": "markdown",
   "metadata": {},
   "source": [
    "Exemplo.\n",
    "\n",
    "&emsp; &emsp; Determine a soma da série $\\,1 + 0,1 + 0,01 + 0,001 + \\ldots \\,$.\n",
    "\n",
    "$$\n",
    "\\begin{align*}\n",
    "S &= 1 + 0,1 + 0,01 + 0,001 + \\ldots \\\\\n",
    "S &= 1 + \\cfrac{1}{10} + \\cfrac{1}{100} + \\cfrac{1}{1000} + \\ldots \\\\\n",
    "\\end{align*}\n",
    "$$\n",
    "\n",
    "&emsp; &emsp; Temos que $\\,a_1 = 1\\,$ e $\\,q = \\cfrac{1}{10}\\,$. Portanto:\n",
    "\n",
    "$$\n",
    "S = \\cfrac{1}{1 - \\frac{1}{10}} = \\cfrac{1}{\\frac{9}{10}} = \\cfrac{10}{9} \n",
    "$$"
   ]
  }
 ],
 "metadata": {
  "kernelspec": {
   "display_name": "base",
   "language": "python",
   "name": "python3"
  },
  "language_info": {
   "name": "python",
   "version": "3.12.1"
  }
 },
 "nbformat": 4,
 "nbformat_minor": 2
}
