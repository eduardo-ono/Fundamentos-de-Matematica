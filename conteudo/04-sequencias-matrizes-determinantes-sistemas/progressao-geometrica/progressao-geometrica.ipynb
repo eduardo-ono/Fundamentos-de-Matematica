{
 "cells": [
  {
   "cell_type": "markdown",
   "metadata": {},
   "source": [
    "<h1 align=\"center\">Progressão Geométrica (P.G.)</h1>\n",
    "\n",
    "<h4 align=\"center\">Prof. Eduardo Ono</h4>\n",
    "\n",
    "&nbsp;"
   ]
  },
  {
   "cell_type": "markdown",
   "metadata": {},
   "source": [
    "__DEFINIÇÃO.__ Sejam dados $a, q \\in \\mathbb{R} \\,$. Uma __progressão geométrica (P.G.)__ é uma sequência dada pela seguinte fórmula de recorrência:\n",
    "\n",
    "$$\n",
    "\\begin{cases}\n",
    "  a_1 = a \\\\\n",
    "  a_n = a_{n - 1} \\cdot q \\, , \\quad \\forall \\, n \\in \\mathbb{N} \\, , \\, n \\geq 2 \n",
    "\\end{cases}\n",
    "$$\n",
    "\n",
    "Assim sendo, uma P.G. é uma sequência em que cada termo, a partir do segundo, é o produto do anterior por uma constante $q$ dada.\n",
    "\n",
    "&nbsp;"
   ]
  },
  {
   "cell_type": "markdown",
   "metadata": {},
   "source": [
    "<hr>\n",
    "&nbsp; <strong>Teorema</strong> (Termo geral de uma P.G.)\n",
    "<hr>\n",
    "\n",
    "Sejam $a, q \\in \\mathbb{R} \\,$, com $q \\neq 0$ a razão de uma P.G. e o índice $\\, n \\in \\mathbb{N} \\,$. Então, temos que $a_n$, o _n_-ésimo termo da P.G., é dado por:\n",
    "\n",
    "$$\n",
    "\\boxed{ \\ a_n =  a_1 \\cdot q^{n - 1} \\ }\n",
    "$$\n",
    "\n",
    "_Demonstração._ Pela definição, temos que:\n",
    "\n",
    "$$\n",
    "\\begin{align*}\n",
    "a_1 &= a_1 \\\\\n",
    "a_2 &= a_1 \\cdot q \\\\\n",
    "a_3 &= a_2 \\cdot q \\\\\n",
    "\\ldots &= \\ldots \\\\\n",
    "a_n &= a_{n - 1} \\cdot q\n",
    "\\end{align*}\n",
    "$$\n",
    "\n",
    "Multiplicando-se todos os termos à esquerda e também os da direita da igualdade, temos que:\n",
    "\n",
    "$$\n",
    "\\begin{align*}\n",
    "a_1 \\cdot a_2 \\cdot a_3 \\cdot \\ldots \\cdot a_n &= a_1 \\cdot (a_1 \\cdot q) \\cdot (a_2 \\cdot q) \\cdot (a_3 \\cdot q) \\cdot \\ldots \\cdot (a_{n - 1} \\cdot q) \\\\\n",
    "a_1 \\cdot a_2 \\cdot a_3 \\cdot \\ldots \\cdot a_n &= a_1 \\cdot a_1 \\cdot a_2 \\cdot a_3 \\cdot \\ldots \\cdot a_{n - 1} \\cdot q^{n - 1} \\\\\n",
    "\\not{a_1} \\cdot \\not{a_2} \\cdot \\not{a_3} \\cdot \\ldots \\cdot a_n &= a_1 \\cdot \\not{a_1} \\cdot \\not{a_2} \\cdot \\not{a_3} \\cdot \\ldots \\cdot \\not{a_{n - 1}} \\cdot q^{n - 1} \\\\\n",
    "a_n &= a_1 \\cdot q^{n - 1}\n",
    "\\end{align*}\n",
    "$$\n",
    "\n",
    "&nbsp;"
   ]
  },
  {
   "cell_type": "markdown",
   "metadata": {},
   "source": []
  },
  {
   "cell_type": "markdown",
   "metadata": {},
   "source": []
  },
  {
   "cell_type": "markdown",
   "metadata": {},
   "source": []
  }
 ],
 "metadata": {
  "kernelspec": {
   "display_name": "base",
   "language": "python",
   "name": "python3"
  },
  "language_info": {
   "name": "python",
   "version": "3.12.1"
  }
 },
 "nbformat": 4,
 "nbformat_minor": 2
}
