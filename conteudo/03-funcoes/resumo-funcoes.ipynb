{
 "cells": [
  {
   "cell_type": "markdown",
   "id": "f878da38",
   "metadata": {},
   "source": [
    "<sup>Fundamentos de Matemática</sup>\n",
    "<img alt=\"\" width=\"100%\" height=\"2px\" align=\"right\">\n",
    "\n",
    "&nbsp;\n",
    "\n",
    "<h1 align=\"center\">Resumo - Funções</h1>\n",
    "<h4 align=\"center\">Prof. Eduardo Ono</h4>\n",
    "<h6 align=\"center\">Atualizado em: 21/05/2025</h6>\n",
    "\n",
    "&nbsp;"
   ]
  },
  {
   "cell_type": "markdown",
   "id": "0defbc5a",
   "metadata": {},
   "source": [
    "# Função Quadrática\n",
    "\n",
    "| Conceito | Dedução | Forma final |\n",
    "| --- | --- | :-: |\n",
    "| Função | Def. | $f(x) = ax^2 + bx + c\\,, \\quad a \\neq 0$ |\n",
    "| Zeros | $ax^2 + bx + c = 0$<br>Se $a \\neq 0,$<br>$4a(ax^2 + bx + c) = 0$<br>$4a^2x^2 + 4abx + 4ac = 0$<br>$4a^2x^2 + 4abx + b^2 + 4ac = b^2$<br>$(2ax + b)^2 = b^2 - 4ac$<br>$2ax + b = \\pm \\sqrt{b^2 - 4ac}$ | $x = \\cfrac{-b \\pm \\sqrt{b^2 - 4ac}}{2a}$ |\n",
    "| Soma e produto | $x_1 + x_2 = \\frac{-b + \\sqrt{\\Delta} - b - \\sqrt{\\Delta}}{2a}$<br>$x_1 \\cdot x_2 = \\big(\\frac{-b + \\sqrt{\\Delta}}{2a}\\big)\\big(\\frac{-b - \\sqrt{\\Delta}}{2a}\\big)$<br>$\\qquad\\quad = \\big(\\frac{b^2 - \\sqrt{\\Delta}^2}{4a^2}\\big) = \\big(\\frac{b^2 - b^2 + 4ac}{4a^2}\\big)$ | $x_1 + x_2 = \\cfrac{-b}{a}$<br>$x_1 \\cdot x_2 = \\cfrac{c}{a}$ |\n",
    "| Forma fatorada | $f(x) = ax^2 + bx + c, \\quad a \\neq 0$<br>$\\qquad = a\\left(x^2 + \\frac{bx}{a} + \\frac{c}{a}\\right) = $<br>$\\qquad = a\\left[x^2 - \\left(\\frac{-b}{a}\\right)x + \\frac{c}{a}\\right] = $<br>$\\qquad a\\left(x^2 - (x_1 + x_2)x + x_1 \\cdot x_2\\right) = $<br>$\\qquad = a\\left(x(x - x_1) - x_2(x - x_1)\\right) = $<br>$\\qquad = a\\left(x^2 - x_1x - xx_2 + x_1x_2\\right) =$<br>$\\qquad = a(x - x_1)(x - x_2)$ | $f(x) = a(x - x_1)(x - x_2)$ |"
   ]
  }
 ],
 "metadata": {
  "kernelspec": {
   "display_name": "base",
   "language": "python",
   "name": "python3"
  },
  "language_info": {
   "name": "python",
   "version": "3.12.1"
  }
 },
 "nbformat": 4,
 "nbformat_minor": 5
}
