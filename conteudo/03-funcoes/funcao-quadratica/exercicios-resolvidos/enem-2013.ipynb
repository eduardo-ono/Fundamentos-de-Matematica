{
 "cells": [
  {
   "cell_type": "markdown",
   "id": "e2bb856b",
   "metadata": {},
   "source": [
    "ENEM-2013. &nbsp; A parte interior de uma taça foi gerada pela rotação de uma parábola em torno de um eixo $z$, conforme mostra a figura.\n",
    "\n",
    "A função real que expressa a parábola, no plano cartesiano da figura, é dada pela lei:\n",
    "\n",
    "Função que expressa parábola da taça no plano cartesiano\n",
    "\n",
    "onde C é a medida da altura do líquido contido na taça, em centímetros. Sabe-se que o ponto V, na figura, representa o vértice da parábola, localizado sobre o eixo x. Nessas condições, a altura do líquido contido na taça, em centímetros, é\n",
    "\n",
    "A) 1.<br>\n",
    "B) 2.<br>\n",
    "C) 4.<br>\n",
    "D) 5.<br>\n",
    "E) 6.<br>"
   ]
  }
 ],
 "metadata": {
  "kernelspec": {
   "display_name": "base",
   "language": "python",
   "name": "python3"
  },
  "language_info": {
   "name": "python",
   "version": "3.12.1"
  }
 },
 "nbformat": 4,
 "nbformat_minor": 5
}
