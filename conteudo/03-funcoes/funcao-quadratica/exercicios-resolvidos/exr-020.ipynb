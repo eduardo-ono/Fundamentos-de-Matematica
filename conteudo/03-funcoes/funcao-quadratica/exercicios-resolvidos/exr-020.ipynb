{
 "cells": [
  {
   "cell_type": "markdown",
   "id": "4508a96a",
   "metadata": {},
   "source": [
    "EXR 20. &nbsp; Determine os zeros da função quadrática $\\,f: \\mathbb{R} \\longrightarrow \\mathbb{R}\\,$ definida por $\\,f(x) = x^2 - 6x + 9\\,$."
   ]
  }
 ],
 "metadata": {
  "kernelspec": {
   "display_name": "base",
   "language": "python",
   "name": "python3"
  },
  "language_info": {
   "name": "python",
   "version": "3.12.1"
  }
 },
 "nbformat": 4,
 "nbformat_minor": 5
}
