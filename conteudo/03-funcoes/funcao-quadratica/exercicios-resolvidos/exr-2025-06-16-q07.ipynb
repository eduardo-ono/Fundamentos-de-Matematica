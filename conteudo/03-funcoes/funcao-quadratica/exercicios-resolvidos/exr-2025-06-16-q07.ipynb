{
 "cells": [
  {
   "cell_type": "markdown",
   "id": "f42bdd3c",
   "metadata": {},
   "source": [
    "__exr-2025-06-16-q07__. &nbsp; Simplificando a expressão algébrica $\\cfrac{x^3 - 9xy^2}{x^2 - 6xy + 9y^2}$, obtemos como expressão equivalente:\n",
    "\n",
    "a)&nbsp; $\\cfrac{x + 3y}{x - 3y}$<br><br>\n",
    "b)&nbsp; $\\cfrac{x - 3y}{x + 3y}$<br><br>\n",
    "c)&nbsp; $\\cfrac{x(x - 3y)}{x + 3y}$<br><br>\n",
    "d)&nbsp; $\\cfrac{x(x + 3y)}{x - 3y}$<br><br>"
   ]
  },
  {
   "cell_type": "markdown",
   "id": "b5cfa9e4",
   "metadata": {},
   "source": [
    "__RESOLUÇÃO__.\n",
    "\n",
    "$$\n",
    "\\begin{align*}\n",
    "\\cfrac{x^3 - 9xy^2}{x^2 - 6xy + 9y^2} & = \\cfrac{x(x^2 - 9y^2)}{(x - 3y)^2} = \\\\[14pt]\n",
    "= \\cfrac{x\\left[x^2 - (3y)^2\\right]}{(x - 3y)^2} & = \\cfrac{x(x - 3y)(x + 3y)}{(x - 3y)^2} = \\\\[14pt]\n",
    "= \\cfrac{x(x + 3y)}{x - 3y}\n",
    "\\end{align*}\n",
    "$$\n",
    "\n",
    "&emsp; Resp. d)\n"
   ]
  },
  {
   "cell_type": "markdown",
   "id": "1902c57e",
   "metadata": {},
   "source": [
    "__REFERÊNCIAS__.\n",
    "\n",
    "| Thumb | Descrição |\n",
    "| :-: | --- |\n",
    "| ![img](https://img.youtube.com/vi/z2NqsRwOhyk/default.jpg) | <sup>[Cesar Annunciato - Teorema Militar]</sup><br>[__ULTIMATO EPCAR - 1° Dia - MATEMÁTICA \\| Prof. Cesar Annunciato__](https://www.youtube.com/watch?v=z2NqsRwOhyk&t=3458)<br><sub>(2:42:32, YouTube, 16/Jun/2025)</sub> |\n"
   ]
  }
 ],
 "metadata": {
  "kernelspec": {
   "display_name": "base",
   "language": "python",
   "name": "python3"
  },
  "language_info": {
   "name": "python",
   "version": "3.12.1"
  }
 },
 "nbformat": 4,
 "nbformat_minor": 5
}
