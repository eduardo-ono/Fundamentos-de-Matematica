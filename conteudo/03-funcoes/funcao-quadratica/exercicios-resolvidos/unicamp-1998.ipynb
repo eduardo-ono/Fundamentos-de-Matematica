{
 "cells": [
  {
   "cell_type": "markdown",
   "id": "05bc2f82",
   "metadata": {},
   "source": [
    "__Unicamp-1998__. &nbsp;\n",
    "\n",
    "a) Qual o valor de $\\lambda$ na equação: $\\,z^3 - 5z^2 + 8z -\\lambda = 0\\,$ de modo que $\\,z = 3\\,$ seja uma raiz dessa equação?\n",
    "\n",
    "b) Para esse valor de $\\lambda$, ache as três raizes $z_1$, $z_2$ e $z_3$ dessa equação."
   ]
  }
 ],
 "metadata": {
  "kernelspec": {
   "display_name": "base",
   "language": "python",
   "name": "python3"
  },
  "language_info": {
   "name": "python",
   "version": "3.12.1"
  }
 },
 "nbformat": 4,
 "nbformat_minor": 5
}
