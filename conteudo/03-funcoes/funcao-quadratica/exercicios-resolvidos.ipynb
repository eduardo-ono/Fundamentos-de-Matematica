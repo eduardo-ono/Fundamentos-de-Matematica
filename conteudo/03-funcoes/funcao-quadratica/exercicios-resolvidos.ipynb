{
 "cells": [
  {
   "cell_type": "markdown",
   "id": "c6121f67",
   "metadata": {},
   "source": [
    "<sup>Fundamentos de Matemática</sup>\n",
    "<img alt=\"\" width=\"100%\" height=\"2px\" align=\"right\">\n",
    "\n",
    "&nbsp;\n",
    "\n",
    "<h1 align=\"center\">Exercícios Resolvidos - Funções Quadráticas</h1>\n",
    "<h4 align=\"center\">Prof. Eduardo Ono</h4>\n",
    "<h6 align=\"center\">Atualizado em: 19/04/2025</h6>\n",
    "\n",
    "&nbsp;"
   ]
  },
  {
   "cell_type": "markdown",
   "id": "89e95ff9",
   "metadata": {},
   "source": [
    "\n",
    "* [exr-001](./exercicios-resolvidos/exr-001.ipynb): &nbsp; $x^2 - 4x = 0$\n"
   ]
  },
  {
   "cell_type": "markdown",
   "id": "ab0324bd",
   "metadata": {},
   "source": [
    "* __Unicamp-1998__. &nbsp; a) Qual o valor de $\\lambda$ na equação: $\\,z^3 - 5z^2 + 8z -\\lambda = 0\\,$ de modo que $\\,z = 3\\,$ seja uma raiz dessa equação? b) Para esse valor de $\\lambda$, ache as três raizes $z_1$, $z_2$ e $z_3$ dessa equação."
   ]
  }
 ],
 "metadata": {
  "kernelspec": {
   "display_name": "base",
   "language": "python",
   "name": "python3"
  },
  "language_info": {
   "name": "python",
   "version": "3.12.1"
  }
 },
 "nbformat": 4,
 "nbformat_minor": 5
}
