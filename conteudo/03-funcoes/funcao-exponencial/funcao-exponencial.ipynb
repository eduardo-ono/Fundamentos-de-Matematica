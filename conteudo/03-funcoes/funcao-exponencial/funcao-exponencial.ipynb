{
 "cells": [
  {
   "cell_type": "markdown",
   "metadata": {},
   "source": []
  },
  {
   "cell_type": "markdown",
   "metadata": {},
   "source": [
    "$$\n",
    "\\begin{align*}\n",
    "f : \\mathbb{R} & \\longrightarrow \\mathbb{R}_+^* \\\\\n",
    "x & \\longmapsto b^x\n",
    "\\end{align*}\n",
    "$$"
   ]
  },
  {
   "cell_type": "markdown",
   "metadata": {},
   "source": [
    "## Propriedades"
   ]
  },
  {
   "cell_type": "markdown",
   "metadata": {},
   "source": [
    "$$\n",
    "\\begin{align*}\n",
    "\\text[P1] \\quad & x = 0 \\implies f(0) = b^0 = 1; \\quad b \\in \\mathbb{R}_+^*, \\ b \\neq 1  \\\\[10pt]\n",
    "\\text[P2] \\quad & f(x) \\text{ é crescente} \\iff b > 1 \\\\[8pt]\n",
    "& f(x) \\text{ é decrescente} \\iff 0 < b < 1 \\\\[10pt]\n",
    "\\text[P3] \\quad & f(x) = b^x, \\ 0 < b \\neq 1, \\text{ é injetiva, pois dados } x_1 \\text{ e } x_2 \\ (x_1 \\neq x_2), x_1 < x_2, \\text{ temos:} \\\\[8pt]\n",
    "& \\text{i)} \\quad b > 1 \\implies f(x_1) < f(x_2) \\\\[8pt]\n",
    "& \\text{ii)} \\quad 0 < b < 1 \\implies f(x_1) > f(x_2) \\\\[8pt]\n",
    "& \\text{Nos dois casos, } f(x_1) \\neq f(x_2).\n",
    "\\end{align*}\n",
    "$$"
   ]
  }
 ],
 "metadata": {
  "kernelspec": {
   "display_name": "base",
   "language": "python",
   "name": "python3"
  },
  "language_info": {
   "name": "python",
   "version": "3.12.1"
  }
 },
 "nbformat": 4,
 "nbformat_minor": 2
}
