{
 "cells": [
  {
   "cell_type": "markdown",
   "id": "b56a0a7d",
   "metadata": {},
   "source": [
    "<sup>Fundamentos de Matemática</sup>\n",
    "<img alt=\"\" width=\"100%\" height=\"2px\" align=\"right\">\n",
    "\n",
    "&nbsp;\n",
    "\n",
    "<h1 align=\"center\">Exercícios Resolvidos - Funções Quadráticas</h1>\n",
    "<h4 align=\"center\">Prof. Eduardo Ono</h4>\n",
    "<h6 align=\"center\">Atualizado em: 19/04/2025</h6>\n",
    "\n",
    "&nbsp;\n",
    "\n",
    "__EXERCÍCIO 001__. &nbsp; Resolva e equação $\\,x^2 - 3x = 0\\,$.\n",
    "\n",
    "$$\n",
    "\\begin{align*}\n",
    "x^2 - 3x & = 0 \\\\\n",
    "\\text{Colocando o $x$ em evidência:} \\\\\n",
    "x(x - 3) & = 0 \\qquad \\\\\n",
    "x = 0 \\quad & \\text{ou} \\quad x - 3 = 0 \\\\\n",
    "\\therefore\\quad \\boxed{x = 0} \\quad & \\text{ou} \\quad \\boxed{x = 3}\n",
    "\\end{align*}\n",
    "$$"
   ]
  }
 ],
 "metadata": {
  "kernelspec": {
   "display_name": "base",
   "language": "python",
   "name": "python3"
  },
  "language_info": {
   "name": "python",
   "version": "3.12.1"
  }
 },
 "nbformat": 4,
 "nbformat_minor": 5
}
