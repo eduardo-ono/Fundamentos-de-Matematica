{
 "cells": [
  {
   "cell_type": "code",
   "execution_count": 1,
   "metadata": {},
   "outputs": [],
   "source": [
    "import os\n",
    "import sys\n",
    "sys.path.insert(0, os.path.abspath(os.path.join('../../py_modules/')))\n",
    "\n",
    "import numpy as np\n",
    "import matplotlib.pyplot as plt\n",
    "\n",
    "plt.rcParams['figure.figsize'] = [4, 3]\n",
    "import function_plots as fnplt"
   ]
  },
  {
   "cell_type": "markdown",
   "metadata": {},
   "source": [
    "$$ \\large \\text{-----\\{ Módulo 1 \\}-----} $$\n",
    "$$ \\large \\textbf{Conjuntos e Funções} $$\n",
    "$$ \\large \\text{------------} $$\n",
    "$$ \\LARGE \\text{Capítulo 7} $$\n",
    "$$ \\LARGE \\text{Funções Quadráticas} $$\n"
   ]
  },
  {
   "cell_type": "markdown",
   "metadata": {},
   "source": [
    "**Sumário**<a id='toc0_'></a>    \n",
    "- 1. [Conceitos](#toc1_)    \n",
    "  - 1.1. [Definição (Função Quadrática)](#toc1_1_)    \n",
    "  - 1.2. [Zeros da Função Quadrática](#toc1_2_)    \n",
    "    - 1.2.1. [Exemplo: $\\, f(x) = x^2 - 3x + 2 \\,$](#toc1_2_1_)    \n",
    "    - 1.2.2. [Exemplo: $\\, f(x) = x^2 - 6x + 9 \\,$](#toc1_2_2_)    \n",
    "\n",
    "<!-- vscode-jupyter-toc-config\n",
    "\tnumbering=true\n",
    "\tanchor=true\n",
    "\tflat=false\n",
    "\tminLevel=1\n",
    "\tmaxLevel=5\n",
    "\t/vscode-jupyter-toc-config -->\n",
    "<!-- THIS CELL WILL BE REPLACED ON TOC UPDATE. DO NOT WRITE YOUR TEXT IN THIS CELL -->"
   ]
  },
  {
   "cell_type": "markdown",
   "metadata": {},
   "source": [
    "# 1. <a id='toc1_'></a>[Conceitos](#toc0_)"
   ]
  },
  {
   "cell_type": "markdown",
   "metadata": {},
   "source": [
    "## 1.1. <a id='toc1_1_'></a>[Definição (Função Quadrática)](#toc0_)\n",
    "\n",
    "&emsp; Uma aplicação $\\, f: I \\to \\mathbb{R} \\,$ recebe o nome de __função quadrática__ ou  __função polinomial do 2º grau__ quando associa a todo $\\, x \\in I \\,$ o elemento $\\, (ax^2 + bx + c) \\in \\mathbb{R} \\,$, onde $a$, $b$ e $c$ são números reais dados e $\\, a \\neq 0\\,$.\n",
    "\n",
    "$$\n",
    "\\begin{align*}\n",
    "f: I & \\longrightarrow \\mathbb{R} \\\\\n",
    "x & \\longmapsto ax^2 + bx + c\n",
    "\\end{align*}\n",
    "$$\n",
    "\n",
    "&emsp; Normalmente, a função quadrática é escrita como:\n",
    "\n",
    "$$\n",
    "f(x) = ax^2 + bx + c\n",
    "$$"
   ]
  },
  {
   "cell_type": "markdown",
   "metadata": {},
   "source": [
    "## 1.2. <a id='toc1_2_'></a>[Zeros da Função Quadrática](#toc0_)\n",
    "\n",
    "&emsp; &emsp; Os zeros da função quadrática são os valores $\\, x \\in \\mathbb{R} \\,$ tais que $\\, f(x) = 0 \\,$, ou seja, $\\, ax^2 + bx + c = 0 \\,$, com $\\, a, b, c \\in \\mathbb{R}\\,$ e $\\, a \\neq 0 \\,$.\n",
    "\n",
    "&emsp; &emsp; Os zeros de $f$ podem ser obtidos pela fórmula de \"Bhaskara\":\n",
    "\n",
    "$$ x = \\cfrac{-b \\pm \\sqrt{b^2 - 4ac}}{2a} $$"
   ]
  },
  {
   "cell_type": "markdown",
   "metadata": {},
   "source": [
    "__*Rascunho*__:\n",
    "\n",
    "$$ x = \\cfrac{-b \\pm \\sqrt{b^2 - 4ac}}{2a} \\implies 2ax = -b \\pm \\sqrt{b^2 - 4ac} \\implies $$\n",
    "$$ \\implies 2ax + b = \\pm \\sqrt{b^2 - 4ac} \\implies (2ax + b)^2 = b^2 - 4ac \\implies $$\n",
    "$$ \\implies 4a^2x^2 + 4axb + b^2 + 4ac = b^2 \\implies 4a(ax^2 + bx + c) = 0 \\implies$$\n",
    "$$ \\text{Como } \\, a \\neq 0 \\, \\text{, então } \\, ax^2 + bx_k + c = 0 \\,. $$"
   ]
  },
  {
   "cell_type": "markdown",
   "metadata": {},
   "source": [
    "__*Demonstração*__.\n",
    "\n",
    "$$ ax^2 + bx + c = 0 $$\n",
    "$$ \\text{Multiplicando ambos os lados da igualdade por } 4a \\text{:} $$\n",
    "$$ 4a^2x^2 +4abx + 4ac = 0 $$\n",
    "$$ \\text{Somando } b^2 \\text{ em cada lado da igualdade:} $$\n",
    "$$ 4a^2x^2 + 4abx + 4ac + b^2 = b^2 \\implies 4a^2x^2 + 4abx + b^2 = b^2 - 4ac \\implies $$\n",
    "$$ (2ax + b)^2 = b^2 - 4ac \\implies 2ax + b = \\pm \\sqrt{b^2 - 4ac} $$\n",
    "$$ 2ax = -b \\pm \\sqrt{b^2 - 4ac} \\implies $$\n",
    "$$ x = \\cfrac{-b \\pm \\sqrt{b^2 - 4ac}}{2a} $$"
   ]
  },
  {
   "cell_type": "markdown",
   "metadata": {},
   "source": [
    "### 1.2.1. <a id='toc1_2_1_'></a>[Exemplo: $\\, f(x) = x^2 - 3x + 2 \\,$](#toc0_)\n",
    "\n",
    "&emsp; &emsp; Seja $\\, f : \\mathbb{R} \\to \\mathbb{R} \\,$ uma função definida por $\\, f(x) = x^2 - 3x + 2 \\,$. Então, $\\, a = 1 \\,$, $\\, b = -3 \\,$ e $\\, c = 2 \\,$.\n",
    "\n",
    "&emsp; &emsp; Os zeros da função $f$ são dados por:\n",
    "\n",
    "$$ x = \\frac{-(-3) \\pm \\sqrt{(-3)^2 - 4 \\cdot 1 \\cdot 2}}{2 \\cdot 1} = \\frac{3 \\pm \\sqrt{9 - 8}}{2} = \\frac{3 \\pm \\sqrt{1}}{2} = \\frac{3 \\pm 1}{2} $$\n",
    "$$ x_1 = \\frac{3 + 1}{2} = \\frac{4}{2} = 2 $$\n",
    "$$ x_2 = \\frac{3 - 1}{2} = \\frac{2}{2} = 1 $$"
   ]
  },
  {
   "cell_type": "code",
   "execution_count": 12,
   "metadata": {},
   "outputs": [
    {
     "data": {
      "image/png": "[encoded data removed]",
      "text/plain": [
       "<Figure size 400x300 with 1 Axes>"
      ]
     },
     "metadata": {},
     "output_type": "display_data"
    }
   ],
   "source": [
    "a = 1\n",
    "b = -3\n",
    "c = 2\n",
    "x_coords = []\n",
    "y_coords = []\n",
    "\n",
    "for x in np.arange(0, 3.1, 0.1):\n",
    "    y = a*x**2 + b*x + c\n",
    "    x_coords.append(x)\n",
    "    y_coords.append(y)\n",
    "\n",
    "fig = plt.figure()\n",
    "ax = fig.add_subplot(111)\n",
    "# Especifica o intervalo do eixo y\n",
    "plt.ylim([-1, 3])\n",
    "# Desenha o eixo x (y = 0)\n",
    "fnplt.plotFunction(x_coords, y_coords, fig, ax)"
   ]
  },
  {
   "cell_type": "markdown",
   "metadata": {},
   "source": [
    "### 1.2.2. <a id='toc1_2_2_'></a>[Exemplo: $\\, f(x) = x^2 - 6x + 9 \\,$](#toc0_)\n",
    "\n",
    "&emsp; &emsp; Seja $\\, f : \\mathbb{R} \\to \\mathbb{R} \\,$ a função definida por $\\, f(x) = x^2 - 6x + 9 \\,$. Então, $\\, a = 1 \\,$, $\\, b = -6 \\,$ e $\\, c = 9 \\,$.\n",
    "\n",
    "&emsp; &emsp; Os zeros da função $f$ são dados por:\n",
    "\n",
    "$$ \\Delta = b^2 - 4ac = (-6)^2 - 4 \\cdot 1 \\cdot 9 = 36 - 36 = 0 $$\n",
    "$$ x = \\frac{-b \\pm \\sqrt{\\Delta}}{2a} = \\frac{-(-6) \\pm \\sqrt{0}}{2 \\cdot 1} = \\frac{6 \\pm 0}{2} = \\frac{6}{2} = 3$$\n",
    "$$ \\therefore \\quad x_1 = x_2 = 3 $$"
   ]
  },
  {
   "cell_type": "code",
   "execution_count": 10,
   "metadata": {},
   "outputs": [
    {
     "data": {
      "image/png": "[encoded data removed]",
      "text/plain": [
       "<Figure size 400x300 with 1 Axes>"
      ]
     },
     "metadata": {},
     "output_type": "display_data"
    }
   ],
   "source": [
    "a = 1\n",
    "b = -6\n",
    "c = 9\n",
    "x_range = [1.0, 5.0]\n",
    "y_range = [-0.5, 3.0]\n",
    "x_coords = []\n",
    "y_coords = []\n",
    "\n",
    "for x in np.arange(x_range[0], x_range[1], 0.1):\n",
    "    y = a*x**2 + b*x + c\n",
    "    x_coords.append(x)\n",
    "    y_coords.append(y)\n",
    "\n",
    "fig = plt.figure()\n",
    "ax = fig.add_subplot(111)\n",
    "# Especifica o intervalo do eixo y\n",
    "plt.ylim(y_range)\n",
    "# Desenha o eixo x (y = 0)\n",
    "fnplt.plotFunction(x_coords, y_coords, fig, ax)"
   ]
  },
  {
   "cell_type": "markdown",
   "metadata": {},
   "source": [
    "## Soma e Produto dos Zeros"
   ]
  },
  {
   "cell_type": "markdown",
   "metadata": {},
   "source": [
    "$$\n",
    "S = x_1 + x_2 = -\\frac{b}{a}\n",
    "$$\n",
    "\n",
    "&nbsp;\n",
    "\n",
    "$$\n",
    "P = x_1 \\cdot x_2 = \\frac{c}{a}\n",
    "$$"
   ]
  },
  {
   "cell_type": "markdown",
   "metadata": {},
   "source": [
    "## Forma Fatorada da Função Quadrática"
   ]
  },
  {
   "cell_type": "markdown",
   "metadata": {},
   "source": [
    "\n",
    "&emsp; Sejam $x_1$ e $x_2$ zeros da função quadrática $f(x) = ax^2 + bx + c$. Então, $f(x_1) = f(x_2) = 0$.\n",
    "\n",
    "$$\n",
    "\\begin{align*}\n",
    "ax^2 + bx + c & = ax^2 + bx + c - 0 \\\\[10pt]\n",
    "& = ax^2 + bx + c - (ax_1^2 + bx_1 + c) \\\\[10pt]\n",
    "& = ax^2 + bx + c - ax_1^2 - bx_1 - c \\\\[10pt]\n",
    "& = a(x^2 - x_1^2) + b(x - x_1) \\\\[10pt]\n",
    "& = a(x - x_1)(x + x_1) + b(x - x_1 ) \\\\[10pt]\n",
    "& = (x - x_1)[a(x + x_1) + b] \\\\[10pt]\n",
    "& = (x - x_1) \\left[a\\left(x + x_1 + \\frac{b}{a}\\right)\\right] \\\\[10pt]\n",
    "\n",
    "\\text{Como } x_1 + x_2 = -\\frac{b}{a}, \\text{temos:} \\\\[10pt]\n",
    "x_1 + \\frac{b}{a} = -x_2 \\\\[10pt]\n",
    "\n",
    "\\text{Então,} \\\\[10pt]\n",
    "(x - x_1) \\left[a\\left(x + x_1 + \\frac{b}{a}\\right)\\right] & = (x - x_1) \\left[a\\left(x - x_2\\right)\\right] \\\\[10pt]\n",
    "& = \\boxed{\\, a(x - x_1)(x - x_2) \\,}\\,.\n",
    "\n",
    "\n",
    "\\end{align*}\n",
    "$$"
   ]
  },
  {
   "cell_type": "markdown",
   "metadata": {},
   "source": [
    "## Referências\n",
    "\n",
    "| Thumb | Descrição |\n",
    "| :-: | --- |\n",
    "| ![img](https://img.youtube.com/vi/Yt3bbaUFsT0/default.jpg) | <sup>[PROFMAT]</sup><br>[__Funções Quadráticas 1__](https://www.youtube.com/watch?v=Yt3bbaUFsT0)<br><sub>(48:08, YouTube, 08/Abr/2015)</sub> |"
   ]
  }
 ],
 "metadata": {
  "authors": [
   {
    "name": "Prof. Eduardo Ono"
   }
  ],
  "kernelspec": {
   "display_name": "base",
   "language": "python",
   "name": "python3"
  },
  "language_info": {
   "codemirror_mode": {
    "name": "ipython",
    "version": 3
   },
   "file_extension": ".py",
   "mimetype": "text/x-python",
   "name": "python",
   "nbconvert_exporter": "python",
   "pygments_lexer": "ipython3",
   "version": "3.12.1"
  },
  "title": "---{Módulo 1}---\fConjuntos e Funções\f-----"
 },
 "nbformat": 4,
 "nbformat_minor": 2
}
