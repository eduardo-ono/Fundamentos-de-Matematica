{
 "cells": [
  {
   "cell_type": "markdown",
   "id": "809a59c8",
   "metadata": {},
   "source": [
    "<sup>Fundamentos de Matemática</sup>\n",
    "<img alt=\"\" width=\"100%\" height=\"2px\" align=\"right\">\n",
    "\n",
    "&nbsp;\n",
    "\n",
    "<h1 align=\"center\">Função Afim</h1>\n",
    "<h4 align=\"center\">Prof. Eduardo Ono</h4>\n",
    "<h6 align=\"center\">Atualizado em: 26/04/2025</h6>"
   ]
  },
  {
   "cell_type": "markdown",
   "id": "0d641ba9",
   "metadata": {},
   "source": [
    "# Conceituação"
   ]
  },
  {
   "cell_type": "markdown",
   "id": "ccf3dcf6",
   "metadata": {},
   "source": [
    "__DEFINIÇÃO__. &nbsp; Uma função $f: \\mathbb{R} \\longrightarrow \\mathbb{R}$ chama-se __*função afim*__ quando existem constantes $a, b \\in \\mathbb{R}$ tais que\n",
    "\n",
    "$$\n",
    "f(x) = ax + b\n",
    "$$\n"
   ]
  }
 ],
 "metadata": {
  "kernelspec": {
   "display_name": "base",
   "language": "python",
   "name": "python3"
  },
  "language_info": {
   "name": "python",
   "version": "3.12.1"
  }
 },
 "nbformat": 4,
 "nbformat_minor": 5
}
