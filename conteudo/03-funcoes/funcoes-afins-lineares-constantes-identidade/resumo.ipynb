{
 "cells": [
  {
   "cell_type": "markdown",
   "metadata": {},
   "source": [
    "<sup>Fundamentos de Matemática</sup>\n",
    "<img alt=\"\" width=\"100%\" height=\"2px\" align=\"right\">\n",
    "\n",
    "&nbsp;\n",
    "\n",
    "<h1 align=\"center\">funcoes-afins-lineares-constantes-identidade</h1>\n",
    "<h4 align=\"center\">Prof. Eduardo Ono</h4>\n",
    "<h6 align=\"center\">Atualizado em: 10/01/2025</h6>\n",
    "\n",
    "&nbsp;\n",
    "\n",
    "| Função | Expressão | $\\text{Im}(f)$ |\n",
    "| --- | --- | :-: |\n",
    "| Afim | $f(x) = ax + b, \\ a \\neq 0$ | $\\R$ |\n",
    "| Linear | $f(x) = ax,\\ a \\neq 0$ | $\\R$ |\n",
    "| Constante | $f(x) = c$ | ${c}$ |\n",
    "| Identidade | $f(x) = x$ | $\\R$ |\n",
    "\n",
    "&nbsp;\n"
   ]
  }
 ],
 "metadata": {
  "language_info": {
   "name": "python"
  }
 },
 "nbformat": 4,
 "nbformat_minor": 2
}
