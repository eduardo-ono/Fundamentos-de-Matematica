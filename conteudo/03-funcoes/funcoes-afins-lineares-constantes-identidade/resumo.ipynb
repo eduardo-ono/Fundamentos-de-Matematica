{
 "cells": [
  {
   "cell_type": "markdown",
   "metadata": {},
   "source": [
    "<sup>Fundamentos de Matemática</sup>\n",
    "<img alt=\"\" width=\"100%\" height=\"2px\" align=\"right\">\n",
    "\n",
    "&nbsp;\n",
    "\n",
    "<h1 align=\"center\">funcoes-afins-lineares-constantes-identidade</h1>\n",
    "<h4 align=\"center\">Prof. Eduardo Ono</h4>\n",
    "<h6 align=\"center\">Atualizado em: 10/01/2025</h6>\n",
    "\n",
    "&nbsp;\n",
    "\n",
    "| Função | Expressão | $\\text{Im}(f)$ |\n",
    "| --- | --- | :-: |\n",
    "| Afim | $f(x) = ax + b, \\ a \\neq 0$ | $\\R$ |\n",
    "| Linear | $f(x) = ax,\\ a \\neq 0$ | $\\R$ |\n",
    "| Constante | $f(x) = c$ | ${c}$ |\n",
    "| Identidade | $f(x) = x$ | $\\R$ |\n",
    "\n",
    "&nbsp;\n"
   ]
  },
  {
   "cell_type": "markdown",
   "metadata": {},
   "source": [
    "| Thumb | Descrição |\n",
    "| :-: | --- |\n",
    "| ![img](https://img.youtube.com/vi/G5-A8P_CbOo/default.jpg) | <sup>[Instituto de Matemática Pura e Aplicada]</sup><br>[__PAPMEM - Julho de 2007 - Função Exponencial e Logaritmos__](https://www.youtube.com/watch?v=G5-A8P_CbOo)<br><sub>(1:13:32, YouTube, 02/Mai/2018)</sub> |"
   ]
  }
 ],
 "metadata": {
  "language_info": {
   "name": "python"
  }
 },
 "nbformat": 4,
 "nbformat_minor": 2
}
