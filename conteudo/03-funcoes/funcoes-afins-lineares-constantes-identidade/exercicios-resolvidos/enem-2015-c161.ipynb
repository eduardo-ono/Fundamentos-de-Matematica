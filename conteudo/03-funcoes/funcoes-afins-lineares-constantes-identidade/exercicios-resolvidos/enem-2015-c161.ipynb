{
 "cells": [
  {
   "cell_type": "markdown",
   "id": "12643200",
   "metadata": {},
   "source": [
    "__ENEM-2015-c161__. &nbsp; Uma padaria vende, em média, 100 pães especiais por dia e arrecada com essas vendas, em média, R$ 300,00. Constatou-se que a quantidade de pães especiais vendidos diariamente aumenta, caso o preço seja reduzido, de acordo com a equação\n",
    "\n",
    "$$\n",
    "q = 400 - 100p\n",
    "$$\n",
    " \n",
    "na qual $q$ representa a quantidade de pães especiais vendidos diariamente e $p$, o seu preço em reais.\n",
    "\n",
    "&emsp; A fim de aumentar o fluxo de clientes, o gerente da padaria decidiu fazer uma promoção. Para tanto,\n",
    "modificará o preço do pão especial de modo que a quantidade a ser vendida diariamente seja a maior possível, sem diminuir a média de arrecadação diária na venda desse produto.\n",
    "\n",
    "&emsp; O preço $p$, em reais, do pão especial nessa promoção deverá estar no intervalo\n",
    "\n",
    "A)&nbsp; $\\text{R\\$ } 0,50 \\leq p < \\text{R\\$ } 1,50$<br>\n",
    "B)&nbsp; $\\text{R\\$ } 1,50 \\leq p < \\text{R\\$ } 2,50$<br>\n",
    "C)&nbsp; $\\text{R\\$ } 2,50 \\leq p < \\text{R\\$ } 3,50$<br>\n",
    "D)&nbsp; $\\text{R\\$ } 3,50 \\leq p < \\text{R\\$ } 4,50$<br>\n",
    "E)&nbsp; $\\text{R\\$ } 4,50 \\leq p < \\text{R\\$ } 5,50$<br>\n"
   ]
  }
 ],
 "metadata": {
  "kernelspec": {
   "display_name": "base",
   "language": "python",
   "name": "python3"
  },
  "language_info": {
   "name": "python",
   "version": "3.12.1"
  }
 },
 "nbformat": 4,
 "nbformat_minor": 5
}
