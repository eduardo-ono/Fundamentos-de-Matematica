{
 "cells": [
  {
   "cell_type": "markdown",
   "id": "1bc67cee",
   "metadata": {},
   "source": [
    "__ENEM-2024-v161__. &nbsp; Uma empresa produz mochilas escolares sob encomenda. Essa empresa tem um custo total de produção, composto por um custo fixo, que não depende do número de mochilas, mais um custo variável, que é proporcional ao número de mochilas produzidas. O custo total cresce de forma linear, e a tabela apresenta esse custo para três quantidades de mochilas produzidas.\n",
    "\n",
    "| Quantidade de<br>mochilas | 30 | 50 | 100 |\n",
    "| :-: | :-: | :-: | :-: |\n",
    "| Custo total (R$) | $1\\,050,00$ | $1\\,650,00$ | $3\\,150,00$ |\n",
    "\n",
    "&emsp; O custo total, em real, para a produção de 80 mochilas será\n",
    "\n",
    "A) &nbsp; $2\\,400,00$.<br>\n",
    "B) &nbsp; $2\\,520,00$.<br>\n",
    "C) &nbsp; $2\\,550,00$. &check;<br>\n",
    "D) &nbsp; $2\\,700,00$.<br>\n",
    "E) &nbsp; $2\\,800,00$.<br>\n"
   ]
  },
  {
   "cell_type": "markdown",
   "id": "87ef0b5c",
   "metadata": {},
   "source": [
    "__RESOLUÇÃO__.\n",
    "\n",
    "&emsp; O custo total pode ser representado por uma função $\\,f: \\mathbb{R}_+ \\longrightarrow \\mathbb{R}\\,$ dada por $\\,f(x) = ax + b\\,$ (função afim), onde $ax$ é o custo variável (dependente do número de mochilas produzidas) e $b$ é o custo fixo.\n",
    "\n",
    "$$\n",
    "a = \\cfrac{\\Delta y}{\\Delta x} = \\cfrac{1650 - 1050}{50 - 30} = \\cfrac{600}{20} = 30.\n",
    "$$\n",
    "\n",
    "$$\n",
    "b = y - ax = 1050 - 30 \\cdot 30 = 1050 - 900 = 150\n",
    "$$\n",
    "\n",
    "&emsp; Portanto,\n",
    "\n",
    "$$\n",
    "\\begin{equation*}\n",
    "f(x) = 30x + 150 \\implies \\\\\n",
    "f(80) = 30 \\cdot 80 + 150 = 2400 + 150 = 2\\,550,00\n",
    "\\end{equation*}\n",
    "$$\n",
    "\n",
    "\\begin{split}\n",
    "\\ x \\ + \\ y \\ & = \\ 810 \\\\\n",
    "\\ mdc(x, y) \\ & = \\ 4 \\\\\n",
    "\\end{split}\n",
    "\n",
    "\n",
    "&emsp; Resp.: C)"
   ]
  }
 ],
 "metadata": {
  "kernelspec": {
   "display_name": "base",
   "language": "python",
   "name": "python3"
  },
  "language_info": {
   "name": "python",
   "version": "3.12.1"
  }
 },
 "nbformat": 4,
 "nbformat_minor": 5
}
