{
 "cells": [
  {
   "cell_type": "markdown",
   "id": "13a82225",
   "metadata": {},
   "source": [
    " __UPE-2021-3a-fase-1o-dia-q20__. &nbsp; Durante a manutenção do site de uma loja de eletrodomésticos, os preços de todos os produtos receberam, indevidamente, um aumento de $\\,a\\,\\%$. Após ser informado do problema, o gerente programou o sistema para que os preços dos produtos, após sofrerem um desconto de $\\,d\\,\\%$, retornem aos seus valores originais. Qual é a expressão que representa o valor $d$ em função de $a$?\n",
    "\n",
    "A)&nbsp; $a$<br><br>\n",
    "B)&nbsp; $\\cfrac{100}{a}$<br><br>\n",
    "C)&nbsp; $\\cfrac{100}{100 + a}$<br><br>\n",
    "D)&nbsp; $\\cfrac{100a}{100 + a}$ &nbsp;&check;<br><br>\n",
    "E)&nbsp; $\\cfrac{100 + a}{a}$<br>\n",
    "\n",
    "&nbsp;"
   ]
  },
  {
   "cell_type": "markdown",
   "id": "937d6d3b",
   "metadata": {},
   "source": [
    "__REFERÊNCIAS__\n",
    "\n",
    "\n",
    "| Thumb | Descrição |\n",
    "| :-: | --- |\n",
    "| ![img](https://img.youtube.com/vi/PYTWjZAilTA/default.jpg) | <sup>[Aprendendo Geral]</sup><br>[__SSA 03 - Questão 20 - UPE/2021 - Matemática__](https://www.youtube.com/watch?v=PYTWjZAilTA)<br><sub>(8:17, YouTube, 10/Fev/2021)</sub> |\n",
    "| ![img](https://img.youtube.com/vi/DMizj3QQurk/default.jpg) | <sup>[Kenji Chung \\| Curso de Matemática]</sup><br>[__87 - Durante a manutenção do site de uma loja de eletrodomésticos, os preços de todos os produtos...__](https://www.youtube.com/watch?v=DMizj3QQurk)<br><sub>(5:44, YouTube, 07/Jun/2021)</sub> |\n"
   ]
  }
 ],
 "metadata": {
  "kernelspec": {
   "display_name": "base",
   "language": "python",
   "name": "python3"
  },
  "language_info": {
   "name": "python",
   "version": "3.12.1"
  }
 },
 "nbformat": 4,
 "nbformat_minor": 5
}
