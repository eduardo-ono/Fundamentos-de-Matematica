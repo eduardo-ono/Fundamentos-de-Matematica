{
 "cells": [
  {
   "cell_type": "markdown",
   "id": "f262552a",
   "metadata": {},
   "source": [
    "__ENEM-2024-v158__. &nbsp; Uma doceira vende e entrega, em seu bairro, porções de 100 g de docinhos de aniversário. Atualmente, a taxa única de entrega é R$ 10,00, e o valor cobrado por uma porção é R$ 25,00. Por uma estratégia de vendas, a partir da próxima semana, a taxa única de entrega será R$ 15,00, e um novo valor será cobrado por uma porção, de maneira que o valor total a ser pago por um cliente na compra de 5 porções permaneça o mesmo.\n",
    "\n",
    "&emsp; A partir da próxima semana, qual será o novo valor cobrado, em real, por uma porção?\n",
    "\n",
    "A) &nbsp; 12,50<br>\n",
    "B) &nbsp; 20,00<br>\n",
    "C) &nbsp; 24,00 &check;<br>\n",
    "D) &nbsp; 30,00<br>\n",
    "E) &nbsp; 37,50"
   ]
  },
  {
   "cell_type": "markdown",
   "id": "5a9198eb",
   "metadata": {},
   "source": [
    "__RESOLUÇÃO__:\n",
    "\n",
    "&emsp; Valor total atual:\n",
    "\n",
    "$$\n",
    "f(x) = 10 + 25x\n",
    "$$\n",
    "\n",
    "&emsp; Novo valor total:\n",
    "\n",
    "$$\n",
    "g(x) = 15 + ax\n",
    "$$\n",
    "\n",
    "&emsp; Como $\\,g(5) = f(5)\\,$,\n",
    "\n",
    "$$\n",
    "\\begin{align*}\n",
    "15 + a \\cdot 5 & = 10 + 25 \\cdot 5 \\\\\n",
    "& = 10 + 125 \\\\\n",
    "& = 135 \\\\\n",
    "\\implies a \\cdot 5 & = 135 - 15 \\\\\n",
    "a & = \\cfrac{120}{5} \\\\\n",
    "\\therefore\\quad a & = 24\n",
    "\\end{align*}\n",
    "$$\n",
    "\n",
    "&emsp; Resp.: C)"
   ]
  }
 ],
 "metadata": {
  "kernelspec": {
   "display_name": "base",
   "language": "python",
   "name": "python3"
  },
  "language_info": {
   "name": "python",
   "version": "3.12.1"
  }
 },
 "nbformat": 4,
 "nbformat_minor": 5
}
