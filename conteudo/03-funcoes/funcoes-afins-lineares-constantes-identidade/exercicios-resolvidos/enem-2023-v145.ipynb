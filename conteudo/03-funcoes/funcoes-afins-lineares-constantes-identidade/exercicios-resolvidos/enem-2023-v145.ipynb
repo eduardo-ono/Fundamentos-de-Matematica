{
 "cells": [
  {
   "cell_type": "markdown",
   "id": "4c62dc0f",
   "metadata": {},
   "source": [
    "__ENEM-2023-v145__. &nbsp; Para concretar a laje de sua residência, uma pessoa contratou uma construtora. Tal empresa informa que o preço $y$ do concreto bombeado é composto de duas partes: uma fixa, chamada de taxa de bombeamento, e uma variável, que depende do volume $x$ de concreto utilizado. Sabe-se que a taxa de bombeamento custa $\\,\\text{R\\$ 500,00}\\,$ e que o metro cúbico do concreto bombeado é de $\\text{R\\$ 250,00}$.\n",
    "\n",
    "&emsp; A expressão que representa o preço $y$ em função do volume $x$, em metro cúbico, é\n",
    "\n",
    "A) $\\ y = 250\\,x$<br>\n",
    "B) $\\ y = 500\\,x$<br>\n",
    "C) $\\ y = 750\\,x$<br>\n",
    "D) $\\ y = 250\\,x + 500$ &check;<br>\n",
    "E) $\\ y = 500\\,x + 250$<br>\n",
    "\n",
    "&nbsp;\n"
   ]
  },
  {
   "cell_type": "markdown",
   "id": "c77cb333",
   "metadata": {},
   "source": [
    "__REFERÊNCIAS__\n",
    "\n",
    "* <https://download.inep.gov.br/enem/provas_e_gabaritos/2023_PV_impresso_D2_CD12.pdf#page19>"
   ]
  }
 ],
 "metadata": {
  "kernelspec": {
   "display_name": "base",
   "language": "python",
   "name": "python3"
  },
  "language_info": {
   "name": "python",
   "version": "3.12.1"
  }
 },
 "nbformat": 4,
 "nbformat_minor": 5
}
