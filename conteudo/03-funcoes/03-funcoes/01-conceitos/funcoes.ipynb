{
 "cells": [
  {
   "cell_type": "markdown",
   "metadata": {},
   "source": [
    "<sup>Fundamentos de Matemática</sup>\n",
    "<img alt=\"\" width=\"100%\" height=\"2px\" align=\"right\">\n",
    "\n",
    "&nbsp;\n",
    "\n",
    "<h1 align=\"center\">Funções</h1>\n",
    "<h4 align=\"center\">Prof. Eduardo Ono</h4>\n",
    "<h6 align=\"center\">Atualizado em: 31/03/2025</h6>"
   ]
  },
  {
   "cell_type": "markdown",
   "metadata": {},
   "source": [
    "__Sumário__<a id='toc0_'></a>    \n",
    "- 1. [Conceituação](#toc1_)    \n",
    "  - 1.1. [Função](#toc1_1_)    \n",
    "    - 1.1.1. [Vídeos de Apoio](#toc1_1_1_)    \n",
    "    - 1.1.2. [Função Injetora](#toc1_1_2_)    \n",
    "    - 1.1.3. [Função Sobrejetora](#toc1_1_3_)    \n",
    "    - 1.1.4. [Função Bijetora](#toc1_1_4_)    \n",
    "- 2. [Curiosidades](#toc2_)    \n",
    "\n",
    "<!-- vscode-jupyter-toc-config\n",
    "\tnumbering=true\n",
    "\tanchor=true\n",
    "\tflat=false\n",
    "\tminLevel=1\n",
    "\tmaxLevel=5\n",
    "\t/vscode-jupyter-toc-config -->\n",
    "<!-- THIS CELL WILL BE REPLACED ON TOC UPDATE. DO NOT WRITE YOUR TEXT IN THIS CELL -->"
   ]
  },
  {
   "cell_type": "markdown",
   "metadata": {},
   "source": [
    "# 1. <a id='toc1_'></a>[Conceituação](#toc0_)"
   ]
  },
  {
   "cell_type": "markdown",
   "metadata": {},
   "source": [
    "## 1.1. <a id='toc1_1_'></a>[Função](#toc0_)\n",
    "\n",
    "__DEFINIÇÃO__. &nbsp; Dados dois conjuntos $A$ e $B$ não vazios, uma __*função*__ $\\, f:A \\to B \\,$ é uma relação onde cada elemento de $A$ está associado a um único elemento do conjunto $B$.\n",
    "\n",
    "$$\n",
    "f \\text{ é uma função de $A$ em $B$ } \\iff \\forall\\ x \\in A \\ \\ \\exists\\ y \\in B \\mid (x, y) \\in f.\n",
    "$$"
   ]
  },
  {
   "cell_type": "markdown",
   "metadata": {},
   "source": [
    "<h3>Vídeos de Apoio</h3>\n",
    "\n",
    "| Thumb | Descrição |\n",
    "| :-: | --- |\n",
    "| ![img](https://img.youtube.com/vi/AOwjBs8u0Tk/default.jpg) | <sup>[Ponto Matemático]</sup><br>[__O que é função \\| Ponto Matemático__](https://www.youtube.com/watch?v=AOwjBs8u0Tk)<br><sub>(13:50, YouTube, 29/Jun/2024)</sub> |"
   ]
  },
  {
   "cell_type": "markdown",
   "metadata": {},
   "source": [
    "### 1.1.2. <a id='toc1_1_2_'></a>[Função Injetora](#toc0_)\n",
    "\n",
    "__DEFINIÇÃO__. &nbsp; Uma função $f$ de $A$ em $B$ é chamada __*injetora*__ se, e somente se, quaisquer $x$ e $x'$ de $A$, se $x \\neq x'$, então $f(x) \\neq f(x')$:\n",
    "\n",
    "$$\n",
    "\\begin{align*}\n",
    "& f : A \\longrightarrow B \\\\\n",
    "f \\text{ é injetora} \\quad \\iff \\quad & (\\forall \\ x, \\, x' \\in A) \\quad x \\neq x' \\implies f(x ) \\neq f(x')\n",
    "\\end{align*}\n",
    "$$\n",
    "\n",
    "&emsp; Em lugar de dizermos \"$f$ é uma função injetora de $A$ em $B$\", poderemos também dizer \"$f$ é uma injeção de $A$ em $B$\"."
   ]
  },
  {
   "cell_type": "markdown",
   "metadata": {},
   "source": [
    "### 1.1.3. <a id='toc1_1_3_'></a>[Função Sobrejetora](#toc0_)\n",
    "\n",
    "__DEFINIÇÃO__. &nbsp; Uma função $f$ de $A$ em $B$ é __*sobrejetora*__ se, e somente se, para todo $y$ pertencente a $B$ existe um elemento $x$ pertencente a $A$ tal que $f(x) = y$:\n",
    "\n",
    "$$\n",
    "\\begin{align*}\n",
    "& f : A \\longrightarrow B \\\\\n",
    "f \\text{ é sobrejetora} \\quad \\iff \\quad & (\\forall \\ y \\in B) \\quad \\exists\\ x \\in A \\mid f(x) = y\n",
    "\\end{align*}\n",
    "$$\n",
    "\n",
    "&emsp; Notemos que $\\,f: A \\longrightarrow B\\,$ é sobrejetora se, e somente se, $\\,Im(f) = B\\,$.\n",
    "\n",
    "&emsp; Em lugar de dizermos \"$f$ é uma função sobrejetora de $A$ em $B$\", poderemos também dizer \"$f$ é uma sobrejeção de $A$ em $B$\"."
   ]
  },
  {
   "cell_type": "markdown",
   "metadata": {},
   "source": [
    "### 1.1.4. <a id='toc1_1_4_'></a>[Função Bijetora](#toc0_)\n",
    "\n",
    "__DEFINIÇÃO__. &nbsp; Uma função $f$ de $A$ em $B$ é __*bijetora*__ se, e somente se, $f$ é injetora e sobrejetora:\n",
    "\n",
    "$$\n",
    "\\begin{align*}\n",
    "& f : A \\longrightarrow B \\\\\n",
    "f \\text{ é bijetora} \\quad \\iff \\quad & f \\text{ é injetora e sobrejetora}\n",
    "\\end{align*}\n",
    "$$\n",
    "\n",
    "&emsp; Em lugar de dizermos \"$f$ é uma função bijetora de $A$ em $B$\", poderemos também dizer \"$f$ é uma bijeção de $A$ em $B$\"."
   ]
  },
  {
   "cell_type": "markdown",
   "metadata": {},
   "source": [
    "# 2. <a id='toc2_'></a>[Curiosidades](#toc0_)\n",
    "\n",
    "| Thumb | Descrição |\n",
    "| :-: | --- |\n",
    "| ![img](https://img.youtube.com/vi/Jf_ic34F8P0/default.jpg) | <sup>[Toda a Matemática]</sup><br>[__CURIOSIDADES - 57 - Conjuntos numéricos__](https://www.youtube.com/watch?v=Jf_ic34F8P0)<br><sub>(13:24, YouTube, 08/Jul/2023)</sub> |"
   ]
  }
 ],
 "metadata": {
  "kernelspec": {
   "display_name": "base",
   "language": "python",
   "name": "python3"
  },
  "language_info": {
   "name": "python",
   "version": "3.12.1"
  }
 },
 "nbformat": 4,
 "nbformat_minor": 2
}
