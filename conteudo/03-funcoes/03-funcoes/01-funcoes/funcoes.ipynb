{
 "cells": [
  {
   "cell_type": "markdown",
   "metadata": {},
   "source": [
    "<sup>Fundamentos de Matemática</sup>\n",
    "<img alt=\"\" width=\"100%\" height=\"2px\" align=\"right\">\n",
    "\n",
    "&nbsp;\n",
    "\n",
    "<h1 align=\"center\">Funções</h1>\n",
    "<h4 align=\"center\">Prof. Eduardo Ono</h4>\n",
    "<h6 align=\"center\">Atualizado em: 31/03/2025</h6>"
   ]
  },
  {
   "cell_type": "markdown",
   "metadata": {},
   "source": [
    "# Conceituação"
   ]
  },
  {
   "cell_type": "markdown",
   "metadata": {},
   "source": [
    "---\n",
    "\n",
    "__DEFINIÇÃO__. (Função)\n",
    "\n",
    "&emsp; Dados dois conjuntos $A$ e $B$ não vazios, uma __*função*__ $\\, f:A \\to B \\,$ é uma relação onde cada elemento de $A$ está associado a um único elemento do conjunto $B$.\n",
    "\n",
    "$$\n",
    "f \\text{ é uma função de $A$ em $B$ } \\iff \\forall\\ x \\in A \\ \\exists \\ y \\in B \\mid (x, y) \\in f.\n",
    "$$\n",
    "\n",
    "---"
   ]
  }
 ],
 "metadata": {
  "kernelspec": {
   "display_name": "base",
   "language": "python",
   "name": "python3"
  },
  "language_info": {
   "name": "python",
   "version": "3.12.1"
  }
 },
 "nbformat": 4,
 "nbformat_minor": 2
}
