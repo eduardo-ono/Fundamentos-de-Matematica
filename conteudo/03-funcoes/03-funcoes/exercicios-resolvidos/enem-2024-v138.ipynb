{
 "cells": [
  {
   "cell_type": "markdown",
   "id": "d9ca3a28",
   "metadata": {},
   "source": [
    "__ENEM-2024-v138__. &nbsp; O uso de aplicativos de transporte tem sido uma alternativa à população que busca preços mais competitivos para se locomover, principalmente nas grandes cidades. As formas usadas para determinar o valor cobrado por cada viagem variam de um aplicativo para outro, mas, em geral, o valor $V$ a ser pago, em real, varia em função de:\n",
    "\n",
    "* tarifa base $F$: valor fixo, em real, cobrado no início da viagem;\n",
    "\n",
    "* tempo $T$: tempo, em minuto, de duração da viagem;\n",
    "\n",
    "* distância $D$: distância percorrida, em quilômetro.\n",
    "\n",
    "&emsp; Um desses aplicativos cobra $\\text{R\\$ 2,00}$ de valor fixo, acrescido de $\\text{R\\$ 0,26}$ por minuto de viagem e de $\\text{R\\$ 1,40}$ por quilômetro rodado. Nessas condições, a expressão que fornece o valor $V$ a ser pago por uma viagem desse aplicativo é\n",
    "\n",
    "A) &nbsp; $2,00F + 0,26T + 1,40D$<br>\n",
    "B) &nbsp; $2,00 + 0,26T + 1,40D$ &nbsp;&check;<br>\n",
    "C) &nbsp; $2,00 + 0,26T + D$<br>\n",
    "D) &nbsp; $0,26T + 1,40D$<br>\n",
    "E) &nbsp; $F + T + D$"
   ]
  },
  {
   "cell_type": "markdown",
   "id": "2447dbe9",
   "metadata": {},
   "source": [
    "### Referências\n",
    "\n",
    "| Thumb | Descrição |\n",
    "| :-: | --- |\n",
    "| ![img](https://img.youtube.com/vi/72WQYDLRZOA/default.jpg) | <sup>[Gis com Giz Matemática]</sup><br>[__ENEM - EXPRESSÃO ALGÉBRICA - QUESTÃO 138 PROVA VERDE 2024 MATEMÁTICA__](https://www.youtube.com/watch?v=72WQYDLRZOA)<br><sub>(7:32, YouTube, 18/Dez/2024)</sub> |\n",
    "| ![img](https://img.youtube.com/vi/apzIVEc-26I/default.jpg) | <sup>[Equaciona Com Paulo Pereira]</sup><br>[__GABARITO ENEM 2024 MATEMÁTICA - AS 17 MAIS FÁCEIS__](https://www.youtube.com/watch?v=apzIVEc-26I&t=528s)<br><sub>(1:44:06, YouTube, 10/Nov/2024)</sub> |\n"
   ]
  }
 ],
 "metadata": {
  "kernelspec": {
   "display_name": "base",
   "language": "python",
   "name": "python3"
  },
  "language_info": {
   "name": "python",
   "version": "3.12.1"
  }
 },
 "nbformat": 4,
 "nbformat_minor": 5
}
