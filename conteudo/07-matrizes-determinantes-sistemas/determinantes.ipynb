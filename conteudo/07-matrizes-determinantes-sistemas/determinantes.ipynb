{
 "cells": [
  {
   "cell_type": "markdown",
   "metadata": {},
   "source": [
    "<sup>Fundamentos de Matemática</sup>\n",
    "<img alt=\"\" width=\"100%\" height=\"2px\" align=\"right\">\n",
    "\n",
    "&nbsp;\n",
    "\n",
    "<h1 align=\"center\">Determinantes</h1>\n",
    "<h4 align=\"center\">Prof. Eduardo Ono</h4>\n",
    "<h6 align=\"center\">Atualizado em: 09/02/2025</h6>\n",
    "\n",
    "&nbsp;\n",
    "\n",
    "## Vídeos de Apoio\n",
    "\n",
    "| Thumb | Descrição |\n",
    "| :-: | --- |\n",
    "| ![img](https://img.youtube.com/vi/xaqjLQKDSBI/default.jpg) | <sup>[Professor Possani]</sup><br>[__O que é Determinante__](https://www.youtube.com/watch?v=xaqjLQKDSBI)<br><sub>(19:05, YouTube, 03/Nov/2024)</sub> |\n",
    "\n",
    "&nbsp;"
   ]
  }
 ],
 "metadata": {
  "language_info": {
   "name": "python"
  }
 },
 "nbformat": 4,
 "nbformat_minor": 2
}
