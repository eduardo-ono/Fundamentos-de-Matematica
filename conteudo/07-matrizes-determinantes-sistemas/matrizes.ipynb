{
 "cells": [
  {
   "cell_type": "markdown",
   "metadata": {},
   "source": [
    "## Conceitos e Definições"
   ]
  },
  {
   "cell_type": "markdown",
   "metadata": {},
   "source": [
    "Chama-se __*matriz*__ $m$ por $n$, com $m, n \\in \\N$, a toda tabela $M$ formada por números reais distribuídos em $m$ linhas e $n$ colunas.\n",
    "\n",
    "Cada elemento de um matriz M é indicado por a_{ij}, onde $i, j \\in \\N$ são os índices do elemento, que indicam a posição do elemento na matriz. O índice $i$ indica a linha e o índice $j$ indica a coluna às quais o elemento pertence."
   ]
  },
  {
   "cell_type": "markdown",
   "metadata": {},
   "source": [
    "### Representação de matrizes"
   ]
  },
  {
   "cell_type": "markdown",
   "metadata": {},
   "source": [
    "$$\n",
    "...\n",
    "$$"
   ]
  },
  {
   "cell_type": "markdown",
   "metadata": {},
   "source": [
    "ds"
   ]
  }
 ],
 "metadata": {
  "language_info": {
   "name": "python"
  }
 },
 "nbformat": 4,
 "nbformat_minor": 2
}
