{
 "cells": [
  {
   "cell_type": "markdown",
   "metadata": {},
   "source": [
    "---\n",
    "\n",
    "$$\n",
    "\\textrm{\\LARGE Capítulo 1}\n",
    "$$\n",
    "\n",
    "$$\n",
    "\\text{\\LARGE Análise Combinatória}\n",
    "$$\n",
    "\n",
    "&nbsp;"
   ]
  },
  {
   "cell_type": "markdown",
   "metadata": {},
   "source": [
    "**Sumário**<a id='toc0_'></a>    \n",
    "- 1. [Capítulo 1. Análise Combinatória](#toc1_)    \n",
    "  - 1.1. [Introdução](#toc1_1_)    \n",
    "  - 1.2. [Princípio Fundamental da Contagem](#toc1_2_)    \n",
    "    - 1.2.1. [LEMA](#toc1_2_1_)    \n",
    "    - 1.2.2. [LEMA](#toc1_2_2_)    \n",
    "  - 1.3. [Arranjos](#toc1_3_)    \n",
    "  - 1.4. [Combinações](#toc1_4_)    \n",
    "  - 1.5. [Permutações](#toc1_5_)    \n",
    "\n",
    "<!-- vscode-jupyter-toc-config\n",
    "\tnumbering=true\n",
    "\tanchor=true\n",
    "\tflat=false\n",
    "\tminLevel=1\n",
    "\tmaxLevel=5\n",
    "\t/vscode-jupyter-toc-config -->\n",
    "<!-- THIS CELL WILL BE REPLACED ON TOC UPDATE. DO NOT WRITE YOUR TEXT IN THIS CELL -->"
   ]
  },
  {
   "cell_type": "markdown",
   "metadata": {},
   "source": [
    "%%latex\n",
    "\\newpage"
   ]
  },
  {
   "cell_type": "markdown",
   "metadata": {},
   "source": [
    "---\n",
    "\n",
    "# 1. <a id='toc1_'></a>[Capítulo 1. Análise Combinatória](#toc0_)\n",
    "\n",
    "---\n",
    "\n",
    "&nbsp;"
   ]
  },
  {
   "cell_type": "markdown",
   "metadata": {},
   "source": [
    "&nbsp;\n",
    "\n",
    "---\n",
    "\n",
    "## 1.1. <a id='toc1_1_'></a>[Introdução](#toc0_)\n",
    "\n",
    "&nbsp;"
   ]
  },
  {
   "cell_type": "markdown",
   "metadata": {},
   "source": []
  },
  {
   "cell_type": "markdown",
   "metadata": {},
   "source": [
    "&nbsp;\n",
    "\n",
    "---\n",
    "\n",
    "## 1.2. <a id='toc1_2_'></a>[Princípio Fundamental da Contagem](#toc0_)\n",
    "\n",
    "&nbsp;"
   ]
  },
  {
   "cell_type": "markdown",
   "metadata": {},
   "source": [
    "&emsp; &emsp; O __Princípio Fundamental da Contagem__ pode ser dividido em duas partes:\n",
    "\n",
    "I. Com repetição\n",
    "\n",
    "&nbsp;\n",
    "\n",
    "### 1.2.1. <a id='toc1_2_1_'></a>[LEMA](#toc0_)\n",
    "\n",
    "&emsp; &emsp; Consideremos os conjuntos $\\, A = \\{ a_1, a_2, \\ldots, a_m \\} \\,$ e $\\, B = \\{ b_1, b_2, \\ldots, b_n \\} \\, $ com $\\, m, n \\in \\N \\,$. Podemos formar $\\, m \\cdot n \\,$ pares ordenados $\\, (a_i, b_j) \\,$ tais que $\\, a_i \\in A \\,$ e $\\, b_j \\in B \\,$.\n",
    "\n",
    "__Demonstração__:\n",
    "\n",
    "&emsp; &emsp; Podemos dispor os pares ordenados na forma de uma tabela, fixando em cada linha o primeiro elemento do par ordenado e variando o segundo elemento:\n",
    "\n",
    "| | | | | |\n",
    "| :-: | :-: | :-: | :-: | :-: |\n",
    "| $(a_1, b_1)$ | $(a_1, b_2)$ | $(a_1, b_3)$ | $\\cdots$ | $(a_1, b_n)$ |\n",
    "| $(a_2, b_1)$ | $(a_2, b_2)$ | $(a_2, b_3)$ | $\\cdots$ | $(a_2, b_n)$ |\n",
    "| $\\vdots$ | $\\vdots$ | $\\vdots$ | | $\\vdots$ |\n",
    "| $(a_m, b_1)$ | $(a_m, b_2)$ | $(a_m, b_3)$ | $\\cdots$ | $(a_m, b_n)$ |\n",
    "\n",
    "&emsp; &emsp; Nessa tabela, temos a composição de $m$ linhas e $n$ colunas, totalizando $\\, m \\cdot n \\,$ pares ordenados.\n",
    "\n",
    "&nbsp;\n",
    "\n",
    "---\n",
    "\n",
    "II. Sem repetição\n",
    "\n",
    "&nbsp;"
   ]
  },
  {
   "cell_type": "markdown",
   "metadata": {},
   "source": [
    "&nbsp;\n",
    "\n",
    "### 1.2.2. <a id='toc1_2_2_'></a>[LEMA](#toc0_)\n",
    "\n",
    "&emsp; &emsp; Consideremos o conjunto $\\, A = \\{ a_1, a_2, \\ldots, a_m \\} \\,$ com $\\, m \\in \\N \\,$. Podemos formar $\\, m \\cdot (m - 1) \\,$ pares ordenados $\\, (a_i, a_j) \\,$ tais que $\\, a_i, a_j \\in A \\,$ e $\\, a_i \\neq a_j \\,$.\n",
    "\n",
    "__Demonstração__:\n",
    "\n",
    "&emsp; &emsp; Podemos dispor os pares ordenados na forma de uma tabela, mantendo fixo em cada linha o primeiro elemento do par ordenado, variando o segundo elemento e eliminado os elementos inválidos:\n",
    "\n",
    "| | | | | |\n",
    "| :-: | :-: | :-: | :-: | :-: |\n",
    "| $\\cancel{(a_1, a_1)}$ | $(a_1, a_2)$ | $(a_1, a_3)$ | $\\cdots$ | $(a_1, a_m)$ |\n",
    "| $(a_2, a_1)$ | $(\\cancel{a_2, a_2})$ | $(a_2, a_3)$ | $\\cdots$ | $(a_2, a_m)$ |\n",
    "| $\\vdots$ | $\\vdots$ | $\\vdots$ | | $\\vdots$ |\n",
    "| $(a_m, a_1)$ | $(a_m, a_2)$ | $(a_m, a_3)$ | $\\cdots$ | $(\\cancel{a_m, a_m})$ |\n",
    "\n",
    "&emsp; &emsp; Nessa tabela, temos a composição de $m$ linhas e, como foi descartado um par ordenado em cada linha, temos o equivalente a $\\, m - 1 \\,$ colunas, totalizando $\\, m \\cdot (m - 1) \\,$ pares ordenados.\n",
    "\n",
    "&nbsp;"
   ]
  },
  {
   "cell_type": "markdown",
   "metadata": {},
   "source": [
    "## Princípio Multiplicativo"
   ]
  },
  {
   "cell_type": "markdown",
   "metadata": {},
   "source": [
    "\n",
    "###\n",
    "\n",
    "sdcasdcsd"
   ]
  },
  {
   "cell_type": "markdown",
   "metadata": {},
   "source": [
    "&nbsp;\n",
    "\n",
    "---\n",
    "\n",
    "## 1.3. <a id='toc1_3_'></a>[Arranjos](#toc0_)\n",
    "\n",
    "&nbsp;"
   ]
  },
  {
   "cell_type": "code",
   "execution_count": 1,
   "metadata": {},
   "outputs": [
    {
     "name": "stdout",
     "output_type": "stream",
     "text": [
      "2\n"
     ]
    }
   ],
   "source": [
    "# teste\n",
    "a = 1 + 1\n",
    "print(a)"
   ]
  },
  {
   "cell_type": "markdown",
   "metadata": {},
   "source": []
  },
  {
   "cell_type": "markdown",
   "metadata": {},
   "source": [
    "&nbsp;\n",
    "\n",
    "---\n",
    "\n",
    "## 1.4. <a id='toc1_4_'></a>[Combinações](#toc0_)\n",
    "\n",
    "&nbsp;"
   ]
  },
  {
   "cell_type": "markdown",
   "metadata": {},
   "source": [
    "&nbsp;\n",
    "\n",
    "---\n",
    "\n",
    "## 1.5. <a id='toc1_5_'></a>[Permutações](#toc0_)\n",
    "\n",
    "&nbsp;"
   ]
  },
  {
   "cell_type": "markdown",
   "metadata": {},
   "source": [
    "<hr>\n",
    "DEFINIÇÃO (Fatorial).\n",
    "\n",
    "Seja $\\, n \\in \\N \\,$. Definimos o fatorial de $n$ como sendo $\\, n! \\,$, de modo que:\n",
    "\n",
    "$$\n",
    "\\\\[10pt]\n",
    "\\\\[12pt]\n",
    "$$\n"
   ]
  }
 ],
 "metadata": {
  "authors": [
   {
    "name": "Prof. Eduardo Ono"
   }
  ],
  "kernelspec": {
   "display_name": "Python 3 (ipykernel)",
   "language": "python",
   "name": "python3"
  },
  "language_info": {
   "codemirror_mode": {
    "name": "ipython",
    "version": 3
   },
   "file_extension": ".py",
   "mimetype": "text/x-python",
   "name": "python",
   "nbconvert_exporter": "python",
   "pygments_lexer": "ipython3",
   "version": "3.12.1"
  },
  "title": "---\fMódulo 5. Combinatória e Probabilidade\f-----\f"
 },
 "nbformat": 4,
 "nbformat_minor": 2
}
