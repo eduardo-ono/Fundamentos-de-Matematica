{
 "cells": [
  {
   "cell_type": "markdown",
   "metadata": {},
   "source": [
    "Exercício 05. Determine todas as raízes da equação $\\,x^3 = 8\\,$."
   ]
  },
  {
   "cell_type": "markdown",
   "metadata": {},
   "source": [
    "$$\n",
    "\\begin{align*}\n",
    "x^3 &= 8 \\\\\n",
    "x^3 - 8 &= 0 \\\\\n",
    "x^3 - 2^3 &= 0 \\\\\n",
    "(x - 2)(x^2 + 2x + 2^2) &= 0\n",
    "\\end{align*}\n",
    "$$\n",
    "\n",
    "$$\n",
    "x - 2 = 0 \\implies \\boxed{\\ x = 2 \\ } \\\\[10pt]\n",
    "$$\n",
    "\n",
    "$$\n",
    "\\begin{align*}\n",
    "x^2 + 2x + 4 &= 0 \\\\\n",
    "x^2 + 2x &= -4 \\\\\n",
    "x^2 + 2x + 1 &= -4 + 1 \\\\\n",
    "(x + 1)^2 &= -3 \\\\\n",
    "\\sqrt{(x + 1)^2} &= \\pm\\sqrt{-3} \\\\\n",
    "x + 1 &= \\pm\\sqrt{3}i \\\\\n",
    "\\end{align*}\n",
    "$$\n",
    "\n",
    "$$\n",
    "\\boxed{\\ x = -1 \\pm\\sqrt{3}\\,i \\ }\n",
    "$$"
   ]
  },
  {
   "cell_type": "markdown",
   "metadata": {},
   "source": [
    "### Referências\n",
    "\n",
    "| Thumb | Descrição |\n",
    "| --- | --- |\n",
    "| ![img](https://img.youtube.com/vi/7ac4fp7M4t0/default.jpg) | <sup>[bprp math basics]</sup><br>[__Solving x^3 = 8__](https://www.youtube.com/watch?v=7ac4fp7M4t0)<br><sub>(4:47, YouTube, 10/Mai/2024)</sub> |\n"
   ]
  }
 ],
 "metadata": {
  "kernelspec": {
   "display_name": "base",
   "language": "python",
   "name": "python3"
  },
  "language_info": {
   "name": "python",
   "version": "3.12.1"
  }
 },
 "nbformat": 4,
 "nbformat_minor": 2
}
