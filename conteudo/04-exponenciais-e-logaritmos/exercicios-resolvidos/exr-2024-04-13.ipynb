{
 "cells": [
  {
   "cell_type": "markdown",
   "metadata": {},
   "source": [
    "Calcule\n",
    "\n",
    "$$\n",
    "\\sqrt{\\cfrac{1111111088888888 + 1}{123456787654322 - 1}}\n",
    "$$"
   ]
  },
  {
   "cell_type": "markdown",
   "metadata": {},
   "source": [
    "Sabemos que:\n",
    "\n",
    "$$\n",
    "\\begin{align*}\n",
    "1^2 &= 1 \\\\\n",
    "11^2 &= 121 \\\\\n",
    "111^2 &= 12321 \\\\\n",
    "1111^2 &= 1234321 \\\\\n",
    "11111^2 &= 123454321 \\\\\n",
    "\\cdots &= \\cdots \\\\\n",
    "11111111^2 &= 123456787654321 \\\\\n",
    "111111111^2 &= 12345678987654321\n",
    "\\end{align*}\n",
    "$$\n",
    "\n",
    "Assim sendo,\n",
    "\n",
    "$$\n",
    "\\sqrt{\\cfrac{1111111088888888 + 1}{123456787654322 - 1}} = \\\\[10pt]\n",
    "= \\sqrt{\\cfrac{1111111000000000 + 88888888 + 1}{123456787654321}} = \\\\[10pt]\n",
    "= \\sqrt{\\cfrac{11111110 \\cdot 10^8 + (99999999 - 11111111) + 1}{11111111^2}} = \\\\[10pt]\n",
    "= \\sqrt{\\cfrac{11111110 \\cdot 10^8 + (99999999 + 1) - 11111111}{11111111^2}} = \\\\[10pt]\n",
    "= \\sqrt{\\cfrac{11111110 \\cdot 10^8 + 100000000 - 11111111}{11111111^2}} = \\\\[10pt]\n",
    "= \\sqrt{\\cfrac{11111110 \\cdot 10^8 + 10^8 - 11111111}{11111111^2}} = \\\\[10pt]\n",
    "= \\sqrt{\\cfrac{10^8 \\cdot (11111110 + 1) - 11111111}{11111111^2}} = \\\\[10pt]\n",
    "= \\sqrt{\\cfrac{11111111 \\cdot 10^8 - 11111111}{11111111^2}} = \\\\[10pt]\n",
    "= \\sqrt{\\cfrac{11111111 \\cdot (10^8 - 1)}{11111111^2}} = \\\\[10pt]\n",
    "= \\sqrt{\\cfrac{10^8 - 1}{11111111}} = \\\\[10pt]\n",
    "= \\sqrt{\\cfrac{99999999}{11111111}} = \\\\[10pt]\n",
    "= \\sqrt{9} = 3\n",
    "$$"
   ]
  },
  {
   "cell_type": "markdown",
   "metadata": {},
   "source": [
    "### Referências"
   ]
  },
  {
   "cell_type": "markdown",
   "metadata": {},
   "source": [
    "| Thumb | Descrição |\n",
    "| :-: | --- |\n",
    "| ![img](https://img.youtube.com/vi/Vnu_c3neXgk/default.jpg) | <sup>[Estude Matemática]</sup><br>[__UMA SIMPLIFICAÇÃO DE RADICAIS de outro planeta!__](https://www.youtube.com/watch?v=Vnu_c3neXgk)<br><sub>(17:17, YouTube, 13/Abr/2024)</sub> |"
   ]
  }
 ],
 "metadata": {
  "kernelspec": {
   "display_name": "base",
   "language": "python",
   "name": "python3"
  },
  "language_info": {
   "name": "python",
   "version": "3.12.1"
  }
 },
 "nbformat": 4,
 "nbformat_minor": 2
}
