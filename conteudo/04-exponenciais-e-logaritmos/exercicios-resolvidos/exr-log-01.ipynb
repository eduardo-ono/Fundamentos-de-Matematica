{
 "cells": [
  {
   "cell_type": "markdown",
   "metadata": {},
   "source": [
    "Dados $\\ \\log 2 = 0,30 \\ $ e $\\ \\log 3 = 0,48 \\ $, calcule o valor de $x$ nas equações:\n",
    "\n",
    "$$\n",
    "i) \\quad 3^x + 3^x + 3^x = 36 \\\\[10pt] \n",
    "ii) \\quad 3^x \\cdot 3^x \\cdot 3^x = 36\n",
    "$$"
   ]
  },
  {
   "cell_type": "markdown",
   "metadata": {},
   "source": [
    "_Resolução_:\n",
    "\n",
    "$i)$\n",
    "\n",
    "$$\n",
    "\\begin{align*}\n",
    "3^x + 3^x + 3^x &= 36 \\\\\n",
    "3^x \\cdot (1 + 1 + 1) &= 36\\\\\n",
    "3 \\cdot 3^x &= 36\\\\\n",
    "3^{x+1} &= 36 \\qquad \\qquad [a^m \\cdot a^n = a^{m + n}] \\\\\n",
    "\\log{3^{x + 1}} &= \\log{36} \\\\\n",
    "(x + 1)\\log 3 &= \\log 36 \\\\\n",
    "\\end{align*}\n",
    "$$"
   ]
  },
  {
   "cell_type": "markdown",
   "metadata": {},
   "source": [
    "$$\n",
    "\\begin{align*}\n",
    "3^a \\cdot 3^a \\cdot 3^a &= \\\\\n",
    "= 3^{a + a + a} &= \\quad \\quad \\quad &[a^n \\cdot a^m = a^{m + n}] \\\\\n",
    "= 3^{3a} &= &[a^{m + n} ]\n",
    "\n",
    "\\end{align*}\n",
    "$$"
   ]
  }
 ],
 "metadata": {
  "kernelspec": {
   "display_name": "base",
   "language": "python",
   "name": "python3"
  },
  "language_info": {
   "name": "python",
   "version": "3.12.1"
  }
 },
 "nbformat": 4,
 "nbformat_minor": 2
}
