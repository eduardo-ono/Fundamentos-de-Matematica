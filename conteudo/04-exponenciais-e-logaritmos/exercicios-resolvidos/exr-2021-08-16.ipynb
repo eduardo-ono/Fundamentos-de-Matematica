{
 "cells": [
  {
   "cell_type": "markdown",
   "metadata": {},
   "source": [
    "| Thumb | Descrição |\n",
    "| :-: | --- |\n",
    "| ![img](https://img.youtube.com/vi/TTcFaijhRX4/default.jpg) | <sup>[Toda a Matemática]</sup><br>[__Logaritmo de 2__](https://www.youtube.com/watch?v=TTcFaijhRX4)<br><sub>(9:10, YouTube, 16/Ago/2021)</sub> |"
   ]
  }
 ],
 "metadata": {
  "language_info": {
   "name": "python"
  }
 },
 "nbformat": 4,
 "nbformat_minor": 2
}
