{
 "cells": [
  {
   "cell_type": "markdown",
   "metadata": {},
   "source": [
    "<sup>Fundamentos de Matemática</sup>\n",
    "<img alt=\"\" width=\"100%\" height=\"2px\" align=\"right\">\n",
    "\n",
    "&nbsp;\n",
    "\n",
    "<h1 align=\"center\">Exponenciais e Logaritmos</h1>\n",
    "<h3 align=\"center\">Exercícios Resolvidos</h3>\n",
    "<h4 align=\"center\">Prof. Eduardo Ono</h4>\n",
    "<h6 align=\"center\">Atualizado em: 12/02/2025</h6>\n",
    "\n",
    "&nbsp;\n",
    "\n",
    "&ensp; Sabendo que $\\,\\log 2 = 0{,}301\\,$, $\\,\\log 3 = 0{,}477\\,$ e $\\,\\log 5 = 0{,}7\\,$, determine o valor de $a$ na seguinte equação exponencial:\n",
    "\n",
    "$$\n",
    "\\begin{align*}\n",
    "5^a &= 60 \\\\[10pt]\n",
    "a &= \\log_5 60  &[\\text{def.}] \\\\[10pt]\n",
    "a &= \\log_5 (3 \\cdot 4 \\cdot 5) \\\\[10pt]\n",
    "a &= \\log_5 3 + \\log_5 4 + \\log_5 5  \\qquad &[\\log (x \\cdot y) = \\log x + \\log y] \\\\[10pt]\n",
    "a &= \\log_5 3 + \\log_5 2^2 + 1 \\\\[10pt]\n",
    "a &= \\log_5 3 + 2 \\cdot \\log_5 2 + 1  &[\\log x^m = m \\cdot \\log x] \\\\[10pt]\n",
    "a &= \\cfrac{\\log 3}{\\log 5} + 2 \\cdot \\cfrac{\\log 2}{\\log 5} + 1 \\\\[10pt]\n",
    "a &= \\cfrac{\\log 3 + 2 \\cdot \\log 2}{\\log 5} + 1 \\\\[10pt]\n",
    "a &= \\cfrac{0{,}477 + 2 \\cdot 0{,}301}{0{,}7} + 1 \\\\[10pt]\n",
    "a &= \\cfrac{1{,}079}{0{,}7} + 1 \\\\[10pt]\n",
    "a &= 1{,}541 + 1 \\\\[10pt]\n",
    "a &= 2{,}541\n",
    "\\end{align*}\n",
    "$$\n",
    "\n",
    "&nbsp;\n",
    "\n"
   ]
  },
  {
   "cell_type": "markdown",
   "metadata": {},
   "source": [
    "## Referências\n",
    "\n",
    "| Thumb | Descrição |\n",
    "| :-: | --- |\n",
    "| ![img](https://img.youtube.com/vi/TkFINqiH37g/default.jpg) | <sup>[Asad International Academy]</sup><br>[__Resolvendo um exame de admissão à Universidade de Stanford \\| a=?__](https://www.youtube.com/watch?v=TkFINqiH37g)<br><sub>(7:30, YouTube, 06/Fev/2025)</sub> |"
   ]
  }
 ],
 "metadata": {
  "kernelspec": {
   "display_name": "base",
   "language": "python",
   "name": "python3"
  },
  "language_info": {
   "name": "python",
   "version": "3.12.1"
  }
 },
 "nbformat": 4,
 "nbformat_minor": 2
}
