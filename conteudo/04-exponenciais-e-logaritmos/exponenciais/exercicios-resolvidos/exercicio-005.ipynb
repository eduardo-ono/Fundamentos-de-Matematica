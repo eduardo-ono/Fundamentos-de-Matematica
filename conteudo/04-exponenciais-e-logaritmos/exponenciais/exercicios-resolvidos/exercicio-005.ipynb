{
 "cells": [
  {
   "cell_type": "markdown",
   "metadata": {},
   "source": [
    "Quantos algarismos possui o número $4^{38} \\cdot 5^{70}$?"
   ]
  },
  {
   "cell_type": "markdown",
   "metadata": {},
   "source": [
    "$$\n",
    "4^{38} \\cdot 5^{70} = \\\\[6pt]\n",
    "(2^2)^{38} \\cdot 5^{70} = \\\\[6pt]\n",
    "2^{76} \\cdot 5^{70} = \\\\[6pt]\n",
    "2^6 \\cdot 2^{70} \\cdot 5^{70} = \\\\[6pt]\n",
    "64 \\cdot (2 \\cdot 5)^{70} = \\\\[6pt]\n",
    "64 \\cdot 10^{70}\n",
    "$$"
   ]
  },
  {
   "cell_type": "markdown",
   "metadata": {},
   "source": [
    "Portanto, o número é contituído pelos algarismos 64 seguidos por 70 zeros, ou seja, no total são 72 algarismos."
   ]
  },
  {
   "cell_type": "markdown",
   "metadata": {},
   "source": [
    "Referências\n",
    "\n",
    "| Thumb | Descrição |\n",
    "| :-: | --- |\n",
    "| ![img](https://img.youtube.com/vi/OMAbKTDWeaY) | <sup>[Matemática Com a Ju]</sup> [__Quantos algarismos?__](https://www.youtube.com/watch?v=OMAbKTDWeaY)<br><sub>(hh:mm:ss, YouTube, dd/Mon/yyyy)</sub> |\n"
   ]
  }
 ],
 "metadata": {
  "kernelspec": {
   "display_name": "base",
   "language": "python",
   "name": "python3"
  },
  "language_info": {
   "name": "python",
   "version": "3.12.1"
  }
 },
 "nbformat": 4,
 "nbformat_minor": 2
}
