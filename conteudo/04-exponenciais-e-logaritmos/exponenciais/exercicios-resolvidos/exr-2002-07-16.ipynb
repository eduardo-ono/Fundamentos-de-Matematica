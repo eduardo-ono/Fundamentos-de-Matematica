{
 "cells": [
  {
   "cell_type": "markdown",
   "metadata": {},
   "source": [
    "## exr-2002-07-16\n",
    "\n",
    "(CM RJ - 2008) Seja $\\,(a, b, c, d)\\,$ a quádrupla de números inteiros tais que $\\,52^a \\cdot 77^b \\cdot 88^c \\cdot 91^d = 2002\\,$. O valor de $\\,a + b - c - d\\,$ é igual a:\n",
    "\n",
    "a) 4<br>\n",
    "b) 6<br>\n",
    "c) 8<br>\n",
    "d) 10<br>\n",
    "e) 12"
   ]
  },
  {
   "cell_type": "markdown",
   "metadata": {},
   "source": [
    "__*Resolução*__:\n",
    "\n",
    "$$\n",
    "\\begin{align*}\n",
    "52^a \\cdot 77^b \\cdot 88^c \\cdot 91^d &= 2002 \\\\\n",
    "\\text{Decompondo as bases em seus fatores primos, temos:} \\\\\n",
    "(2^2 \\cdot 13)^a \\cdot (7 \\cdot 11)^b \\cdot (2^3 \\cdot 11)^c \\cdot (7 \\cdot 13)^d &= 2 \\cdot 7 \\cdot 11 \\cdot 13 \\\\\n",
    "(2^2)^a \\cdot 13^a \\cdot 7^b \\cdot 11^b \\cdot (2 ^3)^c \\cdot 11^c \\cdot 7^d \\cdot 13^d &= 2 \\cdot 7 \\cdot 11 \\cdot 13 \\\\\n",
    "2^{2a + 3c} \\cdot 7^{b + d} \\cdot 11^{b + c} \\cdot 13^{a + d} &= 2 \\cdot 7 \\cdot 11 \\cdot 13 \\\\\n",
    "\\text{Comparando os expoentes de cada base, temos:} \\\\\n",
    "2a + 3c &= 1 \\\\\n",
    "b + d &= 1 \\\\\n",
    "b + c &= 1 \\\\\n",
    "a + d &= 1 \\\\\n",
    "\\text{Resolvendo o sistema de equações, temos:} \\\\\n",
    "2a + 3c + b + d + b + c + a + d &= 1 + 1 + 1 + 1 \\\\\n",
    "3a + 4c + 2b + 2d &= 4 \\\\\n",
    "c &= 1 \\\\\n",
    "d &= 0 \\\\\n",
    "\\text{Portanto, a solução é:} \\\\\n",
    "a &= 1 \\\\\n",
    "b &= 0 \\\\\n",
    "c &= 1 \\\\\n",
    "d &= 0 \\\\\n",
    "\\end{align*}\n",
    "$$"
   ]
  },
  {
   "cell_type": "markdown",
   "metadata": {},
   "source": [
    "### Referências\n",
    "\n",
    "| Thumb | Descrição |\n",
    "| :-: | --- |\n",
    "| ![img](https://img.youtube.com/vi/hIO1JrBRQfw/default.jpg) | <sup>[Matemática - Prof Reginaldo Moraes]</sup><br>[__MATEMÁTICA PARA o COLÉGIO MILITAR: EQUAÇÃO EXPONENCIAL__](https://www.youtube.com/watch?v=hIO1JrBRQfw)<br><sub>(20:32, YouTube, 16/Jul/2022)</sub> |"
   ]
  }
 ],
 "metadata": {
  "kernelspec": {
   "display_name": "base",
   "language": "python",
   "name": "python3"
  },
  "language_info": {
   "name": "python",
   "version": "3.12.1"
  }
 },
 "nbformat": 4,
 "nbformat_minor": 2
}
