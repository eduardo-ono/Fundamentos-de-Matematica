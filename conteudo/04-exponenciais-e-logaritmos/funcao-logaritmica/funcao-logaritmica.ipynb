{
 "cells": [
  {
   "cell_type": "code",
   "execution_count": 1,
   "metadata": {},
   "outputs": [],
   "source": [
    "from math import log"
   ]
  },
  {
   "cell_type": "markdown",
   "metadata": {},
   "source": [
    "### Vídeos para o Professor\n",
    "\n",
    "| Thumb | Descrição |\n",
    "| :-: | --- |\n",
    "| ![img](https://img.youtube.com/vi/aaK0obX4Mnw/default.jpg) | <sup>[PROFMAT]</sup><br>[__Funções Logaritmicas__](https://www.youtube.com/watch?v=aaK0obX4Mnw)<br><sub>(1:05:37, YouTube, 08/Abr/2015)</sub> |\n",
    "| ![img](https://img.youtube.com/vi/kqbbdLhEqGo/default.jpg) | <sup>[Edson S. Figueiredo]</sup><br>[__Funções Exponenciais e Logaritmicas - Profº Elon Lages Lima__](https://www.youtube.com/watch?v=kqbbdLhEqGo)<br><sub>(54:26, YouTube, 20/Set/2020)</sub> |"
   ]
  }
 ],
 "metadata": {
  "kernelspec": {
   "display_name": "base",
   "language": "python",
   "name": "python3"
  },
  "language_info": {
   "codemirror_mode": {
    "name": "ipython",
    "version": 3
   },
   "file_extension": ".py",
   "mimetype": "text/x-python",
   "name": "python",
   "nbconvert_exporter": "python",
   "pygments_lexer": "ipython3",
   "version": "3.12.1"
  }
 },
 "nbformat": 4,
 "nbformat_minor": 2
}
