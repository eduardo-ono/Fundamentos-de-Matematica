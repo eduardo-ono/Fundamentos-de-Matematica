{
 "cells": [
  {
   "cell_type": "markdown",
   "metadata": {},
   "source": [
    "<h1 align=\"center\">Potenciação</h1>\n",
    "<h3 align=\"center\">Prof. Eduardo Ono</h3>\n",
    "<h5 align=\"center\">Atualizado em: 16/05/2024</h3>"
   ]
  },
  {
   "cell_type": "markdown",
   "metadata": {},
   "source": [
    "**Sumário**<a id='toc0_'></a>    \n",
    "- 1.1. [Definições](#toc1_1_)    \n",
    "  - 1.2. [Propriedades](#toc1_2_)    \n",
    "\n",
    "<!-- vscode-jupyter-toc-config\n",
    "\tnumbering=true\n",
    "\tanchor=true\n",
    "\tflat=false\n",
    "\tminLevel=1\n",
    "\tmaxLevel=5\n",
    "\t/vscode-jupyter-toc-config -->\n",
    "<!-- THIS CELL WILL BE REPLACED ON TOC UPDATE. DO NOT WRITE YOUR TEXT IN THIS CELL -->"
   ]
  },
  {
   "cell_type": "markdown",
   "metadata": {},
   "source": [
    "## 1.1. <a id='toc1_1_'></a>[Definições](#toc0_)\n",
    "\n"
   ]
  },
  {
   "cell_type": "markdown",
   "metadata": {},
   "source": [
    "## 1.2. <a id='toc1_2_'></a>[Propriedades](#toc0_)\n",
    "\n",
    "&emsp; &emsp; Sejam $\\, a \\in \\mathbb{R} \\,$, $\\, b \\in \\mathbb{R} \\,$, $\\, m \\in \\mathbb{Z} \\,$ e $\\, n \\in \\mathbb{Z} \\,$, com $\\, a \\neq 0 \\,$ ou $\\, n \\neq 0 \\,$. Então, valem as seguintes propriedades:\n",
    "\n",
    "$$\n",
    "\\begin{align*}\n",
    "\n",
    "&\\text{[P1]} \\quad a^m \\cdot a^n = a^{m+n} \\\\ \\\\\n",
    "\n",
    "&\\text{[P2]} \\quad \\frac{a^m}{a^n} = a^{m-n} \\,, \\text{ com } \\, a \\neq 0 \\\\ \\\\\n",
    "\n",
    "&\\text{[P3]} \\quad (a \\cdot b)^n = a^n \\cdot b^n \\\\ \\\\\n",
    "\n",
    "&\\text{[P4]} \\quad \\left( \\frac{a}{b} \\right) ^n = \\frac{a^n}{b^n} \\,, \\text{ com } \\, b \\neq 0 \\\\ \\\\\n",
    "\n",
    "&\\text{[P5]} \\quad (a^m)^n = a^{m \\cdot n} = a^{n \\cdot m} = (a^n)^m\n",
    "\n",
    "\\end{align*}\n",
    "$$"
   ]
  }
 ],
 "metadata": {
  "authors": [
   {
    "name": "Prof. Eduardo Ono"
   }
  ],
  "kernelspec": {
   "display_name": "base",
   "language": "python",
   "name": "python3"
  },
  "language_info": {
   "codemirror_mode": {
    "name": "ipython",
    "version": 3
   },
   "file_extension": ".py",
   "mimetype": "text/x-python",
   "name": "python",
   "nbconvert_exporter": "python",
   "pygments_lexer": "ipython3",
   "version": "3.12.1"
  },
  "title": "--- {Módulo 2} ---\fExponenciais e Logaritmos\f----------"
 },
 "nbformat": 4,
 "nbformat_minor": 2
}
