{
 "cells": [
  {
   "cell_type": "markdown",
   "metadata": {},
   "source": []
  },
  {
   "cell_type": "markdown",
   "metadata": {},
   "source": [
    "$$\n",
    "\\log_2 x + \\log_3 x = 5\n",
    "$$"
   ]
  },
  {
   "cell_type": "markdown",
   "metadata": {},
   "source": [
    "$$\n",
    "\\begin{align*}\n",
    "\\frac{\\log_6 x}{\\log_6 2} + \\frac{\\log_6 x}{\\log_6 3} & = 5 \\\\[10pt]\n",
    "\\log_6 x \\left(\\frac{1}{\\log_6 2} + \\frac{1}{\\log_6 3}\\right) & = 5 \\\\[10pt]\n",
    "\\log_6 x \\left(\\frac{\\log_6 3 + \\log_6 2}{\\log_6 2 \\cdot \\log_6 3}\\right) & = 5 \\\\[10pt]\n",
    "\\log_6 x \\left(\\frac{\\log_6 6}{\\log_6 2 \\cdot \\log_6 3}\\right) & = 5 \\\\[10pt]\n",
    "\\log_6 x \\left(\\frac{1}{\\log_6 2 \\cdot \\log_6 3}\\right) & = 5 \\\\[10pt]\n",
    "\\log x & = 5 \\cdot \\log_6 2 \\cdot \\log_6 3 \\\\[10pt]\n",
    "x & = \\exp\\left(5 \\left(\\frac{\\log 2 \\cdot \\log 3}{\\log 6}\\right)\\right) \\\\[10pt]\n",
    "x & = \\exp\\left(5 \\left(\\frac{\\log 2 + \\log 3}{\\log 6}\\right)\\right) \\\\[10pt]\n",
    "\\end{align*}\n",
    "$$\n"
   ]
  },
  {
   "cell_type": "markdown",
   "metadata": {},
   "source": [
    "\n",
    "$$\n",
    "\\begin{align*}\n",
    "\\frac{\\log_3 x}{\\log_3 2} + \\log_3 x & = 5 \\\\[10pt]\n",
    "\\log_3 x \\left(\\frac{1}{\\log_3 2} + 1\\right) & = 5 \\\\[10pt]\n",
    "\\log_2 x \\left(\\frac{\\log_2 3 + 1}{\\log_2 3}\\right) & = 5 \\\\[10pt]\n",
    "\\log_2 x \\left(\\frac{\\log_2 3 + \\log_2 2}{\\log_2 3}\\right) & = 5 \\\\[10pt]\n",
    "\\log_2 x \\left(\\frac{\\log_2 6}{\\log_2 3}\\right) & = 5 \\\\[10pt]\n",
    "\\log_2 x & = 5 \\cdot \\frac{\\log_2 6}{ \\log_2 3} \\\\[10pt]\n",
    "x & = \\exp\\left(5 \\cdot \\frac{\\log_2 6}{ \\log_2 3}\\right) \\\\[10pt]\n",
    "\\end{align*}\n",
    "$$"
   ]
  }
 ],
 "metadata": {
  "language_info": {
   "name": "python"
  }
 },
 "nbformat": 4,
 "nbformat_minor": 2
}
