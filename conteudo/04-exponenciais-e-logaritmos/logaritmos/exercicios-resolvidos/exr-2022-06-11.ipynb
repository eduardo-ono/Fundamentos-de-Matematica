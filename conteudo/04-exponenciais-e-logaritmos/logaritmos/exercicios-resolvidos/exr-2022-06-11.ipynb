{
 "cells": [
  {
   "cell_type": "markdown",
   "metadata": {},
   "source": [
    "## exr-2022-06-11"
   ]
  },
  {
   "cell_type": "markdown",
   "metadata": {},
   "source": [
    "Determine o valor do\n",
    "\n",
    "$$\n",
    "\\log_{3 \\sqrt 3}{27}\n",
    "$$\n",
    "\n",
    "a) 5<br>\n",
    "b) 4<br>\n",
    "c) 3<br>\n",
    "d) 2<br>\n",
    "e) 1"
   ]
  },
  {
   "cell_type": "markdown",
   "metadata": {},
   "source": [
    "__*Resolução*__:\n",
    "\n",
    "$$\n",
    "\\begin{align*}\n",
    "\\log_{3 \\sqrt 3}{27} &= \\frac{\\log 27}{\\log (3 \\sqrt 3)} \\qquad [\\text{Mudança de base}] \\\\[10pt]\n",
    "&= \\frac{\\log 3^3}{\\log (3 \\cdot 3^{\\frac{1}{2}})} \\\\[10pt]\n",
    "&= \\frac{3 \\log 3}{\\log 3 + \\frac{1}{2} \\log 3} \\\\[10pt]\n",
    "&= \\frac{3 \\cdot \\log 3}{\\log 3 \\cdot \\left(1 + \\frac{1}{2}\\right)} \\\\[10pt]\n",
    "&= \\frac{3}{\\frac{3}{2}} \\\\[10pt]\n",
    "&= 3 \\cdot \\frac{2}{3} \\\\[10pt]\n",
    "&= \\boxed{2}\n",
    "\\end{align*}\n",
    "$$\n",
    "\n",
    "&emsp; Resposta: d"
   ]
  },
  {
   "cell_type": "markdown",
   "metadata": {},
   "source": [
    "### Referências\n",
    "\n",
    "| Thumb | Descrição |\n",
    "| :-: | --- |\n",
    "| ![img](https://img.youtube.com/vi/gI8teWkwS6E/default.jpg) | <sup>[Números em Questões]</sup><br>[__Logaritmo com Raiz Quadrada de Três na Base - NQ174__](https://www.youtube.com/watch?v=gI8teWkwS6E)<br><sub>(6:00, YouTube, 11/Jun/2022)</sub> |\n"
   ]
  }
 ],
 "metadata": {
  "kernelspec": {
   "display_name": "base",
   "language": "python",
   "name": "python3"
  },
  "language_info": {
   "name": "python",
   "version": "3.12.1"
  }
 },
 "nbformat": 4,
 "nbformat_minor": 2
}
