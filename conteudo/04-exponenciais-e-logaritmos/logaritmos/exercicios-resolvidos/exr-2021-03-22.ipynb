{
 "cells": [
  {
   "cell_type": "markdown",
   "metadata": {},
   "source": [
    "\n",
    "$$\n",
    "\\left\\{\n",
    "\\begin{array}{ccl}\n",
    "x + y & = & 29 \\\\\n",
    "\\log x + \\log y & = & 2\n",
    "\\end{array}\n",
    "\\right.\n",
    "$$"
   ]
  },
  {
   "cell_type": "markdown",
   "metadata": {},
   "source": [
    "__*Resolução:*__\n",
    "\n",
    "&emsp; Manipulando a segunda equação, temos:\n",
    "\n",
    "$$\n",
    "\\begin{align*}\n",
    "\\log x + \\log y & = 2 \\\\[10pt]\n",
    "\\implies\\quad \\log(x \\cdot y) & = 2 \\\\[10pt]\n",
    "\\overset{\\text{Def.}}{\\implies}\\quad x \\cdot y & = 10^2 \\\\[10pt]\n",
    "\\implies\\quad x \\cdot y & = 100\n",
    "\\end{align*}\n",
    "$$\n",
    "\n",
    "&emsp; Reescrevendo o sistema:\n",
    "\n",
    "$$\n",
    "\\left\\{\n",
    "\\begin{array}{ccl}\n",
    "x + y & = & 29 \\\\\n",
    "x \\cdot y & = & 100\n",
    "\\end{array}\n",
    "\\right.\n",
    "$$"
   ]
  },
  {
   "cell_type": "markdown",
   "metadata": {},
   "source": [
    "### Referências\n",
    "\n",
    "| Thumb | Descrição |\n",
    "| :-: | --- |\n",
    "| ![img](https://img.youtube.com/vi/hnPIh0EPuCU/default.jpg) | <sup>[Matemática - Prof Reginaldo Moraes]</sup><br>[__SISTEMA com LOGARITMOS__](https://www.youtube.com/watch?v=hnPIh0EPuCU)<br><sub>(111:49, YouTube, 22/Mar/2021)</sub> |\n"
   ]
  }
 ],
 "metadata": {
  "language_info": {
   "name": "python"
  }
 },
 "nbformat": 4,
 "nbformat_minor": 2
}
