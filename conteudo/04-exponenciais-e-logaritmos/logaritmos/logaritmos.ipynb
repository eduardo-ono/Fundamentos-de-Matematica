{
 "cells": [
  {
   "cell_type": "code",
   "execution_count": 1,
   "metadata": {},
   "outputs": [],
   "source": [
    "import matplotlib.pyplot as plt\n",
    "\n",
    "# Default figure size\n",
    "plt.rcParams['figure.figsize'] = [6, 4]\n",
    "\n",
    "def plotGraph(x_coords, y_coords):\n",
    "    plt.axhline(y=0.0, color='dimgray', linestyle='-', linewidth=1)\n",
    "    plt.axvline(x=0.0, color='dimgray', linestyle='-', linewidth=1)\n",
    "    plt.plot(x_coords, y_coords)\n",
    "    plt.grid(color='lightgray')\n",
    "    plt.show()"
   ]
  },
  {
   "cell_type": "markdown",
   "metadata": {},
   "source": [
    "\n",
    "<h1 align=\"center\">Logaritmos</h1>\n",
    "<h4 align=\"center\">Prof. Eduardo Ono</h4>\n",
    "<h5 align=\"center\">Atualizado em: 16/05/2024</h5>"
   ]
  },
  {
   "cell_type": "markdown",
   "metadata": {},
   "source": [
    "__Sumário__<a id='toc0_'></a>    \n",
    "- 1. [Logaritmos](#toc1_)    \n",
    "  - 1.1. [Conceito](#toc1_1_)    \n",
    "  - 1.2. [Definição](#toc1_2_)    \n",
    "    - 1.2.1. [Exemplos](#toc1_2_1_)    \n",
    "  - 1.3. [Propriedades](#toc1_3_)    \n",
    "- 2. [Função Logaritmica](#toc2_)    \n",
    "  - 2.1. [Gráficos](#toc2_1_)    \n",
    "\n",
    "<!-- vscode-jupyter-toc-config\n",
    "\tnumbering=true\n",
    "\tanchor=true\n",
    "\tflat=false\n",
    "\tminLevel=1\n",
    "\tmaxLevel=5\n",
    "\t/vscode-jupyter-toc-config -->\n",
    "<!-- THIS CELL WILL BE REPLACED ON TOC UPDATE. DO NOT WRITE YOUR TEXT IN THIS CELL -->"
   ]
  },
  {
   "cell_type": "markdown",
   "metadata": {},
   "source": [
    "# 1. <a id='toc1_'></a>[Logaritmos](#toc0_)"
   ]
  },
  {
   "cell_type": "markdown",
   "metadata": {},
   "source": [
    "## 1.1. <a id='toc1_1_'></a>[Conceito](#toc0_)\n",
    "\n",
    "&emsp; &emsp; Sejam $a$ e $b$ números reais e positivos com $\\, b \\neq 1 \\,$. Chama-se logaritmo de $a$ na base $b$ o expoente que se deve dar à base $b$ de modo que a potência obtida seja igual a $a$.\n"
   ]
  },
  {
   "cell_type": "markdown",
   "metadata": {},
   "source": [
    "\n",
    "## 1.2. <a id='toc1_2_'></a>[Definição](#toc0_)\n",
    "\n",
    "&emsp; &emsp; Sejam $\\, a, b \\in \\mathbb{R}_+ \\,$ com $\\, b \\neq 1$. Então,\n",
    "\n",
    "$$\\log_b a = x \\ \\Longleftrightarrow \\ b^x = a$$\n",
    "\n",
    "&emsp; &emsp; Em $\\, \\log_b a \\,$ dizemos que $a$ é o logaritmando, $b$ é a base do logaritmo e $x$ é o logaritmo."
   ]
  },
  {
   "cell_type": "markdown",
   "metadata": {},
   "source": [
    "### 1.2.1. <a id='toc1_2_1_'></a>[Exemplos](#toc0_)\n",
    "\n",
    "$$\n",
    "\\begin{align*}\n",
    "10^2 &= 100 \\\\[10pt]\n",
    "10^3 &= 1000 \\\\[10pt]\n",
    "10^{2,5} &= \\text{316,22776...}\n",
    "\\end{align*}\n",
    "$$\n",
    "\n",
    "\n",
    "&emsp; Exemplo de equação onde o exponente é a incógnita:\n",
    "\n",
    "$$\n",
    "\\begin{align*}\n",
    "10^x &= 316,228 \\\\[8pt]\n",
    "x &= \\log_{10} 316,228 \\\\[8pt]\n",
    "x &= \\text{2,5} \\qquad [\\text{pela calculadora}]\n",
    "\\end{align*}\n",
    "$$\n",
    "\n"
   ]
  },
  {
   "cell_type": "markdown",
   "metadata": {},
   "source": [
    "## 1.3. <a id='toc1_3_'></a>[Propriedades](#toc0_)"
   ]
  },
  {
   "cell_type": "markdown",
   "metadata": {},
   "source": [
    "\n",
    "&emsp; &emsp; Sejam $\\, a, b \\in \\mathbb{R}_+ \\,$ com $\\, b \\neq 1$. Então, valem as seguintes propriedades:\n",
    "\n",
    "$$\n",
    "\\begin{align*}\n",
    "\n",
    "&\\text{[L1]} \\quad \\log_b 1 = 0 \\\\ \\\\\n",
    "\n",
    "&\\text{[L2]} \\quad \\log_a a = 1 \\\\ \\\\\n",
    "\n",
    "&\\text{[L3]} \\quad b^{\\log_b a} = a \\\\ \\\\\n",
    "\n",
    "&\\text{[L4]} \\quad \\log_b a = \\log_b c \\ \\Longleftrightarrow \\ a = c \\\\ \\\\\n",
    "\n",
    "&\\text{[L5]} \\quad \\log_b {(a \\cdot c)} = \\log_b a + \\log_b c \\\\ \\\\\n",
    "\n",
    "&\\text{[L6]} \\quad \\log_b {\\left( \\frac{a}{c} \\right)} = \\log_b a - \\log_b c \\\\ \\\\\n",
    "\n",
    "&\\text{[L7]} \\quad \\log_b a^m = m \\cdot \\log_b a \\\\ \\\\\n",
    "\n",
    "&\\text{[L8]} \\quad \\log_b a = \\frac{\\log_m a}{\\log_m b} \\qquad \\textsf{(Mudança de base)}\n",
    "\n",
    "\\end{align*}\n",
    "$$"
   ]
  },
  {
   "cell_type": "markdown",
   "metadata": {},
   "source": [
    "### Demonstrações das Propriedadas"
   ]
  },
  {
   "cell_type": "markdown",
   "metadata": {},
   "source": [
    "\n",
    "$\\text{[L3]}$\n",
    "\n",
    "$$\n",
    "\\begin{align*}\n",
    "b^{\\log_b a} &= x \\iff b^y = x \\iff \\log_b x = y \\\\\n",
    "\\end{align*}\n",
    "$$\n",
    "\n",
    "$\\text{[L5]}$\n",
    "\n",
    "$$\n",
    "\\begin{align*}\n",
    "\\text{Fazendo } x = \\log_b a \\ \\text{ e } \\ y = \\log_b c, \\\\[10pt]\n",
    "\\log_b a + \\log_b c \\overset{\\text{Def.}}{\\iff}& b^x = a \\ \\text{ e } \\ b^y = c \\\\[10pt]\n",
    "b^x \\cdot b^y = b^{(x + y)} = a \\cdot c \\iff& \\log_b (a \\cdot c) = x + y \\\\[10pt]\n",
    "\\log_b (a \\cdot c) =& \\log_b a + \\log_b c\n",
    "\\end{align*}\n",
    "$$"
   ]
  },
  {
   "cell_type": "markdown",
   "metadata": {},
   "source": [
    "## Cálculo de Logaritmos através da Fatoração em Números Primos"
   ]
  },
  {
   "cell_type": "markdown",
   "metadata": {},
   "source": [
    "| $\\log n$ | Manipulação | Resultado |\n",
    "| :-- | --- | --- |\n",
    "| $\\log 1$ | $\\log_{10} 1 = x \\overset{\\text{Def.}}{\\iff} 10^x = 1 \\implies x = 0$ | $0$ |\n",
    "| $\\log 2$ | $\\log_{10} 2 = x \\overset{\\text{Def.}}{\\iff} 10^x = 2 \\implies x = 0{,}3010$ (calculadora) |$0{,}3010$ |\n",
    "| $\\log 3$ | $x = 0{,}4771$ (calculadora)|$0{,}4771$ |\n",
    "| $\\log 4$ | $\\log 2^2 = 2 \\cdot \\log 2 = 2 \\cdot 0{,}3010$ | $0{,}6020$ |\n",
    "| $\\log 5$ | $\\log \\left(\\cfrac{10}{2}\\right) = \\log 10 - \\log 2 = 1 - \\log 2 = 1 - 0{,}3010$ | $0{,}6990$ |\n",
    "| $\\log 6$ | $\\log (2 \\cdot 3) = \\log 2 + \\log 3 = 0{,}3010 + 0{,}4771$ | $0{,}7781$ |\n",
    "| $\\log 7$ | (calculadora) | $0{,}8451$ |\n",
    "| $\\log 8$ | $\\log 2^3 = 3 \\cdot \\log 2$ | $0{,}9030$ |\n",
    "| $\\log 9$ | $\\log 3^2= 2 \\cdot \\log 3 = 2 \\cdot 0{,}4771$ | $0{,}9542$ |\n",
    "| $\\log 10$ | $\\log_{10} 10 = x \\overset{\\text{Def.}}{\\iff} 10^x = 10 \\implies x = 1$ | $1$ |\n",
    "| $\\log 11$ | | $1{,}0414$ |\n",
    "| $\\log 12$ | $\\log 12 = \\log (2^2 \\cdot 3) = 2 \\cdot \\log 2 + \\log 3$ | $1{,}0792$ |\n",
    "| $\\log 13$ | | $1{,}1139$ |\n",
    "| $\\log 14$ | $\\log (2 \\cdot 7) = \\log 2 + \\log 7$ | $1{,}1461$ |\n",
    "| $\\log 15$ | $\\log (3 \\cdot 5) = \\log 3 + \\log 5$ | $1{,}1761$ |\n",
    "| $\\log 16$ | $\\log 16 = \\log 2^4 = 4 \\cdot \\log 2$ | $1{,}2041$ |\n",
    "| $\\log 17$ | | $1{,}2304$ |\n",
    "| $\\log 18$ | | $1{,}2568$ |\n",
    "| $\\log 19$ | | $1{,}2830$ |\n",
    "| $\\log 20$ | | $1{,}3010$ |\n",
    "| $\\log 50$ | $\\log 50 = \\log (2 \\cdot 5^2) = \\log 2 + 2 \\cdot \\log 5 = $<br>ou<br>$\\log \\left(\\cfrac{100}{2}\\right) = \\log 100 - \\log 2 = 1{,}699$ | $1{,}699$ |\n",
    "| $\\log 100$ | $\\log_{10} 100 = x \\overset{\\text{Def.}}{\\iff} 10^x = 100 \\implies x = 2$ | $2$ |\n",
    "| $\\log 1000$ | $\\log_{10} 1000 = x \\overset{\\text{Def.}}{\\iff} 10^x = 1000 \\implies x = 3$ | $3$ |\n",
    "| $\\log 10000$ | $\\log_{10} 10000 = x \\overset{\\text{Def.}}{\\iff} 10^x = 10000 \\implies x = 4$ | $4$ |\n"
   ]
  },
  {
   "cell_type": "markdown",
   "metadata": {},
   "source": [
    "# 2. <a id='toc2_'></a>[Função Logaritmica](#toc0_)"
   ]
  },
  {
   "cell_type": "markdown",
   "metadata": {},
   "source": [
    "## 2.1. <a id='toc2_1_'></a>[Gráficos](#toc0_)"
   ]
  },
  {
   "cell_type": "code",
   "execution_count": 2,
   "metadata": {},
   "outputs": [
    {
     "data": {
      "image/png": "[encoded data removed]",
      "text/plain": [
       "<Figure size 600x400 with 1 Axes>"
      ]
     },
     "metadata": {},
     "output_type": "display_data"
    }
   ],
   "source": [
    "import numpy as np\n",
    "import math\n",
    "\n",
    "x_values = []\n",
    "y_values = []\n",
    "for x in np.arange(0.1, 10.1, 0.1):\n",
    "    x_values.append(x)\n",
    "    y_values.append(math.log10(x))\n",
    "plotGraph(x_values, y_values)\n"
   ]
  },
  {
   "cell_type": "code",
   "execution_count": null,
   "metadata": {},
   "outputs": [],
   "source": []
  }
 ],
 "metadata": {
  "authors": [
   {
    "name": "Prof. Eduardo Ono"
   }
  ],
  "kernelspec": {
   "display_name": "base",
   "language": "python",
   "name": "python3"
  },
  "language_info": {
   "codemirror_mode": {
    "name": "ipython",
    "version": 3
   },
   "file_extension": ".py",
   "mimetype": "text/x-python",
   "name": "python",
   "nbconvert_exporter": "python",
   "pygments_lexer": "ipython3",
   "version": "3.12.1"
  },
  "title": "--- {Módulo 2} ---\fExponenciais e Logaritmos\f----------"
 },
 "nbformat": 4,
 "nbformat_minor": 2
}
