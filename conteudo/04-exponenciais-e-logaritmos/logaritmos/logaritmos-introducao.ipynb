{
 "cells": [
  {
   "cell_type": "markdown",
   "metadata": {},
   "source": [
    "<h1>Logaritmos</h1>"
   ]
  },
  {
   "cell_type": "markdown",
   "metadata": {},
   "source": [
    "__Sumário__<a id='toc0_'></a>    \n",
    "- 1. [Overview](#toc1_)    \n",
    "- 2. [Introdução](#toc2_)    \n",
    "- 3. [Propriedades](#toc3_)    \n",
    "  - 3.1. [Vídeos de Apoio](#toc3_1_)    \n",
    "- 4. [Conceitos](#toc4_)    \n",
    "- 5. [Aplicações](#toc5_)    \n",
    "\n",
    "<!-- vscode-jupyter-toc-config\n",
    "\tnumbering=true\n",
    "\tanchor=true\n",
    "\tflat=false\n",
    "\tminLevel=1\n",
    "\tmaxLevel=5\n",
    "\t/vscode-jupyter-toc-config -->\n",
    "<!-- THIS CELL WILL BE REPLACED ON TOC UPDATE. DO NOT WRITE YOUR TEXT IN THIS CELL -->"
   ]
  },
  {
   "cell_type": "markdown",
   "metadata": {},
   "source": [
    "# 1. <a id='toc1_'></a>[Overview](#toc0_)"
   ]
  },
  {
   "cell_type": "markdown",
   "metadata": {},
   "source": [
    "<h3>Vídeos de Apoio</h3>\n",
    "\n",
    "| Thumb | Descrição |\n",
    "| :-: | --- |\n",
    "| ![img](https://img.youtube.com/vi/y19Exha75sM/default.jpg) | <sup>[Principia Matemática]</sup><br>[__O que é um logaritmo? De onde vem e para que serve?__](https://www.youtube.com/watch?v=y19Exha75sM)<br><sub>(18:14, YouTube, 09/Dez/2024)</sub> |\n"
   ]
  },
  {
   "cell_type": "markdown",
   "metadata": {},
   "source": [
    "# 2. <a id='toc2_'></a>[Introdução](#toc0_)"
   ]
  },
  {
   "cell_type": "markdown",
   "metadata": {},
   "source": [
    "&emsp; &emsp; História\n",
    "\n",
    "| Thumb | Descrição |\n",
    "| --- | --- |\n",
    "| ![img](https://img.youtube.com/vi/YC9BzwyjlwY/default.jpg) | <sup>[Professor Possani]</sup><br>[__História dos Logaritmos__](https://www.youtube.com/watch?v=YC9BzwyjlwY)<br><sub>(17:57, YouTube, 02/Jul/2023)</sub> |\n"
   ]
  },
  {
   "cell_type": "markdown",
   "metadata": {},
   "source": [
    "# 3. <a id='toc3_'></a>[Propriedades](#toc0_)"
   ]
  },
  {
   "cell_type": "markdown",
   "metadata": {},
   "source": [
    "## 3.1. <a id='toc3_1_'></a>[Vídeos de Apoio](#toc0_)\n",
    "\n",
    "| Thumb | Descrição |\n",
    "| --- | --- |\n",
    "| ![img](https://img.youtube.com/vi/jwE994Fc57I/default.jpg) | <sup>[Toda a Matemática]</sup><br>[__LOGARITMOS - Para que serve o assunto?__](https://www.youtube.com/watch?v=jwE994Fc57I)<br><sub>(17:45, YouTube, 03/Fev/2021)</sub> |\n",
    "| ![img](https://img.youtube.com/vi/BBYi0hOEjrA/default.jpg) | <sup>[Toda a Matemática]</sup><br>[__LOGARITMOS - 05 - Propriedades (1/5)__](https://www.youtube.com/watch?v=BBYi0hOEjrA)<br><sub>(8:21, YouTube, 18/Abr/2024)</sub> |\n",
    "\n",
    "&nbsp;"
   ]
  },
  {
   "cell_type": "markdown",
   "metadata": {},
   "source": [
    "# 5. <a id='toc5_'></a>[Aplicações](#toc0_)"
   ]
  },
  {
   "cell_type": "markdown",
   "metadata": {},
   "source": [
    "| Thumb | Descrição |\n",
    "| --- | --- |\n",
    "| ![img](https://img.youtube.com/vi/JFw9ihPyrMI/default.jpg) | <sup>[Professor Possani]</sup><br>[__Logaritmos. Onde vou usar?__](https://www.youtube.com/watch?v=JFw9ihPyrMI)<br><sub>(18:08, YouTube, 14/Mai/2023)</sub> |\n"
   ]
  }
 ],
 "metadata": {
  "language_info": {
   "name": "python"
  }
 },
 "nbformat": 4,
 "nbformat_minor": 2
}
