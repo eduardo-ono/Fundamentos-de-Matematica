{
 "cells": [
  {
   "cell_type": "markdown",
   "metadata": {},
   "source": [
    "\n",
    "<h1 align=\"center\">Coordenadas Cartesianas</h1>\n",
    "\n",
    "<h4 align=\"center\">Prof. Eduardo Ono</h4>\n",
    "\n",
    "&nbsp;\n",
    "\n",
    "# Coordenadas Cartesianas no Plano\n",
    "\n",
    "## Conceitos e Definições\n",
    "\n",
    "Sejam $x$ e $y$ dois eixos formados por duas retas perpendiculares em $O$, os quais determinam o plano $\\alpha$. Dado um ponto $P$ qualquer, com $P \\in \\alpha \\,$, podemos construir as retas $\\, x' / \\negmedspace / \\, x \\,$ e $\\, y' / \\negmedspace / \\, y \\,$ que contenham $P$, de modo que $P$ seja o ponto de interseção de $x'$ com $y'$.<br>\n",
    "Denominaremos por $P_1$ o ponto de interseção de $x$ com $y'$ e $P_2$ o ponto de interseção de $y$ com $x'$.\n",
    "\n",
    "Assim sendo, definimos:\n",
    "\n",
    "* O eixo das abscissas é o eixo $x$ (ou $Ox$).\n",
    "* O eixo das ordenadas é o eixo $y$ (ou $Oy$).\n",
    "* O sistema de eixos cartesiano ortogonal (ou ortonormal ou retangular) é o sistema $xOy$.\n",
    "* A origem do sistema é o ponto $O$.\n",
    "* O plano cartesiano é o plano $\\alpha$.\n",
    "* A abscissa de $P$ é o número real $\\, x_P \\,$ determinado pela projeção ortogonal de $P$ sobre o eixo $x$.\n",
    "* A ordenada de $P$ é o número real $\\, y_P \\,$ determinado pela projeção ortogonal de $P$ sobre o eixo $y$.\n",
    "* As coordenadas do ponto $P$ são os números reais $x_P$ e $y_P$, geralmente indicados na forma de um par ordenado $(x_P, y_P)$, em que $x_P$ é o primeiro termo. A notação para o ponto $P$ em função de suas coordenadas é dada por $\\, P(x_P, y_P) \\,$ ou $\\,P = (x_P, y_P) \\,$.\n",
    "\n",
    "&nbsp;\n"
   ]
  },
  {
   "cell_type": "markdown",
   "metadata": {},
   "source": []
  }
 ],
 "metadata": {
  "kernelspec": {
   "display_name": "base",
   "language": "python",
   "name": "python3"
  },
  "language_info": {
   "name": "python",
   "version": "3.12.1"
  }
 },
 "nbformat": 4,
 "nbformat_minor": 2
}
