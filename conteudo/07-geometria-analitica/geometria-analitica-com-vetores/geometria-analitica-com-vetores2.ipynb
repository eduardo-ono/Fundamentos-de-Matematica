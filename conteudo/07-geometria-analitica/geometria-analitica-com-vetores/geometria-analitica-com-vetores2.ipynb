{
 "cells": [
  {
   "cell_type": "markdown",
   "metadata": {},
   "source": [
    "\n",
    "&emsp; &emsp; Um vetor $\\vec v$ é denotado por uma letra minúscula com uma seta sobre a letra. É representado por um par ordenado:\n",
    "\n",
    "$$ \\vec v = (x, y) $$"
   ]
  },
  {
   "cell_type": "markdown",
   "metadata": {},
   "source": [
    "### Ângulo entre Dois vetores\n",
    "\n",
    "&emsp; &emsp; O ânulo entre dois vetores $\\, \\vec u = (x_1, y_1) \\,$ e $\\, \\vec v = (x_2, y_2) \\,$ é dado por\n",
    "\n",
    "$$ \\cos \\theta = \\frac{\\vec u \\cdot \\vec v}{|\\vec u| \\cdot | \\vec{v} |} $$"
   ]
  },
  {
   "cell_type": "markdown",
   "metadata": {},
   "source": [
    "&emsp; &emsp; O módulo de um vetor $\\vec v$ é o seu comprimento e é denominado módulo de v:\n",
    "\n",
    "$$ |\\vec v| = \\sqrt{x^2 + y^2} $$"
   ]
  },
  {
   "cell_type": "markdown",
   "metadata": {},
   "source": [
    "## Paralelismo de Vetores"
   ]
  },
  {
   "cell_type": "markdown",
   "metadata": {},
   "source": [
    "&emsp; &emsp; Sejam $\\, \\vec u = (x_1, y_1) \\,$ e $\\, \\vec v = (x_2, y_2) \\,$ dois vetores com $\\, \\vec u, \\vec v \\neq (0, 0) \\,$. O vetor $\\vec u$ é perpendicular ao vetor $\\vec v$ se, e somente se, $\\, x_1x_2 + y_1y_2 = 0  \\,$.\n",
    "\n",
    "__*Demonstração*__:\n",
    "\n",
    "* $ \\vec u \\perp \\vec v \\implies x_1x_2 - y_1y_2= 0 $\n",
    "\n",
    "&emsp; &emsp;  Seja $\\vec w$ o vetor formado pela subtração entre os vetores $\\vec v$ e $\\vec u$, ou seja, $\\vec w = \\vec v - \\vec u$. Se $\\vec u$ é perpendicular a $\\vec v$, então os vetores $\\vec u$, $\\vec v$ e $\\vec w$ formam um triângulo retângulo.<br>\n",
    "&emsp; &emsp; Pelo Teorema de Pitágoras, temos:\n",
    "\n",
    "$$ |\\vec w|^2 = |\\vec u|^2 + |\\vec w|^2 $$\n",
    "$$ \\left(\\sqrt{(x_2 - x_1)^2 + (y_2 - y_1)^2}\\right)^2 = \\left(\\sqrt{x_1^2 + y_1^2}\\right)^2 + \\left(\\sqrt{x_2^2 + y_2^2}\\right)^2 $$\n",
    "$$ x_2^2 - 2x_1x_2 + x_1^2 + y_2^2 - 2y_1y_2 + y_1^2 = x_1^2 + y_1^2 + x_2^2 + y_2^2 $$\n",
    "$$ 2x_1x_2 - 2y_1y_2 = 0 \\implies 2(x_1x_2 - y_1y_2) = 0 $$\n",
    "$$ \\text{Portanto, } x_1x_2 + y_1y_2 = 0 $$\n",
    "\n",
    "* $ x_1x_2 + y_1y_2 = 0 \\implies \\vec u \\perp \\vec v $\n",
    "\n",
    "&emsp; &emsp; É a \"volta\" da implicação anterior.\n",
    "\n",
    "&emsp; &emsp; Outra forma de demonstrar:\n",
    "\n",
    "&emsp; &emsp; Podemos considerar o vetor $\\vec u$ sobre a reta $\\, y_1 = a_1x_1 \\,$, que passa pela origem. Da mesma forma, o vetor $\\vec v$ está sobre a reta $\\, y_2 = a_2x_2 \\,$. Então, $\\, y_1/x_1 = a_1 \\,$ e $\\, y_2/x_2 = a_2 \\,$. Reescrevendo a hipótese $\\, x_1x_2 = -y_1y_2 \\,$ como $\\, y_1/x_1 = -x_2/y_2 \\,$, então  $\\, a_1 = -1/a_2 \\,$. Portanto, como as retas são perpendiculares, os vetores também são perpendiculares. \n"
   ]
  },
  {
   "cell_type": "markdown",
   "metadata": {},
   "source": [
    "## Distância de um Ponto a uma Reta\n",
    "\n",
    "&emsp; &emsp; Seja $r$ uma reta e um ponto $P = (x_0, y_0)$ fora da reta $r$.\n",
    "\n"
   ]
  }
 ],
 "metadata": {
  "kernelspec": {
   "display_name": "base",
   "language": "python",
   "name": "python3"
  },
  "language_info": {
   "name": "python",
   "version": "3.12.1"
  }
 },
 "nbformat": 4,
 "nbformat_minor": 2
}
