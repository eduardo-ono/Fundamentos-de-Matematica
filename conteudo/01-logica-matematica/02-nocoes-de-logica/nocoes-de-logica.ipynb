{
 "cells": [
  {
   "cell_type": "markdown",
   "metadata": {},
   "source": [
    "&nbsp;\n",
    "\n",
    "---\n",
    "\n",
    "$$ \n",
    "\\ \\\\[18pt]\n",
    "\\text{\\Large Capítulo 1}\n",
    "$$\n",
    "\n",
    "$$\n",
    "\\text{\\LARGE Noções de Lógica}\n",
    "\\ \\\\[18pt]\n",
    "$$\n",
    "\n",
    "---\n",
    "\n",
    "$$ \\text{Capítulo ?} - \\text{Noções de Linguagem Matemática} $$"
   ]
  },
  {
   "cell_type": "markdown",
   "metadata": {},
   "source": [
    "__Sumário__<a id='toc0_'></a>    \n",
    "- 1. [Introdução](#toc1_)    \n",
    "- 2. [Conceitos](#toc2_)    \n",
    "  - 2.1. [Definição. (Proposição)](#toc2_1_)    \n",
    "  - 2.2. [Variáveis Lógicas](#toc2_2_)    \n",
    "- 3. [Proposições](#toc3_)    \n",
    "  - 3.1. [Negação (~)](#toc3_1_)    \n",
    "    - 3.1.1. [Vídeos de Apoio](#toc3_1_1_)    \n",
    "  - 3.2. [Conjunção (\"e\")](#toc3_2_)    \n",
    "  - 3.3. [Disjunção (\"ou\")](#toc3_3_)    \n",
    "    - 3.3.1. [Implicação de $p$ em $q$](#toc3_3_1_)    \n",
    "    - 3.3.2. [Bicondicional (se, e somente se)](#toc3_3_2_)    \n",
    "    - 3.3.3. [Composições de Proposições Mais Utilizadas](#toc3_3_3_)    \n",
    "    - 3.3.4. [Negação da Negação](#toc3_3_4_)    \n",
    "  - 3.4. [Vídeos de Apoio](#toc3_4_)    \n",
    "  - 3.5. [Tautologia](#toc3_5_)    \n",
    "    - 3.5.1. [Exemplos](#toc3_5_1_)    \n",
    "      - 3.5.1.1. [São exemplos de tautologia](#toc3_5_1_1_)    \n",
    "  - 3.6. [Modus Ponens e Modus tollens](#toc3_6_)    \n",
    "- 4. [Teorema](#toc4_)    \n",
    "\n",
    "<!-- vscode-jupyter-toc-config\n",
    "\tnumbering=true\n",
    "\tanchor=true\n",
    "\tflat=false\n",
    "\tminLevel=1\n",
    "\tmaxLevel=5\n",
    "\t/vscode-jupyter-toc-config -->\n",
    "<!-- THIS CELL WILL BE REPLACED ON TOC UPDATE. DO NOT WRITE YOUR TEXT IN THIS CELL -->"
   ]
  },
  {
   "cell_type": "markdown",
   "metadata": {},
   "source": [
    "&nbsp;\n",
    "\n",
    "---\n",
    "\n",
    "# 1. <a id='toc1_'></a>[Introdução](#toc0_)\n",
    "\n",
    "\n",
    "\n",
    "\n"
   ]
  },
  {
   "cell_type": "markdown",
   "metadata": {},
   "source": [
    "Pensamento Analítico vs. Pensamento Dialético\n",
    "\n",
    "O modo Analítico é focado em partes pequenas do discurso, as proposições, que devem ser quebradas em partes menores ainda para que sejam avaliadas, classificadas e assim obter-se a verdade, que, para o Analítico, é um pedacinho de ouro escondido nos átomos do pensamento. Se você adota um filosofar analítico valoriza acima de tudo a clareza e precisão do seu discurso, mas talvez perca o quadro maior do pensamento. Aristóteles foi o primeiro filósofo Analítico. Depois dele: Tomás de Aquino, Descartes, Kant, Wittgenstein, etc.\n",
    "\n",
    "O modo Dialético envolve pegar várias ideias presentes em discursos e juntar, criar uma síntese, na esperança de que a verdade esteja no todo. Se você adota uma filosofia dialética sempre estará aberto a novas ideias, mas talvez não seja tão claro e preciso no seu discurso. Heráclito foi o primeiro filósofo dialético. Depois dele: Platão, Agostinho, Hegel, etc.\n",
    "\n",
    "Em resumo: o analítico procura a verdade nas partes, de baixo pra cima; o dialético vê a verdade no todo, de cima pra baixo."
   ]
  },
  {
   "cell_type": "markdown",
   "metadata": {},
   "source": [
    "# 2. <a id='toc2_'></a>[Conceitos](#toc0_)"
   ]
  },
  {
   "cell_type": "markdown",
   "metadata": {},
   "source": [
    "## 2.1. <a id='toc2_1_'></a>[Definição. (Proposição)](#toc0_)\n",
    "\n",
    "&emsp; &emsp; Representada por uma letra minúscula (ex. $p$, $q$, $r$, $s$, $\\ldots$).\n",
    "\n",
    "## 2.2. <a id='toc2_2_'></a>[Variáveis Lógicas](#toc0_)\n",
    "\n",
    "&emsp; &emsp; Em linguagens de programação de computadores, uma variável lógica, quando ela existe, é comumente chamada de variável \"booleana\" (George Boole)."
   ]
  },
  {
   "cell_type": "markdown",
   "metadata": {},
   "source": [
    "&nbsp;\n",
    "\n",
    "---\n",
    "\n",
    "# 3. <a id='toc3_'></a>[Proposições](#toc0_)"
   ]
  },
  {
   "cell_type": "markdown",
   "metadata": {},
   "source": [
    "## 3.1. <a id='toc3_1_'></a>[Negação (~)](#toc0_)\n",
    "\n",
    "Tabela Verdade\n",
    "| p | ~p |\n",
    "|:-:|:--:|\n",
    "| V | F  |\n",
    "| F | V  |\n"
   ]
  },
  {
   "cell_type": "markdown",
   "metadata": {},
   "source": [
    "### 3.1.1. <a id='toc3_1_1_'></a>[Vídeos de Apoio](#toc0_)\n",
    "\n",
    "| Thumb | Descrição |\n",
    "| --- | --- |\n",
    "| ![img](https://img.youtube.com/vi/OHI_oow77Ho/default.jpg) | <sup>[Portal da Matemática OBMEP]</sup><br>[__A Negação__](https://www.youtube.com/watch?v=OHI_oow77Ho)<br><sub>(9:07, YouTube, 24/Mai/2019)</sub> |\n"
   ]
  },
  {
   "cell_type": "markdown",
   "metadata": {},
   "source": [
    "## 3.2. <a id='toc3_2_'></a>[Conjunção (\"e\")](#toc0_)\n",
    "\n",
    "| p | q | $p \\land  q$ |\n",
    "|:-:|:-:|:------:|\n",
    "| V | V |   F    |\n",
    "| V | F |   V    |\n",
    "| F | V |   V    |\n",
    "| F | F |   V    |\n"
   ]
  },
  {
   "cell_type": "markdown",
   "metadata": {},
   "source": [
    "## 3.3. <a id='toc3_3_'></a>[Disjunção (\"ou\")](#toc0_)\n",
    "\n",
    "| p | q | $p \\lor  q$ |\n",
    "|:-:|:-:|:------:|\n",
    "| V | V |   V    |\n",
    "| V | F |   V    |\n",
    "| F | V |   V    |\n",
    "| F | F |   F    |\n"
   ]
  },
  {
   "cell_type": "markdown",
   "metadata": {},
   "source": [
    "### 3.3.1. <a id='toc3_3_1_'></a>[Implicação de $p$ em $q$](#toc0_)\n",
    "\n",
    "| $p$ | $q$ | $p \\longrightarrow q$ |\n",
    "|:---:|:---:|:---------:|\n",
    "|  V  |  V  |     V     |\n",
    "|  V  |  F  |     F     |\n",
    "|  F  |  V  |     V     |\n",
    "|  F  |  F  |     V     |\n",
    "\n",
    "* $p$: &nbsp; João é Curitibano.\n",
    "* $q$: &nbsp; João é Brasileiro.\n",
    "\n",
    "* Interpretações\n",
    "  * Se João é Curitibano, então João é Brasileiro. (V)\n",
    "  * Se João é Curitibano, então João não é Brasileiro. (F)\n",
    "  * Se João não é Curitibano, então João é Brasileiro. (V)\n",
    "  * se João não é Curitibano, então João não é Brasileiro. (V)\n"
   ]
  },
  {
   "cell_type": "markdown",
   "metadata": {},
   "source": [
    "### 3.3.2. <a id='toc3_3_2_'></a>[Bicondicional (se, e somente se)](#toc0_)\n",
    "\n",
    "| $p$ | $q$ | $p \\longleftrightarrow q$ |\n",
    "|:---:|:---:|:---------------------:|\n",
    "|  V  |  V  |           V           |\n",
    "|  V  |  F  |           F           |\n",
    "|  F  |  F  |           V           |\n",
    "|  F  |  V  |           V           |\n"
   ]
  },
  {
   "cell_type": "markdown",
   "metadata": {},
   "source": [
    "&emsp; &emsp; Em Eletrônica e Computação existem dispositivos eletrônicos denominadas Portas Lógicas que operam segundo as tabelas lógicas \"E\" e \"OU\". Nessas tabelas, o valor lógico V assume o valor 1 e o valor F assume o valor 0 (zero).\n",
    "\n",
    "Tabela da Negação (Porta \"Inversora\")\n",
    "\n",
    "| $p$ | $\\sim p$ |\n",
    "|:-:|:--:|\n",
    "| 0 | 1  |\n",
    "| 1 | 0  |"
   ]
  },
  {
   "cell_type": "markdown",
   "metadata": {},
   "source": [
    "Tabela \"E\" (ou \"AND\")\n",
    "\n",
    "| $p$ | $q$ | $p \\cdot  q$ |\n",
    "|:-:|:-:|:------:|\n",
    "| 0 | 0 |   0    |\n",
    "| 0 | 1 |   0    |\n",
    "| 1 | 0 |   0    |\n",
    "| 1 | 1 |   1    |\n"
   ]
  },
  {
   "cell_type": "markdown",
   "metadata": {
    "slideshow": {
     "slide_type": "slide"
    }
   },
   "source": [
    "Tabela \"OU\" (\"OR\")\n",
    "\n",
    "| $p$ |$q$ | $p +  q$ |\n",
    "|:-:|:-:|:------:|\n",
    "| 0 | 0 |   0    |\n",
    "| 0 | 1 |   1    |\n",
    "| 1 | 0 |   1    |\n",
    "| 1 | 1 |   1    |\n"
   ]
  },
  {
   "cell_type": "markdown",
   "metadata": {},
   "source": [
    "Quantidade de Interpretações em Função do Número de Variáveis\n",
    "\n",
    "| Número de Variáveis | Quantidade de Interpretações |\n",
    "| :-: | :-: |\n",
    "| 1 | 2 |\n",
    "| 2 | 4 |\n",
    "| 3 | 8 |\n",
    "| 4 | 16 |\n",
    "| 5 | 32 |\n",
    "| ... | ... |\n",
    "\n",
    "&emsp; &emsp; O núemro de interpretações é dado por:\n",
    "\n",
    "$$ interp = 2^N $$\n",
    " "
   ]
  },
  {
   "cell_type": "markdown",
   "metadata": {},
   "source": [
    "### 3.3.3. <a id='toc3_3_3_'></a>[Composições de Proposições Mais Utilizadas](#toc0_)"
   ]
  },
  {
   "cell_type": "markdown",
   "metadata": {},
   "source": [
    "### 3.3.4. <a id='toc3_3_4_'></a>[Negação da Negação](#toc0_)\n",
    "\n",
    "| $p$ | $~p$ | $\\sim(\\sim p)$ |\n",
    "|:---:|:----:|:-------:|\n",
    "|  V  |  F   |    V    |\n",
    "|  F  |  V   |    F    |\n"
   ]
  },
  {
   "cell_type": "markdown",
   "metadata": {},
   "source": [
    "## 3.4. <a id='toc3_4_'></a>[Vídeos de Apoio](#toc0_)\n",
    "\n",
    "| Thumb | Descrição |\n",
    "| --- | --- |\n",
    "| ![img](https://img.youtube.com/vi/6v_T0cVy9ac/default.jpg) | <sup>[Instituto de Matemática Pura e Aplicada]</sup><br>[__PAPMEM - Janeiro de 2019 - Lógica para o Ensino Médio__](https://www.youtube.com/watch?v=6v_T0cVy9ac)<br><sub>(1:22:30, YouTube, 21/Jan/2019)</sub> |\n"
   ]
  },
  {
   "cell_type": "markdown",
   "metadata": {},
   "source": [
    "## 3.5. <a id='toc3_5_'></a>[Tautologia](#toc0_)"
   ]
  },
  {
   "cell_type": "markdown",
   "metadata": {},
   "source": [
    "&emsp; &emsp; Uma tautologia é \n",
    "\n",
    "&emsp; &emsp; Seja p uma proposição. Quaisquer que sejam os valores das variáveis proposicionais, a interpretação é sempre verdadeiro."
   ]
  },
  {
   "cell_type": "markdown",
   "metadata": {},
   "source": [
    "### 3.5.1. <a id='toc3_5_1_'></a>[Exemplos](#toc0_)"
   ]
  },
  {
   "cell_type": "markdown",
   "metadata": {},
   "source": [
    "#### 3.5.1.1. <a id='toc3_5_1_1_'></a>[São exemplos de tautologia](#toc0_)\n",
    "\n",
    "$ s: \\left( (p \\longrightarrow q) \\land (q \\longrightarrow r) \\right) \\longrightarrow (p \\longrightarrow r)$\n",
    "\n",
    "| $p$ | $q$ | $r$ | $p \\to q$ | $q \\to r$ | $(p \\to q) \\land (q \\to r)$ | $p \\to r$ | $s$ |\n",
    "|:---:|:---:|:---:|:---------:|:---------:|:---------------------------:|:---------:|:---:|\n",
    "|  V  |  V  |  V  |     V     |     V     |              V              |     V     |  V  |\n",
    "|  V  |  V  |  F  |     V     |     F     |              F              |     F     |  V  |\n",
    "|  V  |  F  |  V  |     F     |     V     |              F              |     V     |  V  |\n",
    "|  V  |  F  |  F  |     F     |     V     |              F              |     F     |  V  |\n",
    "|  F  |  V  |  V  |     V     |     V     |              V              |     V     |  V  |\n",
    "|  F  |  V  |  F  |     V     |     F     |              F              |     V     |  V  |\n",
    "|  F  |  F  |  V  |     V     |     V     |              V              |     V     |  V  |\n",
    "|  F  |  F  |  F  |     V     |     V     |              V              |     V     |  V  |\n",
    "\n",
    "&emsp; &emsp; Seja $\\triangle ABC$ um triângulo retâgulo onde $a$ é a hipotenusa e $b$ e $c$ os catetos.\n",
    "\n",
    "* $p$: &nbsp; O triângulo $\\triangle ABC$ é retângulo.\n",
    "* $q$: &nbsp; $a^2 = b^2 + c^2$\n",
    "* $r$: &nbsp; Área do $\\triangle ABC = \\cfrac{b \\cdot c}{2}$\n",
    "* $p \\land q$: &nbsp; Se O triângulo $\\triangle ABC$ é retângulo, então $a^2 = b^2 + c^2$.\n",
    "\n",
    "&emsp; &emsp; Se $\\triangle ABC$ é retângulo, então $\\,a^2 = b^2 + c^2\\,$ e se $\\,a^2 = b^2 + c^2\\,$, então a área do $\\triangle ABC$ é igual a $\\,\\cfrac{b \\cdot c}{2}\\,$. Portanto, se $\\triangle ABC$ é retângulo, então sua área é igual a $\\,\\cfrac{b \\cdot c}{2}\\,$."
   ]
  },
  {
   "cell_type": "markdown",
   "metadata": {},
   "source": [
    "## 3.6. <a id='toc3_6_'></a>[Modus Ponens e Modus tollens](#toc0_)\n",
    "\n",
    "No modus ponens, a implicação é usada para provar que a consequência é verdadeira ao demonstrar que a premissa é verdadeira. No modus tollens, a implicação é usada para provar que a premissa é falsa ao demonstrar que a consequência é falsa."
   ]
  },
  {
   "cell_type": "markdown",
   "metadata": {},
   "source": [
    "# 4. <a id='toc4_'></a>[Teorema](#toc0_)"
   ]
  },
  {
   "cell_type": "markdown",
   "metadata": {},
   "source": [
    "&emsp; &emsp; __`Definição.`__ &nbsp; Um __Teorema__ é uma afirmação que requer uma demonstração."
   ]
  }
 ],
 "metadata": {
  "authors": [
   {
    "name": "Prof. Eduardo Ono"
   }
  ],
  "kernelspec": {
   "display_name": "base",
   "language": "python",
   "name": "python3"
  },
  "language_info": {
   "codemirror_mode": {
    "name": "ipython",
    "version": 3
   },
   "file_extension": ".py",
   "mimetype": "text/x-python",
   "name": "python",
   "nbconvert_exporter": "python",
   "pygments_lexer": "ipython3",
   "version": "3.12.1"
  },
  "title": "--- {Módulo 1} ---\fConjuntos e Funções\f---"
 },
 "nbformat": 4,
 "nbformat_minor": 2
}
