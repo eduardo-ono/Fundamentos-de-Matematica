{
 "cells": [
  {
   "cell_type": "markdown",
   "metadata": {},
   "source": [
    "$$ \\text{------\\{ Módulo 1 \\}------} $$\n",
    "\n",
    "$$ \\text{Noções de Linguagem Matemática} $$"
   ]
  },
  {
   "cell_type": "markdown",
   "metadata": {},
   "source": [
    "__Sumário__<a id='toc0_'></a>    \n",
    "- 1. [Introdução](#toc1_)    \n",
    "- 2. [Simbologia](#toc2_)    \n",
    "- 3. [Vídeos de Apoio](#toc3_)    \n",
    "- 4. [Definição (O que é uma definição?)](#toc4_)    \n",
    "  - 4.1. [Vídeos de Apoio](#toc4_1_)    \n",
    "- 5. [Implicação](#toc5_)    \n",
    "\n",
    "<!-- vscode-jupyter-toc-config\n",
    "\tnumbering=true\n",
    "\tanchor=true\n",
    "\tflat=false\n",
    "\tminLevel=1\n",
    "\tmaxLevel=5\n",
    "\t/vscode-jupyter-toc-config -->\n",
    "<!-- THIS CELL WILL BE REPLACED ON TOC UPDATE. DO NOT WRITE YOUR TEXT IN THIS CELL -->"
   ]
  },
  {
   "cell_type": "markdown",
   "metadata": {},
   "source": [
    "# 1. <a id='toc1_'></a>[Introdução](#toc0_)\n",
    "\n",
    "* Joãozinho é Curitibano, então Joãozinho é Brasileiro.\n",
    "\n",
    "  * $p: \\text{Joãozinho é Curitibano.}$\n",
    "  * $q: \\text{Joãozinho é Brasileiro.}$\n",
    "  * $p \\land q: \\quad p \\longrightarrow q$\n",
    "  \n",
    "Em linguagem Matemática:\n",
    "\n",
    "  * $ \\text{Joãozinho é Curitibano} \\implies \\text{Joãozinho é Brasileiro} \\,$."
   ]
  },
  {
   "cell_type": "markdown",
   "metadata": {
    "slideshow": {
     "slide_type": "slide"
    }
   },
   "source": [
    "* Se $x$ for um número negativo, então o seu quadrado é um número positivo.\n",
    "\n",
    "  * $ x < 0 \\implies x^2 > 0 $\n",
    "\n",
    "* Se um número natural é par, então o seu quadrado é par.\n",
    "\n",
    "  * $ n \\in \\Bbb N, \\ n \\text{ é par} \\implies n^2 \\text{ é par} $\n",
    "  * Se um número natural é múltiplo de dois, então o seu quadrado também é múltiplo de dois.\n",
    "  "
   ]
  },
  {
   "cell_type": "markdown",
   "metadata": {},
   "source": [
    "* Se um número natural é par, então o seu quadrado é também é par.\n",
    "\n",
    "Definição de um número par:\n",
    "\n",
    "* Um número é par se terminar em 0 ou 2 ou 4 ou 6 ou 8, ou seja, se seu último algarismo for 0, 2, 4, 6, ou 8.\n",
    "* Um número é par se for múltiplo de dois.\n",
    "* Um número é mar se for divisível por 2."
   ]
  },
  {
   "cell_type": "markdown",
   "metadata": {},
   "source": [
    "# 2. <a id='toc2_'></a>[Simbologia Matemática](#toc0_)"
   ]
  },
  {
   "cell_type": "markdown",
   "metadata": {},
   "source": [
    "| Símbolo | Tradução | Exemplo |\n",
    "|:-: | --- | --- |\n",
    "| $;$ | tal que | |\n",
    "| $\\forall$ | para todo | $\\forall x \\in \\Bbb R,\\ x^2 \\ge 0$ |\n",
    "| $\\exists$ | existe | $\\exists \\, x \\in \\Bbb C; x^2 = -1 $<br>$\\not\\exists x \\in Bbb R ; x^2 = -1$|\n",
    "| $\\implies$ | implica | $x > 1 \\implies \\frac 1 x < 1$ |\n",
    "| $\\iff$ | se, e somente se | $\\triangle \\ $ é retângulo $\\ \\iff \\ a^2 = b^2 + c^2\\,$.   |\n",
    "| $\\therefore$ | portanto |  O polígono $P$ tem 3 lados $\\therefore$ $P$ é triângulo. |"
   ]
  },
  {
   "cell_type": "markdown",
   "metadata": {
    "slideshow": {
     "slide_type": "subslide"
    }
   },
   "source": [
    "## 3. <a id='toc3_'></a>[Vídeos de Apoio](#toc0_)\n",
    "\n",
    "| Thumb | Descrição |\n",
    "| --- | --- |\n",
    "| ![img](https://img.youtube.com/vi/tiARjzPh2pI/default.jpg) | <sup>[Portal da Matemática OBMEP]</sup><br>[__O que é Lógica Matemática?__](https://www.youtube.com/watch?v=tiARjzPh2pI)<br><sub>(8:16, YouTube, 24/Mai/2019)</sub> |\n"
   ]
  },
  {
   "cell_type": "markdown",
   "metadata": {},
   "source": [
    "# 4. <a id='toc4_'></a>[Definição (O que é uma definição?)](#toc0_)\n",
    "\n",
    "__`Definição.`__ Um "
   ]
  },
  {
   "cell_type": "markdown",
   "metadata": {
    "slideshow": {
     "slide_type": "subslide"
    }
   },
   "source": [
    "## 4.1. <a id='toc4_1_'></a>[Vídeos de Apoio](#toc0_)\n",
    "\n",
    "| Thumb | Descrição |\n",
    "| --- | --- |\n",
    "| ![img](https://img.youtube.com/vi/18iD4hgRh-U/default.jpg) | <sup>[Portal da Matemática OBMEP]</sup><br>[__Definição__](https://www.youtube.com/watch?v=18iD4hgRh-U)<br><sub>(14:34, YouTube, 24/Mai/2019)</sub> |\n"
   ]
  },
  {
   "cell_type": "markdown",
   "metadata": {},
   "source": [
    "# 5. <a id='toc5_'></a>[Implicação](#toc0_)\n",
    "\n",
    "Há diferentes maneiras de se ler a relação P\n",
    "Q. Pode-se\n",
    "dizer “P implica Q,\n",
    "” “seP então Q ”,“P é condição suficiente para\n",
    "Q ”, “Q é condição necessária para P” ou “P somente se Q ”"
   ]
  },
  {
   "cell_type": "markdown",
   "metadata": {},
   "source": [
    "# Teorema\n",
    "\n",
    "&emsp; &emsp; Um __Teorema__ é uma afirmação relevante que pode ser provada como verdadeira, por meio de axiomas (postulados) ou de outras afirmaçãoes já demonstradas."
   ]
  },
  {
   "cell_type": "markdown",
   "metadata": {},
   "source": [
    "# Lema\n",
    "\n",
    "&emsp; &emsp; Um __Lema__ é um afirmação que pode ser provada e que antecede um Teorema, com a função de auxiliar a demonstração do mesmo."
   ]
  },
  {
   "cell_type": "markdown",
   "metadata": {},
   "source": [
    "# Técnicas de Demonstração"
   ]
  },
  {
   "cell_type": "markdown",
   "metadata": {},
   "source": [
    "### Demonstrações Informais\n",
    "\n",
    "&emsp; &emsp; Para mostrar que uma conjectura é falsa, basta mostrar um __contra-exemplo__."
   ]
  },
  {
   "cell_type": "markdown",
   "metadata": {},
   "source": [
    "Exemplos:\n",
    "\n",
    "* Todo número primo é ímpar. (F)\n",
    "  * Contra-exemplo: Dois é um número primo e é par."
   ]
  },
  {
   "cell_type": "markdown",
   "metadata": {
    "slideshow": {
     "slide_type": "subslide"
    }
   },
   "source": [
    "### Vídeos de Apoio\n",
    "\n",
    "| Thumb | Descrição |\n",
    "| --- | --- |\n",
    "| ![img](https://img.youtube.com/vi/6k3mTyaRfd4/default.jpg) | <sup>[UNIVESP]</sup><br>[__Fundamentos Matemáticos para Computação - Técnicas de Demonstração__](https://www.youtube.com/watch?v=6k3mTyaRfd4)<br><sub>(21:46, YouTube, 03/Mar/2021)</sub> |\n"
   ]
  }
 ],
 "metadata": {
  "kernelspec": {
   "display_name": "base",
   "language": "python",
   "name": "python3"
  },
  "language_info": {
   "name": "python",
   "version": "3.12.1"
  }
 },
 "nbformat": 4,
 "nbformat_minor": 2
}
