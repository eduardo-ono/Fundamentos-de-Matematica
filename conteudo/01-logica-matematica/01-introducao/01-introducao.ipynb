{
 "cells": [
  {
   "cell_type": "markdown",
   "metadata": {},
   "source": []
  },
  {
   "cell_type": "markdown",
   "metadata": {},
   "source": [
    "## Tipos de Raciocínio\n",
    "\n",
    "* Dedutivo\n",
    "\n",
    "  * \"Todo homem é mortal.\"<br>\"Sócrates é homem.\"<br>\"Logo, Sócrates é mortal.\"\n",
    "* Indutivo\n",
    "* Abdutivo"
   ]
  },
  {
   "cell_type": "markdown",
   "metadata": {},
   "source": [
    "## Referências"
   ]
  },
  {
   "cell_type": "markdown",
   "metadata": {},
   "source": [
    "### Vídeos\n",
    "\n",
    "| Thumb | Descrição |\n",
    "| --- | --- |\n",
    "| ![img](https://img.youtube.com/vi/jCLKohr7NJk/default.jpg) | <sup>[Daniel Martins de Barros]</sup><br>[__Diferença entre raciocínio dedutivo e raciocínio indutivo__](https://www.youtube.com/watch?v=jCLKohr7NJk)<br><sub>(16:56, YouTube, 24/Ago/2022)</sub> |\n",
    "| ![img](https://img.youtube.com/vi/-1_8b9SdiFU/default.jpg) | <sup>[EXATAS PRA GABARITAR]</sup><br>[__TIPOS DE RACIOCÍNIO \\| DEDUÇÃO, INDUÇÃO E ABDUÇÃO.__](https://www.youtube.com/watch?v=-1_8b9SdiFU)<br><sub>(1:54:53, YouTube, 04/Jun/2022)</sub> |\n",
    "\n",
    "\n"
   ]
  }
 ],
 "metadata": {
  "language_info": {
   "name": "python"
  }
 },
 "nbformat": 4,
 "nbformat_minor": 2
}
