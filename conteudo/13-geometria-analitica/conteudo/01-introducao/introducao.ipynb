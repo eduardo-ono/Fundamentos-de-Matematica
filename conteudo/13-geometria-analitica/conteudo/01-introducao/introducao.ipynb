{
 "cells": [
  {
   "cell_type": "markdown",
   "metadata": {},
   "source": [
    "<sup>Fundamentos de Matemática</sup>\n",
    "<img alt=\"\" width=\"100%\" height=\"2px\" align=\"right\">\n",
    "\n",
    "&nbsp;\n",
    "\n",
    "<h4>\n",
    "\n",
    "$$\n",
    "\\text{---\\{ Geometria Analítica \\}---}\n",
    "\\\\[24pt]\n",
    "$$\n",
    "\n",
    "</h4>\n",
    "\n",
    "<h1 align=\"center\">Introdução</h1>\n",
    "<h4 align=\"center\">Prof. Eduardo Ono</h4>\n",
    "<h6 align=\"center\">Atualizado em: 14/01/2025</h6>"
   ]
  },
  {
   "cell_type": "markdown",
   "metadata": {},
   "source": [
    "## Axiomas\n",
    "\n",
    "* Existe ponto;\n",
    "* Existe reta;\n",
    "* Existe plano."
   ]
  },
  {
   "cell_type": "markdown",
   "metadata": {},
   "source": [
    "## Definições Preliminares\n",
    "\n",
    "### Distância\n",
    "\n",
    "* Dados dois pontos $A$ e $B$ quaisquer, chama-se __*distância*__ entre os pontos $A$ e $B$ o comprimento do segmento de reta $\\overline{AB}$. Escrevemos $d(A,B)$ para indicar essa distância, que é um número real.\n",
    "\n",
    "  * Propriedades:\n",
    "\n",
    "    * $d(A,A) = 0$\n",
    "    * Se $A \\neq B$, então $d(A,B) > 0$\n",
    "    * $d(A,B) = d(B,A)$\n",
    "    * $C \\in \\overline{AB} \\iff d(A,C) = d(C,B) + d(A,B)$\n",
    "\n",
    "\n",
    "### Eixo\n",
    "\n",
    "Uma __reta__ diz-se __orientada__ quando sobre ela se escolheu um sentido de percurso, chamado positivo; o sentido inverso chama-se negativo. Numa reta orientada, diz-se que o ponto B está à direita do ponto A (portanto A está à esquerda de B) quando o sentido de percurso de A para B é positivo.<sup>[Lima-2005]</sup>\n",
    "\n",
    "* Um __*eixo*__ é uma reta orientada na qual se fixou um ponto $O$, chamado a __origem__.<sup>[Lima-2005]</sup>"
   ]
  },
  {
   "cell_type": "markdown",
   "metadata": {},
   "source": [
    "## Coordenadas Cartesianas no Plano"
   ]
  },
  {
   "cell_type": "markdown",
   "metadata": {},
   "source": [
    "Um __*sistema de coordenadas cartesianas no plano*__ consiste num par de eixos perpendiculares $OX$ e $OY$ contidos nesse plano, com a mesma origem $O$. $OX$ chama-se o __eixo das abcissas__ e $OY$ é o __eixo das ordenadas__. O sistema é indicado com a notação $OXY$.\n",
    "\n",
    "Dado um ponto $P$ qualquer do plano cartesiano, seja $x_P$ a projeção ortogonal de $P$ sobre o eixo $x$ (eixo das abscissas) e $y_P$ a projeção ortogonal de $P$ sobre o eixo $y$ (eixo das ordenadas). Então, o ponto $P$ pode ser escrito em função de suas coordenadas cartesianas."
   ]
  },
  {
   "cell_type": "markdown",
   "metadata": {},
   "source": [
    "## Notações"
   ]
  },
  {
   "cell_type": "markdown",
   "metadata": {},
   "source": [
    "Um ponto é denotado por uma letra maiúscula. As coordenadas de um ponto podem ser indicadas através das seguintes formas:\n",
    "\n",
    "$$\n",
    "P(x_P, y_P) \\quad \\text{ou} \\quad P = (x_P, y_P)\n",
    "$$\n",
    "\n",
    "Normalmente, quando o ponto já está identificado, podemos simplificar a notação:\n",
    "\n",
    "$$\n",
    "P(x, y) \\quad \\text{ou} \\quad P = (x, y)\n",
    "$$\n",
    "\n",
    "onde $x$ é a abscissa do ponto $P$ e $y$ é a ordenada do ponto $P$.\n",
    "\n",
    "OBS.: O separador decimal é o mesmo do separador das coordenadas. No caso da coordenada possuir casas decimais, o separador das coordenadas pode ser o ponto-e-vírgula.\n",
    "\n",
    "Exemplo:\n",
    "\n",
    "$$\n",
    "P = (\\text{3,8}; \\text{7,1})\n",
    "$$"
   ]
  },
  {
   "cell_type": "markdown",
   "metadata": {},
   "source": [
    "## Referências"
   ]
  },
  {
   "cell_type": "markdown",
   "metadata": {},
   "source": [
    "* [Lima-2005] Lima, Elon Lages; Carvalho, Paulo Cezar Pinto; Wagner, Eduardo; Morgado, Augusto César, __A Matemática do Ensino Médio__, Vol. 3, 5ª Edição, Coleção do Professor de Matemática, 2005."
   ]
  }
 ],
 "metadata": {
  "kernelspec": {
   "display_name": "base",
   "language": "python",
   "name": "python3"
  },
  "language_info": {
   "codemirror_mode": {
    "name": "ipython",
    "version": 3
   },
   "file_extension": ".py",
   "mimetype": "text/x-python",
   "name": "python",
   "nbconvert_exporter": "python",
   "pygments_lexer": "ipython3",
   "version": "3.12.1"
  }
 },
 "nbformat": 4,
 "nbformat_minor": 2
}
