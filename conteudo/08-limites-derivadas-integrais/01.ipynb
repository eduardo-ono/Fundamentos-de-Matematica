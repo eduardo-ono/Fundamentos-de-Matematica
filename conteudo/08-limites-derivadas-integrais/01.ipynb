{
 "cells": [
  {
   "cell_type": "markdown",
   "metadata": {},
   "source": [
    "$$ \\text{\\LARGE Capítulo 1} $$\n",
    "$$ \\text{\\LARGE Noções de Limite}$$\n",
    "\n",
    "&nbsp;"
   ]
  },
  {
   "cell_type": "markdown",
   "metadata": {},
   "source": [
    "# Somas Infinitas"
   ]
  },
  {
   "cell_type": "markdown",
   "metadata": {},
   "source": [
    "#### Exemplo. &nbsp; Mostre que $0,99999 \\ldots = 1$.\n",
    "\n",
    "$$\n",
    "\\begin{align*}\n",
    "x &= 0,99999 \\ldots \\\\\n",
    "10x &= 9,9999 \\ldots \\\\\n",
    "10x &= 9 + (0,9 + 0,09 + 0,009 + \\ldots ) \\\\\n",
    "10x &= 9 + x \\\\\n",
    "10x - x &= 9 \\\\\n",
    "9x &= 9 \\\\\n",
    "x &= 1\n",
    "\\end{align*}\n",
    "$$\n"
   ]
  }
 ],
 "metadata": {
  "kernelspec": {
   "display_name": "base",
   "language": "python",
   "name": "python3"
  },
  "language_info": {
   "name": "python",
   "version": "3.12.1"
  }
 },
 "nbformat": 4,
 "nbformat_minor": 2
}
