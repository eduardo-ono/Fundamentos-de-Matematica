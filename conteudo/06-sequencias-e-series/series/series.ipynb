{
 "cells": [
  {
   "cell_type": "markdown",
   "metadata": {},
   "source": []
  },
  {
   "cell_type": "markdown",
   "metadata": {},
   "source": [
    "### Vídeos de Apoio\n",
    "\n",
    "| Thumb | Descrição |\n",
    "| :-: | --- |\n",
    "| ![img](https://img.youtube.com/vi/JPsaS5nJxdU/default.jpg) | <sup>[Professor Possani]</sup><br>[__Somas Infinitas__](https://www.youtube.com/watch?v=JPsaS5nJxdU)<br><sub>(12:28, YouTube, 09/Mar/2025)</sub> |"
   ]
  }
 ],
 "metadata": {
  "kernelspec": {
   "display_name": "base",
   "language": "python",
   "name": "python3"
  },
  "language_info": {
   "name": "python",
   "version": "3.12.1"
  }
 },
 "nbformat": 4,
 "nbformat_minor": 2
}
