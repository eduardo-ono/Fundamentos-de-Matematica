{
 "cells": [
  {
   "cell_type": "markdown",
   "metadata": {},
   "source": [
    "<h4>\n",
    "\n",
    "$$\n",
    "\\text{---\\{ Sequências Numéricas \\}---}\n",
    "\\\\[24pt]\n",
    "$$\n",
    "\n",
    "</h4>\n",
    "\n",
    "<h3>\n",
    "\n",
    "$$\n",
    "\\text{Progressões Aritméticas (P.A.)}\n",
    "$$\n",
    "\n",
    "</h3>\n",
    "\n",
    "$$\n",
    "\\text{Prof. Eduardo Ono}\n",
    "\\\\[24pt]\n",
    "$$"
   ]
  },
  {
   "cell_type": "markdown",
   "metadata": {},
   "source": [
    "---"
   ]
  },
  {
   "cell_type": "markdown",
   "metadata": {},
   "source": [
    "__Sumário__<a id='toc0_'></a>    \n",
    "- 1. [Objetivos](#toc1_)    \n",
    "- 2. [Conceitos e Definições](#toc2_)    \n",
    "  - 2.1. [Definição. <sub><sup>(Progressão Aritmética)</sup></sub>](#toc2_1_)    \n",
    "- 3. [Fórmula do Termo Geral de uma P.A.](#toc3_)    \n",
    "- 4. [Soma dos Termos de uma P.A.](#toc4_)    \n",
    "  - 4.1. [Exemplo inicial](#toc4_1_)    \n",
    "  - 4.2. [Fórmula para a soma dos termos de uma P.A.](#toc4_2_)    \n",
    "\n",
    "<!-- vscode-jupyter-toc-config\n",
    "\tnumbering=true\n",
    "\tanchor=true\n",
    "\tflat=false\n",
    "\tminLevel=1\n",
    "\tmaxLevel=5\n",
    "\t/vscode-jupyter-toc-config -->\n",
    "<!-- THIS CELL WILL BE REPLACED ON TOC UPDATE. DO NOT WRITE YOUR TEXT IN THIS CELL -->"
   ]
  },
  {
   "cell_type": "markdown",
   "metadata": {},
   "source": [
    "---"
   ]
  },
  {
   "cell_type": "markdown",
   "metadata": {},
   "source": [
    "# 1. <a id='toc1_'></a>[Objetivos](#toc0_)\n",
    "\n",
    "- Conceituar uma progressão aritmética;\n",
    "\n",
    "- Deduzir as fórmulas para o termo geral de uma P.A. e para a soma dos termos de uma P.A.;\n",
    "\n",
    "- Aplicar as fórmulas do termo geral e da soma na resolução de problemas."
   ]
  },
  {
   "cell_type": "markdown",
   "metadata": {},
   "source": [
    "# 2. <a id='toc2_'></a>[Conceitos e Definições](#toc0_)"
   ]
  },
  {
   "cell_type": "markdown",
   "metadata": {},
   "source": [
    "## 2.1. <a id='toc2_1_'></a>[Definição. <sub><sup>(Progressão Aritmética)</sup></sub>](#toc0_)"
   ]
  },
  {
   "cell_type": "markdown",
   "metadata": {},
   "source": [
    "Uma __Progressão Aritmética__ (P.A.) é uma sequência dada pela seguinte fórmula de recorrência:\n",
    "\n",
    "$$\n",
    "\\begin{cases}\n",
    "a_1 = a \\\\\n",
    "a_n = a_{n-1} + r, \\quad \\forall\\  n \\in \\mathbb{N}, \\ n \\geqslant 2\n",
    "\\end{cases}\n",
    "$$\n",
    "\n",
    "em que $a$ e $r$ são números reais dados."
   ]
  },
  {
   "cell_type": "markdown",
   "metadata": {},
   "source": [
    "# 3. <a id='toc3_'></a>[Fórmula do Termo Geral de uma P.A.](#toc0_)"
   ]
  },
  {
   "cell_type": "markdown",
   "metadata": {},
   "source": [
    "$$\n",
    "\\begin{align*}\n",
    "\n",
    "a_1 &= a_1 \\\\\n",
    "a_2 &= a_1 + r \\\\\n",
    "a_3 &= a_2 + r \\\\\n",
    "a_4 &= a_3 + r \\\\\n",
    "\\dots &= \\dots\\\\\n",
    "a_{n-1} &= a_{n-2} + r \\\\\n",
    "a_n &= a_{n-1} + r \\\\\n",
    "a_1 + a_2 + a_3 + a_4 + \\dots + a_{n-1} + a_n &= a_1 + (a_1 + r) + (a_2 + r) + (a_3 + r) + \\dots + (a_{n-2} + r) + (a_{n-1} + r) \\\\\n",
    "(a_1 + a_2 + a_3 + a_4 + \\dots + a_{n-1}) + a_n &= a_1 + (a_1 + a_2 + a_3 + \\dots + a_{n-2} + a_{n-1}) + (n - 1) \\cdot r \\\\\n",
    "\\end{align*}\n",
    "$$\n",
    "\n",
    "$$\n",
    "\\ a_n = a_1 + (n - 1) \\cdot r\n",
    "$$\n"
   ]
  },
  {
   "cell_type": "markdown",
   "metadata": {},
   "source": [
    "# 4. <a id='toc4_'></a>[Soma dos Termos de uma P.A.](#toc0_)"
   ]
  },
  {
   "cell_type": "markdown",
   "metadata": {},
   "source": [
    "## 4.1. <a id='toc4_1_'></a>[Exemplo inicial](#toc0_)"
   ]
  },
  {
   "cell_type": "markdown",
   "metadata": {},
   "source": [
    "$$\n",
    "\\begin{align*}\n",
    "s &= 1 + 2 + 3 + \\ldots + 99 + 100 \\\\[10pt]\n",
    "s &= 100 + 99 + 98 + \\ldots + 2 + 1\n",
    "\\end{align*}\n",
    "$$\n",
    "\n",
    "Somando ambos os lados da igualdade, temos:\n",
    "\n",
    "$$\n",
    "\\begin{align*}\n",
    "2 \\, s &= (1 + 100) + (2 + 99) + (3 + 98) + \\ldots + (99 + 2) + (100 + 1) \\\\\n",
    "2 \\, s &= \\underbrace{101 + 101 + 101 + \\ldots + 101 + 101}_{\\text{100 termos}} \\\\\n",
    "2 \\, s &= 101 \\cdot 100\n",
    "\\end{align*}\n",
    "$$\n",
    "\n",
    "Portanto,\n",
    "\n",
    "$$\n",
    "s = \\frac{101 \\cdot 100}{2} = \\frac{10100}{2} = 5050 \\, .\n",
    "$$\n"
   ]
  },
  {
   "cell_type": "markdown",
   "metadata": {},
   "source": [
    "## 4.2. <a id='toc4_2_'></a>[Fórmula para a soma dos termos de uma P.A.](#toc0_)"
   ]
  },
  {
   "cell_type": "markdown",
   "metadata": {},
   "source": [
    "Generalizando o raciocínio previamente utilizado, temos que a soma $s$ dos $n$ primeiros termos de uma P.A. é dada por:\n",
    "\n",
    "$$\n",
    "\\begin{align*}\n",
    "s &= a_1 + a_2 + a_3 + \\dots + a_n \\\\\n",
    "&= a_1 + (a_1 + r) + (a_1 + 2r) + \\dots + [a_1 + (n-1)r] \\\\\n",
    "&= n \\, a_1 +  r + 2r + 3r + \\dots + (n - 1)r \\\\\n",
    "&= n \\, a_1 +  r[1 + 2 + 3 + \\dots + (n - 1)]\n",
    "\\end{align*}\n",
    "$$\n",
    "\n",
    "$$\n",
    "\\ \\\\\n",
    "\\boxed{\\ s = n \\, a_1 +  \\left[\\frac{(n - 1)n}{2}\\right] \\cdot r\\ } \\\\\n",
    "\\ \\\\\n",
    "$$\n",
    "\n",
    "$$\n",
    "\\begin{align*}\n",
    "s &= n \\cdot \\left[ a_1 + \\frac{(n - 1) \\, r}{2} \\right] \\\\\n",
    "&= n \\cdot \\left[\\frac{2a_1 + (n - 1) \\, r}{2} \\right] \\\\\n",
    "&= n \\left\\{\\frac{a_1 + [a_1 + (n - 1) \\, r]}{2} \\right\\}\n",
    "\\end{align*}\n",
    "$$\n",
    "\n",
    "$$\n",
    "\\ \\\\\n",
    "\\boxed{\\ s = \\frac{n \\, (a_1 + a_n)}{2}\\ } \\\\\n",
    "\\ \\\\\n",
    "$$"
   ]
  }
 ],
 "metadata": {
  "kernelspec": {
   "display_name": "base",
   "language": "python",
   "name": "python3"
  },
  "language_info": {
   "name": "python",
   "version": "3.12.1"
  }
 },
 "nbformat": 4,
 "nbformat_minor": 2
}
