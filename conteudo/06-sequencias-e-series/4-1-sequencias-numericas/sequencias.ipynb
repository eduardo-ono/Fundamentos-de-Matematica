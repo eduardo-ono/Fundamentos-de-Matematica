{
 "cells": [
  {
   "cell_type": "markdown",
   "metadata": {},
   "source": [
    "<h4>\n",
    "\n",
    "$$\n",
    "\\text{---\\{ Sequências Numéricas \\}---}\n",
    "\\\\[24pt]\n",
    "$$\n",
    "\n",
    "</h4>\n",
    "\n",
    "<h3>\n",
    "\n",
    "$$\n",
    "\\text{Sequências Numéricas - Conceitos}\n",
    "$$\n",
    "\n",
    "</h3>\n",
    "\n",
    "$$\n",
    "\\text{Prof. Eduardo Ono}\n",
    "\\\\[24pt]\n",
    "$$"
   ]
  },
  {
   "cell_type": "markdown",
   "metadata": {},
   "source": [
    "---"
   ]
  },
  {
   "cell_type": "markdown",
   "metadata": {},
   "source": [
    "__Sumário__<a id='toc0_'></a>    \n",
    "- 1. [Conceitos e Definições](#toc1_)    \n",
    "  - 1.1. [Definição. <sub><sup>(Sequência finita)</sup></sub>](#toc1_1_)    \n",
    "  - 1.2. [Definição. &nbsp;<sub><sup>(Sequência infinita)</sup></sub>](#toc1_2_)    \n",
    "- 2. [Leis de Formação](#toc2_)    \n",
    "  - 2.1. [Por fórmula de recorrência](#toc2_1_)    \n",
    "  - 2.2. [Expressando cada termo em função de sua posição](#toc2_2_)    \n",
    "  - 2.3. [Por propriedade dos termos](#toc2_3_)    \n",
    "\n",
    "<!-- vscode-jupyter-toc-config\n",
    "\tnumbering=true\n",
    "\tanchor=true\n",
    "\tflat=false\n",
    "\tminLevel=1\n",
    "\tmaxLevel=5\n",
    "\t/vscode-jupyter-toc-config -->\n",
    "<!-- THIS CELL WILL BE REPLACED ON TOC UPDATE. DO NOT WRITE YOUR TEXT IN THIS CELL -->"
   ]
  },
  {
   "cell_type": "markdown",
   "metadata": {},
   "source": [
    "---"
   ]
  },
  {
   "cell_type": "markdown",
   "metadata": {},
   "source": [
    "# 1. <a id='toc1_'></a>[Conceitos e Definições](#toc0_)"
   ]
  },
  {
   "cell_type": "markdown",
   "metadata": {},
   "source": [
    "## 1.1. <a id='toc1_1_'></a>[Definição. <sub><sup>(Sequência finita)</sup></sub>](#toc0_)"
   ]
  },
  {
   "cell_type": "markdown",
   "metadata": {},
   "source": [
    "Chama-se __sequência finita__ ou __ênupla__ toda aplicação $f$ do conjunto $\\,\\mathbb{N}_n^* = {1, 2, 3, ..., n} \\text{ em } \\mathbb{R}\\,$.\n",
    "\n",
    "Assim, em toda sequência finita, a cada número natural $i$ ($1 \\leqslant i \\leqslant n$) está associado um número real $a_i$.\n",
    "\n",
    "$$\n",
    "f = \\left\\{(1, a_1), (2, a_2), (3, a_3), \\dots, (n, a_n)\\right\\}\n",
    "$$\n"
   ]
  },
  {
   "cell_type": "markdown",
   "metadata": {},
   "source": [
    "## 1.2. <a id='toc1_2_'></a>[Definição. &nbsp;<sub><sup>(Sequência infinita)</sup></sub>](#toc0_)"
   ]
  },
  {
   "cell_type": "markdown",
   "metadata": {},
   "source": [
    "Chama-se __sequência infinita__ toda aplicação $f$ de $\\mathbb{N}^*$ em $\\mathbb{R}$.\n",
    "\n",
    "Em toda sequência infinita, a cada $i \\in \\mathbb{N}^*$ está associado um número $\\,a_i \\in \\mathbb{R}\\,$.\n",
    "\n",
    "$$\n",
    "f = \\left\\{(1, a_1), (2, a_2), (3, a_3), \\dots, (i, a_i), \\dots\\right\\}\n",
    "$$"
   ]
  },
  {
   "cell_type": "markdown",
   "metadata": {},
   "source": [
    "Vamos, daqui em diante, indicar uma sequência $f$ anotando apenas a imagem de $f$:\n",
    "\n",
    "$$\n",
    "f = (a_1, a_2, a_3, \\dots, a_i, \\dots)\n",
    "$$\n",
    "\n",
    "em que aparecem entre parênteses ordenadamente, da esquerda para a direita, as imagens dos naturais $\\,1, 2, 3, \\dots, i, \\dots\\,$.\n"
   ]
  },
  {
   "cell_type": "markdown",
   "metadata": {},
   "source": [
    "# 2. <a id='toc2_'></a>[Leis de Formação](#toc0_)"
   ]
  },
  {
   "cell_type": "markdown",
   "metadata": {},
   "source": [
    "## 2.1. <a id='toc2_1_'></a>[Por fórmula de recorrência](#toc0_)\n",
    "\n",
    "Exemplo. Sequência de Fibonacci\n",
    "\n",
    "$$\n",
    "\\begin{cases}\n",
    "F_1 = 1, F_2 = 1 \\\\\n",
    "F_n = F_{n - 1} + F_{n - 2}, \\quad n \\in \\mathbb{N}, \\  n \\geqslant 3\n",
    "\\end{cases}\n",
    "$$\n",
    "\n",
    "$$\n",
    "F = (1, 1, 2, 3, 5, 8, 13, 21, 34, \\ldots)\n",
    "$$\n"
   ]
  },
  {
   "cell_type": "markdown",
   "metadata": {},
   "source": [
    "## 2.2. <a id='toc2_2_'></a>[Expressando cada termo em função de sua posição](#toc0_)"
   ]
  },
  {
   "cell_type": "markdown",
   "metadata": {},
   "source": [
    "Nesse caso, é dada uma fórmula que expressa $a_n$ em função de $n$.\n",
    "\n",
    "Exemplo. Sequência finita $f$ cujos termos obedecem à lei $\\,a_n = 2^n, \\ n \\in \\{1, 2, 3, 4\\}\\,$.\n",
    "\n",
    "$$\n",
    "f = (2^1, 2^2, 2^3, 2^4) = (2, 4, 8, 16)\n",
    "$$"
   ]
  },
  {
   "cell_type": "markdown",
   "metadata": {},
   "source": [
    "## 2.3. <a id='toc2_3_'></a>[Por propriedade dos termos](#toc0_)"
   ]
  },
  {
   "cell_type": "markdown",
   "metadata": {},
   "source": [
    "É dada uma propriedade que os termos da sequência devem apresentar.\n",
    "\n",
    "Exemplo. Sequência dos $n$ primeiros números primos, com $\\,n = 10\\,$:\n",
    "\n",
    "$$\n",
    "p_{n = 10} = (2, 3, 5, 7, 11, 13, 17, 19, 23, 29)\n",
    "$$"
   ]
  },
  {
   "cell_type": "markdown",
   "metadata": {},
   "source": [
    "## Referências\n",
    "\n",
    "| Thumb | Descrição |\n",
    "| :-: | --- |\n",
    "| ![img](https://img.youtube.com/vi/ZLcoEESjUcs/default.jpg) | <sup>[Instituto de Matemática Pura e Aplicada]</sup><br>[__PAPMEM - Julho de 2023 - Sequências__](https://www.youtube.com/watch?v=ZLcoEESjUcs)<br><sub>(58:24, YouTube, 19/Jul/2023)</sub> |"
   ]
  }
 ],
 "metadata": {
  "language_info": {
   "name": "python"
  }
 },
 "nbformat": 4,
 "nbformat_minor": 2
}
