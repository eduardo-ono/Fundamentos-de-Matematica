{
 "cells": [
  {
   "cell_type": "markdown",
   "metadata": {},
   "source": [
    "$$ \\text{\\large ------\\{ Módulo 7 \\}------} $$\n",
    "$$ \\text{\\Large Geometia Analítica} $$\n",
    "\n",
    "---\n",
    "&nbsp;\n",
    "\n",
    "$$ \\text{\\large Parte II - Geometria Analítica no Espaço} $$\n",
    "$$ \\text{\\large Capítulo 1 - Vetores} $$\n",
    "$$ \\text{\\large Vetores} $$"
   ]
  },
  {
   "cell_type": "markdown",
   "metadata": {},
   "source": [
    "**Sumário**<a id='toc0_'></a>    \n",
    "- 1. [Introdução](#toc1_)    \n",
    "- 2. [Conceitos](#toc2_)    \n",
    "  - 2.1. [Definição. (Vetor)](#toc2_1_)    \n",
    "    - 2.1.1. [Exemplo](#toc2_1_1_)    \n",
    "  - 2.2. [Módulo de um Vetor](#toc2_2_)    \n",
    "    - 2.2.1. [Exemplo](#toc2_2_1_)    \n",
    "- 3. [Produto Escalar](#toc3_)    \n",
    "    - 3.1.1. [Exemplo](#toc3_1_1_)    \n",
    "  - 3.2. [Propriedades do Produto Escalar](#toc3_2_)    \n",
    "- 4. [Combinação Linear](#toc4_)    \n",
    "  - 4.1. [Propriedades da Combinação Linear](#toc4_1_)    \n",
    "- 5. [Ângulo entre vetores](#toc5_)    \n",
    "  - 5.1. [Exemplos](#toc5_1_)    \n",
    "    - 5.1.1. [Ângulo entre as diagonais de um retêgulo.](#toc5_1_1_)    \n",
    "- 6. [Projeção de Vetores](#toc6_)    \n",
    "  - 6.1. [Exemplos](#toc6_1_)    \n",
    "    - 6.1.1. [Exemplo. (Área de um triângulo)](#toc6_1_1_)    \n",
    "\n",
    "<!-- vscode-jupyter-toc-config\n",
    "\tnumbering=true\n",
    "\tanchor=true\n",
    "\tflat=false\n",
    "\tminLevel=1\n",
    "\tmaxLevel=5\n",
    "\t/vscode-jupyter-toc-config -->\n",
    "<!-- THIS CELL WILL BE REPLACED ON TOC UPDATE. DO NOT WRITE YOUR TEXT IN THIS CELL -->"
   ]
  },
  {
   "cell_type": "markdown",
   "metadata": {},
   "source": [
    "# 1. <a id='toc1_'></a>[Introdução](#toc0_)"
   ]
  },
  {
   "cell_type": "markdown",
   "metadata": {},
   "source": [
    "&emsp; &emsp; Um vetor $\\vec v$ é denotado por uma letra minúscula com uma seta sobre a letra ou por uma letra minúscula em negrito. É representado por um par ordenado:\n",
    "\n",
    "$$ \\vec v = (x, y) \\quad\\text{ ou }\\quad \\mathbf{v} = (x, y) $$"
   ]
  },
  {
   "cell_type": "markdown",
   "metadata": {},
   "source": [
    "# 2. <a id='toc2_'></a>[Conceitos](#toc0_)"
   ]
  },
  {
   "cell_type": "markdown",
   "metadata": {},
   "source": [
    "## 2.1. <a id='toc2_1_'></a>[Definição. (Vetor)](#toc0_)\n",
    "\n",
    "&emsp; &emsp; Um vetor é o ente matemático que representa o conjunto dos segmentos orientados de reta que têm o mesmo módulo, a mesma direção e o mesmo sentido.\n",
    "\n",
    "&emsp; &emsp; E outras palavras, qualquer segmento orientado que tem o mesmo módulo, a mesma direção e o mesmo sentido representa o mesmo vetor.\n",
    "\n",
    "&emsp; &emsp; O módulo de um vetor é o seu comprimento, em uma determinada unidade de medida.\n",
    "\n",
    "&emsp; &emsp; Por direção entende-se que o vetor está contido na mesma reta ou em retas paralelas.\n",
    "\n",
    "&emsp; &emsp; Por sentido entende-se a orientação do vetor."
   ]
  },
  {
   "cell_type": "markdown",
   "metadata": {},
   "source": [
    "&emsp; &emsp; Um vetor $\\vec v$ é denotado por uma letra minúscula com uma seta sobre a letra ou por uma letra minúscula em negrito. É representado por um par ordenado:\n",
    "\n",
    "$$ \\vec v = (x, y) \\quad\\text{ ou }\\quad \\mathbf{v} = (x, y) $$\n",
    "\n",
    "&emsp; &emsp; Nesse caso, assumiremos que $\\,(x, y)\\,$ são equivalentes às coordendas cartesianas da extremidade final do vetor $\\vec v$ com origem no ponto $\\,(0, 0)\\,$."
   ]
  },
  {
   "cell_type": "markdown",
   "metadata": {},
   "source": [
    "### 2.1.1. <a id='toc2_1_1_'></a>[Exemplo](#toc0_)\n",
    "\n",
    "&emsp; &emsp; Sejam os pontos $\\,A(3, 4)\\,$ e $\\,B(5, 1)\\,$ no plano cartesiano e o vetor $\\vec v$ com origem em $A$ e destino em $B$, denotado por $\\,\\vec v = \\overrightarrow{AB}\\,$. Utilizando a representação cartesiana, temos:\n",
    "\n",
    "$$\n",
    "\\begin{equation} \\begin{aligned}\n",
    "\\vec v &= \\overrightarrow{OB} - \\overrightarrow{OA} \\\\\n",
    "&= B(5, 1) - A(3, 4) \\\\\n",
    "&= (5 - 3, 1 - 4) \\\\\n",
    "&= (2, -3)\n",
    "\\end{aligned} \\end{equation}\n",
    "$$\n",
    "\n",
    "&emsp; &emsp; Convém salientar que o vetor $\\,\\vec v = \\overrightarrow{AB}\\,$ é o mesmo vetor $\\,\\vec v = (2, -3)\\,$. As coordenadas $\\,(2, -3)\\,$ referen-se ao destino do vetor $\\vec v$ cuja origem é o ponto $\\,(0, 0)\\,$."
   ]
  },
  {
   "cell_type": "markdown",
   "metadata": {},
   "source": [
    "Ponto Médio de um Segmento de Reta\n",
    "\n",
    "&emsp; &emsp; Dados os pontos $\\,A(x_1, y_1)\\,$ e $\\,B(x_2, y_2)\\,$ e o ponto médio $\\,M(x_M, y_M)\\,$ entre $A$ e $B$, temos:\n",
    "\n",
    "$$ \\overrightarrow{AM} = \\overrightarrow{MB} $$\n",
    "$$ \\overrightarrow{OM} -\\overrightarrow{OA} = \\overrightarrow{OB} - \\overrightarrow{OM} $$\n",
    "$$ M - A = B - M $$\n",
    "$$ 2M = B - A $$\n",
    "$$ \\boxed{\\ M = \\frac{B - A}{2} \\ } $$\n",
    "\n",
    "&emsp; &emsp; Essa notação \"condensada\" significa:\n",
    "\n",
    "$$ M(x_M, y_M) = \\frac{B(x_2, y_2) - A(x_1, y_1)}{2} = \\left( \\frac{x_2 - x_1}{2}, \\frac{y_2 - y_1}{2} \\right). $$"
   ]
  },
  {
   "cell_type": "markdown",
   "metadata": {},
   "source": [
    "## 2.2. <a id='toc2_2_'></a>[Módulo de um Vetor](#toc0_)\n",
    "\n",
    "&emsp; &emsp; O __módulo (ou norma) de um vetor__ $\\vec v$, denominado $|\\vec v|$, é o seu comprimento e é dado por:\n",
    "\n",
    "$$ |\\vec v| = \\sqrt{x^2 + y^2} $$"
   ]
  },
  {
   "cell_type": "markdown",
   "metadata": {},
   "source": [
    "### 2.2.1. <a id='toc2_2_1_'></a>[Exemplo](#toc0_)"
   ]
  },
  {
   "cell_type": "markdown",
   "metadata": {},
   "source": [
    "# 3. <a id='toc3_'></a>[Produto Escalar](#toc0_)"
   ]
  },
  {
   "cell_type": "markdown",
   "metadata": {},
   "source": [
    "&emsp; &emsp; Dados dois vetores $\\, \\vec u = (x, y) \\,$ e $\\, \\vec v = (x', y') \\,$, o __produto escalar__ entre $\\vec u$ e $\\vec v$, denotado por $\\,\\vec u \\cdot \\vec v\\,$ (leia \"_u_ escalar _v_\") ou por $\\,\\langle \\vec u, \\vec v \\rangle\\,$, é dado por\n",
    "\n",
    "$$ u \\cdot v = xx' + yy' $$\n",
    "\n",
    "&emsp; &emsp; Convém salientar que o produto escalar entre dois vetores é um número real."
   ]
  },
  {
   "cell_type": "markdown",
   "metadata": {},
   "source": [
    "### 3.1.1. <a id='toc3_1_1_'></a>[Exemplo](#toc0_)"
   ]
  },
  {
   "cell_type": "markdown",
   "metadata": {},
   "source": [
    "## 3.2. <a id='toc3_2_'></a>[Propriedades do Produto Escalar](#toc0_)\n",
    "\n",
    "$$\n",
    "\\begin{align*}\n",
    "[PE.1] \\quad & 0 \\cdot \\vec v = 0 && \\quad \\text{Produto nulo} \\\\\n",
    "[PE.2] \\quad & \\vec u \\cdot \\vec v = \\vec v \\cdot \\vec u && \\quad \\text{Comutativa do produto escalar} \\\\\n",
    "[PE.3] \\quad & c \\,(\\vec u \\cdot \\vec v) = (c \\,\\vec u) \\cdot \\vec v && \\quad \\text{Associativa entre produto escalar e produto por escalares} \\\\\n",
    "[PE.4] \\quad & (\\vec u \\cdot \\vec v) \\cdot \\vec w = \\vec u \\cdot \\vec w + \\vec v \\cdot \\vec w && \\quad \\text{Distributiva} \\\\\n",
    "[PE.5] \\quad & \\vec v \\cdot \\vec v = |\\vec v|^2 && \\quad \\text{Escalar quadrado} \\\\ \n",
    "\\end{align*}\n",
    "$$"
   ]
  },
  {
   "cell_type": "markdown",
   "metadata": {},
   "source": [
    "# 4. <a id='toc4_'></a>[Combinação Linear](#toc0_)\n",
    "\n",
    "&emsp; &emsp; Dados os vetores $\\vec u$ e $\\vec v$, $\\,\\alpha, \\beta \\in \\mathbb R\\,$, uma __combinação linear__ de $\\vec u$ e $\\vec v$ é qualquer vetor $\\,w = \\alpha \\vec u + \\beta \\vec v\\,$."
   ]
  },
  {
   "cell_type": "markdown",
   "metadata": {},
   "source": [
    "## 4.1. <a id='toc4_1_'></a>[Propriedades da Combinação Linear](#toc0_)\n",
    "\n",
    "$$\n",
    "\\begin{align*}\n",
    "\\text{[CL.1]} \\quad \\vec u + \\vec v & = \\vec v + \\vec u && \\quad \\text{Comutativa} \\\\\n",
    "\\end{align*}\n",
    "$$"
   ]
  },
  {
   "cell_type": "markdown",
   "metadata": {},
   "source": [
    "# 5. <a id='toc5_'></a>[Ângulo entre vetores](#toc0_)"
   ]
  },
  {
   "cell_type": "markdown",
   "metadata": {},
   "source": [
    "\n",
    "&emsp; &emsp; \n",
    "\n",
    "$$\n",
    "\\begin{align*}\n",
    "|\\vec u - \\vec v|^2 \\overset{\\text{\\,[M1]\\,}}{=} (\\vec u - \\vec v) \\cdot (\\vec u - \\vec v) = \\vec u \\cdot \\vec u - \\vec u \\cdot \\vec v - \\vec v \\cdot \\vec u + \\vec v \\cdot \\vec v = |\\vec u|^2 - 2 \\cdot \\vec u \\cdot \\vec v + |\\vec v|^2\n",
    "\\end{align*}\n",
    "$$\n",
    "\n",
    "&emsp; &emsp; Pela Lei dos Cossenos, $\\,|\\vec u - \\vec v|^2 = |\\vec u|^2 + |\\vec v|^2 - 2\\,|\\vec u| \\, |\\vec v| \\cos{\\theta} $. Então,\n",
    "\n",
    "$$\n",
    "\\begin{align*}\n",
    "\\cancel{|\\vec u|^2} \\cancel{- 2} \\cdot \\vec u \\cdot \\vec v + \\cancel{|\\vec v|^2} &= \\cancel{|\\vec u|^2} + \\cancel{|\\vec v|^2} \\cancel{- 2} \\, |\\vec u| \\, |\\vec v| \\cos{\\theta} \\\\\n",
    "\\vec u \\cdot \\vec v &= |\\vec u| \\, |\\vec v| \\cos{\\theta}\n",
    "\\end{align*}\n",
    "$$\n",
    "\n",
    "$$\n",
    "\\boxed{\\; \\cos \\theta = \\frac{\\vec u \\cdot \\vec v}{|\\vec u| \\, |\\vec v|} \\;}\n",
    "$$\n"
   ]
  },
  {
   "cell_type": "markdown",
   "metadata": {},
   "source": [
    "## 5.1. <a id='toc5_1_'></a>[Exemplos](#toc0_)\n"
   ]
  },
  {
   "cell_type": "markdown",
   "metadata": {},
   "source": [
    "### 5.1.1. <a id='toc5_1_1_'></a>[Ângulo entre as diagonais de um retêgulo.](#toc0_)\n",
    "\n",
    "&emsp; &emsp; [PAPMEM_2019-01] Em um retângulo, a base é o dobro da altura. Qual o ângulo entre as diagonais?\n",
    "\n",
    "&emsp; &emsp; Suponhamos o retângulo ABCD onde o ponto A está situado na origem $O$ do sistema de coordenadas, de mode que $\\,\\vec u = \\overrightarrow{AB}\\,$ é a base maior e $\\,\\vec v = \\overrightarrow{OD}\\,$ é a altura do retângulo.\n",
    "\n",
    "&emsp; &emsp; As diagonais são representadas por $\\, \\vec d_1 = \\overrightarrow{OC} = (\\vec u + \\vec v)\\,$ e $\\,\\vec d_2 = \\overrightarrow{DB} = (\\vec u - \\vec v)\\,$.\n",
    "\n",
    "&emsp; &emsp; Do enunciado, como a altura é a metade da base, temos $$\n",
    "\n",
    "$$\n",
    "\\begin{align*}\n",
    "A = O &= (0, 0) \\\\\n",
    "\\vec u = B &= (x_\\mathbf{u}, 0) \\\\\n",
    "C &= (x_\\mathbf{u}, \\frac{x_\\mathbf{u}}{2}) \\\\\n",
    "\\vec v = D &= (0, \\frac{x_\\mathbf{u}}{2})\n",
    "\\end{align*}\n",
    "$$\n",
    "\n",
    "\n",
    "&emsp; &emsp; As diagonais $d_1$ e $d_2$ são definidas por:\n",
    "$$\n",
    "\\begin{align*}\n",
    "\\vec d_1 = \\overrightarrow{OC} = \\vec u + \\vec v = (x_\\mathbf{u}, 0) + (0, \\frac{x_\\mathbf{u}}{2}) = (x_\\mathbf{u}, \\frac{x_\\mathbf{u}}{2}) \\\\\n",
    "\\vec d_2 = \\vec u - \\vec v = (x_\\mathbf{u}, 0) - (0, \\frac{x_\\mathbf{u}}{2}) = (x_\\mathbf{u}, -\\frac{x_\\mathbf{u}}{2})\n",
    "\\end{align*}\n",
    "$$\n",
    "\n",
    "$$\n",
    "\\begin{align*}\n",
    "\\vec d_1 \\cdot \\vec d_2 &= x_\\mathbf{u} x_\\mathbf{u} + \\left(\\frac{x_\\mathbf{u}}{2}\\right) \\left(-\\frac{x_\\mathbf{u}}{2}\\right) \\\\\n",
    "&= x_\\mathbf{u}^2 - \\frac{x_\\mathbf{u}^2}{4} \\\\\n",
    "&= \\frac{3}{4} \\, x_\\mathbf{u}^2\n",
    "\\end{align*}\n",
    "$$\n",
    "\n",
    "$$\n",
    "\\begin{align*}\n",
    "|\\vec d_1||\\vec d_2| &= \\sqrt{x_\\mathbf{u}^2 + (\\frac{x_\\mathbf{u}}{2})^2} \\cdot \\sqrt{x_\\mathbf{u}^2 + \\left(-\\frac{x_\\mathbf{u}}{2}\\right)^2} \\\\\n",
    "&= \\sqrt{x_\\mathbf{u}^2 + \\frac{x_\\mathbf{u}^2}{4}} \\cdot \\sqrt{x_\\mathbf{u}\n",
    "^2 + \\frac{x_\\mathbf{u}^2}{4}} \\\\\n",
    "&= \\frac{5}{4}\\,x_\\mathbf{u}^2\n",
    "\\end{align*}\n",
    "$$\n",
    "\n",
    "$$\n",
    "\\begin{align*}\n",
    "\\cos \\theta &= \\frac{\\vec d_1 \\cdot \\vec d_2}{|\\vec d_1| |\\vec d_2|} = \\frac{\\cfrac{3}{4} \\, x_\\mathbf{u}^2}{\\cfrac{5}{4} \\, x_\\mathbf{u}^2} = \\frac{3}{4} \\cdot \\frac{4}{5} = \\frac{12}{20} = \\frac{3}{5} = 0,6 \\\\\n",
    "\\theta &= \\arccos 0,6 = 53,13^\\circ\n",
    "\\end{align*}\n",
    "$$\n",
    "\n",
    "Referência: [![img](https://img.youtube.com/vi/x_xd8Xe5hkE/default.jpg)](https://www.youtube.com/watch?v=x_xd8Xe5hkE)\n",
    "\n"
   ]
  },
  {
   "cell_type": "markdown",
   "metadata": {},
   "source": [
    "# 6. <a id='toc6_'></a>[Projeção de Vetores](#toc0_)"
   ]
  },
  {
   "cell_type": "markdown",
   "metadata": {},
   "source": [
    "&emsp; &emsp; Sejam dados dois vetores não nulos $\\vec u$ e $\\vec v$. A __projeção do vetor__ $\\vec v$ sobre o vetor $\\vec u$ é o vetor\n",
    "\n",
    "$$ \\vec p = \\operatorname{proj}_\\mathbf{v}^\\mathbf{u} = \\frac{\\vec v \\cdot \\vec u}{|\\vec u|^2} \\cdot \\vec u $$"
   ]
  },
  {
   "cell_type": "markdown",
   "metadata": {},
   "source": [
    "## 6.1. <a id='toc6_1_'></a>[Exemplos](#toc0_)"
   ]
  },
  {
   "cell_type": "markdown",
   "metadata": {},
   "source": [
    "### 6.1.1. <a id='toc6_1_1_'></a>[Exemplo. (Área de um triângulo)](#toc0_)\n",
    "\n",
    "&emsp; &emsp; Determine a área de um triângulo $\\triangle ABC$ de lados 3, 4 e 5.\n",
    "\n",
    "&emsp; &emsp; Consideremos os vetores $\\,\\vec u = \\overrightarrow{AB}\\,$ tal que $\\,|\\vec u| = 5\\,$ e $\\,\\vec v = \\overrightarrow{AC}\\,$ tal que $\\,|\\vec v| = 3\\,$. A projeção $\\, \\vec p = \\operatorname{proj}_\\mathbf{u}^\\mathbf{v} \\,$ determina o ponto $P$ e, consequentemente, a altura $\\,h = |\\overrightarrow{PC}|\\,$ relativa ao lado $\\overline{AB}$. otando o ponto $A$ como origem, então o vetor $\\,\\vec u = B\\,$ e o vetor $\\,\\vec v = C\\,$.\n",
    "\n",
    "$$\n",
    "A = (0, 0), B = (5, 0) \\text{ e } C = (|\\vec p|, h)\n",
    "$$\n",
    "\n",
    "$$ \\begin{equation}\n",
    "\\vec p = \\frac{\\vec v \\cdot \\vec u}{|\\vec u|^2} = \n",
    "\\end{equation} $$\n",
    "\n",
    "$$ h = |\\overrightarrow{PC}| = |\\vec v - \\vec p| = |C(|\\vec p|, h) - P()| =$$"
   ]
  },
  {
   "cell_type": "markdown",
   "metadata": {},
   "source": [
    "## Definição. (Vetor unitário e Versor)\n",
    "\n",
    "&emsp; &emsp; Um __vetor unitário__ é um vetor que possui módulo igual a 1.\n",
    "\n",
    "&emsp; &emsp; Um __versor__ de um vetor $\\vec v$ não nulo é o vetor unitário de mesma direção e mesmo sentido do vetor $\\vec v$."
   ]
  },
  {
   "cell_type": "markdown",
   "metadata": {},
   "source": [
    "## Obtenção de um versor de um vetor\n",
    "\n",
    "&emsp; &emsp; Dado um vetor não nulo $\\ vec v$, o versor de $\\vec v$ é o vetor $\\vec w$ tal que:\n",
    "\n",
    "$$ \\vec w = \\frac{1}{|\\vec v|} \\, \\vec v $$"
   ]
  },
  {
   "cell_type": "markdown",
   "metadata": {},
   "source": [
    "### Exemplos"
   ]
  },
  {
   "cell_type": "markdown",
   "metadata": {},
   "source": [
    "### Exemplo.\n",
    "\n",
    "&emsp; &emsp; Dado o vetor $\\,\\vec v = (4, 3)\\,$, determine o versor de $\\vec v$.\n",
    "\n",
    "$$ |\\vec v| = \\sqrt{4^2 + 3^2} = \\sqrt{16 + 9} = \\sqrt{25} = 5 $$\n",
    "\n",
    "Portanto,\n",
    "\n",
    "$$ \\vec w = \\frac{1}{|\\vec v|} \\, \\vec v = \\frac{1}{5} \\, (4, 3) = \\left(\\frac{4}{5}, \\frac{3}{5}\\right) $$\n",
    "\n",
    "&emsp; &emsp; O vetor $\\vec w$ é unitário pois,\n",
    "\n",
    "$$ |\\vec w| = \\sqrt{\\left(\\frac{4}{5}\\right)^2 + \\left(\\frac{3}{5}\\right)^2} = \\sqrt{\\frac{16}{25} + \\frac{9}{25}} = \\sqrt{\\frac{25}{25}} = \\sqrt{1} = 1"
   ]
  }
 ],
 "metadata": {
  "kernelspec": {
   "display_name": "base",
   "language": "python",
   "name": "python3"
  },
  "language_info": {
   "codemirror_mode": {
    "name": "ipython",
    "version": 3
   },
   "file_extension": ".py",
   "mimetype": "text/x-python",
   "name": "python",
   "nbconvert_exporter": "python",
   "pygments_lexer": "ipython3",
   "version": "3.12.1"
  }
 },
 "nbformat": 4,
 "nbformat_minor": 2
}
