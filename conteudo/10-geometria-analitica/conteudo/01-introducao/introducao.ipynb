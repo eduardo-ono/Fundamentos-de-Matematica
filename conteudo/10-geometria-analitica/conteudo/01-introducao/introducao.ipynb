{
 "cells": [
  {
   "cell_type": "markdown",
   "metadata": {},
   "source": [
    "<sup>Fundamentos de Matemática</sup>\n",
    "<img alt=\"\" width=\"100%\" height=\"2px\" align=\"right\">\n",
    "\n",
    "&nbsp;\n",
    "\n",
    "<h4>\n",
    "\n",
    "$$\n",
    "\\text{---\\{ Geometria Analítica \\}---}\n",
    "\\\\[24pt]\n",
    "$$\n",
    "\n",
    "</h4>\n",
    "\n",
    "<h1 align=\"center\">Introdução</h1>\n",
    "<h4 align=\"center\">Prof. Eduardo Ono</h4>\n",
    "<h6 align=\"center\">Atualizado em: 14/01/2025</h6>"
   ]
  },
  {
   "cell_type": "markdown",
   "metadata": {},
   "source": [
    "## Coordenadas Cartesianas no Plano"
   ]
  },
  {
   "cell_type": "markdown",
   "metadata": {},
   "source": [
    "Consideremos dois eixos $x$ e $y$ perpendiculares em $O$ (origem), os quais determinam o plano $\\alpha$, também conhecido como o plano $\\R^2$.\n",
    "Dado um ponto $P$ qualquer, $P \\in \\alpha$, seja $x_P$ a projeção ortogonal de $P$ sobre o eixo $x$ (eixo das abscissas) e $y_P$ a projeção ortogonal de $P$ sobre o eixo $y$ (eixo das ordenadas)."
   ]
  },
  {
   "cell_type": "markdown",
   "metadata": {},
   "source": [
    "## Notações"
   ]
  },
  {
   "cell_type": "markdown",
   "metadata": {},
   "source": [
    "Um ponto é denotado por uma letra maiúscula. As coordenadas de um ponto podem ser indicadas através das seguintes formas:\n",
    "\n",
    "$$\n",
    "P(x_P, y_P) \\quad \\text{ou} \\quad P = (x_P, y_P)\n",
    "$$\n",
    "\n",
    "Normalmente, quando o ponto já está identificado, podemos simplificar a notação:\n",
    "\n",
    "$$\n",
    "P(x, y) \\quad \\text{ou} \\quad P = (x, y)\n",
    "$$\n",
    "\n",
    "onde $x$ é a abscissa do ponto $P$ e $y$ é a ordenada do ponto $P$.\n",
    "\n",
    "OBS.: O separador decimal é o mesmo do separador das coordenadas. No caso da coordenada possuir casas decimais, o separador das coordenadas pode ser o ponto-e-vírgula.\n",
    "\n",
    "Exemplo:\n",
    "\n",
    "$$\n",
    "P = (\\text{3,8}; \\text{7,1})\n",
    "$$"
   ]
  },
  {
   "cell_type": "markdown",
   "metadata": {},
   "source": []
  }
 ],
 "metadata": {
  "language_info": {
   "name": "python"
  }
 },
 "nbformat": 4,
 "nbformat_minor": 2
}
