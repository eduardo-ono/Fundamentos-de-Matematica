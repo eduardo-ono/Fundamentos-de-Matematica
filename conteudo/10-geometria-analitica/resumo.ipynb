{
 "cells": [
  {
   "cell_type": "markdown",
   "metadata": {},
   "source": [
    "<sup>Fundamentos de Matemática</sup>\n",
    "<img alt=\"\" width=\"100%\" height=\"2px\" align=\"right\">\n",
    "\n",
    "&nbsp;\n",
    "\n",
    "<h1 align=\"center\">Geometria Analítica - Resumo</h1>\n",
    "<h4 align=\"center\">Prof. Eduardo Ono</h4>\n",
    "<h6 align=\"center\">Atualizado em: 14/01/2025</h6>"
   ]
  },
  {
   "cell_type": "markdown",
   "metadata": {},
   "source": [
    "## Coordenadas Cartesianas no Plano"
   ]
  },
  {
   "cell_type": "markdown",
   "metadata": {},
   "source": [
    "### Distância entre dois pontos\n",
    "\n",
    "Dados dois pontos $P_1 = (x_1, y_1)$ e $P_2 = (x_2, y_2)$, $P_1, P_2 \\in \\R^2$, a distância entre $P_1$ e $P_2$ é dada por:\n",
    "\n",
    "$$\n",
    "d_{P_1, P_2} = \\sqrt{(x_2 - x_1)^2 + (y_2 - y_1)^2} = \\sqrt{(\\Delta x)^2 + (\\Delta y)^2}\n",
    "$$"
   ]
  }
 ],
 "metadata": {
  "language_info": {
   "name": "python"
  }
 },
 "nbformat": 4,
 "nbformat_minor": 2
}
