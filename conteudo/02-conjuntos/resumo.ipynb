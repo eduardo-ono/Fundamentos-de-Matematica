{
 "cells": [
  {
   "cell_type": "markdown",
   "id": "f6968e77",
   "metadata": {},
   "source": [
    "<sup>Fundamentos de Matemática</sup>\n",
    "<img alt=\"\" width=\"100%\" height=\"2px\" align=\"right\">\n",
    "\n",
    "&nbsp;\n",
    "\n",
    "<h1 align=\"center\">Resumo :: Conjuntos</h1>\n",
    "<h4 align=\"center\">Prof. Eduardo Ono</h4>\n",
    "<h6 align=\"center\">Atualizado em: 16/04/2025</h6>\n",
    "\n",
    "&nbsp;"
   ]
  },
  {
   "cell_type": "markdown",
   "id": "8e0efcef",
   "metadata": {},
   "source": [
    "## Fração Geratriz\n",
    "\n",
    "|     |     |     |\n",
    "| :-: | --- | --- |\n",
    "| $$ 0,\\overline{3} = 0,33333\\dots $$ | $$ x = 0,33333\\dots \\\\ 10x = 3,33333\\dots $$ | $$ 10x - x = 3,33333\\dots - 0,33333\\dots \\\\ 9x = 3 \\\\ \\therefore \\quad x = \\cfrac{3}{9} = \\cfrac{1}{3} $$ |"
   ]
  }
 ],
 "metadata": {
  "language_info": {
   "name": "python"
  }
 },
 "nbformat": 4,
 "nbformat_minor": 5
}
