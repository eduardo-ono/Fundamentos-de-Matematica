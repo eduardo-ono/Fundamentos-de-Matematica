{
 "cells": [
  {
   "cell_type": "markdown",
   "metadata": {},
   "source": [
    "<sup>Fundamentos de Matemática</sup>\n",
    "<img alt=\"\" width=\"100%\" height=\"2px\" align=\"right\">\n",
    "\n",
    "&nbsp;\n",
    "\n",
    "<h1 align=\"center\">Exercício Resolvido</h1>\n",
    "<h4 align=\"center\">Prof. Eduardo Ono</h4>\n",
    "<h6 align=\"center\">Atualizado em: 25/02/2025</h6>"
   ]
  },
  {
   "cell_type": "markdown",
   "metadata": {},
   "source": [
    "&emsp; Em um grupo de 600 pessoas, 10 pessoas gostam de abacaxi, banana e caju; 50 pessoas gostam de abacaxi e banana, 15 gostam de abacaxi e caju; 30 gostam de banana e caju. O total de pessoas do grupo que gostam de abacaxi é 185, de banana é 150 e de caju é 180. Calcule o número de pessoas no grupo que:\n",
    "\n",
    "a) &nbsp; Gostam de pelo menos uma das três frutas;\n",
    "\n",
    "b) &nbsp; Não gostam de nunhuma das três frutas."
   ]
  },
  {
   "cell_type": "markdown",
   "metadata": {},
   "source": [
    "\n",
    "__Resolução__:\n",
    "\n",
    "&emsp; Dados do problema:\n",
    "\n",
    "$$\n",
    "\\begin{gather*}\n",
    "n(A \\cap B \\cap C) = 10, \\quad n(A \\cap B) = 50, \\quad n(A \\cap C) = 15, \\quad n(B \\cap C) = 30 \\\\[10pt]\n",
    "n(A) = 185, \\quad n(B) = 150, \\quad n(C) = 180\n",
    "\\end{gather*}\n",
    "$$\n",
    "\n",
    "<svg width=\"600\" height=\"600\" xmlns=\"http://www.w3.org/2000/svg\">\n",
    "  <circle cx=\"150\" cy=\"150\" r=\"150\"\n",
    "  fill=\"cyan\"\n",
    "  fill-opacity=\"0.5\"\n",
    "  transform=\"translate(50,50)\"\n",
    "  />\n",
    "  <circle cx=\"300\" cy=\"150\" r=\"150\"\n",
    "  fill=\"pink\"\n",
    "  fill-opacity=\"0.5\"\n",
    "  transform=\"translate(50,50)\"\n",
    "  />\n",
    "  <circle cx=\"225\" cy=\"300\" r=\"150\"\n",
    "  fill=\"yellow\"\n",
    "  fill-opacity=\"0.4\"\n",
    "  transform=\"translate(50,50)\"\n",
    "  />\n",
    "  <text x=\"0\" y=\"0\" dx=\"50\" dy=\"50\" style=\"font-family:arial; font-size:24px; fill:grey;\">\n",
    "    <tspan x=\"0\" y=\"50\">A</tspan>\n",
    "    <tspan x=\"500\" y=\"90\">B</tspan>\n",
    "    <tspan x=\"250\" y=\"525\">C</tspan>\n",
    "  </text>\n",
    "  <text x=\"0\" y=\"0\" dx=\"50\" dy=\"50\" style=\"font-family:arial; font-size:28px; fill:black\">\n",
    "    <tspan x=\"210\" y=\"220\">10</tspan>\n",
    "    <tspan x=\"250\" y=\"175\">40</tspan>\n",
    "    <tspan x=\"175\" y=\"300\">5</tspan>\n",
    "    <tspan x=\"350\" y=\"300\">20</tspan>\n",
    "    <tspan x=\"100\" y=\"200\">130</tspan>\n",
    "    <tspan x=\"400\" y=\"200\">80</tspan>\n",
    "    <tspan x=\"250\" y=\"425\">145</tspan>\n",
    "  </text>\n",
    "</svg>\n",
    "\n",
    "$a) \\quad 130 + 80 + 145 + 40 + 20 + 5 + 10 = 430$\n",
    "\n",
    "$b) \\quad 600 - 430 = 170$"
   ]
  },
  {
   "cell_type": "markdown",
   "metadata": {},
   "source": [
    "## Referências\n",
    "\n",
    "| Thumb | Descrição |\n",
    "| :-: | --- |\n",
    "| ![img](https://img.youtube.com/vi/tW1Kl9P5JeE/default.jpg) | <sup>[Professora Angela Matemática]</sup><br>[__Exercícios e problemas sobre Conjuntos - AULA 4 -Curso de Conjuntos - Professora Angela__](https://www.youtube.com/watch?v=tW1Kl9P5JeE&t=321)<br><sub>(22:19, YouTube, 01/Abr/2020)</sub> |\n"
   ]
  }
 ],
 "metadata": {
  "kernelspec": {
   "display_name": "base",
   "language": "python",
   "name": "python3"
  },
  "language_info": {
   "name": "python",
   "version": "3.12.1"
  }
 },
 "nbformat": 4,
 "nbformat_minor": 2
}
