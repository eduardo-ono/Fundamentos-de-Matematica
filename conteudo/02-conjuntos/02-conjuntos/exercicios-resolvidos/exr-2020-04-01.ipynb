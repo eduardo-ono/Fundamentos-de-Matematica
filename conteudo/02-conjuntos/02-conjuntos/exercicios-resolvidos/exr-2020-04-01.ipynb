{
 "cells": [
  {
   "cell_type": "markdown",
   "metadata": {},
   "source": [
    "<sup>Fundamentos de Matemática</sup>\n",
    "<img alt=\"\" width=\"100%\" height=\"2px\" align=\"right\">\n",
    "\n",
    "&nbsp;\n",
    "\n",
    "<h1 align=\"center\">Exercício Resolvido</h1>\n",
    "<h4 align=\"center\">Prof. Eduardo Ono</h4>\n",
    "<h6 align=\"center\">Atualizado em: 25/02/2025</h6>"
   ]
  },
  {
   "cell_type": "markdown",
   "metadata": {},
   "source": [
    "&emsp; Em um grupo de 600 pessoas, 10 pessoas gostam de abacaxi, banana e caju; 50 pessoas gostam de abacaxi e banana, 15 gostam de abacaxi e caju; 30 gostam de banana e caju. O total de pessoas do grupo que gostam de abacaxi é 185, de banana é 150 e de caju é 180. Calcule o número de pessoas no grupo que:\n",
    "\n",
    "a) &nbsp; Gostam de pelo menos uma das três frutas;\n",
    "\n",
    "b) &nbsp; Não gostam de nunhuma das três frutas.\n",
    "\n",
    "_Resolução_:\n",
    "\n",
    "$$\n",
    "\\begin{gather*}\n",
    "A \\cap B \\cap C = 10, \\quad A \\cap B = 50, \\quad A \\cap C = 15, \\quad B \\cap C = 30 \\\\[10pt]\n",
    "n(A) = 185, \\quad n(B) = 150, \\quad n(C) = 180\n",
    "\\end{gather*}\n",
    "$$"
   ]
  },
  {
   "cell_type": "markdown",
   "metadata": {},
   "source": [
    "### Referências\n",
    "\n",
    "| Thumb | Descrição |\n",
    "| :-: | --- |\n",
    "| ![img](https://img.youtube.com/vi/tW1Kl9P5JeE/default.jpg) | <sup>[Professora Angela Matemática]</sup><br>[__Exercícios e problemas sobre Conjuntos - AULA 4 -Curso de Conjuntos - Professora Angela__](https://www.youtube.com/watch?v=tW1Kl9P5JeE)<br><sub>(22:19, YouTube, 01/Abr/2020)</sub> |\n"
   ]
  }
 ],
 "metadata": {
  "kernelspec": {
   "display_name": "base",
   "language": "python",
   "name": "python3"
  },
  "language_info": {
   "name": "python",
   "version": "3.12.1"
  }
 },
 "nbformat": 4,
 "nbformat_minor": 2
}
