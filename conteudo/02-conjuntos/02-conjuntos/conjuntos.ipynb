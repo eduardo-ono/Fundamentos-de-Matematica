{
 "cells": [
  {
   "cell_type": "markdown",
   "metadata": {},
   "source": [
    "<sup>Fundamentos de Matemática</sup>\n",
    "<img alt=\"\" width=\"100%\" height=\"2px\" align=\"right\">\n",
    "\n",
    "&nbsp;\n",
    "\n",
    "<h1 align=\"center\">Conjuntos</h1>\n",
    "<h4 align=\"center\">Prof. Eduardo Ono</h4>\n",
    "<h6 align=\"center\">Atualizado em: 13/02/2025</h6>"
   ]
  },
  {
   "cell_type": "markdown",
   "metadata": {},
   "source": [
    "__Sumário__<a id='toc0_'></a>    \n",
    "- 1. [Introdução](#toc1_)    \n",
    "- 2. [Conceitos](#toc2_)    \n",
    "  - 2.1. [Descrição de um Conjunto](#toc2_1_)    \n",
    "    - 2.1.1. [Descrição pela citação dos elementos](#toc2_1_1_)    \n",
    "    - 2.1.2. [Descrição por uma propriedade](#toc2_1_2_)    \n",
    "- 3. [Conjunto Unitário](#toc3_)    \n",
    "- 4. [Conjunto Vazio](#toc4_)    \n",
    "  - 4.1. [DEFINIÇÃO. (Conjunto vazio)](#toc4_1_)    \n",
    "- 5. [Igualdade de Conjuntos](#toc5_)    \n",
    "- 6. [Subconjuntos](#toc6_)    \n",
    "  - 6.1. [Simbologia](#toc6_1_)    \n",
    "  - 6.2. [Operações](#toc6_2_)    \n",
    "  - 6.3. [Propriedades](#toc6_3_)    \n",
    "    - 6.3.1. [Associativa em Relação a Reunião](#toc6_3_1_)    \n",
    "    - 6.3.2. [Distributivas](#toc6_3_2_)    \n",
    "  - 6.4. [Complementar (ou Complemento) de um Conjunto](#toc6_4_)    \n",
    "\n",
    "<!-- vscode-jupyter-toc-config\n",
    "\tnumbering=true\n",
    "\tanchor=true\n",
    "\tflat=false\n",
    "\tminLevel=1\n",
    "\tmaxLevel=5\n",
    "\t/vscode-jupyter-toc-config -->\n",
    "<!-- THIS CELL WILL BE REPLACED ON TOC UPDATE. DO NOT WRITE YOUR TEXT IN THIS CELL -->"
   ]
  },
  {
   "cell_type": "markdown",
   "metadata": {},
   "source": []
  },
  {
   "cell_type": "markdown",
   "metadata": {},
   "source": [
    "# 1. <a id='toc1_'></a>[Introdução](#toc0_)"
   ]
  },
  {
   "cell_type": "markdown",
   "metadata": {},
   "source": [
    "Na Teoria dos Conjuntos, três noções são aceitas sem definição, isto é, são consideradas noções primitivas:\n",
    "\n",
    "* Conjunto;\n",
    "* Elemento;\n",
    "* Pertinência entre elemento e conjunto."
   ]
  },
  {
   "cell_type": "markdown",
   "metadata": {},
   "source": [
    "# 2. <a id='toc2_'></a>[Conceitos](#toc0_)\n",
    "\n",
    "&emsp; Um __conjunto__ é uma forma matemática de nos referirmos a uma propriedade ou a uma condição. Objetos que possuem uma certa propriedade ou que cumprem uma certa condição determinam uma característica comum que, por sua vez, determina o conjunto desses objetos. Nesse caso, esses objetos são chamados de __elementos__ do conjunto.\n",
    "\n",
    "&emsp; OBS.: Propriedade é um atributo. Condição é um requisito. <em>Um elemento tem uma propriedade</em>. <em>Um elemento satisfaz uma condição</em>. Portanto, está errado dizer que <em><s>um elemento satisfaz uma propriedade</s></em>, da mesma forma que <em><s>um elemento tem uma condição</s></em>.\n",
    "\n",
    "&emsp; Em geral, indicamos um conjunto com uma letra maiúscula: $A$, $B$, $C$, ..., e um elemento com uma letra minúscula: $a$, $b$, $c$, $x$, $y$, ... .\n",
    "\n",
    "&emsp; Quando $a$ é um elemento de um conjunto $A$ dizemos que $a$ pertence ao conjunto $A$ e escrevemos\n",
    "\n",
    "$$\n",
    "a \\in A\n",
    "$$\n",
    "\n",
    "&emsp; Quando $a$ <strong>não</strong> é um elemento de um conjunto $A$ dizemos que $a$ não pertence ao conjunto $A$ e escrevemos\n",
    "\n",
    "$$\n",
    "a \\notin A\n",
    "$$\n",
    "&emsp; A __cardinalidade__ de um conjunto $A$ é o número de elementos do conjunto $A$, ou seja, $n(A)$."
   ]
  },
  {
   "cell_type": "markdown",
   "metadata": {},
   "source": [
    "## 2.1. <a id='toc2_1_'></a>[Descrição de um Conjunto](#toc0_)"
   ]
  },
  {
   "cell_type": "markdown",
   "metadata": {},
   "source": [
    "* Descrição pela citação dos elementos;\n",
    "\n",
    "* Descrição por uma propriedade."
   ]
  },
  {
   "cell_type": "markdown",
   "metadata": {},
   "source": [
    "### 2.1.1. <a id='toc2_1_1_'></a>[Descrição pela citação dos elementos](#toc0_)"
   ]
  },
  {
   "cell_type": "markdown",
   "metadata": {},
   "source": [
    "Exemplos:\n",
    "\n",
    "* $A = \\{2, 3, 5, 7, 11, 13, 17, 19, \\cdots\\}$.\n",
    "\n",
    "* Conjunto das vogais: $\\{\\text{a, e, i, o, u}\\}$.\n",
    "\n",
    "Adendo:\n",
    "\n",
    "> Um número __primo__ é todo número natural, maior do que 1, que é divisível somente por 1 e por ele mesmo."
   ]
  },
  {
   "cell_type": "markdown",
   "metadata": {},
   "source": [
    "### 2.1.2. <a id='toc2_1_2_'></a>[Descrição por uma propriedade](#toc0_)"
   ]
  },
  {
   "cell_type": "markdown",
   "metadata": {},
   "source": [
    "&emsp; Quando queremos descrever um conjunto $A$ por meio de uma propriedade característica $P$ de seus elementos $x$, escrevemos:\n",
    "\n",
    "$$\n",
    "A = \\{x \\ | \\ x \\text{ tem a propriedade } P\\} \\\\\n",
    "\\\\\n",
    "\\text{ou} \\\\\n",
    "\\\\\n",
    "A = \\{x \\ ; \\ x \\text{ tem a propriedade } P\\} \\\\\n",
    "\\\\\n",
    "\\text{ou} \\\\\n",
    "\\\\\n",
    "A = \\{x \\,: \\, x \\text{ tem a propriedade } P\\} \\\\\n",
    "$$\n",
    "\n",
    "e lemos: \"$A$ é o conjunto dos elementos $x$ tal que $x$ tem a propriedade $P$\"."
   ]
  },
  {
   "cell_type": "markdown",
   "metadata": {},
   "source": [
    "# 3. <a id='toc3_'></a>[Conjunto Unitário](#toc0_)\n",
    "\n",
    "&emsp; Chama-se __*conjunto unitário*__ aquele que possui somente um único elemento.\n",
    "\n",
    "Exemplos:\n",
    "\n",
    "i) &emsp; Conjunto das soluções da equação $\\, 2x - 18 = 0\\,$: $\\quad S = \\{9\\}$."
   ]
  },
  {
   "cell_type": "markdown",
   "metadata": {},
   "source": [
    "# 4. <a id='toc4_'></a>[Conjunto Vazio](#toc0_)\n",
    "\n",
    "## 4.1. <a id='toc4_1_'></a>[DEFINIÇÃO. (Conjunto vazio)](#toc0_)\n",
    "\n",
    "&emsp; Chama-se __*conjunto vazio*__ aquele que não possui elemento algum. O símbolo usual para o conjunto vazio é $\\emptyset$.\n",
    "\n",
    "&emsp; Obtemos um conjunto vazio quando descrevemos um conjunto por meio de uma propriedade $P$ logicamente falsa.\n",
    "\n",
    "Exemplos:\n",
    "\n",
    "$\n",
    "\\text{i)} \\quad \\{x \\; | \\; x \\neq x \\} = \\emptyset\n",
    "$"
   ]
  },
  {
   "cell_type": "markdown",
   "metadata": {},
   "source": [
    "# 5. <a id='toc5_'></a>[Igualdade de Conjuntos](#toc0_)\n",
    "\n",
    "&emsp; Dois conjuntos $A$ e $B$ são iguais quando todo elemento de $A$ pertence a $B$ e, reciprocamente, todo elemento de $B$ pertence a $A$. Em símbolos:\n",
    "\n",
    "$$\n",
    "A = B \\iff (\\forall \\; x)(x \\in A \\iff x \\in B)\n",
    "$$\n",
    "\n",
    "&emsp; Se $A$ não é igual a $B$, escrevemos $A \\neq B$. É evidente que $A$ é diferente de $B$ se existe um elemento de $A$ não pertencente a $B$ ou existe em $B$ um elemento não pertencente a $A$.\n",
    "\n",
    "__Exemplos__\n",
    "\n",
    "$\n",
    "\\text{i)} \\quad \\{1, 2, 3, 4\\} = \\{4, 3, 2, 1\\} \\\\\n",
    "\\text{ii)} \\quad \\{1, 2, 3, 4\\} = \\{1, 1, 2, 3, 3, 3, 3, 4, 4\\}\n",
    "$"
   ]
  },
  {
   "cell_type": "markdown",
   "metadata": {},
   "source": [
    "# 6. <a id='toc6_'></a>[Subconjuntos](#toc0_)"
   ]
  },
  {
   "cell_type": "markdown",
   "metadata": {},
   "source": [
    "__DEFINIÇÃO.__ &ensp; Um conjunto $A$ é __*subconjunto*__ de um conjunto $B$ se, e somente se, todo elemento de $A$ pertence também a $B$.\n",
    "\n",
    "&emsp; Com a notação $A \\subset B$ indicamos que \"$A$ é subconjunto de $B$\" ou \"$A$ está contido em $B$\" ou \"$A$ é parte de $B$\".\n",
    "\n",
    "&emsp; O símbolo $\\subset$ é denominado sinal de inclusão.\n",
    "\n",
    "&emsp; Podemos, então, escrever:\n",
    "\n",
    "$$\n",
    "A \\subset B \\iff (\\forall \\; x)(x \\in A \\implies x \\in B) \\\\\n",
    "\\\\[12pt]\n",
    "$$\n",
    "\n",
    "&emsp; Com a notação $A \\not \\subset B$ indicamos que \"$A$ não está contido em $B$\", isto é, a negação de $A \\subset B$.\n",
    "\n",
    "&emsp; Quando $A \\subset B$ podemos também escrever $B \\supset A$, que se lê \"$B$ contém $A$\".\n"
   ]
  },
  {
   "cell_type": "markdown",
   "metadata": {},
   "source": [
    "Exemplos\n",
    "\n",
    "$\n",
    "\\text{i)} \\quad \\{a, b, c\\} \\subset \\{a, b, c, d\\} \\\\\n",
    "\\text{ii)} \\quad \\{\\, x \\; | \\; \\text{x é primo.}\\} \\subset \\{\\, x \\; | \\; \\text{x é inteiro.}\\}\n",
    "$"
   ]
  },
  {
   "cell_type": "markdown",
   "metadata": {},
   "source": [
    "## 6.1. <a id='toc6_1_'></a>[Simbologia](#toc0_)"
   ]
  },
  {
   "cell_type": "markdown",
   "metadata": {},
   "source": [
    "| Símbolo | Significado | Exemplo |\n",
    "| :-: | --- | :-: |\n",
    "| $\\in$ | pertence | $5 \\in \\mathbb{N}$ |\n",
    "| $\\notin$ | não pertence | $-1 \\notin \\mathbb N$ |\n",
    "| $\\subset$ | está contido | $\\{2, 3\\} \\subset \\mathbb N$ |\n",
    "| $\\supset$ | contém | |\n",
    "| $\\cap$ | interseção | |\n",
    "| $\\cup$ | união | |\n",
    "| $\\setminus$ | diferença | |\n",
    "| $\\emptyset$ | conjunto vazio | |\n",
    "| $\\implies$ | implica que | |\n",
    "| $\\iff$ | \"se ... então ...\" ou \"implica que\" | $n$ é par $\\iff$ $n^2$ é par. |  |"
   ]
  },
  {
   "cell_type": "markdown",
   "metadata": {},
   "source": [
    "## 6.2. <a id='toc6_2_'></a>[Operações](#toc0_)"
   ]
  },
  {
   "cell_type": "markdown",
   "metadata": {},
   "source": [
    "## 6.3. <a id='toc6_3_'></a>[Propriedades](#toc0_)"
   ]
  },
  {
   "cell_type": "markdown",
   "metadata": {},
   "source": [
    "### 6.3.1. <a id='toc6_3_1_'></a>[Associativa em Relação a Reunião](#toc0_)\n",
    "\n",
    "$$ (A \\cup B) \\cup C = A \\cup (B \\cup C) $$\n",
    "$$ (A \\cap B) \\cap C = A \\cap (B \\cap C) $$\n",
    "\n",
    "### 6.3.2. <a id='toc6_3_2_'></a>[Distributivas](#toc0_)\n",
    "\n",
    "$$ (A \\cup B) \\cap C = A \\cap C \\cup B \\cap C $$\n",
    "$$ (A \\cap B) \\cup C = A \\cup C \\cap B \\cup C $$"
   ]
  },
  {
   "cell_type": "markdown",
   "metadata": {},
   "source": [
    "## 6.4. <a id='toc6_4_'></a>[Complementar (ou Complemento) de um Conjunto](#toc0_)"
   ]
  },
  {
   "cell_type": "markdown",
   "metadata": {},
   "source": [
    "&emsp; &emsp; "
   ]
  }
 ],
 "metadata": {
  "kernelspec": {
   "display_name": "base",
   "language": "python",
   "name": "python3"
  },
  "language_info": {
   "name": "python",
   "version": "3.12.1"
  }
 },
 "nbformat": 4,
 "nbformat_minor": 2
}
