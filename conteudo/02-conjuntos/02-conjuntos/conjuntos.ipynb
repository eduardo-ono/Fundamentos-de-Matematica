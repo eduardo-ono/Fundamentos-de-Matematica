{
 "cells": [
  {
   "cell_type": "markdown",
   "metadata": {},
   "source": [
    "<sup>Fundamentos de Matemática</sup>\n",
    "<img alt=\"\" width=\"100%\" height=\"2px\" align=\"right\">\n",
    "\n",
    "&nbsp;\n",
    "\n",
    "<h1 align=\"center\">Conjuntos</h1>\n",
    "<h4 align=\"center\">Prof. Eduardo Ono</h4>\n",
    "<h6 align=\"center\">Atualizado em: 13/02/2025</h6>"
   ]
  },
  {
   "cell_type": "markdown",
   "metadata": {},
   "source": [
    "__Sumário__<a id='toc0_'></a>    \n",
    "- 1. [Introdução](#toc1_)    \n",
    "- 2. [Conceitos](#toc2_)    \n",
    "  - 2.1. [Descrição de um Conjunto](#toc2_1_)    \n",
    "    - 2.1.1. [Descrição pela citação dos elementos](#toc2_1_1_)    \n",
    "    - 2.1.2. [Descrição por uma propriedade](#toc2_1_2_)    \n",
    "- 3. [Conjunto Unitário](#toc3_)    \n",
    "- 4. [Conjunto Vazio](#toc4_)    \n",
    "  - 4.1. [DEFINIÇÃO. (Conjunto vazio)](#toc4_1_)    \n",
    "- 5. [Igualdade de Conjuntos](#toc5_)    \n",
    "- 6. [Subconjuntos](#toc6_)    \n",
    "- 7. [Diagrama de Venn](#toc7_)    \n",
    "  - 7.1. [Simbologia](#toc7_1_)    \n",
    "  - 7.2. [Operações](#toc7_2_)    \n",
    "  - 7.3. [Propriedades](#toc7_3_)    \n",
    "    - 7.3.1. [Associativa em Relação a Reunião](#toc7_3_1_)    \n",
    "    - 7.3.2. [Distributivas](#toc7_3_2_)    \n",
    "  - 7.4. [Complementar (ou Complemento) de um Conjunto](#toc7_4_)    \n",
    "\n",
    "<!-- vscode-jupyter-toc-config\n",
    "\tnumbering=true\n",
    "\tanchor=true\n",
    "\tflat=false\n",
    "\tminLevel=1\n",
    "\tmaxLevel=5\n",
    "\t/vscode-jupyter-toc-config -->\n",
    "<!-- THIS CELL WILL BE REPLACED ON TOC UPDATE. DO NOT WRITE YOUR TEXT IN THIS CELL -->"
   ]
  },
  {
   "cell_type": "markdown",
   "metadata": {},
   "source": []
  },
  {
   "cell_type": "markdown",
   "metadata": {},
   "source": [
    "# 1. <a id='toc1_'></a>[Introdução](#toc0_)"
   ]
  },
  {
   "cell_type": "markdown",
   "metadata": {},
   "source": [
    "Na Teoria dos Conjuntos, três noções são aceitas sem definição, isto é, são consideradas noções primitivas:\n",
    "\n",
    "* Conjunto;\n",
    "* Elemento;\n",
    "* Pertinência entre elemento e conjunto."
   ]
  },
  {
   "cell_type": "markdown",
   "metadata": {},
   "source": [
    "# 2. <a id='toc2_'></a>[Conceitos](#toc0_)\n",
    "\n",
    "&emsp; Um __conjunto__ é uma forma matemática de nos referirmos a uma propriedade ou a uma condição. Objetos que possuem uma certa propriedade ou que cumprem uma certa condição determinam uma característica comum que, por sua vez, determina o conjunto desses objetos. Nesse caso, esses objetos são chamados de __elementos__ do conjunto.\n",
    "\n",
    "&emsp; OBS.: Propriedade é um atributo. Condição é um requisito. <em>Um elemento tem uma propriedade</em>. <em>Um elemento satisfaz uma condição</em>. Portanto, está errado dizer que <em><s>um elemento satisfaz uma propriedade</s></em>, da mesma forma que <em><s>um elemento tem uma condição</s></em>.\n",
    "\n",
    "&emsp; Em geral, indicamos um conjunto com uma letra maiúscula: $A$, $B$, $C$, ..., e um elemento com uma letra minúscula: $a$, $b$, $c$, $x$, $y$, ... .\n",
    "\n",
    "&emsp; Quando $a$ é um elemento de um conjunto $A$ dizemos que $a$ pertence ao conjunto $A$ e escrevemos\n",
    "\n",
    "$$\n",
    "a \\in A\n",
    "$$\n",
    "\n",
    "&emsp; Quando $a$ <strong>não</strong> é um elemento de um conjunto $A$ dizemos que $a$ não pertence ao conjunto $A$ e escrevemos\n",
    "\n",
    "$$\n",
    "a \\notin A\n",
    "$$\n",
    "&emsp; A __cardinalidade__ de um conjunto $A$ é o número de elementos do conjunto $A$, denotado por $n(A)$."
   ]
  },
  {
   "cell_type": "markdown",
   "metadata": {},
   "source": [
    "## 2.1. <a id='toc2_1_'></a>[Descrição de um Conjunto](#toc0_)"
   ]
  },
  {
   "cell_type": "markdown",
   "metadata": {},
   "source": [
    "* Descrição pela citação dos elementos;\n",
    "\n",
    "* Descrição por uma propriedade."
   ]
  },
  {
   "cell_type": "markdown",
   "metadata": {},
   "source": [
    "### 2.1.1. <a id='toc2_1_1_'></a>[Descrição pela citação dos elementos](#toc0_)"
   ]
  },
  {
   "cell_type": "markdown",
   "metadata": {},
   "source": [
    "Exemplos:\n",
    "\n",
    "* $A = \\{2, 3, 5, 7, 11, 13, 17, 19, \\cdots\\}$.\n",
    "\n",
    "* Conjunto das vogais: $\\{\\text{a, e, i, o, u}\\}$.\n",
    "\n",
    "Adendo:\n",
    "\n",
    "> Um número __primo__ é todo número natural, maior do que 1, que é divisível somente por 1 e por ele mesmo."
   ]
  },
  {
   "cell_type": "markdown",
   "metadata": {},
   "source": [
    "### 2.1.2. <a id='toc2_1_2_'></a>[Descrição por uma propriedade](#toc0_)"
   ]
  },
  {
   "cell_type": "markdown",
   "metadata": {},
   "source": [
    "&emsp; Quando queremos descrever um conjunto $A$ por meio de uma propriedade característica $P$ de seus elementos $x$, escrevemos:\n",
    "\n",
    "$$\n",
    "A = \\{x \\mid x \\text{ tem a propriedade } P\\} \\\\[10pt]\n",
    "\n",
    "\\text{ou} \\\\[10pt]\n",
    "\n",
    "A = \\{x \\, ; \\, x \\text{ tem a propriedade } P\\} \\\\[10pt]\n",
    "\n",
    "\\text{ou} \\\\[10pt]\n",
    "\n",
    "A = \\{x : x \\text{ tem a propriedade } P\\}\n",
    "$$\n",
    "\n",
    "e lemos: \"$A$ é o conjunto dos elementos $x$ tal que $x$ tem a propriedade $P$\"."
   ]
  },
  {
   "cell_type": "markdown",
   "metadata": {},
   "source": [
    "# 3. <a id='toc3_'></a>[Conjunto Unitário](#toc0_)\n",
    "\n",
    "__DEFINIÇÃO.__ &nbsp; Chama-se __*conjunto unitário*__ aquele que possui somente um único elemento.\n",
    "\n",
    "__Exemplos:__\n",
    "\n",
    "&emsp; Conjunto das soluções da equação $\\, 2x - 18 = 0\\,$: $\\quad S = \\{9\\}$."
   ]
  },
  {
   "cell_type": "markdown",
   "metadata": {},
   "source": [
    "# 4. <a id='toc4_'></a>[Conjunto Vazio](#toc0_)\n",
    "\n",
    "__DEFINIÇÃO.__ &nbsp; Chama-se __*conjunto vazio*__ aquele que não possui elemento algum.\n",
    "\n",
    "&emsp; O símbolo usual para o conjunto vazio é $\\emptyset$.\n",
    "\n",
    "&emsp; Obtemos um conjunto vazio quando descrevemos um conjunto por meio de uma propriedade $P$ logicamente falsa.\n",
    "\n",
    "__Exemplos:__\n",
    "\n",
    "$\\text{i)} \\quad \\{x \\mid x \\neq x \\} = \\emptyset$\n",
    "\n",
    "$\\text{ii)} \\quad \\{x \\mid x < 0 \\ \\wedge \\ x > 0\\} = \\emptyset$\n"
   ]
  },
  {
   "cell_type": "markdown",
   "metadata": {},
   "source": [
    "# 5. <a id='toc5_'></a>[Igualdade de Conjuntos](#toc0_)\n",
    "\n",
    "__DEFINIÇÃO.__ &nbsp; Dois conjuntos $A$ e $B$ são iguais quando todo elemento de $A$ pertence a $B$ e, reciprocamente, todo elemento de $B$ pertence a $A$. Em notação simbólica:\n",
    "\n",
    "$$\n",
    "\\boxed{\\ A = B \\iff (\\forall \\; x)(x \\in A \\iff x \\in B) \\ }\n",
    "$$\n",
    "\n",
    "&emsp; Nessa definição está explícito que todo elemento de $A$ é elemento de $B$ e vice-versa, isto é, $A \\subset B$ e $B \\subset A$. Portanto, podemos escrever:\n",
    "\n",
    "$$\n",
    "\\boxed{\\ A = B \\iff A \\subset B \\; \\text{ e } \\; B \\subset A \\ }\n",
    "$$\n",
    "\n",
    "&emsp; Se $A$ não é igual a $B$, escrevemos $A \\neq B$. É evidente que $A$ é diferente de $B$ se existe um elemento de $A$ não pertencente a $B$ ou existe em $B$ um elemento não pertencente a $A$.\n",
    "\n",
    "\n",
    "__Exemplos:__\n",
    "\n",
    "$\\text{i)} \\quad \\{1, 2, 3, 4\\} = \\{4, 3, 2, 1\\}$\n",
    "\n",
    "$\\text{ii)} \\quad \\{1, 2, 3, 4\\} = \\{1, 1, 2, 3, 3, 3, 3, 4, 4\\}$"
   ]
  },
  {
   "cell_type": "markdown",
   "metadata": {},
   "source": [
    "# 6. <a id='toc6_'></a>[Subconjuntos](#toc0_)"
   ]
  },
  {
   "cell_type": "markdown",
   "metadata": {},
   "source": [
    "__DEFINIÇÃO.__ &ensp; Um conjunto $A$ é __*subconjunto*__ de um conjunto $B$ se, e somente se, todo elemento de $A$ pertence também a $B$.\n",
    "\n",
    "&emsp; Com a notação $A \\subset B$ indicamos que \"$A$ é subconjunto de $B$\" ou \"$A$ está contido em $B$\" ou \"$A$ é parte de $B$\".\n",
    "\n",
    "&emsp; O símbolo $\\subset$ é denominado __sinal de inclusão__.\n",
    "\n",
    "&emsp; Podemos, então, escrever:\n",
    "\n",
    "$$\n",
    "\\boxed{A \\subset B \\iff (\\forall \\; x)(x \\in A \\implies x \\in B)} \\\\\n",
    "\\\\[20pt]\n",
    "$$\n",
    "\n",
    "&emsp; Com a notação $A \\not \\subset B$ indicamos que \"$A$ não está contido em $B$\", isto é, a negação de $A \\subset B$.\n",
    "\n",
    "&emsp; Quando $A \\subset B$ podemos também escrever $B \\supset A$, que se lê \"$B$ contém $A$\".\n"
   ]
  },
  {
   "cell_type": "markdown",
   "metadata": {},
   "source": [
    "__Exemplos:__\n",
    "\n",
    "$\\text{i)} \\quad \\{a, b, c\\} \\subset \\{a, b, c, d\\}$\n",
    "\n",
    "$\\text{ii)} \\quad \\{x \\mid x \\text{ é primo.}\\} \\subset \\mathbb{N}$"
   ]
  },
  {
   "cell_type": "markdown",
   "metadata": {},
   "source": [
    "<h4>Vídeos de Apoio</h4>\n",
    "\n",
    "| Thumb | Descrição |\n",
    "| :-: | --- |\n",
    "| ![img](https://img.youtube.com/vi/VNA1MntF_ho/default.jpg) | <sup>[Dicasdemat Sandro Curió]</sup><br>[__CONJUNTO \\| PERTENCE E NÃO PERTENCE \\| ESTÁ CONTIDO E CONTÉM__](https://www.youtube.com/watch?v=VNA1MntF_ho)<br><sub>(16:28, YouTube, 17/Fev/2025)</sub> |\n"
   ]
  },
  {
   "cell_type": "markdown",
   "metadata": {},
   "source": [
    "# Operações com Conjuntos"
   ]
  },
  {
   "cell_type": "markdown",
   "metadata": {},
   "source": [
    "* União (ou Reunião);\n",
    "* Interseção;\n",
    "* Diferença."
   ]
  },
  {
   "cell_type": "markdown",
   "metadata": {},
   "source": [
    "## União (ou Reunião)\n",
    "\n",
    "$$\n",
    "A \\cup B = \\{ x \\mid x \\in A \\ \\text{ ou }\\ x \\in B \\}\n",
    "$$\n",
    "\n",
    "Usando a notação simbólica:\n",
    "\n",
    "$$\n",
    "A \\cup B = \\{ x \\mid x \\in A \\ \\overbrace{\\vee}^{\\text{ou}} \\ x \\in B \\}\n",
    "$$"
   ]
  },
  {
   "cell_type": "markdown",
   "metadata": {},
   "source": [
    "## Intersecção\n",
    "\n",
    "$$\n",
    "A \\cap B = \\{x \\mid x \\in A \\ \\text{ e }\\ x \\in B \\}\n",
    "$$\n",
    "\n",
    "Usando a notação simbólica:\n",
    "\n",
    "$$\n",
    "A \\cap B = \\{ x \\mid x \\in A \\ \\overbrace{\\wedge}^{e} \\ x \\in B \\}\n",
    "$$"
   ]
  },
  {
   "cell_type": "code",
   "execution_count": 16,
   "metadata": {},
   "outputs": [
    {
     "data": {
      "image/png": "[encoded data removed]",
      "text/plain": [
       "<Figure size 640x480 with 1 Axes>"
      ]
     },
     "metadata": {},
     "output_type": "display_data"
    }
   ],
   "source": [
    "import matplotlib.pyplot as plt\n",
    "import matplotlib_venn as venn2\n",
    "from matplotlib_venn import venn2_circles\n",
    "\n",
    "venn2_circles(subsets=(1, 1, 0.2), color='k', )\n",
    "plt.show()"
   ]
  },
  {
   "cell_type": "markdown",
   "metadata": {},
   "source": []
  },
  {
   "cell_type": "markdown",
   "metadata": {},
   "source": [
    "# 7. <a id='toc7_'></a>[Diagrama de Venn](#toc0_)"
   ]
  },
  {
   "cell_type": "markdown",
   "metadata": {},
   "source": [
    "<h3>Vídeos de Apoio</h3>\n",
    "\n",
    "| Thumb | Descrição |\n",
    "| :-: | --- |\n",
    "| ![img](https://img.youtube.com/vi/hL5lBfSsPoc/default.jpg) | <sup>[Portal da Matemática OBMEP]</sup><br>[__Diagrama de Venn__](https://www.youtube.com/watch?v=hL5lBfSsPoc)<br><sub>(12:49, YouTube, 25/Abr/2017)</sub> |\n"
   ]
  },
  {
   "cell_type": "markdown",
   "metadata": {},
   "source": [
    "<h3>Exemplo:</h3>\n",
    "\n",
    "\n",
    "\n"
   ]
  },
  {
   "cell_type": "code",
   "execution_count": 2,
   "metadata": {},
   "outputs": [
    {
     "data": {
      "image/png": "[encoded data removed]",
      "text/plain": [
       "<Figure size 640x480 with 1 Axes>"
      ]
     },
     "metadata": {},
     "output_type": "display_data"
    }
   ],
   "source": [
    "import matplotlib.pyplot as plt\n",
    "import matplotlib_venn as venn2\n",
    "\n",
    "venn2.venn2((1, 1, 0.2))\n",
    "plt.show()"
   ]
  },
  {
   "cell_type": "markdown",
   "metadata": {},
   "source": [
    "## 7.1. <a id='toc7_1_'></a>[Simbologia](#toc0_)"
   ]
  },
  {
   "cell_type": "code",
   "execution_count": null,
   "metadata": {},
   "outputs": [],
   "source": []
  },
  {
   "cell_type": "markdown",
   "metadata": {},
   "source": [
    "| Símbolo | Significado | Exemplo |\n",
    "| :-: | --- | :-: |\n",
    "| $\\in$ | pertence | $5 \\in \\mathbb{N}$ |\n",
    "| $\\notin$ | não pertence | $-1 \\notin \\mathbb N$ |\n",
    "| $\\subset$ | está contido | $\\{2, 3\\} \\subset \\mathbb N$ |\n",
    "| $\\supset$ | contém | |\n",
    "| $\\cap$ | interseção | |\n",
    "| $\\cup$ | união | |\n",
    "| $\\setminus$ | diferença | |\n",
    "| $\\emptyset$ | conjunto vazio | |\n",
    "| $\\implies$ | implica que | |\n",
    "| $\\iff$ | \"se ... então ...\" ou \"implica que\" | $n$ é par $\\iff$ $n^2$ é par. |  |"
   ]
  },
  {
   "cell_type": "markdown",
   "metadata": {},
   "source": [
    "## 7.2. <a id='toc7_2_'></a>[Operações](#toc0_)"
   ]
  },
  {
   "cell_type": "markdown",
   "metadata": {},
   "source": [
    "## 7.3. <a id='toc7_3_'></a>[Propriedades](#toc0_)"
   ]
  },
  {
   "cell_type": "markdown",
   "metadata": {},
   "source": [
    "### 7.3.1. <a id='toc7_3_1_'></a>[Associativa em Relação a Reunião](#toc0_)\n",
    "\n",
    "$$ (A \\cup B) \\cup C = A \\cup (B \\cup C) $$\n",
    "$$ (A \\cap B) \\cap C = A \\cap (B \\cap C) $$\n",
    "\n",
    "### 7.3.2. <a id='toc7_3_2_'></a>[Distributivas](#toc0_)\n",
    "\n",
    "$$ (A \\cup B) \\cap C = A \\cap C \\cup B \\cap C $$\n",
    "$$ (A \\cap B) \\cup C = A \\cup C \\cap B \\cup C $$"
   ]
  },
  {
   "cell_type": "markdown",
   "metadata": {},
   "source": [
    "## 7.4. <a id='toc7_4_'></a>[Complementar (ou Complemento) de um Conjunto](#toc0_)"
   ]
  },
  {
   "cell_type": "markdown",
   "metadata": {},
   "source": [
    "&emsp; &emsp; "
   ]
  }
 ],
 "metadata": {
  "kernelspec": {
   "display_name": "base",
   "language": "python",
   "name": "python3"
  },
  "language_info": {
   "codemirror_mode": {
    "name": "ipython",
    "version": 3
   },
   "file_extension": ".py",
   "mimetype": "text/x-python",
   "name": "python",
   "nbconvert_exporter": "python",
   "pygments_lexer": "ipython3",
   "version": "3.12.1"
  }
 },
 "nbformat": 4,
 "nbformat_minor": 2
}
