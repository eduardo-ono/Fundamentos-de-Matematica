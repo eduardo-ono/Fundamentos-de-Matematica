{
 "cells": [
  {
   "cell_type": "markdown",
   "metadata": {},
   "source": [
    "<sup>Fundamentos de Matemática</sup>\n",
    "<img alt=\"\" width=\"100%\" height=\"2px\" align=\"right\">\n",
    "\n",
    "&nbsp;\n",
    "\n",
    "<h1 align=\"center\">Conjuntos</h1>\n",
    "<h4 align=\"center\">Prof. Eduardo Ono</h4>\n",
    "<h6 align=\"center\">Atualizado em: 10/02/2025</h6>"
   ]
  },
  {
   "cell_type": "markdown",
   "metadata": {},
   "source": [
    "## Introdução"
   ]
  },
  {
   "cell_type": "markdown",
   "metadata": {},
   "source": [
    "Na Teoria dos Conjuntos, três noções são aceitas sem definição, isto é, são consideradas noções primitivas:\n",
    "\n",
    "* Conjunto\n",
    "* Elemento\n",
    "* Pertinência entre elemento e conjunto"
   ]
  },
  {
   "cell_type": "markdown",
   "metadata": {
    "slideshow": {
     "slide_type": "slide"
    }
   },
   "source": [
    "## Conceitos\n",
    "\n",
    "&emsp; &emsp; Um __conjunto__ é uma forma matemática de nos referirmos a uma propriedade ou a uma condição. Objetos que possuem uma certa propriedade ou que cumprem uma certa condição determinam uma característica comum que, por sua vez, determina o conjunto desses objetos. Nesse caso, esses objetos são chamados de __elementos__ do conjunto.\n",
    "\n",
    "&emsp; &emsp; OBS.: Propriedade é um atributo. Condição é um requisito. Um elemento tem uma propriedade. Um elemento satisfaz uma condição.\n",
    "\n",
    "&emsp; Indicamos um conjunto, em geral, com uma letra maiúscula, A, B, C, ..., e um\n",
    "elemento com uma letra minúscula, a, b, c, d, x, y, ... .\n",
    "\n",
    "&emsp; &emsp; Quando $a$ é um elemento de um conjunto $A$.\n",
    "\n",
    "&emsp; &emsp; A __cardinalidade__ de um conjunto $A$ é o número de elementos do conjunto $A$, ou seja, $n(A)$."
   ]
  },
  {
   "cell_type": "markdown",
   "metadata": {},
   "source": [
    "## Descrição de um Conjunto"
   ]
  },
  {
   "cell_type": "markdown",
   "metadata": {},
   "source": [
    "* Descrição pela citação dos elementos;\n",
    "\n",
    "* Descrição por uma propriedade"
   ]
  },
  {
   "cell_type": "markdown",
   "metadata": {},
   "source": [
    "### Descrição pela citação dos elementos"
   ]
  },
  {
   "cell_type": "markdown",
   "metadata": {},
   "source": [
    "Exemplos:\n",
    "\n",
    "* $A = \\{2, 3, 5, 7, 11, 13, 17, 19, \\cdots\\}$.\n",
    "\n",
    "* Conjunto das vogais: $\\{\\text{a, e, i, o, u}\\}$.\n",
    "\n",
    "Adendo:\n",
    "\n",
    "> Um número __primo__ é todo número natural, maior do que 1, que é divisível somente por 1 e por ele mesmo."
   ]
  },
  {
   "cell_type": "markdown",
   "metadata": {},
   "source": [
    "&emsp; Quando queremos descrever um conjunto $A$ por meio de uma propriedade característica $P$ de seus elementos $x$, escrevemos:\n",
    "\n",
    "$$\n",
    "A = \\{x \\ | \\ x \\text{ tem a propriedade } P\\} \\\\\n",
    "\\\\\n",
    "\\text{ou} \\\\\n",
    "\\\\\n",
    "A = \\{x \\ ; \\ x \\text{ tem a propriedade } P\\} \\\\\n",
    "\\\\\n",
    "\\text{ou} \\\\\n",
    "\\\\\n",
    "A = \\{x \\ : \\ x \\text{ tem a propriedade } P\\} \\\\\n",
    "$$\n",
    "\n",
    "e lemos: \"$A$ é o conjunto dos elementos $x$ tal que $x$ tem a propriedade $P$\"."
   ]
  },
  {
   "cell_type": "markdown",
   "metadata": {},
   "source": [
    "## Simbologia"
   ]
  },
  {
   "cell_type": "markdown",
   "metadata": {},
   "source": [
    "| Símbolo | Significado | Exemplo |\n",
    "| :-: | --- | :-: |\n",
    "| $\\in$ | pertence | $5 \\in \\mathbb{N}$ |\n",
    "| $\\notin$ | não pertence | $-1 \\notin \\mathbb N$ |\n",
    "| $\\subset$ | está contido | $\\{2, 3\\} \\subset \\mathbb N$ |\n",
    "| $\\supset$ | contém | |\n",
    "| $\\cap$ | interseção | |\n",
    "| $\\cup$ | união | |\n",
    "| $\\setminus$ | diferença | |\n",
    "| $\\emptyset$ | conjunto vazio | |\n",
    "| $\\implies$ | implica que | |\n",
    "| $\\iff$ | \"se ... então ...\" ou \"implica que\" | $n$ é par $\\iff$ $n^2$ é par. |  |"
   ]
  },
  {
   "cell_type": "markdown",
   "metadata": {
    "slideshow": {
     "slide_type": "slide"
    }
   },
   "source": [
    "## Operações"
   ]
  },
  {
   "cell_type": "markdown",
   "metadata": {
    "slideshow": {
     "slide_type": "slide"
    }
   },
   "source": [
    "## Propriedades"
   ]
  },
  {
   "cell_type": "markdown",
   "metadata": {},
   "source": [
    "### Associativa em Relação a Reunião\n",
    "\n",
    "$$ (A \\cup B) \\cup C = A \\cup (B \\cup C) $$\n",
    "$$ (A \\cap B) \\cap C = A \\cap (B \\cap C) $$\n",
    "\n",
    "### Distributivas\n",
    "\n",
    "$$ (A \\cup B) \\cap C = A \\cap C \\cup B \\cap C $$\n",
    "$$ (A \\cap B) \\cup C = A \\cup C \\cap B \\cup C $$"
   ]
  },
  {
   "cell_type": "markdown",
   "metadata": {},
   "source": [
    "## Complementar (ou Complemento) de um Conjunto"
   ]
  },
  {
   "cell_type": "markdown",
   "metadata": {},
   "source": [
    "&emsp; &emsp; "
   ]
  }
 ],
 "metadata": {
  "kernelspec": {
   "display_name": "base",
   "language": "python",
   "name": "python3"
  },
  "language_info": {
   "name": "python",
   "version": "3.12.1"
  }
 },
 "nbformat": 4,
 "nbformat_minor": 2
}
