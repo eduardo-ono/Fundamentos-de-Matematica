{
 "cells": [
  {
   "cell_type": "markdown",
   "metadata": {},
   "source": [
    "<sup>Fundamentos de Matemática</sup>\n",
    "<img alt=\"\" width=\"100%\" height=\"2px\" align=\"right\">\n",
    "\n",
    "&nbsp;\n",
    "\n",
    "<h1 align=\"center\">1ª Lista de Exercícios - Conjuntos</h1>\n",
    "<h4 align=\"center\">Prof. Eduardo Ono</h4>\n",
    "<h6 align=\"center\">Atualizado em: 14/02/2025</h6>"
   ]
  },
  {
   "cell_type": "markdown",
   "metadata": {},
   "source": [
    "Obs.: Apresente argumentos, diagramas, etc. que justifiquem sua resposta nas questões de múltipla escolha."
   ]
  },
  {
   "cell_type": "markdown",
   "metadata": {},
   "source": [
    "__Questão 1.__ &nbsp; (UF-CE) Dos 1150 alunos de uma escola, 654 gostam de português, 564 gostam de matemática e 176 não gostam de português nem de matemática. Sendo assim, a quantidade de alunos que gostam de português e de matemática é:\n",
    "\n",
    "a) 300 <br>\n",
    "b) 250 <br>\n",
    "c) 244 <br>\n",
    "d) 201 <br>\n",
    "e) 122"
   ]
  },
  {
   "cell_type": "markdown",
   "metadata": {},
   "source": [
    "<hr>\n",
    "\n",
    "__Questão 2.__ &nbsp; (ESPM-SP) Numa empresa multinacional, sabe-se que 60% dos funcionários falam inglês, 45% falam espanhol e 30% deles não falam nenhuma daquelas línguas. Se exatamente 49 funcionários falam inglês e espanhol, podemos concluir que o número de funcionários dessa empresa é igual a:\n",
    "\n",
    "a) 180 <br>\n",
    "b) 140 <br>\n",
    "c) 210 <br>\n",
    "d) 165 <br>\n",
    "e) 127"
   ]
  },
  {
   "cell_type": "markdown",
   "metadata": {},
   "source": [
    "<hr>\n",
    "\n",
    "__Questão 3.__ &nbsp; (UFF-RJ) Foram enviadas para dois testes em um laboratório 150 caixas de leite de uma determinada marca. No teste de qualidade, 40 caixas foram reprovadas por conterem elevada taxa de concentração de formol. No teste de medida, 60 caixas foram reprovadas por terem volume inferior a 1 litro. Sabendo-se que apenas 65 caixas foram aprovadas nos dois testes, pode-se concluir que o número de caixas que foram reprovadas em ambos os testes é igual a:\n",
    "\n",
    "a) 15 <br>\n",
    "b) 20 <br>\n",
    "c) 35 <br>\n",
    "d) 85 <br>\n",
    "e) 100"
   ]
  },
  {
   "cell_type": "markdown",
   "metadata": {},
   "source": [
    "<hr>\n",
    "\n",
    "__Questão 4.__ &nbsp; (FEI-SP) Uma escola de línguas oferece somente dois cursos: Inglês e Francês. Sabe-se que ela conta com 500 estudantes e que nenhum deles faz os dois cursos simultaneamente. Destes estudantes, 60% são mulheres e, destas, 10% cursam Francês. Sabe-se que 30% dos estudantes homens também cursam Francês. Neste caso, o número de estudantes homens que cursam Inglês é:\n",
    "\n",
    "a) 60 <br>\n",
    "b) 410 <br>\n",
    "c) 140 <br>\n",
    "d) 320 <br>\n",
    "e) 270\n"
   ]
  },
  {
   "cell_type": "markdown",
   "metadata": {},
   "source": [
    "<hr>\n",
    "\n",
    "___Questão 5.___ &nbsp; (UF-PI) Sejam A e B dois subconjuntos quaisquer de números reais. Sobre as afirmações abaixo,\n",
    "\n",
    "I. &nbsp; Se $\\,A \\cap B = \\emptyset\\,$, então $\\,A = \\emptyset\\,$ ou $\\,B = \\emptyset\\,$;\n",
    "\n",
    "II. &nbsp; Se $\\,x \\in A \\cup B\\,$, então $\\,x \\in A\\,$ ou $\\,x \\in B\\,$;\n",
    "\n",
    "III. &nbsp; Se $x \\in (A \\cup B)^C\\,$, então $\\,x \\in A^C\\,$ e $\\,x \\in B^C\\,$;\n",
    "\n",
    "é correto afirmar que:\n",
    "\n",
    "a) somente I é verdadeira. <br>\n",
    "b) somente I e II são verdadeiras. <br>\n",
    "c) somente II é verdadeira. <br>\n",
    "d) somente II e III são verdadeiras. <br>\n",
    "e) todas as afirmações são verdadeiras."
   ]
  },
  {
   "cell_type": "markdown",
   "metadata": {},
   "source": [
    "<hr>\n",
    "\n",
    "__Questão 6.__ &nbsp; (ITA-SP) Sejam $A$ e $B$ dois conjuntos disjuntos, ambos finitos e não vazios, tais que $n(P(A) \\cup P(B)) + 1 = n(P(A \\cup B))$. Então, a diferença $n(A) - n(B)$ pode assumir\n",
    "\n",
    "a) um único valor. <br>\n",
    "b) apenas dois valores distintos. <br>\n",
    "c) apenas três valores distintos. <br>\n",
    "d) apenas quatro valores distintos. <br>\n",
    "e) mais do que quatro valores distintos. <br>"
   ]
  },
  {
   "cell_type": "markdown",
   "metadata": {},
   "source": [
    "---\n",
    "\n",
    "__Questão 7.__ &nbsp; (ITA-SP) Sejam $A$, $B$ e $C$ subconjuntos de um conjunto universo $U$. Das afirmações:\n",
    "\n",
    "I. &nbsp; $(A - B^C) - C^C = A \\cap (B \\cup C)$;\n",
    "\n",
    "II. &nbsp; $(A - B^C) - C = A \\cup (B \\cap C^C)^C$;\n",
    "\n",
    "III. &nbsp; $B^C \\cup C^C = (B \\cap C)^C$,\n",
    "\n",
    "é (são) sempre verdadeira(s) apenas\n",
    "\n",
    "a) I. <br>\n",
    "b) II. <br>\n",
    "c) III. <br>\n",
    "d) I e III. <br>\n",
    "e) II e III.\n"
   ]
  }
 ],
 "metadata": {
  "kernelspec": {
   "display_name": "base",
   "language": "python",
   "name": "python3"
  },
  "language_info": {
   "codemirror_mode": {
    "name": "ipython",
    "version": 3
   },
   "file_extension": ".py",
   "mimetype": "text/x-python",
   "name": "python",
   "nbconvert_exporter": "python",
   "pygments_lexer": "ipython3",
   "version": "3.12.1"
  }
 },
 "nbformat": 4,
 "nbformat_minor": 2
}
