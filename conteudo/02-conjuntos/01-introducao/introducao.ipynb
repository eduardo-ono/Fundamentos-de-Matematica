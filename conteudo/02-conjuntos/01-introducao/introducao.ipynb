{
 "cells": [
  {
   "cell_type": "markdown",
   "metadata": {},
   "source": [
    "Na Teoria dos Conjuntos existem três conceitos que são aceitos sem definição:\n",
    "\n",
    "* conjunto\n",
    "* elemento\n",
    "* pertinência entre elemento e conjunto"
   ]
  },
  {
   "cell_type": "markdown",
   "metadata": {},
   "source": [
    "### Descrição de um conjunto pelas suas propriedades"
   ]
  },
  {
   "cell_type": "markdown",
   "metadata": {},
   "source": [
    "Um conjunto pode ser descrito através de propriedades de seus elementos.\n",
    "\n",
    "$$\n",
    "A = \\{x \\ | \\ x \\ \\text{tem a propriedade P}\\}\n",
    "$$\n",
    "\n",
    "O símbolo $|$ é lido como \"tal que\"."
   ]
  },
  {
   "cell_type": "markdown",
   "metadata": {},
   "source": [
    "#### Exemplos\n",
    "\n",
    "$\n",
    "V = \\{x \\ | \\ x \\ \\text{é uma vogal}\\} \\implies\n",
    "V = \\{\\text{a, e, i, o, u}\\} \n",
    "$\n",
    "\n",
    "$M = \\{x \\ | \\ x \\ \\text{é um dos nomes dos meses do ano.}\\}$\n",
    "\n",
    "Então,\n",
    "\n",
    "$M = \\{\\text{Janeiro, Fevereiro, Março, Abril, Maio, Junho, Julho, Agosto, Setembro, Outubro, Novembro, Dezembro\\}}$"
   ]
  }
 ],
 "metadata": {
  "kernelspec": {
   "display_name": "base",
   "language": "python",
   "name": "python3"
  },
  "language_info": {
   "name": "python",
   "version": "3.12.1"
  }
 },
 "nbformat": 4,
 "nbformat_minor": 2
}
