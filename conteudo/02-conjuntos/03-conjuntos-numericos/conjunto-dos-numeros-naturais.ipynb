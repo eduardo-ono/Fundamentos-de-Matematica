{
 "cells": [
  {
   "cell_type": "markdown",
   "metadata": {},
   "source": []
  },
  {
   "cell_type": "markdown",
   "metadata": {},
   "source": [
    "## Conjunto dos Números Naturais"
   ]
  },
  {
   "cell_type": "markdown",
   "metadata": {},
   "source": [
    "DEFINIÇÃO. (Conjunto dos Números Naturais)\n",
    "\n",
    "&emsp; O __Conjunto dos Números Naturais__, representado pelo símbolo $\\mathbb N$, é o conjunto formado pelos números $0, 1, 2, 3, \\ldots \\,$:  \n",
    "\n",
    "$$\n",
    "\\mathbb N = \\{0, 1, 2, 3, \\ldots \\}\n",
    "$$\n",
    "\n",
    "&emsp; &emsp; Obs.: Alguns autores consideram o número 1 (um) como o primeiro elemento de $\\mathbb N$:\n",
    "\n",
    "$$\n",
    "\\mathbb N = \\{1, 2, 3, \\ldots \\}\n",
    "$$\n"
   ]
  },
  {
   "cell_type": "markdown",
   "metadata": {},
   "source": [
    "## Axiomas de Peano\n",
    "\n",
    "&emsp; O Conjunto dos Números Naturais é uma noção primitiva e foi caracterizado formalmente através dos Axiomas de Peano, puiblicado em 1889. Os Axiomas de Peano são:\n",
    "\n",
    "* 0 (zero) é um número natural.\n",
    "\n",
    "* Todo número natural tem um sucessor, ou seja, $\\ \\forall \\ n \\in \\mathbb{N}, \\ \\exists \\ (n + 1) \\in \\mathbb{N}$.\n",
    " \n",
    "* Dois números com o mesmo sucessor são iguais.\n",
    "\n",
    "* Existe um número natural que não é sucessor de nenhum outro: o número 0. \n",
    "\n",
    "\n",
    "## Consequências dos axiomas de Peano\n",
    "\n",
    "* A igualdade é reflexiva, simétrica e associativa.\n",
    "\n",
    "* O sucessor de um número natural é um número natural.\n",
    "\n",
    "* Não existe um número natural que seja sucessor de si mesmo.\n",
    "\n",
    "* O sucessor de um número natural é uma função injetora\n",
    "\n",
    "#### Vídeos de Apoio\n"
   ]
  },
  {
   "cell_type": "markdown",
   "metadata": {},
   "source": [
    "## Propriedades"
   ]
  },
  {
   "cell_type": "markdown",
   "metadata": {},
   "source": [
    "&emsp; Dados $\\, a, b, c, d \\in \\mathbb{N} \\,$, estão definidas em $\\mathbb N$ as operações de adição e multiplicação com as seguintes propriedades:\n",
    "\n",
    "$$\n",
    "\\begin{align*}\n",
    "\n",
    "[A1] \\quad &(a + b) + c = a + (b + c) \\quad \\text{(associativa da adição)} \\\\\n",
    "[A2] \\quad &a + b = b + a \\quad \\text{(comutativa da adição)} \\\\\n",
    "[A3] \\quad &a + 0 = a \\quad \\text{(elemento neutro da adição)} \\\\[10pt]\n",
    "\n",
    "[M1] \\quad &(ab)c = a(bc) \\quad \\text{(associativa da multiplicação)} \\\\\n",
    "[M2] \\quad &a \\cdot b = b \\cdot a \\quad \\text{(comutativa da multiplicação)} \\\\\n",
    "[M3] \\quad &a \\cdot 1 = a \\quad \\text{(elemento neutro da multiplicação)} \\\\[10pt]\n",
    "\n",
    "[D] \\quad &a(b + c) = ab + ac \\quad \\text{(distributiva da multiplicação relativa à adição)}\n",
    "\n",
    "\\end{align*}\n",
    "$$\n"
   ]
  },
  {
   "cell_type": "markdown",
   "metadata": {},
   "source": [
    "# Conjunto dos Números Inteiros ($\\mathbb Z$)"
   ]
  },
  {
   "cell_type": "markdown",
   "metadata": {},
   "source": [
    "No conjunto $\\mathbb Z$ são definidas também as operações de adição e multiplicação que apresentam, além de [A.1], [A.2], [A.3], [M.1], [M.2], [M.3] e [D], a propriedade:\n",
    "\n",
    "$$\n",
    "\\begin{align*}\n",
    "[A.4] \\quad & \\text{Simétrico ou oposto para a adição} \\\\\n",
    "& \\text{Para todo a } \\in \\mathbb Z \\text{ existe } -a \\in \\mathbb Z \\text{tal que} \\\\\n",
    "& a + (-a) = 0. \\\\\n",
    "& \\text{Devido à propriedade [A.4], podemos definir em} \\mathbb Z \\text{ a operação de subtração, estabelecendo que} \\\\\n",
    "& a - b = a + (-b)\n",
    "\\end{align*}\n",
    "$$"
   ]
  }
 ],
 "metadata": {
  "kernelspec": {
   "display_name": "base",
   "language": "python",
   "name": "python3"
  },
  "language_info": {
   "name": "python",
   "version": "3.12.1"
  }
 },
 "nbformat": 4,
 "nbformat_minor": 2
}
