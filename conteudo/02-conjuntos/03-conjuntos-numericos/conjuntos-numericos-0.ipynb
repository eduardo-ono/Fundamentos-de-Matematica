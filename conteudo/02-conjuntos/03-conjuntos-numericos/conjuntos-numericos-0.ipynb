{
 "cells": [
  {
   "cell_type": "markdown",
   "metadata": {},
   "source": [
    "Capítulo 3"
   ]
  },
  {
   "cell_type": "markdown",
   "metadata": {},
   "source": [
    "Axiomas\n",
    "\n",
    "&emsp; &emsp; Os axiomas, ou postulados, são regras que caracterizam ideias primitivas (entes que não podem ser definidos). Os axiomas existem para que estas ideias primitivas possam ser manipuladas.\n",
    "\n",
    "Exemplos.\n",
    "\n",
    "* Existe ponto, existe reta e existe plano.\n",
    "* Dois pontos não coincidentes determinam uma única reta que as contém.\n",
    "* Três pontos não colineares determinam um único plano que os contém."
   ]
  },
  {
   "cell_type": "markdown",
   "metadata": {},
   "source": [
    "# Conjunto dos Números Inteiros"
   ]
  },
  {
   "cell_type": "markdown",
   "metadata": {},
   "source": [
    "# Conjunto dos Números Racionais"
   ]
  },
  {
   "cell_type": "markdown",
   "metadata": {
    "vscode": {
     "languageId": "plaintext"
    }
   },
   "source": [
    "# Conjunto dos Números Reais\n",
    "\n",
    "&emsp; &emsp; Os números irracionais são aqueles que pertencem ao conjunto $\\mathbb{R} - \\mathbb{Q}$."
   ]
  },
  {
   "cell_type": "markdown",
   "metadata": {},
   "source": [
    "## Vídeos de Apoio\n",
    "\n",
    "| Thumb | Descrição | Tópicos |\n",
    "| :-: | --- | --- |\n",
    "| ![img](https://img.youtube.com/vi/Gxeg1bQVj0k/default.jpg) | <sup>[Instituto de Matemática Pura e Aplicada]</sup><br>[__PAPMEM: Janeiro de 2012 - Conjuntos e Números Naturais__](https://www.youtube.com/watch?v=Gxeg1bQVj0k)<br><sub>(1:10:35, YouTube, 05/Abr/2017)</sub> | - |\n",
    "\n",
    "&nbsp;"
   ]
  }
 ],
 "metadata": {
  "kernelspec": {
   "display_name": "base",
   "language": "python",
   "name": "python3"
  },
  "language_info": {
   "name": "python",
   "version": "3.12.1"
  }
 },
 "nbformat": 4,
 "nbformat_minor": 2
}
