{
 "cells": [
  {
   "cell_type": "markdown",
   "metadata": {},
   "source": [
    "<sup>Fundamentos de Matemática</sup>\n",
    "<img alt=\"\" width=\"100%\" height=\"2px\" align=\"right\">\n",
    "\n",
    "&nbsp;\n",
    "\n",
    "<h1 align=\"center\">Conjuntos Numéricos</h1>\n",
    "<h4 align=\"center\">Prof. Eduardo Ono</h4>\n",
    "<h6 align=\"center\">Atualizado em: 27/02/2025</h6>"
   ]
  },
  {
   "cell_type": "markdown",
   "metadata": {},
   "source": [
    "__Sumário__<a id='toc0_'></a>    \n",
    "- 1. [Conjunto dos Números Naturais ($\\mathbb N$)](#toc1_)    \n",
    "  - 1.1. [Axiomas (ou Postulados) de Peano](#toc1_1_)    \n",
    "    - 1.1.1. [Consequências dos axiomas de Peano](#toc1_1_1_)    \n",
    "  - 1.2. [Propriedades Algébricas](#toc1_2_)    \n",
    "- 2. [Conjunto dos Números Inteiros ($\\mathbb Z$)](#toc2_)    \n",
    "- 3. [Conjunto dos Números Racionais ($\\mathbb{Q}$)](#toc3_)    \n",
    "  - 3.1. [Propriedades Algébricas](#toc3_1_)    \n",
    "  - 3.2. [Representação Decimal](#toc3_2_)    \n",
    "  - 3.3. [Fração Geratriz de Dízimas Periódicas](#toc3_3_)    \n",
    "  - 3.4. [Conjunto dos Números Irracionais ($\\mathbb{I}$)](#toc3_4_)    \n",
    "  - 3.5. [Referências](#toc3_5_)    \n",
    "\n",
    "<!-- vscode-jupyter-toc-config\n",
    "\tnumbering=true\n",
    "\tanchor=true\n",
    "\tflat=false\n",
    "\tminLevel=1\n",
    "\tmaxLevel=5\n",
    "\t/vscode-jupyter-toc-config -->\n",
    "<!-- THIS CELL WILL BE REPLACED ON TOC UPDATE. DO NOT WRITE YOUR TEXT IN THIS CELL -->"
   ]
  },
  {
   "cell_type": "markdown",
   "metadata": {},
   "source": [
    "__DEFINIÇÃO.__ &nbsp;\n",
    "__*Conjuntos numéricos*__ são aqueles cujos elementos são números.\n",
    "\n",
    "&emsp; A tabela a seguir contém os símbolos que representam os conjuntos numéricos existentes:\n",
    "\n",
    "| Símbolo | Conjunto Numérico |\n",
    "| :-: | --- |\n",
    "| $\\mathbb{N}$ | Conjunto dos Números Naturais |\n",
    "| $\\mathbb{Z}$ | Conjunto dos Números Inteiros |\n",
    "| $\\mathbb{Q}$ | Conjunto dos Números Racionais |\n",
    "| $\\mathbb{I}$ | Conjunto dos Números Irracionais |\n",
    "| $\\mathbb{R}$ | Conjunto dos Números Reais |\n",
    "| $\\mathbb{C}$ | Conjunto dos Números Complexos |\n",
    "\n",
    "&emsp; Padrão comumente utilizado na simbologia dos subconjuntos dos conjuntos numéricos:\n",
    "\n",
    "| Símbolo | Significado |\n",
    "| :-: | --- |\n",
    "| $\\mathbb{N}^*$ | Conjunto dos Números Naturais excluindo o zero, ou seja: $\\,\\mathbb N - \\{0\\}$. |\n",
    "| $\\mathbb{Z}^*$ | Conjunto dos Números Inteiros não nulos, ou seja: $\\,\\mathbb{Z} - \\{0\\}$. |\n",
    "| $\\mathbb{Z}_+$ | Conjunto dos Números Inteiros não negativos. |\n",
    "| $\\mathbb{Z}_+^*$ | Conjunto dos Números Inteiros positivos, ou seja: $\\,\\mathbb Z_+ - \\{0\\}$. |\n",
    "| $\\mathbb{Z}_-$ | Conjunto dos Números Inteiros não positivos. |\n",
    "| $\\mathbb{Z}_+^*$ | Conjunto dos Números Inteiros negativos, ou seja: $\\,\\mathbb Z_- - \\{0\\}$. |\n",
    "| $\\cdots$ | $\\cdots$ |"
   ]
  },
  {
   "cell_type": "markdown",
   "metadata": {},
   "source": [
    "---\n",
    "# 1. <a id='toc1_'></a>[Conjunto dos Números Naturais ($\\mathbb N$)](#toc0_)"
   ]
  },
  {
   "cell_type": "markdown",
   "metadata": {},
   "source": [
    "__DEFINIÇÃO__. &nbsp; O __Conjunto dos Números Naturais__, representado pelo símbolo $\\mathbb N$, é o conjunto formado pelos números $0, 1, 2, 3, \\ldots \\,$:  \n",
    "\n",
    "$$\n",
    "\\mathbb N = \\{0, 1, 2, 3, \\ldots \\}.\n",
    "$$\n",
    "\n",
    "&emsp; Alguns autores não consideram o número zero como elemento de $\\mathbb N$:\n",
    "\n",
    "$$\n",
    "\\mathbb N = \\{1, 2, 3, \\ldots \\}.\n",
    "$$\n",
    "\n",
    "&emsp; Em todo caso, utilizamos a notação ${\\displaystyle\\mathbb N^{*}}$ para explicitar que o zero não está sendo incluso, i.e.,\n",
    "\n",
    "$$\n",
    "\\displaystyle\\mathbb N^* = \\mathbb N -\\{0\\} = \\{1, 2, 3, \\dots \\}.\n",
    "$$\n",
    "\n",
    "&emsp; Obs.: O símbolo * é chamado __asterisco__ ou __estrela__."
   ]
  },
  {
   "cell_type": "markdown",
   "metadata": {},
   "source": [
    "## 1.1. <a id='toc1_1_'></a>[Axiomas (ou Postulados) de Peano](#toc0_)"
   ]
  },
  {
   "cell_type": "markdown",
   "metadata": {},
   "source": [
    "&emsp; O __*Conjunto dos Números Naturais*__ é uma noção primitiva e foi caracterizado formalmente através dos __Axiomas de Peano__, publicado em 1889. Os Axiomas de Peano são:\n",
    "\n",
    "* Zero é um número natural:\n",
    "\n",
    "$$\n",
    "0 \\in \\mathbb{N}.\n",
    "$$\n",
    "\n",
    "* Todo número natural tem um sucessor:\n",
    "\n",
    "$$\n",
    "\\forall \\ n \\in \\mathbb{N}, \\ \\exists \\ s(n) = (n + 1) \\in \\mathbb{N}.\n",
    "$$\n",
    " \n",
    "* Dois números com o mesmo sucessor são iguais:\n",
    "\n",
    "$$\n",
    "n, m \\in \\mathbb{N}, \\ s(n) = s(m) \\implies n = m.\n",
    "$$\n",
    "\n",
    "* Existe um número natural que não é sucessor de nenhum outro: o número 0. \n",
    "\n",
    "\n",
    "### 1.1.1. <a id='toc1_1_1_'></a>[Consequências dos axiomas de Peano](#toc0_)\n",
    "\n",
    "* Valem as relações de igualdade:\n",
    "\n",
    "  * A igualdade é reflexiva: $\\quad (\\forall\\, x) \\quad x = x$;\n",
    "  \n",
    "  * A igualdade é simétrica: $\\quad (\\forall\\, x, y) \\quad x = y \\implies y = x$;\n",
    "  \n",
    "  * A igualdade é associativa: $\\quad (\\forall\\, x, y, z) \\quad x = y \\ \\land \\ y = z \\implies x = z$.\n",
    "\n",
    "* O sucessor de um número natural é um número natural.\n",
    "\n",
    "* Não existe um número natural que seja sucessor de si mesmo.\n",
    "\n",
    "* O sucessor de um número natural é uma função injetora.\n",
    "\n",
    "* $\\mathbb N$ é infinito, pois não existe um número natural que seja o último."
   ]
  },
  {
   "cell_type": "markdown",
   "metadata": {},
   "source": [
    "## 1.2. <a id='toc1_2_'></a>[Propriedades Algébricas](#toc0_)"
   ]
  },
  {
   "cell_type": "markdown",
   "metadata": {},
   "source": [
    "&emsp; Dados $\\, a, b, c, d \\in \\mathbb{N} \\,$, estão definidas em $\\mathbb N$ as operações de adição e multiplicação com as seguintes propriedades:\n",
    "\n",
    "$$\n",
    "\\begin{align*}\n",
    "\n",
    "[A1] \\quad &(a + b) + c = a + (b + c)  &\\text{(associativa da adição)} \\\\\n",
    "[A2] \\quad &a + b = b + a  &\\text{(comutativa da adição)} \\\\\n",
    "[A3] \\quad &a + 0 = a  &\\text{(elemento neutro da adição)} \\\\[10pt]\n",
    "\n",
    "[M1] \\quad &(ab)c = a(bc)  &\\text{(associativa da multiplicação)} \\\\\n",
    "[M2] \\quad &a b = b a  &\\text{(comutativa da multiplicação)} \\\\\n",
    "[M3] \\quad &a \\cdot 1 = a  &\\text{(elemento neutro da multiplicação)} \\\\[10pt]\n",
    "\n",
    "[D] \\quad &a(b + c) = ab + ac  &\\text{(distributiva da multiplicação relativa à adição)}\n",
    "\n",
    "\\end{align*}\n",
    "$$\n"
   ]
  },
  {
   "cell_type": "markdown",
   "metadata": {},
   "source": [
    "---\n",
    "# 2. <a id='toc2_'></a>[Conjunto dos Números Inteiros ($\\mathbb Z$)](#toc0_)"
   ]
  },
  {
   "cell_type": "markdown",
   "metadata": {},
   "source": [
    "__DEFINIÇÃO__. \n",
    "\n",
    "&emsp; O __*Conjunto dos Números Inteiros*__, representado pelo símbolo $\\mathbb Z$, cuja letra tem origem na palavra alemã _Zahlen_, é o conjunto:\n",
    "\n",
    "$$\n",
    "\\mathbb Z = \\{\\dots , -3, -2, -1, 0, 1, 2, 3, \\dots \\}\n",
    "$$\n",
    "\n",
    "&emsp; No conjunto $\\mathbb Z$ são definidas também as operações de adição e multiplicação que apresentam, além de [A1], [A2], [A3], [M1], [M2], [M3] e [D], a propriedade:\n",
    "\n",
    "$$\n",
    "\\begin{align*}\n",
    "\\text{[A4]} \\quad & \\text{Simétrico ou oposto para a adição:} \\\\\n",
    "& \\forall \\, a \\in \\mathbb Z \\ \\text{ existe } -a \\in \\mathbb Z \\ \\text{ tal que } \\ a + (-a) = 0. \\\\\n",
    "\\end{align*}\n",
    "$$\n",
    "\n",
    "&emsp; Devido à propriedade [A4], podemos definir em $\\mathbb{Z}$ a operação de subtração, estabelecendo que:\n",
    "\n",
    "$$\n",
    "a - b = a + (-b)\\,.\n",
    "$$"
   ]
  },
  {
   "cell_type": "markdown",
   "metadata": {},
   "source": [
    "---\n",
    "# 3. <a id='toc3_'></a>[Conjunto dos Números Racionais ($\\mathbb{Q}$)](#toc0_)"
   ]
  },
  {
   "cell_type": "markdown",
   "metadata": {},
   "source": [
    "__DEFINIÇÃO.__ &nbsp; O __*conjunto dos números racionais*__, representado pelo símbolo $\\mathbb{Q}\\,$, é o conjunto das frações $\\cfrac{\\;p\\,}{q}\\,$, em que $\\,p \\in \\mathbb{Z}\\,$ e $\\,q \\in \\mathbb{Z}^*$, ou seja,\n",
    "\n",
    "$$\n",
    "\\mathbb{Q} = \\left\\{\\cfrac{\\,p\\,}{q} \\ \\bigg| \\ p \\in \\mathbb{Z}\\,, \\ q \\in \\mathbb{Z}^*\\right\\}.\n",
    "$$\n",
    "\n",
    "&emsp; Em $\\mathbb{Q}$, admite-se as seguintes definições:\n",
    "\n",
    "$$\n",
    "\\begin{align*}\n",
    "\\text{i.} \\ \\ & \\text{igualdade: } && \\frac{\\,a\\,}{b} = \\frac{\\,c\\,}{d} \\iff ad = bc; \\\\[10pt]\n",
    "\\text{ii.} \\ \\ & \\text{adição: } && \\frac{\\,a\\,}{b} + \\frac{\\,c\\,}{d} = \\frac{ad + bc}{bd}; \\\\[10pt]\n",
    "\\text{iii.} \\ \\ & \\text{multiplicação: } && \\frac{\\,a\\,}{b} \\cdot \\frac{\\,c\\,}{d} = \\frac{\\,ac\\,}{bd}.\n",
    "\\end{align*}\n",
    "$$\n",
    "\n",
    "&emsp; No conjunto dos racionais destacamos os subconjuntos:\n",
    "\n",
    "* $\\mathbb{Q}^*\\,$: &nbsp; conjunto dos racionais não nulos.\n",
    "\n",
    "* $\\mathbb{Q}_+\\,$: &nbsp; conjunto dos racionais não negativos;\n",
    "\n",
    "* $\\mathbb{Q}_+^*\\,$: &nbsp; conjunto dos racionais positivos (exclui o zero);\n",
    "\n",
    "* $\\mathbb{Q}_-\\,$: &nbsp; conjunto dos racionais não positivos;\n",
    "\n",
    "* $\\mathbb{Q}_-^*\\,$: &nbsp; conjunto dos racionais negativos (exclui o zero)."
   ]
  },
  {
   "cell_type": "markdown",
   "metadata": {},
   "source": [
    "## 3.1. <a id='toc3_1_'></a>[Propriedades Algébricas](#toc0_)"
   ]
  },
  {
   "cell_type": "markdown",
   "metadata": {},
   "source": [
    "\n",
    "&emsp; Sejam $\\,\\cfrac{\\,a\\,}{b}\\,$, $\\,\\cfrac{\\,c\\,}{d}\\,$ e $\\,\\cfrac{\\,e\\,}{f}\\,$ racionais quaisquer. Então, valem as propriedaes:\n",
    "\n",
    "$$\n",
    "\\begin{align*}\n",
    "\\text{[A1]} \\quad & \\left(\\frac{a}{b} + \\frac{c}{d}\\right) + \\frac{e}{f} =  \\frac{a}{b} + \\left(\\frac{c}{d} + \\frac{e}{f}\\right) & \\text{(associativa da adição)} \\\\[10pt]\n",
    "\\text{[A2]} \\quad & \\frac{a}{b} + \\frac{c}{d} = \\frac{c}{d} + \\frac{a}{b} & \\text{(comutativa da adição)} \\\\[10pt]\n",
    "\\text{[A3]} \\quad & \\frac{a}{b} + 0 = \\frac{a}{b} & \\text{(elemento neutro da adição)} \\\\[10pt]\n",
    "\\text{[A4]} \\quad & \\frac{a}{b} + \\left(-\\frac{a}{b}\\right) = 0 & \\text{(simétrico ou oposto da adição)} \\\\[10pt]\n",
    "\n",
    "\\text{[M1]} \\quad & \\left(\\frac{a}{b} \\cdot \\frac{c}{d}\\right) \\cdot \\frac{e}{f} =  \\frac{a}{b} \\cdot \\left(\\frac{c}{d} \\cdot \\frac{e}{f}\\right) & \\text{(associativa da multiplicação)} \\\\[10pt]\n",
    "\\text{[M2]} \\quad & \\frac{a}{b} \\cdot \\frac{c}{d} = \\frac{c}{d} \\cdot \\frac{a}{b} & \\text{(comutativa da multiplicação)} \\\\[10pt]\n",
    "\\text{[M3]} \\quad & \\frac{a}{b} \\cdot 1 = \\frac{a}{b} & \\text{(elemento neutro da multiplicação)} \\\\[10pt]\n",
    "\\end{align*}\n",
    "$$\n",
    "\n",
    "&emsp; Portanto, são válidas as mesmas propriedades formais vistas para os números inteiros. Além dessas, temos também a seguinte:\n",
    "$$\n",
    "\\begin{align*}\n",
    "\\text{[M4] Simétrico ou inverso para a multiplicação:} \\\\[10pt]\n",
    "\\forall \\frac{\\,a\\,}{b} \\in \\mathbb{Q} \\,, \\quad \\frac{a}{b} \\cdot \\left(\\frac{c}{d}\\right)^{-1} = \\frac{a}{b} \\cdot \\frac{d}{c} = 1 \\quad \\text{se} \\quad \\frac{c}{d} \\neq 0.\n",
    "\\end{align*}\n",
    "$$\n",
    "\n",
    "&emsp; Devido à propriedade [M4], podemos definir em $\\mathbb{Q}^*$ a operação de divisão, estabelecendo que:\n",
    "\n",
    "$$\n",
    "\\frac{a}{b} \\div \\frac{c}{d} = \\frac{a}{b} \\cdot \\frac{d}{c}, \\quad \\forall\\ \\frac{\\,a\\,}{b} \\neq 0 \\ \\text{ e }\\ \\frac{\\,c\\,}{d} \\neq 0.\n",
    "$$"
   ]
  },
  {
   "cell_type": "markdown",
   "metadata": {},
   "source": [
    "## 3.2. <a id='toc3_2_'></a>[Representação Decimal](#toc0_)"
   ]
  },
  {
   "cell_type": "markdown",
   "metadata": {},
   "source": [
    "&emsp; Todo número racional pode ser representado por um número decimal. Na passagem de um número racional para um número decimal podem ocorrer dois casos:\n",
    "\n",
    "i. &nbsp; O número decimal tem uma quantidade finita de algarismos, diferentes de zero, isto é, é uma __decimal exata__.\n",
    "\n",
    "&emsp; Exemplo: $\\,\\cfrac{\\,1\\,}{2} = 0{,}5\\,$.\n",
    "\n",
    "ii. &nbsp;O número decimal tem uma quantidade infinita de algarismos que se repetem periodicamente, isto é, é uma __dízima periódica__.\n",
    "\n",
    "&emsp; Exemplo: $\\,\\cfrac{\\,1\\,}{3} = 0{,}33333\\ldots = 0,\\overline{3}\\,$."
   ]
  },
  {
   "cell_type": "markdown",
   "metadata": {},
   "source": [
    "## 3.3. <a id='toc3_3_'></a>[Fração Geratriz de Dízimas Periódicas](#toc0_)"
   ]
  },
  {
   "cell_type": "markdown",
   "metadata": {},
   "source": [
    "__Exemplos__.\n",
    "\n",
    "&emsp; Dízima periódica simples:\n",
    "\n",
    "i) &nbsp; $0{,}333\\ldots$\n",
    "\n",
    "ii) &nbsp; $0{,}353535\\ldots$\n",
    "\n",
    "iii) &nbsp; $1{,}444\\ldots$\n",
    "\n",
    "iv) &nbsp; $2{,}181818\\ldots$\n",
    "\n",
    "$$\n",
    "\\begin{align*}\n",
    "x & = 0{,}3333\\ldots \\\\[10pt]\n",
    "10x & = 3{,}333\\ldots \\\\[10pt]\n",
    "10x - x & = 3{,}333\\ldots - 0{,}333\\ldots \\\\[10pt]\n",
    "9x & = 3 \\\\[10pt]\n",
    "x & = \\frac{3}{9} \\\\[10pt]\n",
    "\\therefore\\quad x & = \\frac{1}{3}\n",
    "\\end{align*}\n",
    "$$\n",
    "\n",
    "&emsp; Dízima periódica composta\n",
    "\n",
    "i) &nbsp; $0{,}7222\\ldots$\n",
    "\n",
    "ii) &nbsp; $0{,}5212121\\ldots$\n",
    "\n",
    "iii) &nbsp; $0,7999$\n",
    "\n",
    "iv) &nbsp; $1{,}24999$\n",
    "\n"
   ]
  },
  {
   "cell_type": "markdown",
   "metadata": {},
   "source": [
    "<h3>Vídeos de Apoio</h3>\n",
    "\n",
    "| Thumb | Descrição |\n",
    "| :-: | --- |\n",
    "| ![img](https://img.youtube.com/vi/r-X8QIrlQ3k/default.jpg) | <sup>[Professora Angela Matemática]</sup><br>[__Fração Geratriz de uma Dízima Periódica #1 - Professora Angela__](https://www.youtube.com/watch?v=r-X8QIrlQ3k)<br><sub>(23:35, YouTube, 24/Mar/2017)</sub> |"
   ]
  },
  {
   "cell_type": "markdown",
   "metadata": {},
   "source": [
    "---\n",
    "## 3.4. <a id='toc3_4_'></a>[Conjunto dos Números Irracionais ($\\mathbb{I}$)](#toc0_)"
   ]
  },
  {
   "cell_type": "markdown",
   "metadata": {},
   "source": [
    "## 3.5. <a id='toc3_5_'></a>[Referências](#toc0_)\n",
    "\n",
    "| Thumb | Descrição |\n",
    "| :-: | --- |\n",
    "| ![img](https://img.youtube.com/vi/C5mvW3uaGgQ/default.jpg) | <sup>[Cortes de Matemática e Física]</sup><br>[__COMO PROVAR QUE RAIZ DE 2 É IRRACIONAL \\| Ledo Vaccaro__](https://www.youtube.com/watch?v=C5mvW3uaGgQ)<br><sub>(11:57, YouTube, 09/Abr/2022)</sub> |\n"
   ]
  }
 ],
 "metadata": {
  "kernelspec": {
   "display_name": "base",
   "language": "python",
   "name": "python3"
  },
  "language_info": {
   "name": "python",
   "version": "3.12.1"
  }
 },
 "nbformat": 4,
 "nbformat_minor": 2
}
