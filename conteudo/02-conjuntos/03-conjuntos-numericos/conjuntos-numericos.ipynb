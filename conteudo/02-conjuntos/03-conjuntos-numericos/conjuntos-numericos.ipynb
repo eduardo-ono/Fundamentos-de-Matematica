{
 "cells": [
  {
   "cell_type": "markdown",
   "metadata": {},
   "source": [
    "<sup>Fundamentos de Matemática</sup>\n",
    "<img alt=\"\" width=\"100%\" height=\"2px\" align=\"right\">\n",
    "\n",
    "&nbsp;\n",
    "\n",
    "<h1 align=\"center\">Conjuntos Numéricos</h1>\n",
    "<h4 align=\"center\">Prof. Eduardo Ono</h4>\n",
    "<h6 align=\"center\">Atualizado em: 27/02/2025</h6>"
   ]
  },
  {
   "cell_type": "markdown",
   "metadata": {},
   "source": [
    "__DEFINIÇÃO.__ &nbsp;\n",
    "__*Conjuntos numéricos*__ são aqueles cujos elementos são números."
   ]
  },
  {
   "cell_type": "markdown",
   "metadata": {},
   "source": [
    "---\n",
    "# Conjunto dos Números Naturais ($\\mathbb N$)"
   ]
  },
  {
   "cell_type": "markdown",
   "metadata": {},
   "source": [
    "__DEFINIÇÃO__. (Conjunto dos Números Naturais)\n",
    "\n",
    "&emsp; O __Conjunto dos Números Naturais__, representado pelo símbolo $\\mathbb N$, é o conjunto formado pelos números $0, 1, 2, 3, \\ldots \\,$:  \n",
    "\n",
    "$$\n",
    "\\mathbb N = \\{0, 1, 2, 3, \\ldots \\}\n",
    "$$\n",
    "\n",
    "&emsp; Alguns autores consideram o número 1 (um) como o primeiro elemento de $\\mathbb N$:\n",
    "\n",
    "$$\n",
    "\\mathbb N = \\{1, 2, 3, \\ldots \\}\n",
    "$$\n",
    "\n",
    "&emsp; Em todo caso, utilizamos a notação ${\\displaystyle\\mathbb N^{*}}$ para explicitar que o zero não está sendo incluso, i.e.,\n",
    "\n",
    "$$\n",
    "\\displaystyle\\mathbb N^* = \\mathbb N -\\{0\\} = \\{1, 2, 3, \\dots \\}.\n",
    "$$\n",
    "\n",
    "&emsp; Obs.: O símbolo * é chamado de asterisco ou estrela."
   ]
  },
  {
   "cell_type": "markdown",
   "metadata": {},
   "source": [
    "## Axiomas (ou Postulados) de Peano"
   ]
  },
  {
   "cell_type": "markdown",
   "metadata": {},
   "source": [
    "&emsp; O __*Conjunto dos Números Naturais*__ é uma noção primitiva e foi caracterizado formalmente através dos Axiomas de Peano, publicado em 1889. Os Axiomas de Peano são:\n",
    "\n",
    "* Zero é um número natural:\n",
    "\n",
    "$$\n",
    "0 \\in \\mathbb{N}.\n",
    "$$\n",
    "\n",
    "* Todo número natural tem um sucessor:\n",
    "\n",
    "$$\n",
    "\\forall \\ n \\in \\mathbb{N}, \\ \\exists \\ (n + 1) \\in \\mathbb{N}.\n",
    "$$\n",
    " \n",
    "* Dois números com o mesmo sucessor são iguais:\n",
    "\n",
    "$$\n",
    "n, m \\in \\mathbb{N}, \\ s(n) = s(m) \\implies n = m.\n",
    "$$\n",
    "\n",
    "* Existe um número natural que não é sucessor de nenhum outro: o número 0. \n",
    "\n",
    "\n",
    "### Consequências dos axiomas de Peano\n",
    "\n",
    "* Valem as relações de igualdade:\n",
    "\n",
    "  * A igualdade é reflexiva: $\\quad (\\forall\\, x) \\quad x = x$;\n",
    "  \n",
    "  * A igualdade é simétrica: $\\quad (\\forall\\, x, y) \\quad x = y \\implies y = x$;\n",
    "  \n",
    "  * A igualdade é associativa: $\\quad (\\forall\\, x, y, z) \\quad x = y \\ \\land \\ y = z \\implies x = z$.\n",
    "\n",
    "* O sucessor de um número natural é um número natural.\n",
    "\n",
    "* Não existe um número natural que seja sucessor de si mesmo.\n",
    "\n",
    "* O sucessor de um número natural é uma função injetora.\n",
    "\n",
    "* $\\mathbb N$ é infinito, pois não existe um número natural que seja o último."
   ]
  },
  {
   "cell_type": "markdown",
   "metadata": {},
   "source": [
    "## Propriedades Algébricas"
   ]
  },
  {
   "cell_type": "markdown",
   "metadata": {},
   "source": [
    "&emsp; Dados $\\, a, b, c, d \\in \\mathbb{N} \\,$, estão definidas em $\\mathbb N$ as operações de adição e multiplicação com as seguintes propriedades:\n",
    "\n",
    "$$\n",
    "\\begin{align*}\n",
    "\n",
    "[A1] \\quad &(a + b) + c = a + (b + c)  &\\text{(associativa da adição)} \\\\\n",
    "[A2] \\quad &a + b = b + a  &\\text{(comutativa da adição)} \\\\\n",
    "[A3] \\quad &a + 0 = a  &\\text{(elemento neutro da adição)} \\\\[10pt]\n",
    "\n",
    "[M1] \\quad &(ab)c = a(bc)  &\\text{(associativa da multiplicação)} \\\\\n",
    "[M2] \\quad &a b = b a  &\\text{(comutativa da multiplicação)} \\\\\n",
    "[M3] \\quad &a \\cdot 1 = a  &\\text{(elemento neutro da multiplicação)} \\\\[10pt]\n",
    "\n",
    "[D] \\quad &a(b + c) = ab + ac  &\\text{(distributiva da multiplicação relativa à adição)}\n",
    "\n",
    "\\end{align*}\n",
    "$$\n"
   ]
  },
  {
   "cell_type": "markdown",
   "metadata": {},
   "source": [
    "---\n",
    "# Conjunto dos Números Inteiros ($\\mathbb Z$)"
   ]
  },
  {
   "cell_type": "markdown",
   "metadata": {},
   "source": [
    "__DEFINIÇÃO__. \n",
    "\n",
    "&emsp; O __Conjunto dos Números Inteiros__, representado pelo símbolo $\\mathbb Z$, cuja letra é originada da palavra alemã _Zahlen_$, é o conjunto:\n",
    "\n",
    "$$\n",
    "\\mathbb Z = \\{\\dots , -3, -2, -1, 0, 1, 2, 3, \\dots \\}\n",
    "$$\n",
    "\n",
    "&emsp; No conjunto $\\mathbb Z$ são definidas também as operações de adição e multiplicação que apresentam, além de [A.1], [A.2], [A.3], [M.1], [M.2], [M.3] e [D], a propriedade:\n",
    "\n",
    "$$\n",
    "\\begin{align*}\n",
    "[A.4] \\quad & \\text{Simétrico ou oposto para a adição} \\\\\n",
    "& \\forall \\, a \\in \\mathbb Z \\ \\text{ existe } -a \\in \\mathbb Z \\ \\text{ tal que } \\ a + (-a) = 0. \\\\\n",
    "& \\text{Devido à propriedade [A.4], podemos definir em } \\mathbb Z \\text{ a operação de subtração, estabelecendo que } a - b = a + (-b).\n",
    "\\end{align*}\n",
    "$$"
   ]
  },
  {
   "cell_type": "markdown",
   "metadata": {},
   "source": []
  }
 ],
 "metadata": {
  "kernelspec": {
   "display_name": "base",
   "language": "python",
   "name": "python3"
  },
  "language_info": {
   "name": "python",
   "version": "3.12.1"
  }
 },
 "nbformat": 4,
 "nbformat_minor": 2
}
