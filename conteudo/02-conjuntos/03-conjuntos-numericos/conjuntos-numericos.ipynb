{
 "cells": [
  {
   "cell_type": "markdown",
   "metadata": {},
   "source": [
    "Capítulo 3"
   ]
  },
  {
   "cell_type": "markdown",
   "metadata": {},
   "source": [
    "Axiomas\n",
    "\n",
    "&emsp; &emsp; Os axiomas, ou postulados, são regras que caracterizam ideias primitivas (entes que não podem ser definidos). Os axiomas existem para que estas ideias primitivas possam ser manipuladas.\n",
    "\n",
    "Exemplos.\n",
    "\n",
    "* Existe ponto, existe reta e existe plano.\n",
    "* Dois pontos não coincidentes determinam uma única reta que as contém.\n",
    "* Três pontos não colineares determinam um único plano que os contém."
   ]
  },
  {
   "cell_type": "markdown",
   "metadata": {},
   "source": [
    "# Conjunto dos Números Naturais"
   ]
  },
  {
   "cell_type": "markdown",
   "metadata": {},
   "source": [
    "## DEFINIÇÃO. (Conjunto dos Números Naturais)\n",
    "\n",
    "&emsp; &emsp; O __Conjunto dos Números Naturais__, representado pelo símbolo $\\mathbb{N}$, é o conjunto formado pelos números $0, 1, 2, 3, \\ldots \\,$:  \n",
    "\n",
    "$$ \\mathbb{N} = \\{\\, 0, 1, 2, 3, \\ldots \\,\\} $$\n",
    "\n",
    "&emsp; &emsp; Muitos autores consideram o número 1 (um) como primeiro elemento de $\\mathbb{N}$:\n",
    "\n",
    "$$ \\mathbb{N} = \\{\\, 1, 2, 3, \\ldots \\,\\} $$\n"
   ]
  },
  {
   "cell_type": "markdown",
   "metadata": {},
   "source": [
    "### Axiomas de Peano\n",
    "\n",
    "&emsp; &emsp; O Conjunto dos Números Naturais é uma noção primitiva e foi caracterizado formalmente através dos Axiomas de Peano, puiblicado em 1889. Os Axiomas de Peano são:\n",
    "\n",
    "* Todo número natural tem um sucessor.\n",
    "\n",
    "$$ \\forall a \\in \\mathbb{N}, \\exists \\ (n + 1) \\in \\mathbb{N} $$\n",
    " \n",
    "* Dois números com o mesmo sucessor são iguais.\n",
    "* Existe um número natural que não é sucessor de nenhum outro: o chamado número 1. \n",
    "* Seja $\\, X \\in \\mathbb{N} \\,$ (postulado da indução)\n",
    "\n",
    "#### Vídeos de Apoio\n"
   ]
  },
  {
   "cell_type": "markdown",
   "metadata": {},
   "source": [
    "&emsp; &emsp; Dados $\\, a , b, c, d \\in \\mathbb{N} \\,$,  estão definidas em $\\mathbb{N}$ as operações de adição e multiplicação com as seguintes propriedades:\n",
    "\n",
    "$$\n",
    "\\begin{align*}\n",
    "\n",
    "[A1] \\quad &(a + b) + c = a + (b + c) \\quad \\text{(associativa da adição)} \\\\\n",
    "[A2] \\quad &a + b = b + a \\quad \\text{(comutativa da adição)} \\\\\n",
    "[A3] \\quad &a + 0 = a \\quad \\text{(elemento neutro da adição)} \\\\[10pt]\n",
    "\n",
    "[M1] \\quad &(ab)c = a(bc) \\quad \\text{(associativa da multiplicação)} \\\\\n",
    "[M2] \\quad &a \\cdot b = b \\cdot a \\quad \\text{(comutativa da multiplicação)} \\\\\n",
    "[M3] \\quad &a \\cdot 1 = a \\quad \\text{(elemento neutro da multiplicação)} \\\\[10pt]\n",
    "\n",
    "[D] \\quad &a(b + c) = ab + ac \\quad \\text{(distributiva da multiplicação relativa à adição)}\n",
    "\n",
    "\\end{align*}\n",
    "$$\n"
   ]
  },
  {
   "cell_type": "markdown",
   "metadata": {},
   "source": [
    "# Conjunto dos Números Inteiros"
   ]
  },
  {
   "cell_type": "markdown",
   "metadata": {},
   "source": [
    "# Conjunto dos Números Racionais"
   ]
  },
  {
   "cell_type": "markdown",
   "metadata": {
    "vscode": {
     "languageId": "plaintext"
    }
   },
   "source": [
    "# Conjunto dos Números Reais\n",
    "\n",
    "&emsp; &emsp; Os números irracionais são aqueles que pertencem ao conjunto $\\mathbb{R} - \\mathbb{Q}$."
   ]
  },
  {
   "cell_type": "markdown",
   "metadata": {},
   "source": [
    "## Vídeos de Apoio\n",
    "\n",
    "| Thumb | Descrição | Tópicos |\n",
    "| :-: | --- | --- |\n",
    "| ![img](https://img.youtube.com/vi/Gxeg1bQVj0k/default.jpg) | <sup>[Instituto de Matemática Pura e Aplicada]</sup><br>[__PAPMEM: Janeiro de 2012 - Conjuntos e Números Naturais__](https://www.youtube.com/watch?v=Gxeg1bQVj0k)<br><sub>(1:10:35, YouTube, 05/Abr/2017)</sub> | - |\n",
    "\n",
    "&nbsp;"
   ]
  }
 ],
 "metadata": {
  "kernelspec": {
   "display_name": "base",
   "language": "python",
   "name": "python3"
  },
  "language_info": {
   "name": "python",
   "version": "3.12.1"
  }
 },
 "nbformat": 4,
 "nbformat_minor": 2
}
