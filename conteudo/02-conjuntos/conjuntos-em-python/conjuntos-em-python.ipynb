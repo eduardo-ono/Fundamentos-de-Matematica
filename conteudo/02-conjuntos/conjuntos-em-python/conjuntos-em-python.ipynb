{
 "cells": [
  {
   "cell_type": "markdown",
   "metadata": {},
   "source": [
    "Conjuntos em Python (Sets)"
   ]
  },
  {
   "cell_type": "markdown",
   "metadata": {},
   "source": [
    "__Sumário__<a id='toc0_'></a>    \n",
    "- 1. [Definição (criação) de conjuntos em Python](#toc1_)    \n",
    "  - 1.1. [Criação de um conjunto vazio](#toc1_1_)    \n",
    "  - 1.2. [Adicionando elementos em um conjunto](#toc1_2_)    \n",
    "  - 1.3. [Removendo elementos de um conjunto](#toc1_3_)    \n",
    "  - 1.4. [Criação de um conjunto não vazio](#toc1_4_)    \n",
    "- 2. [Operações com Conjuntos](#toc2_)    \n",
    "  - 2.1. [Reunião ou União (`|`)](#toc2_1_)    \n",
    "  - 2.2. [Interseção (`&`)](#toc2_2_)    \n",
    "  - 2.3. [Diferença (`-`)](#toc2_3_)    \n",
    "\n",
    "<!-- vscode-jupyter-toc-config\n",
    "\tnumbering=true\n",
    "\tanchor=true\n",
    "\tflat=false\n",
    "\tminLevel=1\n",
    "\tmaxLevel=5\n",
    "\t/vscode-jupyter-toc-config -->\n",
    "<!-- THIS CELL WILL BE REPLACED ON TOC UPDATE. DO NOT WRITE YOUR TEXT IN THIS CELL -->"
   ]
  },
  {
   "cell_type": "markdown",
   "metadata": {},
   "source": [
    "# 1. <a id='toc1_'></a>[Definição (criação) de conjuntos em Python](#toc0_)"
   ]
  },
  {
   "cell_type": "markdown",
   "metadata": {},
   "source": [
    "## 1.1. <a id='toc1_1_'></a>[Criação de um conjunto vazio](#toc0_)"
   ]
  },
  {
   "cell_type": "code",
   "execution_count": 57,
   "metadata": {},
   "outputs": [
    {
     "name": "stdout",
     "output_type": "stream",
     "text": [
      "set()\n"
     ]
    }
   ],
   "source": [
    "frutas = set()\n",
    "print(frutas)"
   ]
  },
  {
   "cell_type": "markdown",
   "metadata": {},
   "source": [
    "## 1.2. <a id='toc1_2_'></a>[Adicionando elementos em um conjunto](#toc0_)"
   ]
  },
  {
   "cell_type": "code",
   "execution_count": 58,
   "metadata": {},
   "outputs": [
    {
     "name": "stdout",
     "output_type": "stream",
     "text": [
      "{'maçã', 'laranja', 'caqui', 'banana'}\n"
     ]
    }
   ],
   "source": [
    "frutas.add('laranja')\n",
    "frutas.add('maçã')\n",
    "frutas.add('banana')\n",
    "frutas.add('caqui')\n",
    "print(frutas)"
   ]
  },
  {
   "cell_type": "markdown",
   "metadata": {},
   "source": [
    "## 1.3. <a id='toc1_3_'></a>[Removendo elementos de um conjunto](#toc0_)"
   ]
  },
  {
   "cell_type": "markdown",
   "metadata": {},
   "source": [
    "* Método `remove()`"
   ]
  },
  {
   "cell_type": "code",
   "execution_count": 59,
   "metadata": {},
   "outputs": [
    {
     "name": "stdout",
     "output_type": "stream",
     "text": [
      "{'maçã', 'laranja', 'caqui'}\n"
     ]
    }
   ],
   "source": [
    "frutas.remove('banana')\n",
    "print(frutas)"
   ]
  },
  {
   "cell_type": "code",
   "execution_count": 60,
   "metadata": {},
   "outputs": [
    {
     "ename": "KeyError",
     "evalue": "'figo'",
     "output_type": "error",
     "traceback": [
      "\u001b[1;31m---------------------------------------------------------------------------\u001b[0m",
      "\u001b[1;31mKeyError\u001b[0m                                  Traceback (most recent call last)",
      "Cell \u001b[1;32mIn[60], line 2\u001b[0m\n\u001b[0;32m      1\u001b[0m \u001b[38;5;66;03m# O método remove() resulta em um erro caso o elemento não exista no conjunto:\u001b[39;00m\n\u001b[1;32m----> 2\u001b[0m \u001b[43mfrutas\u001b[49m\u001b[38;5;241;43m.\u001b[39;49m\u001b[43mremove\u001b[49m\u001b[43m(\u001b[49m\u001b[38;5;124;43m'\u001b[39;49m\u001b[38;5;124;43mfigo\u001b[39;49m\u001b[38;5;124;43m'\u001b[39;49m\u001b[43m)\u001b[49m\n\u001b[0;32m      3\u001b[0m \u001b[38;5;28mprint\u001b[39m(frutas)\n",
      "\u001b[1;31mKeyError\u001b[0m: 'figo'"
     ]
    }
   ],
   "source": [
    "# O método remove() resulta em um erro caso o elemento não exista no conjunto:\n",
    "frutas.remove('figo')\n",
    "print(frutas)"
   ]
  },
  {
   "cell_type": "markdown",
   "metadata": {},
   "source": [
    "* Método `discard()`"
   ]
  },
  {
   "cell_type": "code",
   "execution_count": null,
   "metadata": {},
   "outputs": [
    {
     "name": "stdout",
     "output_type": "stream",
     "text": [
      "{'maçã', 'laranja'}\n"
     ]
    }
   ],
   "source": [
    "# O método discard() não resulta em erro quando o elemeto não existe no conjunto:\n",
    "frutas.discard('caqui')\n",
    "frutas.discard('figo')\n",
    "print(frutas)"
   ]
  },
  {
   "cell_type": "markdown",
   "metadata": {},
   "source": [
    "## 1.4. <a id='toc1_4_'></a>[Criação de um conjunto não vazio](#toc0_)"
   ]
  },
  {
   "cell_type": "code",
   "execution_count": 61,
   "metadata": {},
   "outputs": [
    {
     "name": "stdout",
     "output_type": "stream",
     "text": [
      "{'laranja', 'pera', 'abacate', 'uva', 'banana', 'maçã', 'abacaxi', 'manga', 'morango'}\n"
     ]
    }
   ],
   "source": [
    "frutas = {'laranja', 'maçã', 'banana', 'manga', 'uva', 'pera', 'abacaxi', 'abacate', 'morango'}\n",
    "print(frutas)"
   ]
  },
  {
   "cell_type": "code",
   "execution_count": 62,
   "metadata": {},
   "outputs": [
    {
     "name": "stdout",
     "output_type": "stream",
     "text": [
      "{'maçã', 'morango', 'manga'}\n"
     ]
    }
   ],
   "source": [
    "frutas_a = set()\n",
    "\n",
    "for fruta in frutas:\n",
    "    if fruta[0] == 'm':\n",
    "        frutas_a.add(fruta)\n",
    "\n",
    "print(frutas_a)"
   ]
  },
  {
   "cell_type": "markdown",
   "metadata": {},
   "source": [
    "# 2. <a id='toc2_'></a>[Operações com Conjuntos](#toc0_)"
   ]
  },
  {
   "cell_type": "code",
   "execution_count": 77,
   "metadata": {},
   "outputs": [],
   "source": [
    "frutas_pt = {'maçã', 'banana', 'laranja', 'abacaxi', 'açaí'}\n",
    "frutas_en = {'apple', 'banana', 'orange', 'pineapple', 'açaí'}"
   ]
  },
  {
   "cell_type": "markdown",
   "metadata": {},
   "source": [
    "## 2.1. <a id='toc2_1_'></a>[União ou Reunião (`|`)](#toc0_)"
   ]
  },
  {
   "cell_type": "code",
   "execution_count": 78,
   "metadata": {},
   "outputs": [
    {
     "name": "stdout",
     "output_type": "stream",
     "text": [
      "{'laranja', 'açaí', 'apple', 'orange', 'banana', 'maçã', 'abacaxi', 'pineapple'}\n"
     ]
    }
   ],
   "source": [
    "todas_frutas = frutas_pt | frutas_en\n",
    "print(todas_frutas)"
   ]
  },
  {
   "cell_type": "code",
   "execution_count": 79,
   "metadata": {},
   "outputs": [
    {
     "name": "stdout",
     "output_type": "stream",
     "text": [
      "{'laranja', 'pine apple', 'apple', 'orange', 'banana', 'maçã', 'abacaxi', 'caqui', 'amora'}\n"
     ]
    }
   ],
   "source": [
    "frutas = frutas | {'caqui', 'amora'}\n",
    "print(frutas)"
   ]
  },
  {
   "cell_type": "markdown",
   "metadata": {},
   "source": [
    "## 2.2. <a id='toc2_2_'></a>[Interseção (`&`)](#toc0_)"
   ]
  },
  {
   "cell_type": "code",
   "execution_count": 80,
   "metadata": {},
   "outputs": [
    {
     "name": "stdout",
     "output_type": "stream",
     "text": [
      "{'açaí', 'banana'}\n"
     ]
    }
   ],
   "source": [
    "print(frutas_pt & frutas_en)"
   ]
  },
  {
   "cell_type": "markdown",
   "metadata": {},
   "source": [
    "## 2.3. <a id='toc2_3_'></a>[Diferença (`-`)](#toc0_)"
   ]
  },
  {
   "cell_type": "code",
   "execution_count": 82,
   "metadata": {},
   "outputs": [
    {
     "name": "stdout",
     "output_type": "stream",
     "text": [
      "{'maçã', 'abacaxi', 'laranja'}\n",
      "{'apple', 'pineapple', 'orange'}\n"
     ]
    }
   ],
   "source": [
    "print(frutas_pt - frutas_en)\n",
    "print(frutas_en - frutas_pt)"
   ]
  },
  {
   "cell_type": "code",
   "execution_count": 88,
   "metadata": {},
   "outputs": [
    {
     "name": "stdout",
     "output_type": "stream",
     "text": [
      "True\n"
     ]
    }
   ],
   "source": [
    "A = {'maçã', 'banana', 'abacaxi'}\n",
    "B = {'abacaxi', 'banana', 'maçã'}\n",
    "print(A == B)"
   ]
  }
 ],
 "metadata": {
  "kernelspec": {
   "display_name": "base",
   "language": "python",
   "name": "python3"
  },
  "language_info": {
   "codemirror_mode": {
    "name": "ipython",
    "version": 3
   },
   "file_extension": ".py",
   "mimetype": "text/x-python",
   "name": "python",
   "nbconvert_exporter": "python",
   "pygments_lexer": "ipython3",
   "version": "3.12.1"
  }
 },
 "nbformat": 4,
 "nbformat_minor": 2
}
