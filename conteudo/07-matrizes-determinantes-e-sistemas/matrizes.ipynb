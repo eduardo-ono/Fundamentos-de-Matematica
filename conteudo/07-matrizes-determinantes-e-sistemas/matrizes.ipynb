{
 "cells": [
  {
   "cell_type": "markdown",
   "metadata": {},
   "source": [
    "## Conceitos e Definições"
   ]
  },
  {
   "cell_type": "markdown",
   "metadata": {},
   "source": [
    "&emsp; Chama-se __*matriz*__ $m$ por $n$, com $m, n \\in \\mathbb{N}$, a toda tabela $M$ formada por números reais distribuídos em $m$ linhas e $n$ colunas.\n",
    "\n",
    "&emsp; Cada elemento de um matriz $M$ é indicado por $\\,a_{ij}\\,$, onde $\\,i, j \\in \\mathbb{N}\\,$ são os índices do elemento, que indicam a posição do elemento na matriz. O índice $i$ indica a linha e o índice $j$ indica a coluna às quais o elemento pertence."
   ]
  },
  {
   "cell_type": "markdown",
   "metadata": {},
   "source": [
    "### Representação de matrizes"
   ]
  },
  {
   "cell_type": "markdown",
   "metadata": {},
   "source": [
    "$$\n",
    "M =\n",
    "\\begin{bmatrix}\n",
    "a_{11} & a_{12} & \\cdots & a_{1n} \\\\\n",
    "a_{21} & a_{22} & \\cdots & a_{2n} \\\\\n",
    "\\vdots & \\vdots & \\ddots & \\vdots \\\\\n",
    "a_{m1} & a_{m2} & \\cdots & a_{mn}\n",
    "\\end{bmatrix}\n",
    "\\begin{array}{c}\n",
    "\\\\ \\\\ \\\\ \\\\ \\\\\n",
    "m \\times n\n",
    "\\end{array}\n",
    "$$\n",
    "\n",
    "&nbsp;\n",
    "\n",
    "$$\n",
    "M =\n",
    "\\begin{pmatrix}\n",
    "a_{11} & a_{12} & \\cdots & a_{1n} \\\\\n",
    "a_{21} & a_{22} & \\cdots & a_{2n} \\\\\n",
    "\\vdots & \\vdots & \\ddots & \\vdots \\\\\n",
    "a_{m1} & a_{m2} & \\cdots & a_{mn}\n",
    "\\end{pmatrix}\n",
    "\\begin{array}{c}\n",
    "\\\\ \\\\ \\\\ \\\\ \\\\\n",
    "m \\times n\n",
    "\\end{array}\n",
    "$$\n",
    "\n",
    "&nbsp;\n",
    "\n",
    "$$\n",
    "M =\n",
    "\\begin{Vmatrix}\n",
    "a_{11} & a_{12} & \\cdots & a_{1n} \\\\\n",
    "a_{21} & a_{22} & \\cdots & a_{2n} \\\\\n",
    "\\vdots & \\vdots & \\ddots & \\vdots \\\\\n",
    "a_{m1} & a_{m2} & \\cdots & a_{mn}\n",
    "\\end{Vmatrix}\n",
    "\\begin{array}{c}\n",
    "\\\\ \\\\ \\\\ \\\\ \\\\\n",
    "m \\times n\n",
    "\\end{array}\n",
    "$$\n"
   ]
  },
  {
   "cell_type": "markdown",
   "metadata": {},
   "source": [
    "__DEFINIÇÕES.__\n",
    "\n",
    "* Toda matriz do tipo $\\,1 \\times n\\,$ é chamada __*matriz linha*__.\n",
    "\n",
    "* Toda matriz do tipo $\\,m \\times 1\\,$ é chamada __*matriz coluna*__.\n",
    "\n",
    "* Toda matriz que tem todos os elementos iguais a zero é chamada __*matriz nula*__.\n",
    "\n",
    "* Toda matriz do tipo $\\,n \\times n\\,$ é chamada __*matriz quadrada de ordem n*__.\n",
    "\n",
    "* Chama-se __*diagonal principal*__ de uma matriz quadrada de ordem $n$ o conjunto dos elementos que têm os dois índices iguais, isto é,\n",
    "\n",
    "$$\n",
    "\\{a_{ij} \\mid i = j\\} = \\{ a_{11}, a_{22}, a_{33}, \\ldots, a_{nn}\\}\\,.\n",
    "$$\n",
    "\n",
    "* Chama-se __*diagonal secundária*__ de uma matriz quadrada de ordem $n$ o conjunto dos elementos que têm soma dos índices igual a $\\,n + 1\\,$, isto é,\n",
    "\n",
    "$$\n",
    "\\{a_{ij} \\mid i + j = n + 1\\} = \\{a_{1n}, a_{2(n-1)}, a_{3(n-2)}, \\ldots, a_{n1}\\}\\,.\n",
    "$$\n",
    "\n",
    "* __*Matriz diagonal*__ é toda matriz quadrada em que os elementos que não pertencem à diagonal principal são iguais a zero.\n",
    "\n",
    "* __*Matriz identidade*__ (ou matriz unidade) de ordem $n$ (indica-se $I_n$) é toda matriz diagonal em que os elementos da diagonal principal são iguais a 1."
   ]
  }
 ],
 "metadata": {
  "language_info": {
   "name": "python"
  }
 },
 "nbformat": 4,
 "nbformat_minor": 2
}
