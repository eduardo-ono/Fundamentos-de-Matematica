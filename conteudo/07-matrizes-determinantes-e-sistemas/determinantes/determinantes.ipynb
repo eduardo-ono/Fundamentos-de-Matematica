{
 "cells": [
  {
   "cell_type": "markdown",
   "metadata": {},
   "source": [
    "<sup>Fundamentos de Matemática</sup>\n",
    "<img alt=\"\" width=\"100%\" height=\"2px\" align=\"right\">\n",
    "\n",
    "&nbsp;\n",
    "\n",
    "<h1 align=\"center\">Determinantes</h1>\n",
    "<h4 align=\"center\">Prof. Eduardo Ono</h4>\n",
    "<h6 align=\"center\">Atualizado em: 09/02/2025</h6>\n",
    "\n",
    "&nbsp;\n",
    "\n",
    "## Vídeos de Apoio\n",
    "\n",
    "| Thumb | Descrição |\n",
    "| :-: | --- |\n",
    "| ![img](https://img.youtube.com/vi/xaqjLQKDSBI/default.jpg) | <sup>[Professor Possani]</sup><br>[__O que é Determinante__](https://www.youtube.com/watch?v=xaqjLQKDSBI)<br><sub>(19:05, YouTube, 03/Nov/2024)</sub> |\n",
    "| ![img](https://img.youtube.com/vi/8u1Phkrcv-w/default.jpg) | <sup>[Toda a Matemática]</sup><br>[__MATRIZES - Definição de determinante__](https://www.youtube.com/watch?v=8u1Phkrcv-w)<br><sub>(10:12, YouTube, 21/Mai/2022)</sub> |\n",
    "\n",
    "&nbsp;"
   ]
  },
  {
   "cell_type": "markdown",
   "metadata": {},
   "source": [
    "# Propriedades"
   ]
  },
  {
   "cell_type": "markdown",
   "metadata": {},
   "source": [
    "| Thumb | Descrição |\n",
    "| :-: | --- |\n",
    "| ![img](https://img.youtube.com/vi/939xOYVcJ2I/default.jpg) | <sup>[Equaciona Com Paulo Pereira]</sup><br>[__DETERMINANTES: PROPRIEDADES__](https://www.youtube.com/watch?v=939xOYVcJ2I)<br><sub>(12:05, YouTube, 02/Nov/2017)</sub> |"
   ]
  },
  {
   "cell_type": "markdown",
   "metadata": {},
   "source": [
    "# Aplicações"
   ]
  },
  {
   "cell_type": "markdown",
   "metadata": {},
   "source": [
    "## Matriz Inversa"
   ]
  },
  {
   "cell_type": "markdown",
   "metadata": {},
   "source": [
    "| Thumb | Descrição |\n",
    "| :-: | --- |\n",
    "| ![img](https://img.youtube.com/vi/F10TdwBH8qc/default.jpg) | <sup>[Equaciona Com Paulo Pereira]</sup><br>[__MATRIZ INVERSA (FÁCIL)__](https://www.youtube.com/watch?v=F10TdwBH8qc)<br><sub>(4:48, YouTube, 18/Abr/2018)</sub> |"
   ]
  }
 ],
 "metadata": {
  "language_info": {
   "name": "python"
  }
 },
 "nbformat": 4,
 "nbformat_minor": 2
}
