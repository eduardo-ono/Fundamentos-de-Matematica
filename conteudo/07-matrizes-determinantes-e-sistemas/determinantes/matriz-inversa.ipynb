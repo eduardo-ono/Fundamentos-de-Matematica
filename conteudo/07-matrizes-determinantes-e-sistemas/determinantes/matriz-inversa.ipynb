{
 "cells": [
  {
   "cell_type": "markdown",
   "id": "d4242a8f",
   "metadata": {},
   "source": [
    "<sup>Fundamentos de Matemática</sup>\n",
    "<img alt=\"\" width=\"100%\" height=\"2px\" align=\"right\">\n",
    "\n",
    "&nbsp;\n",
    "\n",
    "<h1 align=\"center\">Matriz Inversa</h1>\n",
    "<h4 align=\"center\">Prof. Eduardo Ono</h4>\n",
    "<h6 align=\"center\">Atualizado em: 28/05/2025</h6>\n",
    "\n",
    "&nbsp;"
   ]
  },
  {
   "cell_type": "markdown",
   "id": "3bdf23c8",
   "metadata": {},
   "source": [
    "## Matriz Inversa de Ordem 3x3"
   ]
  },
  {
   "cell_type": "markdown",
   "id": "9ed0da92",
   "metadata": {},
   "source": [
    "__EXEMPLO__.\n",
    "\n",
    "$$\n",
    "\\left\\{\n",
    "  \\begin{matrix}\n",
    "  \\ x & + & 2y & + & 3z & = & 1 \\\\\n",
    "  \\ 2x & + & y & - & z & = & 1 \\\\\n",
    "  \\ -x & + & 2y & + & 6z & = & 1\n",
    "  \\end{matrix}\n",
    "\\right.\n",
    "$$\n",
    "\n",
    "Vídeo de Apoio\n",
    "\n",
    "| Thumb | Descrição |\n",
    "| :-: | --- |\n",
    "| ![img](https://img.youtube.com/vi/Q8Z6UAxokgc/default.jpg) | <sup>[Matemática com Professor Alan Rangel ]</sup><br>[__Sistema Linear por Matriz Inversa - Passo-a-passo__](https://www.youtube.com/watch?v=Q8Z6UAxokgc)<br><sub>(16:53, YouTube, 08/Mai/2022)</sub> |"
   ]
  },
  {
   "cell_type": "markdown",
   "id": "6b1937bb",
   "metadata": {},
   "source": [
    "<h3>Vídeos de Apoio</h3>\n",
    "\n",
    "| Thumb | Descrição |\n",
    "| :-: | --- |\n",
    "| ![img](https://img.youtube.com/vi/xY02ioZP4kE/default.jpg) | <sup>[Equaciona Com Paulo Pereira]</sup><br>[__MATRIZ INVERSA 3X3__](https://www.youtube.com/watch?v=xY02ioZP4kE)<br><sub>(11:45, YouTube, 04/Mai/2018)</sub> |\n",
    "| ![img](https://img.youtube.com/vi/CNWvpQu1PKg/default.jpg) | <sup>[Equaciona Com Paulo Pereira]</sup><br>[__MATRIZ INVERSA 3X3 FÁCIL!__](https://www.youtube.com/watch?v=CNWvpQu1PKg)<br><sub>(6:00, YouTube, 06/Mar/2019)</sub> |"
   ]
  }
 ],
 "metadata": {
  "kernelspec": {
   "display_name": "base",
   "language": "python",
   "name": "python3"
  },
  "language_info": {
   "name": "python",
   "version": "3.12.1"
  }
 },
 "nbformat": 4,
 "nbformat_minor": 5
}
