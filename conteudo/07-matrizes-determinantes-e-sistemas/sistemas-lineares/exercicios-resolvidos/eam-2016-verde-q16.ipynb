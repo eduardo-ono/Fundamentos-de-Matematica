{
 "cells": [
  {
   "cell_type": "markdown",
   "id": "51cac0c1",
   "metadata": {},
   "source": [
    "| Thumb | Descrição |\n",
    "| :-: | --- |\n",
    "| ![img](https://img.youtube.com/vi/HbxuFvNSNps/default.jpg) | <sup>[Waldemática]</sup><br>[__EAM 2016 \\| Problema de SISTEMA LINEAR \\| Q16 - Prova Verde \\| Prof. W4L__](https://www.youtube.com/watch?v=HbxuFvNSNps)<br><sub>(6:07, YouTube, 19/Abr/2017)</sub> |"
   ]
  }
 ],
 "metadata": {
  "kernelspec": {
   "display_name": "base",
   "language": "python",
   "name": "python3"
  },
  "language_info": {
   "name": "python",
   "version": "3.12.1"
  }
 },
 "nbformat": 4,
 "nbformat_minor": 5
}
