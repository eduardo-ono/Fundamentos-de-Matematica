{
 "cells": [
  {
   "cell_type": "markdown",
   "id": "c1214c85",
   "metadata": {},
   "source": []
  },
  {
   "cell_type": "markdown",
   "id": "71a0bb00",
   "metadata": {},
   "source": [
    "__EXERCÍCIO 2025-04-30__. &nbsp; Se $x$ e $y$ são números inteiros positivos, representa-se o máximo divisor comum de $x$ e $y$ por $\\,\\operatorname{mdc}(x, y)$. Assim, o número de pares ordenados $\\,(x, y)\\,$ que são soluções do sistema\n",
    "\n",
    "$$\n",
    "\\left\\lbrace\n",
    "  \\begin{align*}\n",
    "  \\ x \\ + \\ y \\ & = \\ 810 \\\\\n",
    "  \\ \\operatorname{mdc}(x, y) \\ & = \\ 45\n",
    "  \\end{align*}\n",
    "\\right.\n",
    "$$\n",
    "\n",
    "é igual a:\n",
    "\n",
    "a) 6 &nbsp;&check;<br>\n",
    "b) 8<br>\n",
    "c) 10<br>\n",
    "d) 16<br>\n",
    "e) 18"
   ]
  },
  {
   "cell_type": "markdown",
   "id": "d824ade6",
   "metadata": {},
   "source": [
    "__REFERÊNCIAS__\n",
    "\n",
    "| Thumb | Descrição |\n",
    "| :-: | --- |\n",
    "| ![img](https://img.youtube.com/vi/kBnfw9caHK8/default.jpg) | <sup>[Toda a Matemática]</sup><br>[__MAT BÁSICA - COLÉGIO NAVAL 2003__](https://www.youtube.com/watch?v=kBnfw9caHK8)<br><sub>(5:13, YouTube, 30/Abr/2025)</sub> |"
   ]
  }
 ],
 "metadata": {
  "kernelspec": {
   "display_name": "base",
   "language": "python",
   "name": "python3"
  },
  "language_info": {
   "name": "python",
   "version": "3.12.1"
  }
 },
 "nbformat": 4,
 "nbformat_minor": 5
}
