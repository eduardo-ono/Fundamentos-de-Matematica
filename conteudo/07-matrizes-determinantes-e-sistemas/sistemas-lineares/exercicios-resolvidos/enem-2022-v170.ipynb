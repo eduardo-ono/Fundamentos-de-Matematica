{
 "cells": [
  {
   "cell_type": "markdown",
   "id": "97ab15a7",
   "metadata": {},
   "source": [
    "__ENEM-2022-v170__. &nbsp; Um parque tem dois circuitos de tamanhos diferentes para corridas. Um corredor treina nesse parque e, no primeiro dia, inicia seu treino percorrendo 3 voltas em torno do circuito maior e 2 voltas em torno do menor, perfazendo um total de $1\\,800$ m. Em seguida, dando continuidade a seu treino, corre mais 2 voltas em torno do circuito maior e 1 volta em torno do menor, percorrendo mais $1\\,100$ m.\n",
    "\n",
    "&emsp; No segundo dia, ele pretende percorrer $5\\,000$ m nos circuitos do parque, fazendo um número inteiro de voltas em torno deles e de modo que o número de voltas seja o maior possível.\n",
    "\n",
    "&emsp; A soma do número de voltas em torno dos dois circuitos, no segundo dia, será\n",
    "\n",
    "A) $\\,10$.<br>\n",
    "B) $\\,13$.<br>\n",
    "C) $\\,14$.<br>\n",
    "D) $\\,15$.<br>\n",
    "E) $\\,16$.<br>"
   ]
  },
  {
   "cell_type": "markdown",
   "id": "79711128",
   "metadata": {},
   "source": [
    "__REFERÊNCIAS__\n",
    "\n",
    "* <https://download.inep.gov.br/enem/provas_e_gabaritos/2022_PV_impresso_D2_CD12.pdf#page=28>"
   ]
  }
 ],
 "metadata": {
  "kernelspec": {
   "display_name": "base",
   "language": "python",
   "name": "python3"
  },
  "language_info": {
   "name": "python",
   "version": "3.12.1"
  }
 },
 "nbformat": 4,
 "nbformat_minor": 5
}
