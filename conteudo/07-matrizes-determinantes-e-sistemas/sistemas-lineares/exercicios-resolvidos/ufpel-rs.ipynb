{
 "cells": [
  {
   "cell_type": "markdown",
   "id": "c04ef51a",
   "metadata": {},
   "source": [
    "__Ufpel-RS__. &nbsp; Uma parábola passa pelos pontos $A(0, 5)$, $B(2, -3)$ e $C(3, -4)$. A soma das coordenadas do vértice é:\n",
    "\n",
    "A)&nbsp; 2<br>\n",
    "B)&nbsp; -2<br>\n",
    "C)&nbsp; 1<br>\n",
    "D)&nbsp; -1 &check;<br>\n",
    "E)&nbsp; 0<br>\n",
    "\n",
    "&nbsp;"
   ]
  },
  {
   "cell_type": "markdown",
   "id": "842a048e",
   "metadata": {},
   "source": [
    "__REFERÊNCIAS__\n",
    "\n",
    "| Thumb | Descrição |\n",
    "| :-: | --- |\n",
    "| ![img](https://img.youtube.com/vi/Rm9ElYOMVMc/default.jpg) | <sup>[ERA - MATEMÁTICA]</sup><br>[__Função quadrática a partir de três pontos__](https://www.youtube.com/watch?v=Rm9ElYOMVMc)<br><sub>(16:23, YouTube, 15/Dez/2020)</sub> |"
   ]
  }
 ],
 "metadata": {
  "kernelspec": {
   "display_name": "base",
   "language": "python",
   "name": "python3"
  },
  "language_info": {
   "name": "python",
   "version": "3.12.1"
  }
 },
 "nbformat": 4,
 "nbformat_minor": 5
}
