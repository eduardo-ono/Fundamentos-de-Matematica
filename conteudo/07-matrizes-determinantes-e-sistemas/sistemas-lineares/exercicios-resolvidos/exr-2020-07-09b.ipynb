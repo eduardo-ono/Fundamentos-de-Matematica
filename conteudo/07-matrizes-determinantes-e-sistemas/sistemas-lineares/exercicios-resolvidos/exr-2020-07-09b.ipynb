{
 "cells": [
  {
   "cell_type": "markdown",
   "id": "4207d3bc",
   "metadata": {},
   "source": [
    "__exr-2020-07-09b__. &nbsp; Um pai tem 20 a mais do que o filho. Determine a idade de cada um, sabendo que daqui a 5 anos o pai terá o dobro da idade do filho.\n",
    "\n",
    "&nbsp;"
   ]
  },
  {
   "cell_type": "markdown",
   "id": "f9433343",
   "metadata": {},
   "source": [
    "__REFERÊNCIAS__\n",
    "\n",
    "| Thumb | Descrição |\n",
    "| :-: | --- |\n",
    "| ![img](https://img.youtube.com/vi/vqkmNKDGpRA/default.jpg) | <sup>[Professora Ana Maria \\| Matemática]</sup><br>[__Sistemas Lineares(exercícios): Situações Problemas__](https://www.youtube.com/watch?v=vqkmNKDGpRA)<br><sub>(11:16, YouTube, 09/Jul/2020)</sub> |"
   ]
  }
 ],
 "metadata": {
  "kernelspec": {
   "display_name": "base",
   "language": "python",
   "name": "python3"
  },
  "language_info": {
   "name": "python",
   "version": "3.12.1"
  }
 },
 "nbformat": 4,
 "nbformat_minor": 5
}
