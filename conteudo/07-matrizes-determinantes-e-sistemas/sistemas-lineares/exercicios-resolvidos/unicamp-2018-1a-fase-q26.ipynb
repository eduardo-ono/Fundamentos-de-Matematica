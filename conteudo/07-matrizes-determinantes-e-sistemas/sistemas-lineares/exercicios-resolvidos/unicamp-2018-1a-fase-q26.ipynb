{
 "cells": [
  {
   "cell_type": "markdown",
   "id": "66b96317",
   "metadata": {},
   "source": [
    "__Unicamp-2018-1ª fase-q26__. &nbsp; Sabendo que $k$ é um número real, considere o sistema linear nas variáveis reais $x$ e $y$.\n",
    "\n",
    "$$\n",
    "\\left\\{\n",
    "  \\begin{matrix}\n",
    "    \\ x & + & ky & = & 1 \\\\\n",
    "    \\ x & + & y & = & k\n",
    "  \\end{matrix}\n",
    "\\right.\n",
    "$$\n",
    "\n",
    "&emsp; É correto afirmar que esse sistema\n",
    "\n",
    "a)&nbsp; tem solução para todo $k$. &check;<br>\n",
    "b)&nbsp; não tem solução única para nenhum $k$.<br>\n",
    "c)&nbsp; não tem solução se $k = 1$.<br>\n",
    "d)&nbsp; tem infinitas soluções se $k \\neq 1$.<br>\n",
    "\n",
    "&nbsp;"
   ]
  },
  {
   "cell_type": "markdown",
   "id": "af288594",
   "metadata": {},
   "source": [
    "__RESOLUÇÃO__\n",
    "\n",
    "$$\n",
    "D =\n",
    "\\begin{vmatrix}\n",
    "1 & k \\\\\n",
    "1 & 1\n",
    "\\end{vmatrix}\n",
    "= 1 - k\n",
    "$$\n",
    "\n",
    "$$\n",
    "D_x =\n",
    "\\begin{vmatrix}\n",
    "1 & k \\\\\n",
    "k & 1\n",
    "\\end{vmatrix}\n",
    "= 1 - k^2\n",
    "$$\n",
    "\n",
    "$$\n",
    "D_y =\n",
    "\\begin{vmatrix}\n",
    "1 & 1 \\\\\n",
    "1 & k\n",
    "\\end{vmatrix}\n",
    "= k - 1\n",
    "$$\n",
    "\n",
    "$$\n",
    "\\begin{split}\n",
    "& \\text{Se } k \\neq 1 \\text{, então } D \\neq 0 \\implies \\text{SPD}. \\\\\n",
    "& \\text{Se } k = 1 \\text{, então } D = 0, D_x = 0 \\text{ e } D_y = 0 \\implies \\text{SPI}.\n",
    "\\end{split}\n",
    "$$\n",
    "\n",
    "$$\n",
    "\\text{Resp.: } \\boxed{\\ \\text{a)}\\ }\n",
    "$$"
   ]
  },
  {
   "cell_type": "markdown",
   "id": "20818e6e",
   "metadata": {},
   "source": [
    "__REFERÊNCIAS__\n",
    "\n",
    "| Thumb | Descrição |\n",
    "| :-: | --- |\n",
    "| ![img](https://img.youtube.com/vi/8le0cgOdas0/default.jpg) | <sup>[Waldemática]</sup><br>[__UNICAMP – 2018 \\| SISTEMAS LINEARES - Discussão \\| Questão 26 – Prova Q \\| Waldemática__](https://www.youtube.com/watch?v=8le0cgOdas0)<br><sub>(5:13, YouTube, 22/Nov/2017)</sub> |"
   ]
  }
 ],
 "metadata": {
  "kernelspec": {
   "display_name": "base",
   "language": "python",
   "name": "python3"
  },
  "language_info": {
   "name": "python",
   "version": "3.12.1"
  }
 },
 "nbformat": 4,
 "nbformat_minor": 5
}
