{
 "cells": [
  {
   "cell_type": "markdown",
   "id": "39daabe5",
   "metadata": {},
   "source": [
    "__REFERÊNCIAS__\n",
    "\n",
    "| Thumb | Descrição |\n",
    "| :-: | --- |\n",
    "| ![img](https://img.youtube.com/vi/94eANLFuzc8/default.jpg) | <sup>[Matemática com Demóclis Roch]</sup><br>[__Sistema de Equações - ITA 2017 - Objetiva - Questão 6__](https://www.youtube.com/watch?v=94eANLFuzc8)<br><sub>(7:37, YouTube, 15/Jan/2017)</sub> |"
   ]
  }
 ],
 "metadata": {
  "kernelspec": {
   "display_name": "base",
   "language": "python",
   "name": "python3"
  },
  "language_info": {
   "name": "python",
   "version": "3.12.1"
  }
 },
 "nbformat": 4,
 "nbformat_minor": 5
}
