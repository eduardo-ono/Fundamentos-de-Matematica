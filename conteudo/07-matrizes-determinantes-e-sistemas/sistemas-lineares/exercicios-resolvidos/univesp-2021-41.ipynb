{
 "cells": [
  {
   "cell_type": "markdown",
   "id": "1e6ba04f",
   "metadata": {},
   "source": [
    "__Univesp-2021-04__. &nbsp; Uma loja colocou copos e canecas em promoção, no total de 80 peças. No primeiro dia da promoção, foi vendido $\\cfrac{1}{5}$ do número de copos e $\\cfrac{1}{9}$ do número de canecas, totalizando $12$ peças. O número de copos não vendidos nesse dia foi\n",
    "\n",
    "A)&nbsp; 25.<br>\n",
    "B)&nbsp; 28. &check;<br>\n",
    "C)&nbsp; 30.<br>\n",
    "D)&nbsp; 33.<br>\n",
    "E)&nbsp; 35.<br>\n",
    "\n",
    "&nbsp;"
   ]
  },
  {
   "cell_type": "markdown",
   "id": "3626fd2c",
   "metadata": {},
   "source": [
    "__RESOLUÇÃO__\n",
    "\n",
    "$$\n",
    "\\left\\{\n",
    "  \\begin{matrix}\n",
    "    \\ x & + & y & = & 80 \\quad & {\\color{grey}{\\text{(I)}}} \\\\\n",
    "    \\ \\cfrac{x}{5} & + & \\cfrac{y}{9} & = & 12 \\quad & {\\color{grey}{\\text{(II)}}} \\\\\n",
    "  \\end{matrix}\n",
    "\\right.\n",
    "$$\n",
    "\n",
    "$\\text{(II)} \\leftarrow 45 \\cdot \\text{(II)}$\n",
    "\n",
    "$$\n",
    "\\left\\{\n",
    "  \\begin{matrix}\n",
    "    \\ x & + & y & = & 80 \\quad & {\\color{grey}{\\text{(I)}}} \\\\\n",
    "    \\ 9x & + & 5y & = & 540 \\quad & {\\color{grey}{\\text{(II)}}} \\\\\n",
    "  \\end{matrix}\n",
    "\\right.\n",
    "$$\n",
    "\n",
    "$\\text{(I)} \\leftarrow -5 \\cdot \\text{(I)}$\n",
    "\n",
    "$$\n",
    "\\left\\{\n",
    "  \\begin{matrix}\n",
    "    \\ -5x & - & 5y & = & -400 \\quad & {\\color{grey}{\\text{(I)}}} \\\\\n",
    "    \\ \\phantom{-}9x & + & 5y & = & 540 \\quad & {\\color{grey}{\\text{(II)}}} \\\\\n",
    "  \\end{matrix}\n",
    "\\right.\n",
    "$$\n",
    "\n",
    "$\\text{(I) + (II)}$\n",
    "\n",
    "$$\n",
    "4x = 140 \\implies x = \\frac{140}{4} \\implies x = 35.\n",
    "$$\n",
    "\n",
    "&emsp; Se foram vendidos $\\cfrac{1}{5}$ dos copos, então:\n",
    "\n",
    "$$\n",
    "\\text{Copos vendidos} = \\cfrac{1}{5} \\cdot 35 = 7.\n",
    "$$\n",
    "\n",
    "&emsp; Portanto,\n",
    "\n",
    "$$\n",
    "\\text{Copos não vendidos} = 35 - 7 = \\boxed{28}.\n",
    "$$\n",
    "\n",
    "&emsp; Resp.: B)"
   ]
  },
  {
   "cell_type": "markdown",
   "id": "4c5a6c3e",
   "metadata": {},
   "source": [
    "__REFERÊNCIAS__\n",
    "\n",
    "| Thumb | Descrição |\n",
    "| :-: | --- |\n",
    "| ![img](https://img.youtube.com/vi/h8KHUPU7Ff8/default.jpg) | <sup>[Prof Izaias Neri]</sup><br>[__Vestibular Univesp 2021 - Questão 04 - Sistema Linear__](https://www.youtube.com/watch?v=h8KHUPU7Ff8)<br><sub>(5:48, YouTube, 12/Mai/2022)</sub> |\n"
   ]
  }
 ],
 "metadata": {
  "language_info": {
   "name": "python"
  }
 },
 "nbformat": 4,
 "nbformat_minor": 5
}
