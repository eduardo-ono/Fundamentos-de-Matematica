{
 "cells": [
  {
   "cell_type": "markdown",
   "id": "e6099bda",
   "metadata": {},
   "source": [
    "__ITA-2015-q28__. &nbsp; Sejam $\\alpha$ e $\\beta$ números reais não nulos. Determine os valores de $b$, $c$, $d$, bem como a relação entre $\\alpha$ e $\\beta$ para que ambos os sistemas lineares $S$ e $T$ a seguir sejam compatíveis indeterminados.\n",
    "\n",
    "$$\n",
    "S\n",
    "\\left\\{\n",
    "\\begin{matrix}\n",
    "\\ 2x & + & by & = & \\alpha \\\\\n",
    "\\ cx & + & y & = &\\beta\n",
    "\\end{matrix}\n",
    "\\right.\n",
    "\\qquad\\qquad\n",
    "T\n",
    "\\left\\{\n",
    "\\begin{matrix}\n",
    "\\ cx & + & 3y & = & \\alpha \\\\\n",
    "\\ 4x & + & dy & = &\\beta\n",
    "\\end{matrix}\n",
    "\\right.\n",
    "$$"
   ]
  },
  {
   "cell_type": "markdown",
   "id": "821d235b",
   "metadata": {},
   "source": [
    "__REFERÊNCIAS__\n",
    "\n",
    "| Thumb | Descrição |\n",
    "| :-: | --- |\n",
    "| ![img](https://img.youtube.com/vi/DTOreAd0ZE4/default.jpg) | <sup>[Matemática com Demóclis Rocha]</sup><br>[__Sistemas Lineares 2x2 (ITA 2015, Questão 28)__](https://www.youtube.com/watch?v=DTOreAd0ZE4)<br><sub>(5:34, YouTube, 29/Jul/2015)</sub> |"
   ]
  }
 ],
 "metadata": {
  "kernelspec": {
   "display_name": "base",
   "language": "python",
   "name": "python3"
  },
  "language_info": {
   "name": "python",
   "version": "3.12.1"
  }
 },
 "nbformat": 4,
 "nbformat_minor": 5
}
