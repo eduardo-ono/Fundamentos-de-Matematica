{
 "cells": [
  {
   "cell_type": "markdown",
   "id": "a30b7890",
   "metadata": {},
   "source": [
    "__ITA-2023-2ª-fase-q02__. &nbsp; Considere as seguintes matrizes:\n",
    "\n",
    "$$\n",
    "A = \n",
    "\\begin{bmatrix}\n",
    "1 & -2 \\\\\n",
    "-2 & 1\n",
    "\\end{bmatrix}\n",
    ", \\quad\n",
    "B =\n",
    "\\begin{bmatrix}\n",
    "0 & 6 \\\\\n",
    "6 & 0\n",
    "\\end{bmatrix}\n",
    "\\quad \\text{e} \\quad\n",
    "C =\n",
    "\\begin{bmatrix}\n",
    "3 & 3 \\\\\n",
    "3 & 3\n",
    "\\end{bmatrix}\n",
    ".\n",
    "$$\n",
    "\n",
    "&emsp; Determine os números $\\,\\alpha \\in \\mathbb{R}\\,$ tais que a matriz $\\,M = \\alpha^2 A + \\alpha B + C\\,$ é invertível."
   ]
  },
  {
   "cell_type": "markdown",
   "id": "549aa0d0",
   "metadata": {},
   "source": [
    "__REFERÊNCIAS__\n",
    "\n",
    "| Thumb | Descrição |\n",
    "| :-: | --- |\n",
    "| ![img](https://img.youtube.com/vi/RXvPz2zbdGo/default.jpg) | <sup>[Interpolo]</sup><br>[__ITA 2023 \\| Segunda Fase \\| Questão 2 \\| Matrizes__](https://www.youtube.com/watch?v=RXvPz2zbdGo)<br><sub>(5:28, YouTube, 09/Nov/2022)</sub> |"
   ]
  }
 ],
 "metadata": {
  "kernelspec": {
   "display_name": "base",
   "language": "python",
   "name": "python3"
  },
  "language_info": {
   "name": "python",
   "version": "3.12.1"
  }
 },
 "nbformat": 4,
 "nbformat_minor": 5
}
