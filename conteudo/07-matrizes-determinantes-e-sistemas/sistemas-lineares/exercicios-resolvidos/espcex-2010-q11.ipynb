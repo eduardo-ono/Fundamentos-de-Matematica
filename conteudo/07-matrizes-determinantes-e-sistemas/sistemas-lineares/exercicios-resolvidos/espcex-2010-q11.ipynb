{
 "cells": [
  {
   "cell_type": "markdown",
   "id": "ccb8e587",
   "metadata": {},
   "source": [
    "__EsPCEx-2010-q11__. &nbsp; Para que o sistema linear $\\left\\{\\begin{matrix}\\ 2x & + & y & = & 5 \\\\ \\ ax & + & 2y & = & b\\end{matrix}\\right.$ seja possível e indeterminado, o valor de $\\,a + b\\,$ é:\n",
    "\n",
    "(a)&nbsp; -1<br>\n",
    "(b)&nbsp; 4<br>\n",
    "(c)&nbsp; 9<br>\n",
    "(d)&nbsp; 14 &check;<br>\n",
    "(e)&nbsp; 19<br>\n",
    "\n",
    "&nbsp;"
   ]
  },
  {
   "cell_type": "markdown",
   "id": "cffe2e92",
   "metadata": {},
   "source": [
    "__RESOLUÇÃO__\n",
    "\n",
    "&emsp; Para que o sistema linear seja SPI, devemos ter que $\\,D = 0\\,$, $\\,D_x = 0\\,$ e $\\,D_y = 0$.\n",
    "\n",
    "$$\n",
    "D =\n",
    "\\begin{vmatrix}\n",
    "2 & 1 \\\\\n",
    "a & 2\n",
    "\\end{vmatrix}\n",
    "= 4 - a = 0 \\implies a = 4\n",
    "$$\n",
    "\n",
    "$$\n",
    "D_x =\n",
    "\\begin{vmatrix}\n",
    "5 & 1 \\\\\n",
    "b & 2\n",
    "\\end{vmatrix}\n",
    "= 10 - b = 0 \\implies b = 10\n",
    "$$\n",
    "\n",
    "$$\n",
    "\\therefore\\quad a + b = 4 + 10 = 14\n",
    "$$"
   ]
  },
  {
   "cell_type": "markdown",
   "id": "af48809d",
   "metadata": {},
   "source": [
    "__REFERÊNCIAS__\n",
    "\n",
    "| Thumb | Descrição |\n",
    "| :-: | --- |\n",
    "| ![img](https://img.youtube.com/vi/h-_YG1-oOaE/default.jpg) | <sup>[Italo Marinho]</sup><br>[__06 Sistemas Lineares Resolução de Questões EsPCEx 08 ~ 14__](https://www.youtube.com/watch?v=h-_YG1-oOaE&t=904)<br><sub>(52:09, YouTube, 15/Out/2020)</sub> |\n"
   ]
  }
 ],
 "metadata": {
  "kernelspec": {
   "display_name": "base",
   "language": "python",
   "name": "python3"
  },
  "language_info": {
   "name": "python",
   "version": "3.12.1"
  }
 },
 "nbformat": 4,
 "nbformat_minor": 5
}
