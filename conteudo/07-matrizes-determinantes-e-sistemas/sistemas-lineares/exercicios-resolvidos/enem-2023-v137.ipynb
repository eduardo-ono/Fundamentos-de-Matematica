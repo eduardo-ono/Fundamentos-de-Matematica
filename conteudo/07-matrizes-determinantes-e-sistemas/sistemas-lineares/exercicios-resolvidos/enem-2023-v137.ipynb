{
 "cells": [
  {
   "cell_type": "markdown",
   "id": "e2e1247e",
   "metadata": {},
   "source": [
    "__ENEM-2023-v137__. &nbsp; O metrô de um município oferece dois tipos de tíquetes com colorações diferentes, azul e vermelha, sendo vendidos em cartelas, cada qual com nove tíquetes da mesma cor e mesmo valor unitário. Duas cartelas de tíquetes azuis e uma cartela de tíquetes vermelhos são vendidas por $\\,\\text{R\\$ 32,40}$. Sabe-se que o preço de um tíquete azul menos o preço de um tíquete vermelho é igual ao preço de um tíquete vermelho mais cinco centavos.\n",
    "\n",
    "&emsp; Qual o preço, em real, de uma cartela de tíquetes vermelhos?\n",
    "\n",
    "A) &nbsp; 4,68<br>\n",
    "B) &nbsp; 6,30 &check;<br>\n",
    "C) &nbsp; 9,30<br>\n",
    "D) &nbsp; 10,50<br>\n",
    "E) &nbsp; 10,65<br>\n",
    "\n",
    "&nbsp;"
   ]
  },
  {
   "cell_type": "markdown",
   "id": "7e93b5b4",
   "metadata": {},
   "source": [
    "__RESOLUÇÃO__.\n",
    "\n",
    "$$\n",
    "\\left\\{\n",
    "  \\begin{matrix}\n",
    "  \\, 2 \\cdot 9\\,a & + & 9\\,v & = & 32,40 \\\\\n",
    "  \\quad a & - & v & = & v \\ + \\ 0,05\n",
    "  \\end{matrix}\n",
    "\\right.\n",
    "$$\n",
    "\n",
    "&emsp; Reescrevendo o sistema:\n",
    "\n",
    "$$\n",
    "\\left\\{\n",
    "  \\begin{matrix}\n",
    "  \\, 18\\,a & + & 9\\,v & = & 32,40 &\\quad \\text{(I)} \\\\\n",
    "  \\quad a & - & 2\\,v & = & 0,05 & \\quad \\text{(II)}\n",
    "  \\end{matrix}\n",
    "\\right.\n",
    "$$\n",
    "\n",
    "&emsp; Multiplicando a equação $\\text{(II)}$ por $-18$:\n",
    "\n",
    "$$\n",
    "\\left\\{\n",
    "  \\begin{matrix}\n",
    "  \\, 18\\,a & + & 9\\,v & = & 32,40 &\\quad \\text{(I)} \\\\\n",
    "  -18\\,a & + & 36\\,v & = & - 0,9 & \\quad \\text{(II)}\n",
    "  \\end{matrix}\n",
    "\\right.\n",
    "$$\n",
    "\n",
    "&emsp; Somando as equações $\\text{(I)}$ e $\\text{(II)}$:\n",
    "\n",
    "$$\n",
    "45\\,v = 31,50 \\implies v = \\frac{31,50}{45} = 0,70\n",
    "$$\n",
    "\n",
    "&emsp; Portanto, uma cartela de tíquetes vermelhos é igual a:\n",
    "\n",
    "$$\n",
    "9\\,v = 9 \\cdot 0,70 = 6,30.\n",
    "$$\n",
    "\n",
    "&emsp; Resp.: B)\n",
    "\n",
    "&nbsp;"
   ]
  },
  {
   "cell_type": "markdown",
   "id": "520a1b49",
   "metadata": {},
   "source": [
    "#### Referências\n",
    "\n",
    "* <https://download.inep.gov.br/enem/provas_e_gabaritos/2023_PV_impresso_D2_CD12.pdf#page=16>\n",
    "\n",
    "&nbsp;"
   ]
  }
 ],
 "metadata": {
  "kernelspec": {
   "display_name": "base",
   "language": "python",
   "name": "python3"
  },
  "language_info": {
   "name": "python",
   "version": "3.12.1"
  }
 },
 "nbformat": 4,
 "nbformat_minor": 5
}
