{
 "cells": [
  {
   "cell_type": "markdown",
   "id": "d4c9fed8",
   "metadata": {},
   "source": [
    "<sup>Fundamentos de Matemática</sup>\n",
    "<img alt=\"\" width=\"100%\" height=\"2px\" align=\"right\">\n",
    "\n",
    "&nbsp;\n",
    "\n",
    "<h1 align=\"center\">\\sistemas-lineares\\exercicios-resolvidos</h1>\n",
    "<h4 align=\"center\">Prof. Eduardo Ono</h4>\n",
    "<h6 align=\"center\">Atualizado em: 11/05/2025</h6>\n",
    "\n",
    "&nbsp;\n",
    "\n",
    "&emsp; Tópico: Sistemas Lineares com frações\n",
    "\n",
    "&nbsp;"
   ]
  },
  {
   "cell_type": "markdown",
   "id": "f74913dd",
   "metadata": {},
   "source": [
    "\n",
    "\n",
    "$$\n",
    "\\left\\{\n",
    "  \\begin{matrix}\n",
    "  \\ \\cfrac{x}{4} & + & \\cfrac{3y}{2} & = & \\cfrac{9}{4} \\\\[10pt]\n",
    "  \\ x & + & 2y & = &5\n",
    "  \\end{matrix}\n",
    "\\right.\n",
    "$$"
   ]
  },
  {
   "cell_type": "markdown",
   "id": "ed4ee138",
   "metadata": {},
   "source": [
    "__RESOLUÇÃO__\n",
    "\n",
    "Igualando os denominadores da equação $\\text{(I)}$:\n",
    "\n",
    "$$\n",
    "\\left\\{\n",
    "  \\begin{matrix}\n",
    "  \\ \\cfrac{x}{4} & + & \\cfrac{2 \\cdot 3y}{4} & = & \\cfrac{9}{4} \\\\[10pt]\n",
    "  \\ x & + & 2y & = &5\n",
    "  \\end{matrix}\n",
    "\\right.\n",
    "\\quad \\implies \\quad\n",
    "\\left\\{\n",
    "  \\begin{matrix}\n",
    "  \\ x & + & 6y & = & 9 \\\\\n",
    "  \\ x & + & 2y & = &5\n",
    "  \\end{matrix}\n",
    "\\right.\n",
    "$$\n",
    "\n",
    "$$\n",
    "\\\\\\\n",
    "\\text{(II)} \\leftarrow (-1) \\cdot \\text{(II)} \\\\\\\n",
    "\\\\\\\n",
    "\\left\\{\n",
    "  \\begin{matrix}\n",
    "  \\ x & + & 6y & = & 9 \\\\\n",
    "  \\ -x & + & -2y & = & -5\n",
    "  \\end{matrix}\n",
    "\\right.\n",
    "\\\\\\\n",
    "\\\\\\\n",
    "\\text{(I)} + \\text{(II)}: \\\\\\\n",
    "\\\\\\\n",
    "4y = 4 \\implies y = 1\n",
    "$$\n",
    "\n",
    "$$\n",
    "\\text{Substituindo $y$ em (II)}: \\\\\\\n",
    "\\\\\\\n",
    "x + 2y = 5 \\implies x + 2 \\cdot 1 = 5 \\\\\n",
    "x = 5 - 2 \\implies x = 3\n",
    "$$\n",
    "\n",
    "$$\n",
    "\\quad \\text{Resp.:} \\quad S = \\{ (3, 1) \\}\n",
    "\\quad\\text{ou}\\quad\n",
    "\\begin{bmatrix}\n",
    "x \\\\\n",
    "y\n",
    "\\end{bmatrix}\n",
    "=\n",
    "\\begin{bmatrix}\n",
    "3 \\\\\n",
    "1\n",
    "\\end{bmatrix}\n",
    "$$\n",
    "\n",
    "&nbsp;"
   ]
  },
  {
   "cell_type": "markdown",
   "id": "e7fd8c1b",
   "metadata": {},
   "source": [
    "__REFERÊNCIAS__\n",
    "\n",
    "| Thumb | Descrição |\n",
    "| :-: | --- |\n",
    "| ![img](https://img.youtube.com/vi/Mh9jsgAc614/default.jpg) | <sup>[Gis com Giz Matemática]</sup><br>[__SISTEMA DE EQUAÇÕES COM FRAÇÃO__](https://www.youtube.com/watch?v=Mh9jsgAc614)<br><sub>(22:50, YouTube, 23/Set/2024)</sub> |\n"
   ]
  }
 ],
 "metadata": {
  "kernelspec": {
   "display_name": "base",
   "language": "python",
   "name": "python3"
  },
  "language_info": {
   "name": "python",
   "version": "3.12.1"
  }
 },
 "nbformat": 4,
 "nbformat_minor": 5
}
