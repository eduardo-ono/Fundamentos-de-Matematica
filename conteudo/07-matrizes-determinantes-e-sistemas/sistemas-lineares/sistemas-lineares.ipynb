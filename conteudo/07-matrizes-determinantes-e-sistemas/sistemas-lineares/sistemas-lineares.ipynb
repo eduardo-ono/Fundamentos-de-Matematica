{
 "cells": [
  {
   "cell_type": "markdown",
   "id": "a9aff4e7",
   "metadata": {},
   "source": [
    "| Thumb | Descrição |\n",
    "| :-: | --- |\n",
    "| ![img](https://img.youtube.com/vi/E0sm1uxYWss/default.jpg) | <sup>[Matemática em Exercícios]</sup><br>[__Sistemas Lineares - Aula 1 - Sistemas 2x2 - Prof. Gui__](https://www.youtube.com/watch?v=E0sm1uxYWss)<br><sub>(hh:19:58, YouTube, 24/Fev/2016)</sub> |\n"
   ]
  }
 ],
 "metadata": {
  "language_info": {
   "name": "python"
  }
 },
 "nbformat": 4,
 "nbformat_minor": 5
}
