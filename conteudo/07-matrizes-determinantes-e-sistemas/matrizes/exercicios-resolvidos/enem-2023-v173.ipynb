{
 "cells": [
  {
   "cell_type": "markdown",
   "id": "24304332",
   "metadata": {},
   "source": [
    "__ENEM-2023-v173__. &nbsp; Uma pessoa pratica quatro atividades físicas — caminhar, correr, andar de bicicleta e jogar futebol — como parte de seu programa de emagrecimento. Essas atividades são praticadas semanalmente de acordo com o quadro, que apresenta o número de horas diárias por atividade.\n",
    "\n",
    "| Dias da semana | Caminhar | Correr | Andar de bicicleta | Jogar futebol |\n",
    "|:--------------:|:--------:|:------:|:------------------:|:-------------:|\n",
    "| Segunda-feira  |   1,0    |  0,5   |        0,0         |      2,0      |\n",
    "|  Terça-feira   |   0,5    |  1,0   |        0,5         |      1,0      |\n",
    "|  Quarta-feira  |   0,0    |  1,5   |        1,0         |      0,5      |\n",
    "|  Quinta-feira  |   0,0    |  2,0   |        0,0         |      0,0      |\n",
    "|  Sexta-feira   |   0,0    |  0,5   |        0,0         |      2,5      |\n",
    "\n",
    "&emsp; Ela deseja comemorar seu aniversário e escolhe o dia da semana em que o gasto calórico com as atividades físicas praticadas for o maior. Para tanto, considera que os valores dos gastos calóricos das atividades por hora (cal/h) são os seguintes:\n",
    "\n",
    "|    Atividade física    | Caminhar | Correr | Andar de bicicleta | Jogar futebol |\n",
    "|:----------------------:|:--------:|:------:|:------------------:|:-------------:|\n",
    "| Gasto calórico (cal/h) |   248    |  764   |        356         |      492      |\n",
    "\n",
    "O dia da semana em que será comemorado o aniversário é\n",
    "\n",
    "A) &nbsp; segunda-feira.<br>\n",
    "B) &nbsp; terça-feira.<br>\n",
    "C) &nbsp; quarta-feira. &nbsp;&check;<br>\n",
    "D) &nbsp; quinta-feira.<br>\n",
    "E) &nbsp; sexta-feira.<br>\n"
   ]
  },
  {
   "cell_type": "markdown",
   "id": "de3f2888",
   "metadata": {},
   "source": [
    "__RESOLUÇÃO__.\n",
    "\n",
    "$$\n",
    "\\begin{bmatrix}\n",
    "1,0 & 0,5 & 0,0 & 2,0 \\\\\n",
    "0,5 & 1,0 & 0,5 & 1,0 \\\\\n",
    "0,0 & 1,5 & 1,0 & 0,5 \\\\\n",
    "0,0 & 2,0 & 0,0 & 0,0 \\\\\n",
    "0,0 & 0,5 & 0,0 & 2,5\n",
    "\\end{bmatrix}\n",
    "\\cdot\n",
    "\\begin{bmatrix}\n",
    "248 \\\\\n",
    "764 \\\\\n",
    "356 \\\\\n",
    "492\n",
    "\\end{bmatrix}\n",
    "=\n",
    "$$\n",
    "\n",
    "$$\n",
    "=\n",
    "\\begin{bmatrix}\n",
    "1,0 \\cdot 248 & + & 0,5 \\cdot 764 & + & 0,0 \\cdot 356 & + & 2,0 \\cdot 492 \\\\\n",
    "0,5 \\cdot 248 & + & 1,0 \\cdot 764 & + & 0,5 \\cdot 356 & + & 1,0 \\cdot 492 \\\\\n",
    "0,0 \\cdot 248 & + & 1,5 \\cdot 764 & + & 1,0 \\cdot 356 & + & 0,5 \\cdot 492 \\\\\n",
    "0,0 \\cdot 248 & + & 2,0 \\cdot 764 & + & 0,0 \\cdot 356 & + & 0,0 \\cdot 492 \\\\\n",
    "0,0 \\cdot 248 & + & 0,5 \\cdot 764 & + & 0, 0 \\cdot 356 & + & 2,5 \\cdot 492\n",
    "\\end{bmatrix}\n",
    "=\n",
    "\\begin{bmatrix}\n",
    "1614 \\\\\n",
    "1558 \\\\\n",
    "\\boxed{\\,1748\\,} \\\\\n",
    "1528 \\\\\n",
    "1612\n",
    "\\end{bmatrix}\n",
    "$$\n",
    "\n",
    "&emsp; Resposta: C)\n"
   ]
  },
  {
   "cell_type": "markdown",
   "id": "f95a83ed",
   "metadata": {},
   "source": [
    "### Referências\n",
    "\n",
    "* <https://download.inep.gov.br/enem/provas_e_gabaritos/2023_PV_impresso_D2_CD12.pdf#page=29>\n"
   ]
  }
 ],
 "metadata": {
  "kernelspec": {
   "display_name": "base",
   "language": "python",
   "name": "python3"
  },
  "language_info": {
   "name": "python",
   "version": "3.12.1"
  }
 },
 "nbformat": 4,
 "nbformat_minor": 5
}
