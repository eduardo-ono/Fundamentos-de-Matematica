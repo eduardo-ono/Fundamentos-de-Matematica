{
 "cells": [
  {
   "cell_type": "markdown",
   "id": "5cb1096b",
   "metadata": {},
   "source": [
    "__ENEM-2019-v140__. &nbsp; Um professor aplica, durante os cinco dias úteis de uma semana, testes com quatro questões de múltipla escolha a cinco alunos. Os resultados foram representados na matriz.\n",
    "\n",
    "$$\n",
    "\\begin{bmatrix}\n",
    "3 & 2 & 0 & 1 & 2 \\\\\n",
    "3 & 2 & 4 & 1 & 2 \\\\\n",
    "2 & 2 & 2 & 3 & 2 \\\\\n",
    "3 & 2 & 4 & 1 & 0 \\\\\n",
    "0 & 2 & 0 & 4 & 4\n",
    "\\end{bmatrix}\n",
    "$$\n",
    "\n",
    "&emsp; Nessa matriz os elementos das linhas de 1 a 5 representam as quantidades de questões acertadas\n",
    "pelos alunos Ana, Bruno, Carlos, Denis e Érica, respectivamente, enquanto que as colunas de 1 a 5 indicam os dias da semana, de segunda-feira a sexta-feira, respectivamente, em que os testes foram aplicados.\n",
    "\n",
    "&emsp; O teste que apresentou maior quantidade de acertos foi o aplicado na\n",
    "\n",
    "A)&nbsp; segunda-feira. &check;<br>\n",
    "B)&nbsp; terça-feira.<br>\n",
    "C)&nbsp; quarta-feira.<br>\n",
    "D)&nbsp; quinta-feira.<br>\n",
    "E)&nbsp; sexta-feira.<br>\n",
    "\n",
    "&nbsp;"
   ]
  },
  {
   "cell_type": "markdown",
   "id": "944174b4",
   "metadata": {},
   "source": [
    "__REFERÊNCIAS__\n",
    "\n",
    "* <https://download.inep.gov.br/educacao_basica/enem/provas/2019/2019_PV_impresso_D2_CD12.pdf#page=18>"
   ]
  }
 ],
 "metadata": {
  "kernelspec": {
   "display_name": "base",
   "language": "python",
   "name": "python3"
  },
  "language_info": {
   "name": "python",
   "version": "3.12.1"
  }
 },
 "nbformat": 4,
 "nbformat_minor": 5
}
