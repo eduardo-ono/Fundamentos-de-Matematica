{
 "cells": [
  {
   "cell_type": "markdown",
   "id": "c50f5590",
   "metadata": {},
   "source": [
    "\n",
    "\n",
    "| Thumb | Descrição |\n",
    "| :-: | --- |\n",
    "| ![img](https://img.youtube.com/vi/AtAMiupOot8/default.jpg) | <sup>[Principia Matemática]</sup><br>[__Por que o círculo tem 360 graus? Entenda em 360 segundos.__](https://www.youtube.com/watch?v=AtAMiupOot8)<br><sub>(5:57, YouTube, 24/Mai/2025)</sub> |\n"
   ]
  }
 ],
 "metadata": {
  "kernelspec": {
   "display_name": "base",
   "language": "python",
   "name": "python3"
  },
  "language_info": {
   "name": "python",
   "version": "3.12.1"
  }
 },
 "nbformat": 4,
 "nbformat_minor": 5
}
