{
 "cells": [
  {
   "cell_type": "markdown",
   "metadata": {},
   "source": [
    "<sup>Fundamentos de Matemática</sup>\n",
    "<img alt=\"\" width=\"100%\" height=\"2px\" align=\"right\">\n",
    "\n",
    "&nbsp;\n",
    "\n",
    "<h1 align=\"center\">Polígonos</h1>\n",
    "<h4 align=\"center\">Prof. Eduardo Ono</h4>\n",
    "<h6 align=\"center\">Atualizado em: 06/03/2025</h6>"
   ]
  },
  {
   "cell_type": "markdown",
   "metadata": {},
   "source": [
    "# Polígonos Regulares"
   ]
  },
  {
   "cell_type": "markdown",
   "metadata": {},
   "source": [
    "DEFINIÇÃO.\n",
    "\n"
   ]
  },
  {
   "cell_type": "markdown",
   "metadata": {},
   "source": [
    "Propriedades:\n",
    "\n",
    "* São equiláteros e equiângulos;\n",
    "* Possuem simetria e regularidade;\n",
    "* Dado um polígono regular, existe uma circunferência que tangencia todos os lados.\n",
    "\n",
    "Exemplos: quadrado, hexágono regular, octógono regular."
   ]
  },
  {
   "cell_type": "markdown",
   "metadata": {},
   "source": [
    "__Exemplos__:\n",
    "\n",
    "&emsp; Hexágono regular:\n",
    "\n",
    "<svg height=\"500\" width=\"500\" xmlns=\"http://www.w3.org/2000/svg\">\n",
    "  <polygon\n",
    "    points=\"75,15 225,15 300,150 220,290 80,290 0,150\"\n",
    "    stroke=\"black\"\n",
    "    stroke-width=\"1\"\n",
    "    fill=\"white\"\n",
    "    transform=\"translate(50 50)\"\n",
    "  />\n",
    "  <text x=\"20\" y=\"60\" dx=\"60\" dy=\"54\" style=\"font-family:arial\">\n",
    "    <tspan x=\"0\" y=\"90\" style=\"font-size:12px; fill:grey\">120°</tspan>\n",
    "  </text>\n",
    "</svg> "
   ]
  },
  {
   "cell_type": "markdown",
   "metadata": {},
   "source": [
    "# Polígonos Irregulares"
   ]
  },
  {
   "cell_type": "markdown",
   "metadata": {},
   "source": [
    "Propriedades:\n",
    "\n",
    "* Possuem variados formatos;\n",
    "* Não possuem todos os lados congruentes ou não possuem todos os ângulos congruentes.\n",
    "\n",
    "Exemplos: trapézios, triângulos escalenos, pentágonos não regulares."
   ]
  },
  {
   "cell_type": "markdown",
   "metadata": {},
   "source": [
    "> (Geometria e Medidas - EM13MAT506) Representar graficamente a variação da área e do perímetro de\n",
    "um polígono regular quando os comprimentos de seus lados variam, analisando e\n",
    "classificando as funções envolvidas."
   ]
  },
  {
   "cell_type": "markdown",
   "metadata": {},
   "source": [
    "## Triângulo regular"
   ]
  },
  {
   "cell_type": "markdown",
   "metadata": {},
   "source": [
    "<svg height=\"220\" width=\"500\" xmlns=\"http://www.w3.org/2000/svg\">\n",
    "  <polygon points=\"115,0 230,200 0,200\" style=\"fill:white;stroke-width:3\" />\n",
    "</svg>\n",
    "\n",
    "$$\n",
    "\\begin{align*}\n",
    "n & = 3 \\\\\n",
    "S_\\alpha & = 180° \\\\\n",
    "\\alpha & = 60°\n",
    "\n",
    "\\end{align*}\n",
    "$$\n"
   ]
  },
  {
   "cell_type": "markdown",
   "metadata": {},
   "source": [
    "## Quadrado\n",
    "\n",
    "<svg height=\"220\" width=\"500\" xmlns=\"http://www.w3.org/2000/svg\">\n",
    "  <polygon points=\"0,0 200,0 200,200 0,200\"\n",
    "    style=\"fill:white;stroke-width:3\"\n",
    "    transform=\"translate(20,20)\"\n",
    "  />\n",
    "</svg>\n"
   ]
  },
  {
   "cell_type": "markdown",
   "metadata": {},
   "source": [
    "| $n$ | $S_n$ | $\\alpha_n$ |\n",
    "| :-: | :-: | :-: |\n",
    "| 3 | 180° | 60° |\n",
    "| 4 | 360° | 90° |\n",
    "| 5 | 540° | 108° |\n",
    "| 6 | 720° | 120° |\n",
    "| 7 | 900° | 128.57° |\n",
    "| 8 | 1080° | 135° |\n",
    "| 9 | 1260° | 140° |\n",
    "| 10 | 1440° | 144° |\n",
    "| 11 | 1620° | 147.27° |\n",
    "| 12 | 1800° | 150° |\n",
    "| 13 | 1980° | 152.31° |\n",
    "| 14 | 2160° | 154.29° |\n",
    "| 15 | 2340° | 156.00° |\n",
    "| 16 | 2520° | 157.50° |\n",
    "| 17 | 2700° | 158.82° |\n",
    "| 18 | 2880° | 160.00° |\n",
    "| 19 | 3060° | 161.05° |\n",
    "| 20 | 3240° | 162.00° |\n",
    "| $\\vdots$ | $\\vdots$ | $\\vdots$ |\n",
    "| $n$ | $180\\,(n - 2)$ | $\\cfrac{S_n}{n} = \\cfrac{180\\,(n - 2)}{n}$ |\n",
    "| $\\vdots$ | $\\vdots$ | $\\vdots$ |\n",
    "| $\\infty$ | $\\infty$° | 180° |\n"
   ]
  },
  {
   "cell_type": "markdown",
   "metadata": {},
   "source": [
    "## Áreas de Polígonos Regulares"
   ]
  },
  {
   "cell_type": "markdown",
   "metadata": {},
   "source": [
    "### Triângulo Equilátero"
   ]
  },
  {
   "cell_type": "markdown",
   "metadata": {},
   "source": [
    "$\\text{Área } = cfrac{\\base \\cdit }{\\altura}"
   ]
  },
  {
   "cell_type": "markdown",
   "metadata": {},
   "source": [
    "\n",
    "## Referências\n",
    "\n",
    "* <https://brasilescola.uol.com.br/matematica/classificacao-dos-poligonos.htm>"
   ]
  }
 ],
 "metadata": {
  "language_info": {
   "name": "python"
  }
 },
 "nbformat": 4,
 "nbformat_minor": 2
}
