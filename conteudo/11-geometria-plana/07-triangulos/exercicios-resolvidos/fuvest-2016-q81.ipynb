{
 "cells": [
  {
   "cell_type": "markdown",
   "id": "d999b47f",
   "metadata": {},
   "source": [
    "| Thumb | Descrição |\n",
    "| :-: | --- |\n",
    "| ![img](https://img.youtube.com/vi/MtddVQCwxz8/default.jpg) | <sup>[cesar rosa]</sup><br>[__FUVEST 2016 - Questão 81 de Geometria__](https://www.youtube.com/watch?v=MtddVQCwxz8)<br><sub>(8:38, YouTube, 31/Jan/2017)</sub> |"
   ]
  }
 ],
 "metadata": {
  "kernelspec": {
   "display_name": "base",
   "language": "python",
   "name": "python3"
  },
  "language_info": {
   "name": "python",
   "version": "3.12.1"
  }
 },
 "nbformat": 4,
 "nbformat_minor": 5
}
