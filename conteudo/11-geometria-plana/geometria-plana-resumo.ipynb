{
 "cells": [
  {
   "cell_type": "code",
   "execution_count": 32,
   "metadata": {},
   "outputs": [],
   "source": [
    "import matplotlib.pyplot as plt\n",
    "\n",
    "plt.rcParams['figure.figsize'] = [4, 3]"
   ]
  },
  {
   "cell_type": "markdown",
   "metadata": {},
   "source": [
    "## Pontos Notáveis do Triângulo"
   ]
  },
  {
   "cell_type": "markdown",
   "metadata": {},
   "source": [
    "| Ponto | Intersecção das três... | Nota |\n",
    "| :-- | :-- | :-- |\n",
    "| Baricentro | Medianas | O baricentro é o centro de massa (gravidade) do triângulo. |\n",
    "| Incentro | Bissetrizes internas | Centro da circunferência inscrita no triângulo. |\n",
    "| Circuncentro | Mediatrizes | Centro da circunferência circunscrita ao triângulo. |\n",
    "| Ortocentro | Retas suportes das alturas | |"
   ]
  },
  {
   "cell_type": "markdown",
   "metadata": {},
   "source": [
    "## Polígonos"
   ]
  },
  {
   "cell_type": "markdown",
   "metadata": {},
   "source": [
    "DEFINIÇÃO. Seja uma sequência $s = (A_1, A_2, ..., A_n)$ de pontos distintos no plano com $n \\ge 3$, onde três pontos consecutivos $(A_{n-1}, A_n, A_{n+1})$ são não colineares.\n",
    "Chama-se de __polígono P__ a união dos segmentos $\\overline{A_1 A_2} \\,, \\ \\overline{A_2 A_3} \\,, \\ ... \\,, \\ \\overline{A_{n-1} A_n} \\,, \\ \\overline{A_n A_1}$ , ou seja,\n",
    "\n",
    "$$P=\\overline{A_1 A_2} \\ \\cup \\ \\overline{A_2 A_3} \\ \\cup \\ ... \\ \\cup \\ \\overline{A_{n-1} A_n} \\ \\cup \\ \\overline{A_n A_1}$$\n",
    "\n",
    "$P$ é comumente denotado como\n",
    "\n",
    "$$P = A_1A_2 \\, ... \\, A_n$$\n",
    "\n",
    "Os pontos $A_1 \\,, A_2 \\,, ... \\,, A_n$ são chamados __vértices__ do polígono.\n",
    "\n",
    "Os segmentos $A_1 A_2 \\,, A_2 A_3 \\,, ... \\,, A_{n-1} A_n \\,, A_n A_1$ são chamados __lados__ do polígono.\n",
    "\n",
    "Os ângulos $\\hat{A}_1 = A_n \\hat{A}_1 A_2 \\,$, $\\hat{A}_2 = A_1 \\hat{A}_2 A_3 \\,$ , ... , $\\hat{A}_n = A_{n-1} \\hat{A}_n A_1$ são os ângulos (internos) do polígono."
   ]
  },
  {
   "cell_type": "markdown",
   "metadata": {},
   "source": [
    "### Classificação de Polígonos"
   ]
  },
  {
   "cell_type": "markdown",
   "metadata": {},
   "source": [
    "Um polpigono é dito __simples__ se, e somente se, a interseção de quaisquer dois lados não consecutivos é vazia."
   ]
  },
  {
   "cell_type": "code",
   "execution_count": 34,
   "metadata": {
    "tags": [
     "hide_code"
    ]
   },
   "outputs": [
    {
     "data": {
      "image/png": "[encoded data removed]",
      "text/plain": [
       "<Figure size 400x300 with 1 Axes>"
      ]
     },
     "metadata": {},
     "output_type": "display_data"
    }
   ],
   "source": [
    "vertices = [(0, 0, 'A1'), (0, 1, 'A2'), (1, 1.5, 'A3'), (1.5, 0.5, 'A4'), (0.5, 0, 'A5'), (0, 0, '')]\n",
    "x_values = []\n",
    "y_values = []\n",
    "for point in vertices:\n",
    "    x, y, label = point\n",
    "    x_values.append(x)\n",
    "    y_values.append(y)\n",
    "    index = vertices.index(point)\n",
    "    next_point = point \n",
    "    if index < len(vertices) - 1:\n",
    "         x_next, y_next, label_next = vertices[index + 1]\n",
    "    plt.annotate(\n",
    "        label,\n",
    "        (x, y),\n",
    "        textcoords='offset points',\n",
    "        xytext=(-10, -4) if x == x_next else (0, 8), # distance from text to points (x, y)\n",
    "        ha='center'\n",
    "    )\n",
    "plt.plot(x_values, y_values)\n",
    "plt.axis('off')\n",
    "plt.show()"
   ]
  },
  {
   "cell_type": "code",
   "execution_count": null,
   "metadata": {},
   "outputs": [],
   "source": []
  }
 ],
 "metadata": {
  "kernelspec": {
   "display_name": "base",
   "language": "python",
   "name": "python3"
  },
  "language_info": {
   "codemirror_mode": {
    "name": "ipython",
    "version": 3
   },
   "file_extension": ".py",
   "mimetype": "text/x-python",
   "name": "python",
   "nbconvert_exporter": "python",
   "pygments_lexer": "ipython3",
   "version": "3.12.1"
  }
 },
 "nbformat": 4,
 "nbformat_minor": 2
}
