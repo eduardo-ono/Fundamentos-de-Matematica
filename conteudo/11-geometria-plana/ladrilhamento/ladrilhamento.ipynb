{
 "cells": [
  {
   "cell_type": "markdown",
   "metadata": {},
   "source": []
  },
  {
   "cell_type": "markdown",
   "metadata": {},
   "source": [
    "## Ladrilhamentos \"bem comportados\""
   ]
  },
  {
   "cell_type": "markdown",
   "metadata": {},
   "source": [
    "1. Os ladrilhos usados são polígonos regulares, podendo ter todos a mesma quantidade de lados ou\n",
    "não.\n",
    "2. O encontro de dois ladrilhos adjacentes sempre será entre seus vértices ou seus lados (o lado de\n",
    "um polígono nunca se encontra com o vértice de outro).\n",
    "3. A configuração de polígonos em torno de um vértice é sempre a mesma (os polígonos usados em\n",
    "torno de todos os vértices são os mesmos, sendo relevante a ordem em que se dispõem)."
   ]
  },
  {
   "cell_type": "markdown",
   "metadata": {},
   "source": [
    "## Referências\n",
    "\n",
    "* <https://pmo.sbm.org.br/wp-content/uploads/sites/5/sites/5/2023/02/art1_vol11_SBM_PMO_2023.pdf>\n",
    "\n",
    "* <https://brasilescola.uol.com.br/matematica/classificacao-dos-poligonos.htm>\n",
    "\n",
    "* <https://rpm.org.br/cdrpm/40/1.htm>\n",
    "\n",
    "* <https://www.youtube.com/watch?v=cLeXVCTeihk>"
   ]
  }
 ],
 "metadata": {
  "kernelspec": {
   "display_name": "base",
   "language": "python",
   "name": "python3"
  },
  "language_info": {
   "name": "python",
   "version": "3.12.1"
  }
 },
 "nbformat": 4,
 "nbformat_minor": 2
}
