{
 "cells": [
  {
   "cell_type": "markdown",
   "metadata": {},
   "source": [
    "<hr>\n",
    "TEOREMA (Binomial).\n",
    "<hr>\n",
    "\n",
    "&emsp; &emsp; O desenvolvimento de $\\, (x + a)^n \\,$ para $\\, x, a \\in \\R \\,$ e $\\, n \\in \\N \\,$ é dado por:\n",
    "\n",
    "$$\n",
    "\\\\[10pt]\n",
    "(x + a)^n = \\binom{n}{0} \\, x^n + \\binom{n}{1} \\, x^{n - 1} \\, a + \\binom{n}{n - 2} \\, x^{n - 2} \\, a^2 + \\ldots + \\binom{n}{p} \\, x^{n - p} \\, a^p + \\ldots + \\binom{n}{n} \\, a^n\n",
    "\\\\[12pt]\n",
    "$$\n",
    "\n",
    "&emsp; &emsp; O termo $\\, \\binom{n}{p} \\, x^{n - p} \\, a^p \\,$ é denominado _termo geral_, pois fazendo $\\, p = 0, 1, 2, \\ldots, n \\,$ obtemos todos os termos do desenvolvimento.\n",
    "\n",
    "&emsp; &emsp; Assim sendo, podemos escrever o desenvolvimento através do somatório:\n",
    "\n",
    "$$\n",
    "\\\\[10pt]\n",
    "\\boxed{\\ (x + a)^n = \\sum_{p=0}^{n} {\\binom{n}{p} \\, x^{n - p} \\, a^p} \\ }\n",
    "\\\\[12pt]\n",
    "$$\n"
   ]
  },
  {
   "cell_type": "markdown",
   "metadata": {},
   "source": []
  },
  {
   "cell_type": "markdown",
   "metadata": {},
   "source": [
    "Exemplo.\n",
    "\n"
   ]
  },
  {
   "cell_type": "markdown",
   "metadata": {},
   "source": []
  }
 ],
 "metadata": {
  "kernelspec": {
   "display_name": "base",
   "language": "python",
   "name": "python3"
  },
  "language_info": {
   "name": "python",
   "version": "3.12.1"
  }
 },
 "nbformat": 4,
 "nbformat_minor": 2
}
