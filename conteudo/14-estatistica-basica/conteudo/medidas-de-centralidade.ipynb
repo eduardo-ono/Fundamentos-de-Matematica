{
 "cells": [
  {
   "cell_type": "markdown",
   "metadata": {},
   "source": [
    "<sup>Fundamentos de Matemática</sup>\n",
    "<img alt=\"\" width=\"100%\" height=\"2px\" align=\"right\">\n",
    "\n",
    "&nbsp;\n",
    "\n",
    "<h1 align=\"center\">Medidas de Centralidade</h1>\n",
    "<h4 align=\"center\">Prof. Eduardo Ono</h4>\n",
    "<h6 align=\"center\">Atualizado em: 14/01/2025</h6>"
   ]
  },
  {
   "cell_type": "markdown",
   "metadata": {},
   "source": [
    "Os valores comumente utilizados para medidas de centralidade são:\n",
    "\n",
    "* Média\n",
    "* Mediana\n",
    "* Moda."
   ]
  },
  {
   "cell_type": "markdown",
   "metadata": {},
   "source": [
    "## Média Aritmética"
   ]
  },
  {
   "cell_type": "markdown",
   "metadata": {},
   "source": [
    "Seja $x$ uma variável quantitativa e $x_1, x_2, \\cdots, x_n$ os valores assumidos por $x$. Define-se a média aritmética de $x$, denotada por $\\overline{x}$, como a divisão da soma de todos os valores assumidos por $x$ pelo número total de valores, ou seja: \n",
    "\n",
    "$$\n",
    "\\overline{x} = \\cfrac{x_1 + x_2 + x_3 + \\cdots + x_n}{n} = \\cfrac{\\sum_{i = 1}^{n}{x_i}}{n}\n",
    "$$"
   ]
  },
  {
   "cell_type": "markdown",
   "metadata": {},
   "source": [
    "Exemplo:\n",
    "\n",
    "Um aluno fez três provas nas quais obteve as notas 7,5, 5,0 e 8,5. Considerando que a variável quantitativa $p$ representa a nota das provas, a nota média é dada por:\n",
    "\n",
    "$$\n",
    "\\overline{p} = \\cfrac{\\sum_{i=1}^{3}{p_i}}{3} = \\cfrac{7,5 + 5,0 + 8,5}{3} = \\cfrac{21}{3} = 7,0.\n",
    "$$"
   ]
  }
 ],
 "metadata": {
  "language_info": {
   "name": "python"
  }
 },
 "nbformat": 4,
 "nbformat_minor": 2
}
