{
 "cells": [
  {
   "cell_type": "markdown",
   "metadata": {
    "slideshow": {
     "slide_type": "slide"
    }
   },
   "source": [
    "$$ \\text{------\\{ Módulo ? \\}------} $$\n",
    "$$ \\text{\\large Geometria Plana} $$\n",
    "\n",
    "---\n",
    "\n",
    "$$\n",
    "\\ \\\\[18pt]\n",
    "\\text{\\LARGE Capítulo ?} \\\\\n",
    "\\text{\\LARGE Áreas de Superfícies Planas} \\\\[18pt]\n",
    "\\textbf{Prof. Eduardo Ono} \\\\[8pt]\n",
    "\\text{Atualizado em: 05/05/2024}\n",
    "$$"
   ]
  },
  {
   "cell_type": "markdown",
   "metadata": {},
   "source": [
    "**Sumário**<a id='toc0_'></a>    \n",
    "- 1. [Conceitos](#toc1_)    \n",
    "  - 1.1. [Definição. (Área de uma figura plana)](#toc1_1_)    \n",
    "    - 1.1.1. [Vídeos de Apoio](#toc1_1_1_)    \n",
    "- 2. [Áreas de Polígonos](#toc2_)    \n",
    "  - 2.1. [Retângulo](#toc2_1_)    \n",
    "  - 2.2. [Paralelogramo](#toc2_2_)    \n",
    "  - 2.3. [Quadrado](#toc2_3_)    \n",
    "  - 2.4. [Triângulo](#toc2_4_)    \n",
    "    - 2.4.1. [Fórmula de Herão (Heron)](#toc2_4_1_)    \n",
    "  - 2.5. [Triângulo Equilátero](#toc2_5_)    \n",
    "\n",
    "<!-- vscode-jupyter-toc-config\n",
    "\tnumbering=true\n",
    "\tanchor=true\n",
    "\tflat=false\n",
    "\tminLevel=1\n",
    "\tmaxLevel=5\n",
    "\t/vscode-jupyter-toc-config -->\n",
    "<!-- THIS CELL WILL BE REPLACED ON TOC UPDATE. DO NOT WRITE YOUR TEXT IN THIS CELL -->"
   ]
  },
  {
   "cell_type": "markdown",
   "metadata": {},
   "source": [
    "# 1. <a id='toc1_'></a>[Conceitos](#toc0_)"
   ]
  },
  {
   "cell_type": "markdown",
   "metadata": {},
   "source": [
    "## 1.1. <a id='toc1_1_'></a>[Definição. (Área de uma figura plana)](#toc0_)\n",
    "\n",
    "&emsp; &emsp; A noção de área de uma figura plana corresponde à medida da superfície ocupada por essa figura no plano.\n",
    "\n",
    "&emsp; &emsp; __`Definição.`__ &nbsp; Seja $P$ uma figura plana. A essa figura iremos associar um número real $a(P)$, denominado __área__ de $P$, que possui as seguintes propriedades:\n",
    "\n",
    "$$\n",
    "\\begin{align*}\n",
    "\\text{[A1]}& \\quad a(P) > 0 \\\\\n",
    "\\text{[A2]}& \\quad a(P) \\text{ independe da posição da figura $P$ no plano} \\\\\n",
    "\\text{[A3]}& \\quad \\text{Se a figura $P$ for decomposta em duas figuras $P_1$ e $P_2$ que não se sobreponham, então } a(P) = a(P_1) + a(P_2) \\\\\n",
    "\\text{[A1] + [A3] $\\to$ [A4]}& \\quad P \\varsubsetneq Q \\implies a(P) < a(Q) \\\\\n",
    "\\end{align*}\n",
    "$$\n",
    "\n",
    "&emsp; &emsp; <sub>Fonte: [Cortes de Matemática e Física] [__COMO DEFINIR A ÁREA EM MATEMÁTICA | Elon Lages Lima__](https://www.youtube.com/watch?v=rjPLr4sDHFo), 2022.</sub>"
   ]
  },
  {
   "cell_type": "markdown",
   "metadata": {},
   "source": [
    "### 1.1.1. <a id='toc1_1_1_'></a>[Vídeos de Apoio](#toc0_)\n",
    "\n",
    "| Thumb | Descrição |\n",
    "| --- | --- |\n",
    "| ![img](https://img.youtube.com/vi/THUe2qTZsLM/default.jpg) | <sup>[Instituto de Matemática Pura e Aplicada]</sup><br>[__PAPMEM - Julho de 2002 - Pontos, Retas e Planos__](https://www.youtube.com/watch?v=THUe2qTZsLM)<br><sub>(1:20:58, YouTube, 04/Mai/2018)</sub> |\n"
   ]
  },
  {
   "cell_type": "markdown",
   "metadata": {},
   "source": [
    "# 2. <a id='toc2_'></a>[Áreas de Polígonos](#toc0_)"
   ]
  },
  {
   "cell_type": "markdown",
   "metadata": {},
   "source": [
    "## 2.1. <a id='toc2_1_'></a>[Retângulo](#toc0_)\n",
    "\n",
    "&emsp; &emsp; Dado o retângulo $R(b, h)$ de base $b$ e altura $h$. Fixado o quadrado unitário $a(1, 1)$ de área igual a 1, a área $A_R$ do retângulo é dada por:\n",
    "\n",
    "$$ \\boxed{\\, A_R = a \\cdot b \\,} $$\n",
    "\n",
    "$$ A_R = \\frac{R(b, h)}{Q(1, 1)} = {b \\over 1} \\cdot {h \\over 1} \\implies \\boxed{\\ A_R = b \\cdot h \\ } $$\n",
    "\n",
    "$$ A_R = a(x, y) = a(x \\cdot 1, y \\cdot 1) = x y \\cdot a(1, 1) = x y \\cdot 1 = x y $$"
   ]
  },
  {
   "cell_type": "markdown",
   "metadata": {},
   "source": [
    "## 2.2. <a id='toc2_2_'></a>[Paralelogramo](#toc0_)\n",
    "\n"
   ]
  },
  {
   "cell_type": "markdown",
   "metadata": {},
   "source": []
  },
  {
   "cell_type": "markdown",
   "metadata": {},
   "source": [
    "## 2.3. <a id='toc2_3_'></a>[Quadrado](#toc0_)\n",
    "\n",
    "&emsp; &emsp; O quadrado é um retângulo particular onde os lados $b$ e $h$ são iguais. Então, a área de um quadrado $Q(a)$ é dada por:\n",
    "\n",
    "$$ A_Q = a \\cdot a $$\n",
    "$$ \\therefore \\quad \\boxed{\\ A_Q = a^2 \\ } $$"
   ]
  },
  {
   "cell_type": "markdown",
   "metadata": {},
   "source": [
    "## 2.4. <a id='toc2_4_'></a>[Triângulo](#toc0_)\n",
    "\n"
   ]
  },
  {
   "cell_type": "markdown",
   "metadata": {},
   "source": [
    "### 2.4.1. <a id='toc2_4_1_'></a>[Fórmula de Herão (Heron)](#toc0_)\n",
    "\n",
    "&emsp; &emsp; A __Fórmula de Herão__ (ou __Fórmula de Heron__) permite determinar a área de um triângulo somente em função das medidas de seus lados.\n",
    "\n",
    "&emsp; &emsp; Seja $T$ um triângulo de lados $a$, $b$ e $c$. A área $A_T$ o triângulo $T$ é dada por:\n",
    "\n",
    "$$ \\boxed{\\ A_T = \\sqrt{(s-a)(s-b)(s-c)} \\ } $$\n",
    "\n",
    "onde $\\, s = \\cfrac{a + b + c}{2} \\,$ é o semiperímetro do triangulo $T$.\n",
    "\n",
    "&emsp; &emsp; __*Demonstração:*__\n",
    "\n",
    "&emsp; &emsp; Por questões de conveniência da notação, seja $b$ o maior lado do triângulo $T$ e m $m$ e $n$ as projeções dos lados $a$ e $c$, respectivamente, sobre a base $b$. Então, temos que:\n",
    "\n",
    "$$ a^2 = h^2 + m^2 \\tag 1 $$\n",
    "$$ c^2 = h^2 + n^2 \\tag 2 $$\n",
    "\n",
    "&emsp; &emsp; Como $\\,b = m + n\\,$,\n",
    "\n",
    "$$ n = b - m \\implies n^2 = (b - m)^2 = b^2 - 2 b m + m^2 $$\n",
    "\n",
    "&emsp; &emsp; Somando $h^2$ em ambos os lados da igualdade, temos:\n",
    "\n",
    "$$ h^2 + n^2 = h^2 + m^2 + b^2 - 2 b m $$\n",
    "$$ c^2 = a^2 + b^2 - 2 b m \\implies m = \\frac{a^2 + b^2 - c^2}{2b} \\implies m^2 = \\frac{(a^2 + b^2 - c^2)^2}{4b^2} $$\n",
    "\n",
    "&emsp; &emsp; Como queremos calcular $A_T = b \\cdot h$, de (1) temos que:\n",
    "\n",
    "$$\n",
    "\\begin{align*}\n",
    "  h^2 = a^2 - m^2 \\implies h^2 &= a^2 - \\frac{(a^2 + b^2 - c^2)^2}{4b^2} \\\\[8pt]\n",
    "  4b^2 \\cdot h^2 &= 4a^2b^2 - (a^2 + b^2 - c^2)^2 \\\\[8pt]\n",
    "  4b^2 \\cdot h^2 &= [2ab + (a^2 + b^2 - c^2)] \\cdot [2ab - (a^2 + b^2 - c^2)] \\\\[8pt]\n",
    "  4b^2 \\cdot h^2 &= (2ab + a^2 + b^2 - c^2) \\cdot (2ab - a^2 - b^2 + c^2) \\\\[8pt]\n",
    "  4b^2 \\cdot h^2 &= [(a^2 + 2ab + b^2) - c^2] \\cdot [c^2 - (a^2 - 2ab + b^2)] \\\\[8pt]\n",
    "  4b^2 \\cdot h^2 &= [(a + b)^2 - c^2] \\cdot [c^2 - (a - b)^2] \\\\[8pt]\n",
    "  4b^2 \\cdot h^2 &= [(a + b + c)(a + b - c)] \\cdot [(c + a - b)(c - a + b)] \\\\[8pt]\n",
    "  4b^2 \\cdot h^2 &= (a + b + c)(a - b + c)(a + b - c)(-a + b + c) \\\\\n",
    "\\end{align*}\n",
    "$$\n",
    "\n",
    "&emsp; &emsp; Adotando $\\, s = \\cfrac{a + b + c}{2} \\,$ como o semiperímetro do triângulo:\n",
    "\n",
    "$$\n",
    "\\begin{align*}\n",
    "  4b^2 \\cdot h^2 &= (a + b + c) \\cdot [a - b + c + (b - b)] \\cdot [a + b - c + (c - c)] \\cdot [-a + b + c + (a - a)] \\\\[10pt]\n",
    "  &= (a + b + c) \\cdot (a + b + c - 2b) \\cdot (a + b + c - 2c) \\cdot (a + b + c - 2a) \\\\[8pt]\n",
    "  &= 2s \\cdot (2s - 2b) \\cdot (2s - 2c) \\cdot (2s - 2a) \\\\[8pt]\n",
    "  &= 2s \\cdot 2(s - b) \\cdot 2(s - c) \\cdot 2(s - a) \\\\[8pt]\n",
    "  4b^2 \\cdot h^2 &= 4 \\cdot s(s - a)(s - b)(s - c) \\\\[8pt]\n",
    "  h^2 &= \\frac{4}{b^2}s(s - a)(s - b)(s - c) \\\\[8pt]\n",
    "  h &= \\frac{2}{b} \\sqrt{s(s - a)(s - b)(s - c)}\n",
    "\\end{align*}\n",
    "$$\n",
    "\n",
    "&emsp; &emsp; Finalmente, a área $A_T$ do triângulo é dada por:\n",
    "\n",
    "$$ A_T = \\frac{b \\cdot h}{2} = \\frac{b \\cdot \\cfrac{2}{b} \\sqrt{s(s - a)(s - b)(s - c)}}{2} $$\n",
    "$$ \\therefore \\quad \\ A_T = \\sqrt{s(s - a)(s - b)(s - c)} $$"
   ]
  },
  {
   "cell_type": "markdown",
   "metadata": {},
   "source": [
    "## 2.5. <a id='toc2_5_'></a>[Triângulo Equilátero](#toc0_)\n",
    "\n",
    "&emsp; &emsp; Seja $T(a)$ um triângulo equilátero de lado $a$. Então, a altura $h_{T(a)}$ do triângulo equilátero pode ser determinada por:\n",
    "\n",
    "$$ a^2 \\overset{^{\\text{Pitágoras}}}{=} h^2 + \\left( \\frac{a}{2} \\right)^2 \\implies h^2 = a^2 - \\left( \\frac{a}{2} \\right)^2 \\implies h = \\sqrt{\\frac{3 \\cdot a^2}{4}} $$\n",
    "$$ \\therefore \\quad \\boxed{\\ h_{T(a)} = \\frac{a \\sqrt{3}}{2} \\ } $$\n",
    "\n",
    "&emsp; &emsp; A área $A_{T(a)}$ do triângulo equilátero $T(a)$ de lado $a$ é dada por:\n",
    "\n",
    "$$ A_{T(a)} = \\frac{b \\cdot h}{2} = \\frac{a \\cdot \\cfrac{a \\sqrt{3}}{2}}{2} $$\n",
    "$$ \\therefore \\quad \\boxed{\\ A_{T(a)} = \\frac{a^2 \\sqrt{3}}{4} \\ } $$"
   ]
  },
  {
   "cell_type": "markdown",
   "metadata": {},
   "source": []
  }
 ],
 "metadata": {
  "kernelspec": {
   "display_name": "base",
   "language": "python",
   "name": "python3"
  },
  "language_info": {
   "name": "python",
   "version": "3.12.1"
  }
 },
 "nbformat": 4,
 "nbformat_minor": 2
}
