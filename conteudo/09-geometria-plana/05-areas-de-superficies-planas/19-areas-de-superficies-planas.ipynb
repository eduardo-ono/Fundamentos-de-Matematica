{
 "cells": [
  {
   "cell_type": "markdown",
   "metadata": {},
   "source": [
    "# Conceitos"
   ]
  },
  {
   "cell_type": "markdown",
   "metadata": {},
   "source": [
    "## $\\text{\\bf Definição.} \\quad \\text{\\sf (Área de uma figura plana)}$\n",
    "\n",
    "&emsp; &emsp; A área de uma figura plana é a medida da superfície ocupada por essa figura.\n",
    "\n",
    "&emsp; &emsp;  Seja $P$ uma figura plana. A essa figura iremos associar um número $a(P)$, denominado área de $P$, satisfazendo as seguintes propriedades:\n",
    "\n",
    "$$\n",
    "\\begin{align*}\n",
    "\\text{i. }& \\ a(P) > 0; \\\\\n",
    "\\text{ii. }& \\ a(P) \\text{ independe da colocação da figura $P$ no plano;} \\\\\n",
    "\\text{iii. }& \\ \\text{Se a figura $P$ for decompsosta em duas figuras $P_1$ e $P_2$ que não se sobreponham, então } a(P) = a(P_1) + a(P_2); \\\\\n",
    "\\text{(i + iii) iv. }& \\ P \\varsubsetneq Q \\implies a(P) < a(Q). \\\\\n",
    "\\end{align*}\n",
    "$$\n",
    "\n",
    "Fonte: [Cortes de Matemática e Física] [__COMO DEFINIR A ÁREA EM MATEMÁTICA | Elon Lages Lima__](https://www.youtube.com/watch?v=rjPLr4sDHFo), 2022."
   ]
  },
  {
   "cell_type": "markdown",
   "metadata": {},
   "source": [
    "##"
   ]
  },
  {
   "cell_type": "markdown",
   "metadata": {},
   "source": [
    "# Áreas de Polígonos"
   ]
  },
  {
   "cell_type": "markdown",
   "metadata": {},
   "source": [
    "## Retângulo\n",
    "\n",
    "&emsp; &emsp; Dado o retângulo $R(b, h)$ e fixado o quadrado unitário $Q(1, 1)$, temos:\n",
    "\n",
    "$$ A_R = \\frac{R(b, h)}{Q(1, 1)} = {b \\over 1} \\cdot {h \\over 1} \\implies \\boxed{\\ A_R = b \\cdot h \\ } $$"
   ]
  },
  {
   "cell_type": "markdown",
   "metadata": {},
   "source": [
    "## Quadrado\n",
    "\n",
    "&emsp; &emsp; O quadrado é um retângulo particular onde os lados $b$ e $h$ são iguais. Portanto, um quadrado $Q(a)$ temos:\n",
    "\n",
    "$$ A_Q = a \\cdot a \\implies \\boxed{\\ A_Q = a^2 \\ } $$"
   ]
  },
  {
   "cell_type": "markdown",
   "metadata": {},
   "source": [
    "# Triângulo\n",
    "\n"
   ]
  },
  {
   "cell_type": "markdown",
   "metadata": {},
   "source": [
    "## Fórmula de Herão (Heron)\n",
    "\n",
    "&emsp; &emsp; A __Fórmula de Herão__ (ou fórmula de Heron) nos permite determinar a área de um triângulo somente em função das medidas de seus lados.\n",
    "\n",
    "&emsp; &emsp; Seja $T$ um triângulo de lados $a$, $b$ e $c$. A área $A_T$ o triângulo $T$ é dada por:\n",
    "\n",
    "$$ A_T = \\sqrt{(s-a)(s-b)(s-c)} $$\n",
    "\n",
    "onde $\\, s = \\cfrac{a + b + c}{2} \\,$ é o semiperímetro do triangulo $T$.\n",
    "\n",
    "Demonstração:\n",
    "\n",
    "&emsp; &emsp; Por questões de conveniência da notação, seja $b$ o maior lado do triângulo $T$ e m $m$ e $n$ as projeções dos lados $a$ e $c$, respectivamente, sobre a base $b$. Então, temos que:\n",
    "\n",
    "$$ a^2 = h^2 + m^2 \\quad (1) $$\n",
    "$$ c^2 = h^2 + n^2 \\quad (2) $$\n",
    "\n",
    "&emsp; &emsp; Sendo $b = m + n$,\n",
    "\n",
    "$$ n = b - m \\implies n^2 = (b - m)^2 = b^2 - 2 b m + m^2 $$\n",
    "\n",
    "&emsp; &emsp; Somando $h^2$ em ambos os lados da igualdade, temos que:\n",
    "\n",
    "$$ h^2 + n^2 = h^2 + m^2 + b^2 - 2 b m $$\n",
    "$$ c^2 = a^2 + b^2 - 2 b m \\implies m = \\frac{a^2 + b^2 - c^2}{2b} \\implies m^2 = \\frac{(a^2 + b^2 - c^2)^2}{4b^2} $$\n",
    "\n",
    "&emsp; &emsp; Como queremos calcular $A_T = b \\cdot h$, de (1) temos que:\n",
    "\n",
    "$$\n",
    "\\begin{align*}\n",
    "  h^2 = a^2 - m^2 \\implies h^2 &= a^2 - \\frac{(a^2 + b^2 - c^2)^2}{4b^2} \\\\[10pt]\n",
    "  4b^2 \\cdot h^2 &= 4a^2b^2 - (a^2 + b^2 - c^2)^2 \\\\[10pt]\n",
    "  4b^2 \\cdot h^2 &= [2ab + (a^2 + b^2 - c^2)] \\cdot [2ab - (a^2 + b^2 - c^2)] \\\\[10pt]\n",
    "  4b^2 \\cdot h^2 &= (2ab + a^2 + b^2 - c^2) \\cdot (2ab - a^2 - b^2 + c^2) \\\\[10pt]\n",
    "  4b^2 \\cdot h^2 &= [(a^2 + 2ab + b^2) - c^2] \\cdot [c^2 - (a^2 - 2ab + b^2)] \\\\[10pt]\n",
    "  4b^2 \\cdot h^2 &= [(a + b)^2 - c^2] \\cdot [c^2 - (a - b)^2] \\\\[10pt]\n",
    "  4b^2 \\cdot h^2 &= [(a + b + c)(a + b - c)] \\cdot [(c + a - b)(c - a + b)] \\\\[10pt]\n",
    "  4b^2 \\cdot h^2 &= (a + b + c)(a - b + c)(a + b - c)(-a + b + c) \\\\[10pt]\n",
    "\\end{align*}\n",
    "$$\n",
    "\n",
    "&emsp; &emsp; Adotando $\\, s = \\cfrac{a + b + c}{2} \\,$ como o semiperímetro do triângulo:\n",
    "\n",
    "$$\n",
    "\\begin{align*}\n",
    "  4b^2 \\cdot h^2 &= (a + b + c) \\cdot [a - b + c + (b - b)] \\cdot [a + b - c + (c - c)] \\cdot [-a + b + c + (a - a)] \\\\[10pt]\n",
    "  4b^2 \\cdot h^2 &= (a + b + c) \\cdot [a + b + c - 2b)] \\cdot [a + b + c - 2c)] \\cdot [a + b + c - 2a)] \\\\[10pt]\n",
    "  4b^2 \\cdot h^2 &= 2s \\cdot (2s - 2b) \\cdot [2s - 2c)] \\cdot [2s - 2a)] \\\\[10pt]\n",
    "  4b^2 \\cdot h^2 &= 2s \\cdot 2(s - b) \\cdot 2(s - c)] \\cdot 2(s - a)] \\\\[10pt]\n",
    "  b^2 \\cdot h^2 &= 4 \\cdot s(s - a)(s - b)(s - c) \\\\[10pt]\n",
    "  h^2 &= \\frac{4}{b^2}s(s - a)(s - b)(s - c) \\\\[10pt]\n",
    "  h &= \\frac{2}{b} \\sqrt{s(s - a)(s - b)(s - c)}\n",
    "\\end{align*}\n",
    "$$\n",
    "\n",
    "&emsp; &emsp; Finalmente, a área $A_T$ do triângulo é dada por:\n",
    "\n",
    "$$ A_T = \\frac{b \\cdot h}{2} = \\frac{b \\cdot \\cfrac{2}{b} \\sqrt{s(s - a)(s - b)(s - c)}}{2} $$\n",
    "$$ \\boxed{\\ A_T = \\sqrt{s(s - a)(s - b)(s - c)} \\ } $$"
   ]
  },
  {
   "cell_type": "markdown",
   "metadata": {},
   "source": [
    "## Triângulo Equilátero\n",
    "\n",
    "&emsp; &emsp; Seja $T(a)$ um triângulo equilátero de lado $a$. Então, a altura $h_{T_E}$ do triângulo equilátero pode ser determinada por:\n",
    "\n",
    "$$ a^2 = h^2 + \\left( \\frac{a}{2} \\right)^2 \\implies h^2 = a^2 - \\left( \\frac{a}{2} \\right)^2 \\implies $$\n",
    "$$ h = \\sqrt{\\frac{3 \\cdot a^2}{4}} \\implies \\boxed{\\ h_{T_E} = \\frac{a \\sqrt{3}}{2} \\ } $$\n",
    "\n",
    "&emsp; &emsp; A área $A_{T_E}$ do triângulo equilátero $T_E$ de lado $a$ é dada por:\n",
    "\n",
    "$$ A_{T_E} = \\frac{b \\cdot h}{2} = \\frac{a \\cdot \\cfrac{a \\sqrt{3}}{2}}{2} \\implies \\boxed{\\ A_{T_E} = \\frac{a^2 \\sqrt{3}}{4} \\ } $$"
   ]
  },
  {
   "cell_type": "markdown",
   "metadata": {},
   "source": []
  }
 ],
 "metadata": {
  "kernelspec": {
   "display_name": "base",
   "language": "python",
   "name": "python3"
  },
  "language_info": {
   "name": "python",
   "version": "3.12.1"
  }
 },
 "nbformat": 4,
 "nbformat_minor": 2
}
