{
 "cells": [
  {
   "cell_type": "markdown",
   "metadata": {},
   "source": [
    "# Noções Primitivas"
   ]
  },
  {
   "cell_type": "markdown",
   "metadata": {},
   "source": [
    "&emsp; &emsp; As __noções__ (conceitos, termos, entes) geométricas são estabelecidas por meio de definição.\n",
    "\n",
    "&emsp; &emsp; Exemplo: Um triângulo é um polígono de três lados.\n",
    "\n",
    "&emsp; &emsp; As __noções primitivas__ são adotadas sem definição.\n",
    "\n",
    "&emsp; &emsp; Adotaremos sem definir as noções de __ponto__, __reta__ e __plano__.\n"
   ]
  },
  {
   "cell_type": "markdown",
   "metadata": {},
   "source": [
    "## Notação de Ponto, Reta e Plano"
   ]
  },
  {
   "cell_type": "markdown",
   "metadata": {},
   "source": [
    "&emsp; &emsp; Para denominar pontos, retas e plano, as letras mais usadas são:\n",
    "\n",
    "* Ponto - Letras latinas maiúsculas: $\\, A, B, C, \\ldots, P, \\ldots \\,$\n",
    "* Reta - Letras latinas minúsculas: $\\, \\ldots, r, s, t, u, \\ldots \\,$\n",
    "* Palno - Latras greagas minúsculas: $\\, \\alpha, \\beta, \\gamma, \\ldots, \\pi, \\ldots \\,$\n",
    "\n",
    "&emsp; &emsp; Para pontos e retas também são usadas letras latinas com um acento: $A'$ (lê-se \"A linha\"), $B'$, $C'$, $r'$, $s'$, $t'$, etc..."
   ]
  },
  {
   "cell_type": "markdown",
   "metadata": {},
   "source": [
    "# Proposições Primitivas"
   ]
  },
  {
   "cell_type": "markdown",
   "metadata": {
    "vscode": {
     "languageId": "plaintext"
    }
   },
   "source": [
    "## Postulados da Existência"
   ]
  },
  {
   "cell_type": "markdown",
   "metadata": {},
   "source": [
    "&emsp; &emsp; Os postulados (ou axiomas) da existência são:\n",
    "\n",
    "1) Existe ponto, existe reta e existe plano.\n",
    "2) Numa reta, bem como fora dela, há infinitos pontos.\n",
    "3) Num plano há infinitos pontos.\n",
    "\n",
    "&emsp; &emsp; A expressão “infinitos pontos” tem o significado de “tantos pontos quanto quisermos”."
   ]
  },
  {
   "cell_type": "markdown",
   "metadata": {},
   "source": [
    "## Postulado da Determinação da Reta\n",
    "\n",
    "> &emsp; &emsp; Dois pontos distintos determinam uma única (uma, e apenas uma) reta que os contém.\n",
    "\n",
    "&emsp; &emsp; Se $A$ e $B$ são dois pontos distintos então $A$ e $B$ determinam uma única reta $\\overset\\longleftrightarrow{AB}$ que passa por $A$ e $B$:\n",
    "\n",
    "$$ (A \\neq B, A \\in r, B \\in r) \\implies r = \\overset\\longleftrightarrow{AB} $$\n",
    "\n",
    "&emsp; &emsp; Obs.: A expressão \"duas retas coincidentes\" é equivalente a \"uma única reta\"."
   ]
  },
  {
   "cell_type": "markdown",
   "metadata": {},
   "source": [
    "## Postulado da Inclusão\n",
    "\n",
    "> &emsp; &emsp; Se uma reta contém dois pontos distintos num plano, então a reta está contida nesse mesmo plano.\n",
    "\n",
    "$$ (A \\neq B, r = \\overset\\longleftrightarrow{AB}, A \\in \\alpha, B \\in \\alpha) \\implies r \\subset \\alpha $$"
   ]
  }
 ],
 "metadata": {
  "language_info": {
   "name": "python"
  }
 },
 "nbformat": 4,
 "nbformat_minor": 2
}
