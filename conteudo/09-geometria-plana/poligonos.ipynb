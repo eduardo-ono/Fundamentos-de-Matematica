{
 "cells": [
  {
   "cell_type": "markdown",
   "metadata": {},
   "source": []
  },
  {
   "cell_type": "markdown",
   "metadata": {},
   "source": [
    "## Polígonos Regulares"
   ]
  },
  {
   "cell_type": "markdown",
   "metadata": {},
   "source": [
    "> (Geometria e Medidas - EM13MAT506) Representar graficamente a variação da área e do perímetro de\n",
    "um polígono regular quando os comprimentos de seus lados variam, analisando e\n",
    "classificando as funções envolvidas."
   ]
  }
 ],
 "metadata": {
  "language_info": {
   "name": "python"
  }
 },
 "nbformat": 4,
 "nbformat_minor": 2
}
