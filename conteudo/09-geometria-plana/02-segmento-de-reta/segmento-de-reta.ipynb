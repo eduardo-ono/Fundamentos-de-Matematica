{
 "cells": [
  {
   "cell_type": "markdown",
   "metadata": {},
   "source": [
    "<h4>\n",
    "\n",
    "$$\n",
    "\\text{---\\{ Proporcionalidades \\}---}\n",
    "\\\\[24pt]\n",
    "$$\n",
    "\n",
    "</h4>\n",
    "\n",
    "<h2>\n",
    "\n",
    "$$\n",
    "\\text{Segmento de Retas}\n",
    "$$\n",
    "\n",
    "</h2>\n",
    "\n",
    "$$\n",
    "\\text{Prof. Eduardo Ono}\n",
    "\\\\[24pt]\n",
    "$$"
   ]
  },
  {
   "cell_type": "markdown",
   "metadata": {},
   "source": [
    "---"
   ]
  },
  {
   "cell_type": "markdown",
   "metadata": {},
   "source": [
    "__Sumário__<a id='toc0_'></a>    \n",
    "- 1. [Conceitos](#toc1_)    \n",
    "- 2. [Segmento de Reta](#toc2_)    \n",
    "  - 2.1. [Definição](#toc2_1_)    \n",
    "  - 2.2. [Segmentos consecutivos](#toc2_2_)    \n",
    "  - 2.3. [Segmentos colineares](#toc2_3_)    \n",
    "  - 2.4. [Segmentos adjacentes](#toc2_4_)    \n",
    "  - 2.5. [Congruência de segmentos](#toc2_5_)    \n",
    "  - 2.6. [Comparação de segmentos](#toc2_6_)    \n",
    "  - 2.7. [Adição de segmentos](#toc2_7_)    \n",
    "  - 2.8. [Medida de um segmento - comprimento](#toc2_8_)    \n",
    "  - 2.9. [Ponto médio de um segmento](#toc2_9_)    \n",
    "    - 2.9.1. [Definição](#toc2_9_1_)    \n",
    "  - 2.10. [Distância entre dois pontos](#toc2_10_)    \n",
    "    - 2.10.1. [Distância geométrica](#toc2_10_1_)    \n",
    "    - 2.10.2. [Distância métrica](#toc2_10_2_)    \n",
    "\n",
    "<!-- vscode-jupyter-toc-config\n",
    "\tnumbering=true\n",
    "\tanchor=true\n",
    "\tflat=false\n",
    "\tminLevel=1\n",
    "\tmaxLevel=5\n",
    "\t/vscode-jupyter-toc-config -->\n",
    "<!-- THIS CELL WILL BE REPLACED ON TOC UPDATE. DO NOT WRITE YOUR TEXT IN THIS CELL -->"
   ]
  },
  {
   "cell_type": "markdown",
   "metadata": {},
   "source": [
    "---"
   ]
  },
  {
   "cell_type": "markdown",
   "metadata": {},
   "source": [
    "# 1. <a id='toc1_'></a>[Conceitos](#toc0_)"
   ]
  },
  {
   "cell_type": "markdown",
   "metadata": {},
   "source": [
    "A noção de \"estar entre\" é uma noção primitiva que obedece aos seguintes postuladois (ou axiomas):\n",
    "\n",
    "Quaisquer que sejam os pontos $A$, $B$ e $P$:\n",
    "\n",
    "1. Se $P$ está entre $A$ e $B$, então $A$, $B$ e $P$ são colineares;\n",
    "\n",
    "2. Se $P$ está entre $A$ e $B$, então $A$, $B$ e $P$ são distintos dois a dois;\n",
    "\n",
    "3. Se $P$ está entre $A$ e $B$, então $A$ não está entre $P$ e $B$ nem $B$ está entre $A$ e $P$;\n",
    "\n",
    "4. Quaisquer que sejam os pontos $A$ e $B$, se $A$ é distinto de $B$, então existe um ponto $P$ que está entre $A$ e $B$."
   ]
  },
  {
   "cell_type": "markdown",
   "metadata": {},
   "source": [
    "# 2. <a id='toc2_'></a>[Segmento de Reta](#toc0_)"
   ]
  },
  {
   "cell_type": "markdown",
   "metadata": {},
   "source": [
    "## 2.1. <a id='toc2_1_'></a>[Definição](#toc0_)\n",
    "\n",
    "Dados dois pontos distintos, um __segmento de reta__ é a reunião do conjunto desses dois pontos com o conjunto dos pontos que estão entre eles.\n",
    "\n",
    "Assim, dados os pontos $A$ e $B$, $\\,A \\neq B\\,$, o segmento de reta $AB$ (indicado por $\\overline{AB}$) é:\n",
    "\n",
    "$$\n",
    "\\overline{AB} = \\{A, B\\} \\cup \\{X \\ | \\ X \\text{ está entre $A$ e $B$}\\}.\n",
    "$$\n",
    "\n",
    "Os pontos $A$ e $B$ são também chamados de extremidades do segmento $\\overline{AB}$."
   ]
  },
  {
   "cell_type": "markdown",
   "metadata": {},
   "source": [
    "## 2.2. <a id='toc2_2_'></a>[Segmentos consecutivos](#toc0_)"
   ]
  },
  {
   "attachments": {
    "segmentos-consecutivos.png": {
     "image/png": "[encoded data removed]"
    }
   },
   "cell_type": "markdown",
   "metadata": {},
   "source": [
    "\n",
    "\n",
    "Dois segmentos de reta são __consecutivos__ se, e somente se, uma extremidade de um deles é também extremidade do outro, ou seja, uma extremidade de um segmento coincide com uma extremidade do outro segmento.\n",
    "\n",
    "| |\n",
    "| :-: |\n",
    "| ![segmentos-consecutivos.png](attachment:segmentos-consecutivos.png) |\n",
    "| Fonte: Iezzi |"
   ]
  },
  {
   "cell_type": "markdown",
   "metadata": {},
   "source": [
    "## 2.3. <a id='toc2_3_'></a>[Segmentos colineares](#toc0_)\n",
    "\n",
    "Dois segmentos de reta são __colineares__ se, e somente se, estão _contidos_ numa mesma reta."
   ]
  },
  {
   "cell_type": "markdown",
   "metadata": {},
   "source": [
    "## 2.4. <a id='toc2_4_'></a>[Segmentos adjacentes](#toc0_)\n",
    "\n",
    "Dois segmentos consecutivos e colineares são __adjacentes__ se, e somente se, possuem em comum apenas uma extremidade, ou seja, não têm pontos internos comuns."
   ]
  },
  {
   "cell_type": "markdown",
   "metadata": {},
   "source": [
    "## 2.5. <a id='toc2_5_'></a>[Congruência de segmentos](#toc0_)\n",
    "\n",
    "A congruência (símbolo: $\\equiv$) de segmentos é uma noção primitiva que satisfaz\n",
    "os seguintes postulados:\n",
    "\n",
    "1. Reflexiva. Todo segmento é congruente a si mesmo: $\\ \\overline{AB} \\equiv \\overline{AB}\\,$.\n",
    "\n",
    "2. Simétrica. Se $\\ \\overline{AB} \\equiv \\overline{CD}\\,$, então $\\ \\overline{CD} \\equiv \\overline{AB}\\,$.\n",
    "\n",
    "3. Transitiva. Se $\\ \\overline{AB} \\equiv \\overline{CD}\\ $ e $\\ \\overline{CD} \\equiv \\overline{EF}\\,$, então $\\ \\overline{AB} \\equiv \\overline{EF}\\,$.\n",
    "\n",
    "4. Transporte de segmentos. Dados um segmento $\\overline{AB}$ e uma semirreta de origem $A'$, existe sobre esta semirreta um único ponto $B'$ tal que $\\,\\overline{A'B'}\\,$ seja congruente a $\\,\\overline{AB}\\,$.\n"
   ]
  },
  {
   "cell_type": "markdown",
   "metadata": {},
   "source": [
    "## 2.6. <a id='toc2_6_'></a>[Comparação de segmentos](#toc0_)\n",
    "\n",
    "Dados dois segmentos, $\\,\\overline{AB}\\,$ e $\\,\\overline{CD}\\,$, pelo postulado do transporte, podemos obter na semirreta $\\,\\overrightarrow{AB}\\,$ um ponto $P$ tal que $\\,\\overline{AP} \\equiv \\overline{CD}\\,$. Temos três hipóteses a considerar:\n",
    "\n",
    "1. O ponto $P$ está entre $A$ e $B$. Neste caso, dizemos que $\\overline{AB}$ é __maior__ que $\\,\\overline{CD}\\,$ ($\\overline{AB} > \\overline{CD}$).\n",
    "\n",
    "2. O ponto $P$ coincide com $B$, caso em que $\\,\\overline{AB}\\,$ é __congruente__ a $\\,\\overline{CD}\\,$ ($\\overline{AB} \\equiv \\overline{CD}$).\n",
    "\n",
    "3. O ponto $B$ está entre $A$ e $P$. Neste caso, dizemos que $\\,\\overline{AB}\\,$ é menor que $\\,\\overline{CD}\\,$ ($\\overline{AB} < \\overline{CD}$)."
   ]
  },
  {
   "cell_type": "markdown",
   "metadata": {},
   "source": [
    "## 2.7. <a id='toc2_7_'></a>[Adição de segmentos](#toc0_)\n",
    "\n",
    "Dados dois segmentos $\\,\\overline{AB}\\,$ e $\\,\\overline{CD}\\,$, tomando-se numa semirreta qualquer de origem $O$ os segmentos adjacentes $\\,\\overline{OP}\\,$ e $\\,\\overline{PQ}\\,$ tais que\n",
    "\n",
    "$$\n",
    "\\overline{OP} \\equiv \\overline{AB} \\quad\\text{e}\\quad \\overline{PQ} \\equiv \\overline{CD}\n",
    "$$\n",
    "\n",
    "dizemos que o segmento $\\,\\overline{OQ}\\,$ é a soma de $\\,\\overline{OP}\\,$ com $\\,\\overline{PQ}\\,$, ou seja,\n",
    "\n",
    "$$\n",
    "\\overline{OQ} = \\overline{OP} + \\overline{PQ}\n",
    "$$\n",
    "\n",
    "Também é a soma de $\\,\\overline{AB}\\,$ com $\\,\\overline{CD}\\,$, ou seja,\n",
    "\n",
    "$$\n",
    "\\overline{OQ} = \\overline{AB} + \\overline{CD}\\,.\n",
    "$$\n",
    "\n",
    "&nbsp;\n",
    "\n",
    "Se $\\,\\overline{OP}\\,$ é a soma de $n$ segmentos congruentes a $\\,\\overline{AB}\\,$, $\\,\\overline{OP}\\,$ é múltiplo de $\\,\\overline{AB}\\,$ segundo o fator $n$:\n",
    "\n",
    "$$\n",
    "\\overline{OP} = n \\cdot \\overline{AB}\\,.\n",
    "$$\n",
    "\n",
    "Nesse caso, dizemos também que $\\,\\overline{AB}\\,$ é submúltiplo de $\\,\\overline{OP}\\,$ segundo $n$."
   ]
  },
  {
   "cell_type": "markdown",
   "metadata": {},
   "source": [
    "## 2.8. <a id='toc2_8_'></a>[Medida de um segmento - comprimento](#toc0_)\n",
    "\n",
    "A medida de um segmento (não nulo) $\\,\\overline{AB}\\,$, indicado por $\\,m(\\overline{AB})\\,$ ou simplesmente por $\\,AB\\,$, é um número real positivo associado ao segmento de forma tal que:\n",
    "\n",
    "1. Segmentos congruentes têm medidas iguais e, reciprocamente, segmentos que têm medidas iguais são congruentes:\n",
    "\n",
    "$$\n",
    "\\overline{AB} \\equiv \\overline{CD} \\iff m(\\overline{AB}) = m(\\overline{CD})\n",
    "$$\n",
    "\n",
    "2. Se um segmento é maior que outro, sua medida é maior que a deste outro:\n",
    "\n",
    "$$\\overline{AB} > \\overline{CD} \\iff m(\\overline{AB}) > m(\\overline{CD})\n",
    "$$\n",
    "\n",
    "3. A um __segmento soma__ está associada uma medida que é a soma das medidas dos segmentos parcelas:\n",
    "$$\n",
    "\\overline{OP} = \\overline{AB} + \\overline{CD} \\iff m(\\overline{OP}) = m(\\overline{AB}) + m(\\overline{CD})\n",
    "$$\n",
    "\n",
    "À medida de um segmento dá-se o nome de comprimento do segmento.\n",
    "\n",
    "Em geral, associa-se um número (medida) a um segmento estabelecendo a razão (quociente) entre este segmento e outro segmento tomado como unidade. O segmento unitário no Sistema Internacional de Unidades (SI) é o metro (símbolo: m)."
   ]
  },
  {
   "cell_type": "markdown",
   "metadata": {},
   "source": [
    "## 2.9. <a id='toc2_9_'></a>[Ponto médio de um segmento](#toc0_)\n",
    "\n",
    "### 2.9.1. <a id='toc2_9_1_'></a>[Definição](#toc0_)\n",
    "\n",
    "Um ponto $M$ é __ponto médio__ do segmento $\\,\\overline{AB}\\,$ se, e somente se, $M$ está entre $A$ e $B$ e $\\,\\overline{AM} \\equiv \\overline{MB}\\,$:\n",
    "\n",
    "$$\n",
    "M \\in \\overline{AB} \\quad\\text{e}\\quad \\overline{AM} \\equiv \\overline{MB}\\,.\n",
    "$$"
   ]
  },
  {
   "cell_type": "markdown",
   "metadata": {},
   "source": [
    "## 2.10. <a id='toc2_10_'></a>[Distância entre dois pontos](#toc0_)\n",
    "\n",
    "### 2.10.1. <a id='toc2_10_1_'></a>[Distância geométrica](#toc0_)\n",
    "\n",
    "Dados dois pontos distintos, $A$ e $B$, a distância entre $A$ e $B$ (indicada por $d_{A, B}$) é o segmento $\\,\\overline{AB}\\,$ ou qualquer segmento congruente a $\\,\\overline{AB}\\,$.\n",
    "\n",
    "### 2.10.2. <a id='toc2_10_2_'></a>[Distância métrica](#toc0_)\n",
    "\n",
    "Dados dois pontos distintos, $A$ e $B$, a distância entre $A$ e $B$ é a medida (comprimento) do segmento $\\,\\overline{AB}\\,$.\n",
    "\n",
    "Se $A$ e $B$ coincidem, dizemos que a distância geométrica entre $A$ e $B$ é nula e a distância métrica é igual a zero."
   ]
  }
 ],
 "metadata": {
  "kernelspec": {
   "display_name": "base",
   "language": "python",
   "name": "python3"
  },
  "language_info": {
   "name": "python",
   "version": "3.12.1"
  }
 },
 "nbformat": 4,
 "nbformat_minor": 2
}
