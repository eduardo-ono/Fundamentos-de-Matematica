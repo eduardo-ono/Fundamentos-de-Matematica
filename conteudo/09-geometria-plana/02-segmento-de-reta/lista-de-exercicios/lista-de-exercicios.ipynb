{
 "cells": [
  {
   "cell_type": "markdown",
   "metadata": {},
   "source": [
    "Exercício.\n",
    "\n",
    "Classifique em verdadeiro (V) ou falso (F):\n",
    "\n",
    "a) Se dois segmentos são consecutivos, então eles são colineares.\n",
    "\n",
    "b) Se dois segmentos são colineares, então eles são consecutivos.\n",
    "\n",
    "c) Se dois segmentos são adjacentes, então eles são colineares.\n",
    "\n",
    "d) Se dois segmentos são colineares, então eles são adjacentes.\n",
    "\n",
    "e) Se dois segmentos são adjacentes, então eles são consecutivos.\n",
    "\n",
    "f) Se dois segmentos são consecutivos, então eles são adjacentes."
   ]
  }
 ],
 "metadata": {
  "language_info": {
   "name": "python"
  }
 },
 "nbformat": 4,
 "nbformat_minor": 2
}
