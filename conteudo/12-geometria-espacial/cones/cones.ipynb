{
 "cells": [
  {
   "cell_type": "markdown",
   "id": "47077bf2",
   "metadata": {},
   "source": [
    "## Área Superficial de um Cone Reto\n",
    "\n"
   ]
  },
  {
   "cell_type": "markdown",
   "id": "6000b436",
   "metadata": {},
   "source": [
    "$$\n",
    "A_{base} = \\pi R^2\n",
    "$$\n",
    "\n",
    "$$\n",
    "A_{lateral} = \\pi R g\n",
    "$$\n",
    "\n",
    "| Thumb | Descrição |\n",
    "| :-: | --- |\n",
    "| ![img](https://img.youtube.com/vi/0VaKDHt3cKg/default.jpg) | <sup>[Estude Matemática]</sup><br>[__Demonstração da Área Lateral do Cone__](https://www.youtube.com/watch?v=0VaKDHt3cKg)<br><sub>(7:35, YouTube, 10/Set/2016)</sub> |\n",
    "| ![img](https://img.youtube.com/vi/eDmK3VU2ILg/default.jpg) | <sup>[Portal da Matemática OBME]</sup><br>[__Área da Superfície de um Cone - Aula 32__](https://www.youtube.com/watch?v=eDmK3VU2ILg)<br><sub>(11:55, YouTube, 25/Jun/2015)</sub> |"
   ]
  },
  {
   "cell_type": "markdown",
   "id": "93ddf618",
   "metadata": {},
   "source": [
    "## Volume de um Cone"
   ]
  },
  {
   "cell_type": "markdown",
   "id": "36e05a8d",
   "metadata": {},
   "source": [
    "$$\n",
    "V = \\cfrac{1}{3} \\, A_{base} \\cdot h\n",
    "$$"
   ]
  },
  {
   "cell_type": "markdown",
   "id": "37a09a97",
   "metadata": {},
   "source": [
    "\n",
    "| Thumb | Descrição |\n",
    "| :-: | --- |\n",
    "| ![img](https://img.youtube.com/vi/THShF38zLCc/default.jpg) | <sup>[Portal da Matemática OBMEP]</sup><br>[__Volume do Cone - Aula 34__](https://www.youtube.com/watch?v=THShF38zLCc)<br><sub>(12:21, YouTube, 25/Jun/2015)</sub> |"
   ]
  }
 ],
 "metadata": {
  "kernelspec": {
   "display_name": "base",
   "language": "python",
   "name": "python3"
  },
  "language_info": {
   "name": "python",
   "version": "3.12.1"
  }
 },
 "nbformat": 4,
 "nbformat_minor": 5
}
