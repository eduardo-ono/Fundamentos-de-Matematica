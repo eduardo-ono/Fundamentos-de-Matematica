{
 "cells": [
  {
   "cell_type": "markdown",
   "id": "007d4df7",
   "metadata": {},
   "source": [
    "<sup>Fundamentos de Matemática</sup>\n",
    "<img alt=\"\" width=\"100%\" height=\"2px\" align=\"right\">\n",
    "\n",
    "&nbsp;\n",
    "\n",
    "<h1 align=\"center\">Prismas</h1>\n",
    "<h4 align=\"center\">Prof. Eduardo Ono</h4>\n",
    "<h6 align=\"center\">Atualizado em: 15/04/2025</h6>\n",
    "\n",
    "&nbsp;"
   ]
  },
  {
   "cell_type": "markdown",
   "id": "0bc3768d",
   "metadata": {},
   "source": [
    "## Vídeos de Apoio\n",
    "\n",
    "| Thumb | Descrição |\n",
    "| :-: | --- |\n",
    "| ![img](https://img.youtube.com/vi/xqt4aTlAKTc/default.jpg) | <sup>[Amo Matemática]</sup><br>[__Princípio de Cavalieri \\| Prof. Fernão__](https://www.youtube.com/watch?v=xqt4aTlAKTc)<br><sub>(7:31, YouTube, 17/Ago/2020)</sub> |\n",
    "| ![img](https://img.youtube.com/vi/2swePlz_Czk/default.jpg) | <sup>[Central Matemática]</sup><br>[__O Princípio de Cavalieri__](https://www.youtube.com/watch?v=2swePlz_Czk)<br><sub>(5:19, YouTube, 02/Jun/2020)</sub> |"
   ]
  }
 ],
 "metadata": {
  "language_info": {
   "name": "python"
  }
 },
 "nbformat": 4,
 "nbformat_minor": 5
}
