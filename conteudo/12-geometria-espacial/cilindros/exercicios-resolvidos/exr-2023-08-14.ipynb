{
 "cells": [
  {
   "cell_type": "markdown",
   "id": "a0094e9b",
   "metadata": {},
   "source": [
    "__exr-2023-08-14__. &nbsp; Calcule o volume de água contida no cilindro na posição horizontal de 10 m de comprimento, diâmetro da base igual a 12 m, com nível da água em 9 m.\n",
    "\n",
    "&nbsp;"
   ]
  },
  {
   "cell_type": "markdown",
   "id": "ef415bbd",
   "metadata": {},
   "source": [
    "__RESOLUÇÃO__\n",
    "\n",
    "$$\n",
    "\\begin{split}\n",
    "V_{\\text{água}} & = \\left( A_{triângulo} + A_{\\text{setor circular}} \\right) \\cdot 10\n",
    "\\end{split}\n",
    "$$\n",
    "\n",
    "$$\n",
    "\\text{Cálculo de } A_{\\text{triângulo}}: \\\\[10pt]\n",
    "\\begin{split}\n",
    "6^2 & = 3^3 + b^2 \\\\\n",
    "b^2 & = 36 - 9 = 27 \\\\\n",
    "b & = \\sqrt{27} = 3\\sqrt{3} \\\\\n",
    "A_{\\text{triângulo}} & = \\cfrac{(2 \\cdot 3\\sqrt{3}) \\cdot 3}{2} = 9\\sqrt{3} \\\\[12pt]\n",
    "\\end{split}\n",
    "$$\n",
    "\n",
    "$$\n",
    "\\text{Cálculo de } A_{\\text{setor circular}}: \\\\[10pt]\n",
    "\\begin{split}\n",
    "\\sin{\\theta} & = \\cfrac{3}{6} = \\cfrac{1}{2} \\\\\n",
    "\\theta & = \\arcsin{\\left(\\frac{1}{2}\\right)} = \\sin^{-1}{\\left(\\frac{1}{2}\\right)} = 60° \\\\[12pt]\n",
    "\\text{Portanto, o ângulo do setor circular} = 240° \\\\[10pt]\n",
    "\\cfrac{\\pi R^2}{360°} & = \\cfrac{A_{\\text{setor circular}}}{240°} \\\\\n",
    "A_{\\text{setor circular}} & = \\cfrac{24 \\cdot \\pi R^2}{36} = \\cfrac{24 \\cdot 6^2 \\pi}{36} = \\cfrac{24 \\cdot 36 \\pi}{36} = 24\\pi \\\\[12pt]\n",
    "\\end{split}\n",
    "$$\n",
    "\n",
    "$$\n",
    "\\therefore \\quad V_{\\text{água}} = (9\\sqrt{3} + 24\\pi) \\cdot 10 = 90\\sqrt{3} + 240\\pi\n",
    "$$"
   ]
  },
  {
   "cell_type": "markdown",
   "id": "6c60cf93",
   "metadata": {},
   "source": [
    "__REFERÊNCIAS__\n",
    "\n",
    "| Thumb | Descrição |\n",
    "| :-: | --- |\n",
    "| ![img](https://img.youtube.com/vi/8a_byiO8iS4/default.jpg) | <sup>[Gênio da Matemática]</sup><br>[__Como Calcular Volume de Água no Cilindro Deitado__](https://www.youtube.com/watch?v=8a_byiO8iS4)<br><sub>(10:13, YouTube, 14/Ago/2023)</sub> |\n",
    "| ![img](https://img.youtube.com/vi/xsrqdqVTudo/default.jpg) | <sup>[Professor em Casa - Felipe Cardoso]</sup><br>[__PRECISAMOS CALCULAR O VOLUME DO TANQUE__](https://www.youtube.com/watch?v=xsrqdqVTudo)<br><sub>(12:47, YouTube, 18/Dez/2024)</sub> |"
   ]
  }
 ],
 "metadata": {
  "kernelspec": {
   "display_name": "base",
   "language": "python",
   "name": "python3"
  },
  "language_info": {
   "name": "python",
   "version": "3.12.1"
  }
 },
 "nbformat": 4,
 "nbformat_minor": 5
}
