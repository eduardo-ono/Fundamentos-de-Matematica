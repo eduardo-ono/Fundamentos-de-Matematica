{
 "cells": [
  {
   "cell_type": "markdown",
   "id": "49f14022",
   "metadata": {},
   "source": [
    "<sup>Fundamentos de Matemática</sup>\n",
    "<img alt=\"\" width=\"100%\" height=\"2px\" align=\"right\">\n",
    "\n",
    "&nbsp;\n",
    "\n",
    "<h1 align=\"center\">Pirâmides</h1>\n",
    "<h4 align=\"center\">Prof. Eduardo Ono</h4>\n",
    "<h6 align=\"center\">Atualizado em: 21/05/2025</h6>\n",
    "\n",
    "&nbsp;"
   ]
  },
  {
   "cell_type": "markdown",
   "id": "f1b4e2c2",
   "metadata": {},
   "source": [
    "## Tetraedro"
   ]
  },
  {
   "cell_type": "markdown",
   "id": "440f91c3",
   "metadata": {},
   "source": [
    "<h3>Vídeos de Apoio</h3>\n",
    "\n",
    "| Thumb | Descrição |\n",
    "| :-: | --- |\n",
    "| ![img](https://img.youtube.com/vi/cMumvktlaAk/default.jpg) | <sup>[Waldemática]</sup><br>[__TETRAEDRO REGULAR \\| Área Total, Altura e VOLUME - Fórmulas (Dedução) \\| Canal Waldemática__](https://www.youtube.com/watch?v=cMumvktlaAk)<br><sub>(12:38, YouTube, 12/Jul/2017)</sub> |"
   ]
  }
 ],
 "metadata": {
  "kernelspec": {
   "display_name": "base",
   "language": "python",
   "name": "python3"
  },
  "language_info": {
   "name": "python",
   "version": "3.12.1"
  }
 },
 "nbformat": 4,
 "nbformat_minor": 5
}
