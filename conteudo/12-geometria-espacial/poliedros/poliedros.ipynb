{
 "cells": [
  {
   "cell_type": "markdown",
   "id": "b451176b",
   "metadata": {},
   "source": [
    "<sup>Fundamentos de Matemática</sup>\n",
    "<img alt=\"\" width=\"100%\" height=\"2px\" align=\"right\">\n",
    "\n",
    "&nbsp;\n",
    "\n",
    "<h1 align=\"center\">Poliedros</h1>\n",
    "<h4 align=\"center\">Prof. Eduardo Ono</h4>\n",
    "<h6 align=\"center\">Atualizado em: 16/04/2025</h6>\n",
    "\n",
    "&nbsp;"
   ]
  },
  {
   "cell_type": "markdown",
   "id": "f3c3c15f",
   "metadata": {},
   "source": [
    "# Conceituação"
   ]
  },
  {
   "cell_type": "markdown",
   "id": "f00274cd",
   "metadata": {},
   "source": [
    "<h3>Vídeos de Apoio</h3>\n",
    "\n",
    "| Thumb | Descrição |\n",
    "| :-: | --- |\n",
    "| ![img](https://img.youtube.com/vi/_M-o0xuXg0g/default.jpg) | <sup>[Amo Matemática]</sup><br>[__Diedro, Triedro e Ângulos Poliédricos \\| Prof. Fernão__](https://www.youtube.com/watch?v=_M-o0xuXg0g)<br><sub>(15:34, YouTube, 06/Ago/2020)</sub> |"
   ]
  },
  {
   "cell_type": "markdown",
   "id": "dfb93379",
   "metadata": {},
   "source": [
    "## Poliedros Convexos"
   ]
  },
  {
   "cell_type": "markdown",
   "id": "66ab6fe1",
   "metadata": {},
   "source": [
    "### Poliedros (ou Sólidos) de Platão"
   ]
  },
  {
   "cell_type": "markdown",
   "id": "e7881974",
   "metadata": {},
   "source": [
    "__DEFINIÇÃO__. &nbsp; Um poliedro é chamado __*poliedro de Platão*__ se, e somente se, satisfaz as três seguintes condições:\n",
    "\n",
    "i. todas as faces têm o mesmo número ($n$) de arestas;\n",
    "i. todos os ângulos poliédricos têm o mesmo número ($m$) de arestas;\n",
    "i. vale a relação de Euler ($V - A + F = 2$)."
   ]
  },
  {
   "cell_type": "markdown",
   "id": "46d6952a",
   "metadata": {},
   "source": [
    "#### Proprieddes\n",
    "\n",
    "&emsp; Existem cinco, e somente cinco, classes de poliedros de Platão.\n",
    "\n",
    "| Poliedro de Platão | $m$ | $n$ | $V$ | $A$ | $F$ |     |\n",
    "| ---                | :-: | :-: | :-: | :-: | :-: | :-: |\n",
    "| Tetraedro          |  3  |  3  |  4  |  6  |  4  | <img src=\"./img/tetraedro.gif\" alt=\"img\" width=\"150\" height=\"150\"> |\n",
    "| Hexaedro (Cubo)    |  3  |  4  |  8  | 12  |  6  | <img src=\"./img/hexaedro.gif\" alt=\"img\" width=\"150\" height=\"150\"> |\n",
    "| Octaedro           |  4  |  3  |  6  | 12  |  8  | <img src=\"./img/octaedro.gif\" alt=\"img\" width=\"150\" height=\"150\"> |\n",
    "| Dodecaedro         |  3  |  5  | 20  | 30  | 12  | <img src=\"./img/dodecaedro.gif\" alt=\"img\" width=\"150\" height=\"150\"> |\n",
    "| Icosaedro          |  5  |  3  | 12  | 30  | 20  | <img src=\"./img/icosaedro.gif\" alt=\"img\" width=\"150\" height=\"150\"> |"
   ]
  },
  {
   "cell_type": "markdown",
   "id": "7a61a5a6",
   "metadata": {},
   "source": [
    "| Thumb | Descrição |\n",
    "| :-: | --- |\n",
    "| ![img](https://img.youtube.com/vi/B66EkzPshIY/default.jpg) | <sup>[Tem Ciência]</sup><br>[__POR QUE só existem 5 SÓLIDOS DE PLATÃO em 3D?__](https://www.youtube.com/watch?v=B66EkzPshIY)<br><sub>(14:52, YouTube, 18/Ago/2021)</sub> |"
   ]
  },
  {
   "cell_type": "markdown",
   "id": "4facb2cd",
   "metadata": {},
   "source": [
    "### Relação de Euler"
   ]
  },
  {
   "cell_type": "markdown",
   "id": "de5778ca",
   "metadata": {},
   "source": [
    "&emsp; Para todo __poliedro convexo__, ou para sua superfície, vale a relação\n",
    "\n",
    "$$\n",
    "V - A + F = 2\n",
    "$$\n",
    "\n",
    "em que $V$ é o número de vértices, $A$ é o número de arestas e $F$ é o número de faces do poliedro."
   ]
  },
  {
   "cell_type": "markdown",
   "id": "d7800e2e",
   "metadata": {},
   "source": [
    "<h3>Vídeos de Apoio</h3>\n",
    "\n",
    "| Thumb | Descrição |\n",
    "| :-: | --- |\n",
    "| ![img](https://img.youtube.com/vi/YQdVa-avDAk/default.jpg) | <sup>[Tem Ciência]</sup><br>[__A 2ª EQUAÇÃO MAIS BELA da Matemática__](https://www.youtube.com/watch?v=YQdVa-avDAk)<br><sub>(13:58, YouTube, 01/Set/2021)</sub> |"
   ]
  }
 ],
 "metadata": {
  "language_info": {
   "name": "python"
  }
 },
 "nbformat": 4,
 "nbformat_minor": 5
}
