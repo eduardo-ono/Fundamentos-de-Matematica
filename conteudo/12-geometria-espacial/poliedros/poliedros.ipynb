{
 "cells": [
  {
   "cell_type": "markdown",
   "id": "b451176b",
   "metadata": {},
   "source": [
    "<sup>Fundamentos de Matemática</sup>\n",
    "<img alt=\"\" width=\"100%\" height=\"2px\" align=\"right\">\n",
    "\n",
    "&nbsp;\n",
    "\n",
    "<h1 align=\"center\">Poliedros</h1>\n",
    "<h4 align=\"center\">Prof. Eduardo Ono</h4>\n",
    "<h6 align=\"center\">Atualizado em: 16/04/2025</h6>\n",
    "\n",
    "&nbsp;"
   ]
  },
  {
   "cell_type": "markdown",
   "id": "f00274cd",
   "metadata": {},
   "source": [
    "### Vídeos de Apoio\n",
    "\n",
    "| Thumb | Descrição |\n",
    "| :-: | --- |\n",
    "| ![img](https://img.youtube.com/vi/_M-o0xuXg0g/default.jpg) | <sup>[Amo Matemática]</sup><br>[__Diedro, Triedro e Ângulos Poliédricos \\| Prof. Fernão__](https://www.youtube.com/watch?v=_M-o0xuXg0g)<br><sub>(15:34, YouTube, 06/Ago/2020)</sub> |\n"
   ]
  },
  {
   "cell_type": "markdown",
   "id": "dfb93379",
   "metadata": {},
   "source": [
    "## Poliedros Convexos"
   ]
  },
  {
   "cell_type": "markdown",
   "id": "4facb2cd",
   "metadata": {},
   "source": [
    "### Relação de Euler"
   ]
  },
  {
   "cell_type": "markdown",
   "id": "de5778ca",
   "metadata": {},
   "source": [
    "$$\n",
    "V - A + F = 2\n",
    "$$"
   ]
  }
 ],
 "metadata": {
  "language_info": {
   "name": "python"
  }
 },
 "nbformat": 4,
 "nbformat_minor": 5
}
