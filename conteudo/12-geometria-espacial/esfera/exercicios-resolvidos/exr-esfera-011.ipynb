{
 "cells": [
  {
   "cell_type": "markdown",
   "id": "4634d02b",
   "metadata": {},
   "source": [
    "__exr-esfera-011__. &nbsp; Na busca de aumentar o volume de um recipiente esférico, antes projetado para ter um raio $r$, o recipiente terá um aumento de 30% no valor do seu raio. Determine qual será o aumento da área da superfície."
   ]
  },
  {
   "cell_type": "markdown",
   "id": "b1fd1556",
   "metadata": {},
   "source": [
    "__RESOLUÇÃO__.\n",
    "\n",
    "$$\n",
    "\\begin{align*}\n",
    "A_{s_0} &= 4 \\pi r^2 \\\\[10pt]\n",
    "A_{s_1} &= 4 \\pi \\Big( r + \\cfrac{30}{100} r \\Big)^2 \\\\[10pt]\n",
    "&= 4 \\pi \\Big[ r \\Big( 1 + \\cfrac{30}{100} \\Big)^2 \\Big] \\\\[10pt]\n",
    "&= 4 \\pi r^2 \\Big( \\cfrac{130}{100} \\Big)^2 \\\\[10pt]\n",
    "&= 4 \\pi r^2 \\Big( \\cfrac{13}{10} \\Big)^2 \\\\[10pt]\n",
    "&= \\frac{169}{100} 4 \\pi r^2  \\\\[10pt]\n",
    "&= \\frac{169}{100} A_{s_0} \\\\[10pt]\n",
    "\\therefore \\quad A_{s_1} &= 1,69 A_{s_0}\n",
    "\\end{align*}\n",
    "$$\n",
    "\n",
    "&emsp; Resp.: Aumento de 69% na área superficial."
   ]
  }
 ],
 "metadata": {
  "kernelspec": {
   "display_name": "base",
   "language": "python",
   "name": "python3"
  },
  "language_info": {
   "name": "python",
   "version": "3.12.1"
  }
 },
 "nbformat": 4,
 "nbformat_minor": 5
}
