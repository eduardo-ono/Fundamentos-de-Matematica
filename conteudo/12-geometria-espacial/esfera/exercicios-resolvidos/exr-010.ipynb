{
 "cells": [
  {
   "cell_type": "markdown",
   "id": "4634d02b",
   "metadata": {},
   "source": [
    "__exr-010__. &nbsp; Uma esfera de raio $r$ possui a área superficial numericamente igual ao seu volume. Nessas condições, determine o valor do raio."
   ]
  },
  {
   "cell_type": "markdown",
   "id": "b1fd1556",
   "metadata": {},
   "source": [
    "__RESOLUÇÃO__.\n",
    "\n",
    "$$\n",
    "\\begin{align*}\n",
    "A_s &= V \\\\\n",
    "4 \\pi r^2 &= \\cfrac{4}{3} \\pi r^3 \\\\[10pt]\n",
    "1 &= \\cfrac{1}{3} \\, r \\\\[10pt]\n",
    "\\therefore \\quad r &= 3\n",
    "\\end{align*}\n",
    "$$"
   ]
  }
 ],
 "metadata": {
  "kernelspec": {
   "display_name": "base",
   "language": "python",
   "name": "python3"
  },
  "language_info": {
   "name": "python",
   "version": "3.12.1"
  }
 },
 "nbformat": 4,
 "nbformat_minor": 5
}
