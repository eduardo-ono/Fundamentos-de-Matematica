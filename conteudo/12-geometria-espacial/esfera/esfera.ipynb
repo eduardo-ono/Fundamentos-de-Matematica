{
 "cells": [
  {
   "cell_type": "markdown",
   "id": "f1f447c5",
   "metadata": {},
   "source": [
    "<sup>Fundamentos de Matemática</sup>\n",
    "<img alt=\"\" width=\"100%\" height=\"2px\" align=\"right\">\n",
    "\n",
    "&nbsp;\n",
    "\n",
    "<h1 align=\"center\">Esfera</h1>\n",
    "<h4 align=\"center\">Prof. Eduardo Ono</h4>\n",
    "<h6 align=\"center\">Atualizado em: 22/05/2025</h6>\n",
    "\n",
    "&nbsp;"
   ]
  },
  {
   "cell_type": "markdown",
   "id": "270c0860",
   "metadata": {},
   "source": [
    "## Área da Superfície Esférica"
   ]
  },
  {
   "cell_type": "markdown",
   "id": "4d562237",
   "metadata": {},
   "source": []
  },
  {
   "cell_type": "markdown",
   "id": "3044c5fe",
   "metadata": {},
   "source": [
    "$$\n",
    "\\begin{align*}\n",
    "\\cfrac{4}{3} \\pi r^3 & = \\cfrac{1}{3}\\,A_{b_1} h + A_{b_2} h + \\dots + A_{b_n} h \\\\[10pt]\n",
    "4 \\pi r^3 & = h (A_{b_1} + A_{b_2} + \\dots + A_{b_n}) \\\\[10pt]\n",
    "4 \\pi r^3 & = h \\sum_{k=1}^{n}A_{b_k} \\\\[10pt]\n",
    "\\end{align*}\n",
    "$$\n",
    "\n",
    "$$\n",
    "\\text{Quando $n \\to \\infty$, ou seja, quando $n$ tende ao infinito, temos:} \\\\[10pt]\n",
    "\\begin{align*}\n",
    "h \\to r \\quad & \\text{e} \\quad \\sum_{k=1}^{\\infty}A_{b_k} \\to A_{\\text{esf.}} \\\\[10pt]\n",
    "4 \\pi r^3 & = r A_{\\text{esf.}} \\\\[10pt]\n",
    "\\therefore \\quad A_{\\text{esf.}} & = 4 \\pi r^2\n",
    "\\end{align*}\n",
    "$$"
   ]
  },
  {
   "cell_type": "markdown",
   "id": "056997b4",
   "metadata": {},
   "source": [
    "<h3>Vídeos de Apoio</h3>\n",
    "\n",
    "| Thumb | Descrição |\n",
    "| :-: | --- |\n",
    "| ![img](https://img.youtube.com/vi/nrYbwzfBxvY/default.jpg) | <sup>[Portal da Matemática OBMEP]</sup><br>[__Área da superfície esférica - Aula 43__](https://www.youtube.com/watch?v=nrYbwzfBxvY)<br><sub>(12:17, YouTube, 25/Jun/2015)</sub> |"
   ]
  },
  {
   "cell_type": "markdown",
   "id": "04e70681",
   "metadata": {},
   "source": [
    "## Fuso e Cunha"
   ]
  },
  {
   "cell_type": "markdown",
   "id": "9f01fa24",
   "metadata": {},
   "source": [
    "$$\n",
    "\\cfrac{A_{\\text{fuso}}}{\\alpha} = \\cfrac{A_{\\text{esf}}}{2 \\pi}\n",
    "$$"
   ]
  },
  {
   "cell_type": "markdown",
   "id": "62bc1fb1",
   "metadata": {},
   "source": [
    "<h3>Vídeos de Apoio</h3>\n",
    "\n",
    "| Thumb | Descrição |\n",
    "| :-: | --- |\n",
    "| ![img](https://img.youtube.com/vi/vpxoS6AEXY8/default.jpg) | <sup>[Portal da Matemática OBMEP]</sup><br>[__Fuso e cunha - Aula 44__](https://www.youtube.com/watch?v=vpxoS6AEXY8)<br><sub>(11:45, YouTube, 25/Jun/2015)</sub> |"
   ]
  },
  {
   "cell_type": "markdown",
   "id": "14863796",
   "metadata": {},
   "source": [
    "## Calota Esférica"
   ]
  }
 ],
 "metadata": {
  "kernelspec": {
   "display_name": "base",
   "language": "python",
   "name": "python3"
  },
  "language_info": {
   "name": "python",
   "version": "3.12.1"
  }
 },
 "nbformat": 4,
 "nbformat_minor": 5
}
