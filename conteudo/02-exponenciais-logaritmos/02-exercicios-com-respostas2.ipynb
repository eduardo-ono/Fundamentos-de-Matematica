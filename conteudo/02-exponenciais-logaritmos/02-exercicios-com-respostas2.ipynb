{
 "cells": [
  {
   "cell_type": "markdown",
   "metadata": {},
   "source": [
    "### Exercício. $\\quad (\\log_{3x} \\frac{3}{x} + (\\log_3 x)^2 = 1)$\n",
    "\n",
    "&emsp; &emsp; Dada a equação $ \\log_{3x}{\\frac{3}{x}} + (\\log_3 x)^2 = 1 $, a soma dos quadrados das soluções está no intervalo\n",
    "\n",
    "$ a) \\quad [0, 5) $\n",
    "$ b) \\quad [5, 10) $\n",
    "$ c) \\quad  $\n"
   ]
  },
  {
   "cell_type": "markdown",
   "metadata": {
    "slideshow": {
     "slide_type": "slide"
    }
   },
   "source": [
    "__*Resolução*__:\n",
    "\n",
    "$$\n",
    "\\begin{align*}\n",
    "\\log_{3x}{\\frac{3}{x}} + (\\log_3 x)^2 &= 1 \\\\[10pt]\n",
    "\\frac{\\log_{3}{3 \\over x}}{\\log_{3}{3x}} + (\\log_3 x)^2 &= 1 \\\\[10pt]\n",
    "\\frac{\\log_{3}{3} - \\log_{3}{x}}{\\log_{3}{3} + \\log_{3}{x}} + (\\log_3 x)^2 &= 1 \\\\[10pt]\n",
    "\\frac{1 - \\log_{3}{x}}{1 + \\log_{3}{x}} + (\\log_3 x)^2 &= 1 \\\\[10pt]\n",
    "\\text{Fazendo $\\, y = \\log_{3}{x} \\,$, temos:} \\\\[10pt]\n",
    "\\frac{1 - y}{1 + y} + y^2 &= 1 \\\\[10pt]\n",
    "\\frac{1 - y + (1 + y)y^2}{1 + y} &= 1 \\\\[10pt]\n",
    "\\text{Se $\\, y \\neq -1 \\,$, temos:} \\\\[10pt]\n",
    "1 - y + (1 + y)y^2 &= 1 + y \\\\[10pt]\n",
    "y^3 + y^2 - 2y &= 0 \\\\[10pt]\n",
    "y(y^2 + y - 2) &= 0 \\\\[10pt]\n",
    "\\text{Então, }\\, y = 0 \\text{ ou } \\, y^2 + y - 2 = 0 \\\\[10pt]\n",
    "\\text{Portanto, $\\, y = 0 \\,$ ou $\\, y = 1 \\,$ ou $\\, y = \\cfrac{1}{9} \\,$}\n",
    "\\end{align*}\n",
    "$$\n",
    "\n",
    "&emsp; &emsp; Solução: $\\ x = \\,$."
   ]
  },
  {
   "cell_type": "markdown",
   "metadata": {
    "slideshow": {
     "slide_type": "subslide"
    }
   },
   "source": [
    "Resposta comentada.\n",
    "\n",
    "| Thumb | Descrição |\n",
    "| --- | --- |\n",
    "| ![img](https://img.youtube.com/vi/lbT5CEWWs-I/default.jpg) | <sup>[Toda a Matemática]</sup><br>[__LOGARITMOS - IME - Propriedades operatórias__](https://www.youtube.com/watch?v=lbT5CEWWs-I)<br><sub>(12:59, YouTube, 28/Abr/2024)</sub> |\n"
   ]
  }
 ],
 "metadata": {
  "language_info": {
   "name": "python"
  }
 },
 "nbformat": 4,
 "nbformat_minor": 2
}
