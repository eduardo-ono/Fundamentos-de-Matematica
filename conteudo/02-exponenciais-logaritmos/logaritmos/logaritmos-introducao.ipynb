{
 "cells": [
  {
   "cell_type": "markdown",
   "metadata": {},
   "source": [
    "# Introdução"
   ]
  },
  {
   "cell_type": "markdown",
   "metadata": {},
   "source": [
    "&emsp; &emsp; História\n",
    "\n",
    "| Thumb | Descrição |\n",
    "| --- | --- |\n",
    "| ![img](https://img.youtube.com/vi/YC9BzwyjlwY/default.jpg) | <sup>[Professor Possani]</sup><br>[__História dos Logaritmos__](https://www.youtube.com/watch?v=YC9BzwyjlwY)<br><sub>(17:57, YouTube, 02/Jul/2023)</sub> |\n"
   ]
  },
  {
   "cell_type": "markdown",
   "metadata": {},
   "source": [
    "## Vídeos de Apoio\n",
    "\n",
    "| Thumb | Descrição |\n",
    "| --- | --- |\n",
    "| ![img](https://img.youtube.com/vi/jwE994Fc57I/default.jpg) | <sup>[Toda a Matemática]</sup><br>[__LOGARITMOS - Para que serve o assunto?__](https://www.youtube.com/watch?v=jwE994Fc57I)<br><sub>(17:45, YouTube, 03/Fev/2021)</sub> |\n",
    "| ![img](https://img.youtube.com/vi/BBYi0hOEjrA/default.jpg) | <sup>[Toda a Matemática]</sup><br>[__LOGARITMOS - 05 - Propriedades (1/5)__](https://www.youtube.com/watch?v=BBYi0hOEjrA)<br><sub>(8:21, YouTube, 18/Abr/2024)</sub> |\n",
    "\n",
    "&nbsp;"
   ]
  },
  {
   "cell_type": "markdown",
   "metadata": {},
   "source": [
    "# Conceitos"
   ]
  },
  {
   "cell_type": "markdown",
   "metadata": {},
   "source": [
    "# Aplicações"
   ]
  },
  {
   "cell_type": "markdown",
   "metadata": {},
   "source": [
    "| Thumb | Descrição |\n",
    "| --- | --- |\n",
    "| ![img](https://img.youtube.com/vi/JFw9ihPyrMI/default.jpg) | <sup>[Professor Possani]</sup><br>[__Logaritmos. Onde vou usar?__](https://www.youtube.com/watch?v=JFw9ihPyrMI)<br><sub>(18:08, YouTube, 14/Mai/2023)</sub> |\n"
   ]
  }
 ],
 "metadata": {
  "language_info": {
   "name": "python"
  }
 },
 "nbformat": 4,
 "nbformat_minor": 2
}
