{
 "cells": [
  {
   "cell_type": "markdown",
   "metadata": {},
   "source": [
    "# Exemplo. \n",
    "\n",
    "&emsp; &emsp; Mostre que $\\, 10^{10} < 9^{11} \\,$."
   ]
  },
  {
   "cell_type": "markdown",
   "metadata": {},
   "source": [
    "&emsp; &emsp; Temos, pelo menos, duas operações para comparar dois números:\n",
    "\n",
    "$$\n",
    "(1) \\quad a - b \\\n",
    "\\begin{cases}\n",
    "= 0 & \\iff a = b \\iff \\log a = \\log b \\\\\n",
    "< 0 & \\iff \\ a < b \\iff \\log a < \\log b \\\\\n",
    "> 0 & \\iff \\ a > b \\iff \\log \\ > \\log b\n",
    "\\end{cases} \n",
    "$$\n",
    "\n",
    "$$\n",
    "(2) \\quad \\frac{a}{b} \\\n",
    "\\begin{cases}\n",
    "= 1 & \\implies a = b \\\\\n",
    "< 1 & \\implies \\ a < b \\\\\n",
    "> 1 & \\implies \\ a > b\n",
    "\\end{cases} \n",
    "$$"
   ]
  },
  {
   "cell_type": "markdown",
   "metadata": {},
   "source": [
    "__*Resolução*__:\n",
    "\n",
    "$$ \\log \\frac{10^{10}}{9^{11}} = \\log 10^{10} - \\log 9^{11} = 10 \\log 10 - 11 \\log 9 =$$\n",
    "$$ 10 \\cdot 1 - 11 \\log (3 \\cdot 3) = 10 - 11 (\\log 3 + \\log 3) = $$\n",
    "$$ = 10 - 22 \\log 3 = 10 - 22 \\cdot 0,477 = 10 - 10,494 = -0,494 $$\n",
    "\n",
    "&emsp; &emsp; Como $\\, \\log \\cfrac{10^{10}}{9^{11}} < 0 \\,$, concluímos que $\\, 10^{10} < 9^{11} \\,$."
   ]
  },
  {
   "cell_type": "markdown",
   "metadata": {},
   "source": [
    "## Vídeos de Apoio\n",
    "\n",
    "| Thumb | Descrição |\n",
    "| --- | --- |\n",
    "| ![img](https://img.youtube.com/vi/MoCt7RL1B7E/default.jpg) | <sup>[Learn with Christian Ekpo]</sup><br>[__A Nice Olympiads Trick \\| Comparison Problem \\| Which is Bigger ?__](https://www.youtube.com/watch?v=MoCt7RL1B7E)<br><sub>(7:33, YouTube, 25/Abr/2024)</sub> |\n"
   ]
  }
 ],
 "metadata": {
  "kernelspec": {
   "display_name": "base",
   "language": "python",
   "name": "python3"
  },
  "language_info": {
   "name": "python",
   "version": "3.12.1"
  }
 },
 "nbformat": 4,
 "nbformat_minor": 2
}
